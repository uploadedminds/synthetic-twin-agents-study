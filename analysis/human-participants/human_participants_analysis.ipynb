{
 "cells": [
  {
   "cell_type": "markdown",
   "id": "9fdad0a2-0bfd-4d66-96e7-04b021c033dd",
   "metadata": {},
   "source": [
    "<h1>Imports</h1>"
   ]
  },
  {
   "cell_type": "code",
   "execution_count": 29,
   "id": "74e00c04-f529-49a6-a51a-9fb6cb9938ff",
   "metadata": {},
   "outputs": [],
   "source": [
    "countries = {\n",
    "    1: \"Afghanistan\",\n",
    "    2: \"Albania\",\n",
    "    3: \"Algeria\",\n",
    "    4: \"Andorra\",\n",
    "    5: \"Angola\",\n",
    "    6: \"Antigua and Barbuda\",\n",
    "    7: \"Argentina\",\n",
    "    8: \"Armenia\",\n",
    "    9: \"Australia\",\n",
    "    10: \"Austria\",\n",
    "    11: \"Azerbaijan\",\n",
    "    12: \"Bahamas\",\n",
    "    13: \"Bahrain\",\n",
    "    14: \"Bangladesh\",\n",
    "    15: \"Barbados\",\n",
    "    16: \"Belarus\",\n",
    "    17: \"Belgium\",\n",
    "    18: \"Belize\",\n",
    "    19: \"Benin\",\n",
    "    20: \"Bhutan\",\n",
    "    21: \"Bolivia\",\n",
    "    22: \"Bosnia and Herzegovina\",\n",
    "    23: \"Botswana\",\n",
    "    24: \"Brazil\",\n",
    "    25: \"Brunei Darussalam\",\n",
    "    26: \"Bulgaria\",\n",
    "    27: \"Burkina Faso\",\n",
    "    28: \"Burundi\",\n",
    "    29: \"Cambodia\",\n",
    "    30: \"Cameroon\",\n",
    "    31: \"Canada\",\n",
    "    32: \"Cape Verde\",\n",
    "    33: \"Central African Republic\",\n",
    "    34: \"Chad\",\n",
    "    35: \"Chile\",\n",
    "    36: \"China\",\n",
    "    37: \"Colombia\",\n",
    "    38: \"Comoros\",\n",
    "    39: \"Congo, Republic of the...\",\n",
    "    40: \"Costa Rica\",\n",
    "    41: \"Côte d'Ivoire\",\n",
    "    42: \"Croatia\",\n",
    "    43: \"Cuba\",\n",
    "    44: \"Cyprus\",\n",
    "    45: \"Czech Republic\",\n",
    "    46: \"Democratic Republic of the Congo\",\n",
    "    47: \"Denmark\",\n",
    "    48: \"Djibouti\",\n",
    "    49: \"Dominica\",\n",
    "    50: \"Dominican Republic\",\n",
    "    51: \"Ecuador\",\n",
    "    52: \"Egypt\",\n",
    "    53: \"El Salvador\",\n",
    "    54: \"Equatorial Guinea\",\n",
    "    55: \"Eritrea\",\n",
    "    56: \"Estonia\",\n",
    "    57: \"Ethiopia\",\n",
    "    58: \"Fiji\",\n",
    "    59: \"Finland\",\n",
    "    60: \"France\",\n",
    "    61: \"Gabon\",\n",
    "    62: \"Gambia\",\n",
    "    63: \"Georgia\",\n",
    "    64: \"Germany\",\n",
    "    65: \"Ghana\",\n",
    "    66: \"Greece\",\n",
    "    67: \"Grenada\",\n",
    "    68: \"Guatemala\",\n",
    "    69: \"Guinea\",\n",
    "    70: \"Guinea-Bissau\",\n",
    "    71: \"Guyana\",\n",
    "    72: \"Haiti\",\n",
    "    73: \"Honduras\",\n",
    "    74: \"Hong Kong (S.A.R.)\",\n",
    "    75: \"Hungary\",\n",
    "    76: \"Iceland\",\n",
    "    77: \"India\",\n",
    "    78: \"Indonesia\",\n",
    "    79: \"Iran\",\n",
    "    80: \"Iraq\",\n",
    "    81: \"Ireland\",\n",
    "    82: \"Israel\",\n",
    "    83: \"Italy\",\n",
    "    84: \"Jamaica\",\n",
    "    85: \"Japan\",\n",
    "    86: \"Jordan\",\n",
    "    87: \"Kazakhstan\",\n",
    "    88: \"Kenya\",\n",
    "    89: \"Kiribati\",\n",
    "    90: \"Kuwait\",\n",
    "    91: \"Kyrgyzstan\",\n",
    "    92: \"Lao People's Democratic Republic\",\n",
    "    93: \"Latvia\",\n",
    "    94: \"Lebanon\",\n",
    "    95: \"Lesotho\",\n",
    "    96: \"Liberia\",\n",
    "    97: \"Libyan Arab Jamahiriya\",\n",
    "    98: \"Liechtenstein\",\n",
    "    99: \"Lithuania\",\n",
    "    100: \"Luxembourg\",\n",
    "    101: \"Madagascar\",\n",
    "    102: \"Malawi\",\n",
    "    103: \"Malaysia\",\n",
    "    104: \"Maldives\",\n",
    "    105: \"Mali\",\n",
    "    106: \"Malta\",\n",
    "    107: \"Marshall Islands\",\n",
    "    108: \"Mauritania\",\n",
    "    109: \"Mauritius\",\n",
    "    110: \"Mexico\",\n",
    "    111: \"Micronesia, Federated States of...\",\n",
    "    112: \"Monaco\",\n",
    "    113: \"Mongolia\",\n",
    "    114: \"Montenegro\",\n",
    "    115: \"Morocco\",\n",
    "    116: \"Mozambique\",\n",
    "    117: \"Myanmar\",\n",
    "    118: \"Namibia\",\n",
    "    119: \"Nauru\",\n",
    "    120: \"Nepal\",\n",
    "    121: \"Netherlands\",\n",
    "    122: \"New Zealand\",\n",
    "    123: \"Nicaragua\",\n",
    "    124: \"Niger\",\n",
    "    125: \"Nigeria\",\n",
    "    126: \"North Korea\",\n",
    "    127: \"Norway\",\n",
    "    128: \"Oman\",\n",
    "    129: \"Pakistan\",\n",
    "    130: \"Palau\",\n",
    "    131: \"Panama\",\n",
    "    132: \"Papua New Guinea\",\n",
    "    133: \"Paraguay\",\n",
    "    134: \"Peru\",\n",
    "    135: \"Philippines\",\n",
    "    136: \"Poland\",\n",
    "    137: \"Portugal\",\n",
    "    138: \"Qatar\",\n",
    "    139: \"Republic of Moldova\",\n",
    "    140: \"Romania\",\n",
    "    141: \"Russian Federation\",\n",
    "    142: \"Rwanda\",\n",
    "    143: \"Saint Kitts and Nevis\",\n",
    "    144: \"Saint Lucia\",\n",
    "    145: \"Saint Vincent and the Grenadines\",\n",
    "    146: \"Samoa\",\n",
    "    147: \"San Marino\",\n",
    "    148: \"Sao Tome and Principe\",\n",
    "    149: \"Saudi Arabia\",\n",
    "    150: \"Senegal\",\n",
    "    151: \"Serbia\",\n",
    "    152: \"Seychelles\",\n",
    "    153: \"Sierra Leone\",\n",
    "    154: \"Singapore\",\n",
    "    155: \"Slovakia\",\n",
    "    156: \"Slovenia\",\n",
    "    157: \"Solomon Islands\",\n",
    "    158: \"Somalia\",\n",
    "    159: \"South Africa\",\n",
    "    160: \"South Korea\",\n",
    "    161: \"Spain\",\n",
    "    162: \"Sri Lanka\",\n",
    "    163: \"Sudan\",\n",
    "    164: \"Suriname\",\n",
    "    165: \"Swaziland\",\n",
    "    166: \"Sweden\",\n",
    "    167: \"Switzerland\",\n",
    "    168: \"Syrian Arab Republic\",\n",
    "    169: \"Tajikistan\",\n",
    "    170: \"Thailand\",\n",
    "    171: \"The former Yugoslav Republic of Macedonia\",\n",
    "    172: \"Timor-Leste\",\n",
    "    173: \"Togo\",\n",
    "    174: \"Tonga\",\n",
    "    175: \"Trinidad and Tobago\",\n",
    "    176: \"Tunisia\",\n",
    "    177: \"Turkey\",\n",
    "    178: \"Turkmenistan\",\n",
    "    179: \"Tuvalu\",\n",
    "    180: \"Uganda\",\n",
    "    181: \"Ukraine\",\n",
    "    182: \"United Arab Emirates\",\n",
    "    183: \"United Kingdom of Great Britain and Northern Ireland\",\n",
    "    184: \"United Republic of Tanzania\",\n",
    "    185: \"United States of America\",\n",
    "    186: \"Uruguay\",\n",
    "    187: \"Uzbekistan\",\n",
    "    188: \"Vanuatu\",\n",
    "    189: \"Venezuela, Bolivarian Republic of...\",\n",
    "    190: \"Viet Nam\",\n",
    "    191: \"Yemen\",\n",
    "    192: \"Zambia\",\n",
    "    193: \"Zimbabwe\"\n",
    "}\n",
    "\n",
    "states = {\n",
    "    1: \"Alabama\",\n",
    "    2: \"Alaska\",\n",
    "    3: \"Arizona\",\n",
    "    4: \"Arkansas\",\n",
    "    5: \"California\",\n",
    "    6: \"Colorado\",\n",
    "    7: \"Connecticut\",\n",
    "    8: \"Delaware\",\n",
    "    9: \"District of Columbia\",\n",
    "    10: \"Florida\",\n",
    "    11: \"Georgia\",\n",
    "    12: \"Hawaii\",\n",
    "    13: \"Idaho\",\n",
    "    14: \"Illinois\",\n",
    "    15: \"Indiana\",\n",
    "    16: \"Iowa\",\n",
    "    17: \"Kansas\",\n",
    "    18: \"Kentucky\",\n",
    "    19: \"Louisiana\",\n",
    "    20: \"Maine\",\n",
    "    21: \"Maryland\",\n",
    "    22: \"Massachusetts\",\n",
    "    23: \"Michigan\",\n",
    "    24: \"Minnesota\",\n",
    "    25: \"Mississippi\",\n",
    "    26: \"Missouri\",\n",
    "    27: \"Montana\",\n",
    "    28: \"Nebraska\",\n",
    "    29: \"Nevada\",\n",
    "    30: \"New Hampshire\",\n",
    "    31: \"New Jersey\",\n",
    "    32: \"New Mexico\",\n",
    "    33: \"New York\",\n",
    "    34: \"North Carolina\",\n",
    "    35: \"North Dakota\",\n",
    "    36: \"Ohio\",\n",
    "    37: \"Oklahoma\",\n",
    "    38: \"Oregon\",\n",
    "    39: \"Pennsylvania\",\n",
    "    40: \"Puerto Rico\",\n",
    "    41: \"Rhode Island\",\n",
    "    42: \"South Carolina\",\n",
    "    43: \"South Dakota\",\n",
    "    44: \"Tennessee\",\n",
    "    45: \"Texas\",\n",
    "    46: \"Utah\",\n",
    "    47: \"Vermont\",\n",
    "    48: \"Virginia\",\n",
    "    49: \"Washington\",\n",
    "    50: \"West Virginia\",\n",
    "    51: \"Wisconsin\",\n",
    "    52: \"Wyoming\",\n",
    "    53: \"I do not reside in the United States\"\n",
    "}\n",
    "\n",
    "mappings = {\n",
    "    'gender': {\n",
    "        1: 'Male',\n",
    "        2: 'Female',\n",
    "        3: 'Non-binary / third gender',\n",
    "        4: 'Prefer not to say'\n",
    "    },\n",
    "    'races_1': { 1: 'White or Caucasian' },\n",
    "    'races_2': { 1: 'Black or African American' },\n",
    "    'races_3': { 1: 'American Indian/Native American or Alaska Native' },\n",
    "    'races_4': { 1: 'Asian' },\n",
    "    'races_5': { 1: 'Native Hawaiian or Other Pacific Islander' },\n",
    "    'races_6': { 1: 'Other' },\n",
    "    'races_7': { 1: 'Prefer not to say' },\n",
    "\n",
    "    'employment_status': {\n",
    "        1: 'Working full-time',\n",
    "        2: 'Working part-time',\n",
    "        3: 'Unemployed and looking for work',\n",
    "        4: 'A homemaker or stay-at-home parent',\n",
    "        5: 'Student',\n",
    "        6: 'Retired',\n",
    "        7: 'Other'\n",
    "    },\n",
    "    'marital_status': {\n",
    "        1: 'Married',\n",
    "        2: 'Living with a partner',\n",
    "        3: 'Widowed',\n",
    "        4: 'Divorced/Separated',\n",
    "        5: 'Never been married'\n",
    "    },\n",
    "    'household_income': {\n",
    "        1: 'Less than $25,000',\n",
    "        2: '$25,000-$49,999',\n",
    "        3: '$50,000-$74,999',\n",
    "        4: '$75,000-$99,999',\n",
    "        5: '$100,000-$149,999',\n",
    "        6: '$150,000-$199,000',\n",
    "        7: '$200,000 or more'\n",
    "    },\n",
    "    'education_level': {\n",
    "        1: 'Some high school or less',\n",
    "        2: 'High school diploma or GED',\n",
    "        3: 'Some college, but no degree',\n",
    "        4: 'Associates or technical degree',\n",
    "        5: 'Bachelor’s degree',\n",
    "        6: 'Graduate or professional degree (MA, MS, MBA, PhD, JD, MD, DDS etc.)',\n",
    "        7: 'Prefer not to say'\n",
    "    },\n",
    "    'state': states,\n",
    "    'country': countries,\n",
    "    'political_orientaton': {\n",
    "        1: 'Republican',\n",
    "        2: 'Democrat',\n",
    "        3: 'Independent',\n",
    "        5: 'No preference'\n",
    "    },\n",
    "    'republican_strength': {\n",
    "        1: 'Strong',\n",
    "        2: 'Not very strong'\n",
    "    },\n",
    "    'democrat_strength': {\n",
    "        1: 'Strong',\n",
    "        2: 'Not very strong'\n",
    "    },\n",
    "    'party_alignment': {\n",
    "        1: 'Republican',\n",
    "        2: 'Democratic'\n",
    "    },\n",
    "    'political_Ideology_1': {\n",
    "        0: \"Decline to specify\",\n",
    "        1: \"Extremely Liberal\",\n",
    "        2: \"Liberal\",\n",
    "        3: \"Moderately Liberal\",\n",
    "        4: \"Center\",\n",
    "        5: \"Moderately Conservative\",\n",
    "        6: \"Conservative\",\n",
    "        7: \"Extremely Conservative\"\n",
    "    },\n",
    "    'voted': {\n",
    "        1: 'Yes',\n",
    "        2: 'No'\n",
    "    },\n",
    "    'vote_for': {\n",
    "        1: 'Donald Trump',\n",
    "        2: 'Kamala Harris'\n",
    "    },\n",
    "    'shopping_freq': {\n",
    "        1: 'Daily',\n",
    "        2: 'Weekly',\n",
    "        3: 'Monthly',\n",
    "        4: 'A few times a year',\n",
    "        5: 'Rarely or never'\n",
    "    },\n",
    "    'monthly_spend': {\n",
    "        1: 'Less than $50',\n",
    "        2: '$50 - $100',\n",
    "        3: '$101 - $250',\n",
    "        4: '$251 - $500',\n",
    "        5: 'More than $500'\n",
    "    },\n",
    "    'vacation_travel_freq': {\n",
    "        1: 'Never',\n",
    "        2: 'Every few years',\n",
    "        3: 'Once a year',\n",
    "        4: 'Multiple times a year'\n",
    "    },\n",
    "    'brand_importance': {\n",
    "        1: 'Not at all important',\n",
    "        2: 'Slightly important',\n",
    "        3: 'Moderately important',\n",
    "        4: 'Important',\n",
    "        5: 'Very important'\n",
    "    },\n",
    "    'brands_type_pref_1': {1: 'Luxury' },\n",
    "    'brands_type_pref_2': {1: 'Budget-friendly' },\n",
    "    'brands_type_pref_3': {1: 'Premium' },\n",
    "    'brands_type_pref_4': {1: 'Sustainable' },\n",
    "    'brands_type_pref_5': {1: 'Boutique' },\n",
    "    'brands_type_pref_6': {1: 'Mainstream' },\n",
    "    'discount_importance': {\n",
    "        1: 'Not at all important',\n",
    "        2: 'Slightly important',\n",
    "        3: 'Moderately important',\n",
    "        4: 'Important',\n",
    "        5: 'Very important'\n",
    "    },\n",
    "    'buy_decision_style': {\n",
    "        1: 'I make quick, spontaneous decisions',\n",
    "        2: 'I take my time and carefully consider my options'\n",
    "    },\n",
    "    'device_used_to_buy_1': { 1: 'Smartphone' },\n",
    "    'device_used_to_buy_2': { 1: 'Tablet' },\n",
    "    'device_used_to_buy_3': { 1: 'Laptop' },\n",
    "    'device_used_to_buy_4': { 1: 'Desktop' },\n",
    "\n",
    "    'social_m_influence': {\n",
    "        1: 'Not at all',\n",
    "        2: 'A little',\n",
    "        3: 'Somewhat',\n",
    "        4: 'Quite a bit',\n",
    "        5: 'Very much'\n",
    "    },\n",
    "    'eco_friendly_imp': {\n",
    "        1: 'Not at all important',\n",
    "        2: 'Slightly important',\n",
    "        3: 'Moderately important',\n",
    "        4: 'Important',\n",
    "        5: 'Very important'\n",
    "    }\n",
    "}"
   ]
  },
  {
   "cell_type": "code",
   "execution_count": 30,
   "id": "c65a0424-9349-4244-a0b2-8a3c8383d990",
   "metadata": {},
   "outputs": [],
   "source": [
    "import pandas as pd\n",
    "import numpy as np\n",
    "from scipy.stats import pearsonr, norm, chi2\n",
    "import pingouin as pg\n",
    "import statsmodels.api as sm\n",
    "from sklearn.preprocessing import StandardScaler"
   ]
  },
  {
   "cell_type": "markdown",
   "id": "c8d0a413-95ca-425a-8841-6c11283ed6e9",
   "metadata": {},
   "source": [
    "<h1>Detect Completion Time Outliers Beyond 3 Standard Deviations from the Mean</h1>"
   ]
  },
  {
   "cell_type": "code",
   "execution_count": 31,
   "id": "06a1f8cd-9d36-4d63-b87f-ba923e4447e7",
   "metadata": {
    "editable": true,
    "scrolled": true,
    "slideshow": {
     "slide_type": ""
    },
    "tags": []
   },
   "outputs": [
    {
     "name": "stdout",
     "output_type": "stream",
     "text": [
      "1196.1438356164383\n",
      "beloow: 438, after: 432\n"
     ]
    }
   ],
   "source": [
    "def detect_outlier_participants(data):\n",
    "    \"\"\"\n",
    "    Identify participants whose total survey time is beyond 3 standard deviations \n",
    "    below or above the mean and return a DataFrame filtered of such participants.\n",
    "    \n",
    "    Args:\n",
    "        data (pd.DataFrame): A DataFrame with 'ParticipantID', 'StartDate', and 'EndDate'.\n",
    "                             'StartDate' and 'EndDate' should be in the format 'YYYY-MM-DD HH:MM:SS'.\n",
    "    \n",
    "    Returns:\n",
    "        tuple: Three DataFrames - (below_3_std, above_3_std, filtered_data)\n",
    "               below_3_std contains participants whose times are below 3 standard deviations.\n",
    "               above_3_std contains participants whose times are above 3 standard deviations.\n",
    "               filtered_data contains the data with below_3_std and above_3_std removed.\n",
    "    \"\"\"\n",
    "    # Convert StartDate and EndDate to datetime\n",
    "    data['StartDate'] = pd.to_datetime(data['StartDate'])\n",
    "    data['EndDate'] = pd.to_datetime(data['EndDate'])\n",
    "    \n",
    "    # Calculate survey duration in seconds\n",
    "    data['Duration'] = (data['EndDate'] - data['StartDate']).dt.total_seconds()\n",
    "    \n",
    "    # Calculate mean and standard deviation of survey times\n",
    "    mean_duration = data['Duration'].mean()\n",
    "    std_duration = data['Duration'].std()\n",
    "\n",
    "    \n",
    "    # Define thresholds for outliers\n",
    "    lower_threshold = mean_duration - 3 * std_duration\n",
    "    upper_threshold = mean_duration + 3 * std_duration\n",
    "    \n",
    "    # Identify participants below and above thresholds\n",
    "    below_3_std = data[data['Duration'] < lower_threshold]\n",
    "    above_3_std = data[data['Duration'] > upper_threshold]\n",
    "    \n",
    "    # Filter out outliers from the original DataFrame\n",
    "    participants_within_3_std = data[(data['Duration'] >= lower_threshold) & (data['Duration'] <= upper_threshold)]\n",
    "\n",
    "    print(mean_duration)\n",
    "    print(f'beloow: {len(df)}, after: {len(participants_within_3_std)}')\n",
    "\n",
    "    return below_3_std, above_3_std, participants_within_3_std\n",
    "\n",
    "\n",
    "df = pd.read_csv('../../data/prolific_participants_dataset.csv')\n",
    "\n",
    "below_3_std, above_3_std, participants_within_3_std = detect_outlier_participants(df)\n",
    "\n",
    "pd.set_option('display.max_columns', None)\n"
   ]
  },
  {
   "cell_type": "markdown",
   "id": "f3ea1e4f-cd5e-45eb-b448-35d2a7ed7772",
   "metadata": {},
   "source": [
    "<h1>Detect Participants Failing Multiple Attention Checks</h1>"
   ]
  },
  {
   "cell_type": "code",
   "execution_count": 32,
   "id": "045f2355-10e3-433a-adbf-9ad5664d1ed2",
   "metadata": {},
   "outputs": [],
   "source": [
    "def detect_participants_with_multiple_failed_attention_checks(df):\n",
    "    checks = {\n",
    "        'pq_attention_check_1': 5, \n",
    "        'pq_attention_check_2': 2, \n",
    "        'p_3_agree_att_check': 2, \n",
    "        'seriousness_check': 2\n",
    "    }\n",
    "\n",
    "    df = df.copy()\n",
    "    df['failed_checks'] = df[list(checks)].apply(lambda row: sum(row[col] != val for col, val in checks.items()), axis=1)\n",
    "    failed_participants = df[df['failed_checks'] > 1]\n",
    "\n",
    "    return failed_participants\n",
    "\n",
    "participants = detect_participants_with_multiple_failed_attention_checks(participants_within_3_std)"
   ]
  },
  {
   "cell_type": "markdown",
   "id": "5270bf98-f930-401b-983a-65fa765afc10",
   "metadata": {},
   "source": [
    "<h1>Exclude Participants Failing Attention Checks and Suspected Bots <a href=\"https://www.qualtrics.com/support/survey-platform/survey-module/survey-checker/fraud-detection/#BotDetection\">bots</a> ( Q_RecaptchaScore >= 0.5)</h1>"
   ]
  },
  {
   "cell_type": "code",
   "execution_count": 33,
   "id": "1750ca16-e94f-4f24-8f6a-9e988e198511",
   "metadata": {
    "scrolled": true
   },
   "outputs": [
    {
     "name": "stdout",
     "output_type": "stream",
     "text": [
      "Number of participants who passed CAPTCHA: 419\n",
      "Number of likely bots (reCAPTCHA score < 0.5): 13\n"
     ]
    }
   ],
   "source": [
    "def exclude_failed_attention_checks_and_bots(df):\n",
    "    # Define correct attention check responses\n",
    "    passed_checks = (\n",
    "        (df['pq_attention_check_1'] == 5) & \n",
    "        (df['pq_attention_check_2'] == 2) & \n",
    "        (df['p_3_agree_att_check'] == 2) &\n",
    "        (df['seriousness_check'] == 2) & \n",
    "        (df['Q_RecaptchaScore'] >= 0.5)\n",
    "    )\n",
    "    \n",
    "    return df[passed_checks].copy()\n",
    "\n",
    "num_passed_captcha = (participants_within_3_std['Q_RecaptchaScore'] >= 0.5).sum()\n",
    "print(f\"Number of participants who passed CAPTCHA: {num_passed_captcha}\")\n",
    "\n",
    "num_likely_bots = (participants_within_3_std['Q_RecaptchaScore'] < 0.5).sum()\n",
    "print(f\"Number of likely bots (reCAPTCHA score < 0.5): {num_likely_bots}\")\n",
    "\n",
    "df_filtered_by_failed_checks = exclude_failed_attention_checks_and_bots(participants_within_3_std)"
   ]
  },
  {
   "cell_type": "markdown",
   "id": "0775e807-9790-4763-8a67-c90f44adb4cb",
   "metadata": {},
   "source": [
    "<h1>Demographics Analysis</h1>"
   ]
  },
  {
   "cell_type": "code",
   "execution_count": 34,
   "id": "2dcc1691-b4c3-4859-847c-cc620f30ef6b",
   "metadata": {},
   "outputs": [
    {
     "data": {
      "text/html": [
       "<div>\n",
       "<style scoped>\n",
       "    .dataframe tbody tr th:only-of-type {\n",
       "        vertical-align: middle;\n",
       "    }\n",
       "\n",
       "    .dataframe tbody tr th {\n",
       "        vertical-align: top;\n",
       "    }\n",
       "\n",
       "    .dataframe thead th {\n",
       "        text-align: right;\n",
       "    }\n",
       "</style>\n",
       "<table border=\"1\" class=\"dataframe\">\n",
       "  <thead>\n",
       "    <tr style=\"text-align: right;\">\n",
       "      <th></th>\n",
       "      <th>state</th>\n",
       "      <th>N</th>\n",
       "      <th>M</th>\n",
       "      <th>SD</th>\n",
       "      <th>Female</th>\n",
       "      <th>Male</th>\n",
       "      <th>Prefer_not_to_answer</th>\n",
       "    </tr>\n",
       "  </thead>\n",
       "  <tbody>\n",
       "    <tr>\n",
       "      <th>0</th>\n",
       "      <td>Alabama</td>\n",
       "      <td>8</td>\n",
       "      <td>37.75</td>\n",
       "      <td>10.67</td>\n",
       "      <td>3</td>\n",
       "      <td>5</td>\n",
       "      <td>0</td>\n",
       "    </tr>\n",
       "    <tr>\n",
       "      <th>1</th>\n",
       "      <td>Arizona</td>\n",
       "      <td>8</td>\n",
       "      <td>44.75</td>\n",
       "      <td>10.19</td>\n",
       "      <td>7</td>\n",
       "      <td>1</td>\n",
       "      <td>0</td>\n",
       "    </tr>\n",
       "    <tr>\n",
       "      <th>2</th>\n",
       "      <td>Arkansas</td>\n",
       "      <td>2</td>\n",
       "      <td>32.00</td>\n",
       "      <td>5.66</td>\n",
       "      <td>0</td>\n",
       "      <td>1</td>\n",
       "      <td>0</td>\n",
       "    </tr>\n",
       "    <tr>\n",
       "      <th>3</th>\n",
       "      <td>California</td>\n",
       "      <td>36</td>\n",
       "      <td>39.00</td>\n",
       "      <td>10.80</td>\n",
       "      <td>11</td>\n",
       "      <td>24</td>\n",
       "      <td>0</td>\n",
       "    </tr>\n",
       "    <tr>\n",
       "      <th>4</th>\n",
       "      <td>Colorado</td>\n",
       "      <td>4</td>\n",
       "      <td>33.50</td>\n",
       "      <td>9.11</td>\n",
       "      <td>1</td>\n",
       "      <td>2</td>\n",
       "      <td>0</td>\n",
       "    </tr>\n",
       "    <tr>\n",
       "      <th>5</th>\n",
       "      <td>Connecticut</td>\n",
       "      <td>3</td>\n",
       "      <td>30.33</td>\n",
       "      <td>1.53</td>\n",
       "      <td>1</td>\n",
       "      <td>1</td>\n",
       "      <td>0</td>\n",
       "    </tr>\n",
       "    <tr>\n",
       "      <th>6</th>\n",
       "      <td>District of Columbia</td>\n",
       "      <td>1</td>\n",
       "      <td>31.00</td>\n",
       "      <td>NaN</td>\n",
       "      <td>1</td>\n",
       "      <td>0</td>\n",
       "      <td>0</td>\n",
       "    </tr>\n",
       "    <tr>\n",
       "      <th>7</th>\n",
       "      <td>Florida</td>\n",
       "      <td>26</td>\n",
       "      <td>36.81</td>\n",
       "      <td>8.98</td>\n",
       "      <td>6</td>\n",
       "      <td>20</td>\n",
       "      <td>0</td>\n",
       "    </tr>\n",
       "    <tr>\n",
       "      <th>8</th>\n",
       "      <td>Georgia</td>\n",
       "      <td>11</td>\n",
       "      <td>34.73</td>\n",
       "      <td>9.70</td>\n",
       "      <td>5</td>\n",
       "      <td>6</td>\n",
       "      <td>0</td>\n",
       "    </tr>\n",
       "    <tr>\n",
       "      <th>9</th>\n",
       "      <td>Hawaii</td>\n",
       "      <td>1</td>\n",
       "      <td>24.00</td>\n",
       "      <td>NaN</td>\n",
       "      <td>1</td>\n",
       "      <td>0</td>\n",
       "      <td>0</td>\n",
       "    </tr>\n",
       "    <tr>\n",
       "      <th>10</th>\n",
       "      <td>Idaho</td>\n",
       "      <td>3</td>\n",
       "      <td>51.33</td>\n",
       "      <td>11.59</td>\n",
       "      <td>3</td>\n",
       "      <td>0</td>\n",
       "      <td>0</td>\n",
       "    </tr>\n",
       "    <tr>\n",
       "      <th>11</th>\n",
       "      <td>Illinois</td>\n",
       "      <td>16</td>\n",
       "      <td>35.38</td>\n",
       "      <td>8.90</td>\n",
       "      <td>7</td>\n",
       "      <td>8</td>\n",
       "      <td>0</td>\n",
       "    </tr>\n",
       "    <tr>\n",
       "      <th>12</th>\n",
       "      <td>Indiana</td>\n",
       "      <td>7</td>\n",
       "      <td>43.00</td>\n",
       "      <td>11.63</td>\n",
       "      <td>4</td>\n",
       "      <td>3</td>\n",
       "      <td>0</td>\n",
       "    </tr>\n",
       "    <tr>\n",
       "      <th>13</th>\n",
       "      <td>Iowa</td>\n",
       "      <td>4</td>\n",
       "      <td>36.25</td>\n",
       "      <td>18.80</td>\n",
       "      <td>1</td>\n",
       "      <td>3</td>\n",
       "      <td>0</td>\n",
       "    </tr>\n",
       "    <tr>\n",
       "      <th>14</th>\n",
       "      <td>Kansas</td>\n",
       "      <td>1</td>\n",
       "      <td>56.00</td>\n",
       "      <td>NaN</td>\n",
       "      <td>1</td>\n",
       "      <td>0</td>\n",
       "      <td>0</td>\n",
       "    </tr>\n",
       "    <tr>\n",
       "      <th>15</th>\n",
       "      <td>Kentucky</td>\n",
       "      <td>3</td>\n",
       "      <td>37.33</td>\n",
       "      <td>1.53</td>\n",
       "      <td>1</td>\n",
       "      <td>2</td>\n",
       "      <td>0</td>\n",
       "    </tr>\n",
       "    <tr>\n",
       "      <th>16</th>\n",
       "      <td>Louisiana</td>\n",
       "      <td>5</td>\n",
       "      <td>36.80</td>\n",
       "      <td>12.15</td>\n",
       "      <td>4</td>\n",
       "      <td>1</td>\n",
       "      <td>0</td>\n",
       "    </tr>\n",
       "    <tr>\n",
       "      <th>17</th>\n",
       "      <td>Maine</td>\n",
       "      <td>1</td>\n",
       "      <td>43.00</td>\n",
       "      <td>NaN</td>\n",
       "      <td>1</td>\n",
       "      <td>0</td>\n",
       "      <td>0</td>\n",
       "    </tr>\n",
       "    <tr>\n",
       "      <th>18</th>\n",
       "      <td>Maryland</td>\n",
       "      <td>5</td>\n",
       "      <td>43.00</td>\n",
       "      <td>14.95</td>\n",
       "      <td>2</td>\n",
       "      <td>3</td>\n",
       "      <td>0</td>\n",
       "    </tr>\n",
       "    <tr>\n",
       "      <th>19</th>\n",
       "      <td>Massachusetts</td>\n",
       "      <td>7</td>\n",
       "      <td>36.57</td>\n",
       "      <td>6.50</td>\n",
       "      <td>4</td>\n",
       "      <td>3</td>\n",
       "      <td>0</td>\n",
       "    </tr>\n",
       "    <tr>\n",
       "      <th>20</th>\n",
       "      <td>Michigan</td>\n",
       "      <td>10</td>\n",
       "      <td>40.50</td>\n",
       "      <td>9.62</td>\n",
       "      <td>3</td>\n",
       "      <td>6</td>\n",
       "      <td>0</td>\n",
       "    </tr>\n",
       "    <tr>\n",
       "      <th>21</th>\n",
       "      <td>Minnesota</td>\n",
       "      <td>3</td>\n",
       "      <td>30.67</td>\n",
       "      <td>5.03</td>\n",
       "      <td>1</td>\n",
       "      <td>2</td>\n",
       "      <td>0</td>\n",
       "    </tr>\n",
       "    <tr>\n",
       "      <th>22</th>\n",
       "      <td>Mississippi</td>\n",
       "      <td>3</td>\n",
       "      <td>40.67</td>\n",
       "      <td>13.05</td>\n",
       "      <td>2</td>\n",
       "      <td>1</td>\n",
       "      <td>0</td>\n",
       "    </tr>\n",
       "    <tr>\n",
       "      <th>23</th>\n",
       "      <td>Missouri</td>\n",
       "      <td>11</td>\n",
       "      <td>40.73</td>\n",
       "      <td>9.85</td>\n",
       "      <td>8</td>\n",
       "      <td>3</td>\n",
       "      <td>0</td>\n",
       "    </tr>\n",
       "    <tr>\n",
       "      <th>24</th>\n",
       "      <td>Nebraska</td>\n",
       "      <td>3</td>\n",
       "      <td>40.67</td>\n",
       "      <td>13.61</td>\n",
       "      <td>3</td>\n",
       "      <td>0</td>\n",
       "      <td>0</td>\n",
       "    </tr>\n",
       "    <tr>\n",
       "      <th>25</th>\n",
       "      <td>Nevada</td>\n",
       "      <td>5</td>\n",
       "      <td>37.00</td>\n",
       "      <td>11.73</td>\n",
       "      <td>2</td>\n",
       "      <td>3</td>\n",
       "      <td>0</td>\n",
       "    </tr>\n",
       "    <tr>\n",
       "      <th>26</th>\n",
       "      <td>New Hampshire</td>\n",
       "      <td>3</td>\n",
       "      <td>37.00</td>\n",
       "      <td>3.61</td>\n",
       "      <td>2</td>\n",
       "      <td>1</td>\n",
       "      <td>0</td>\n",
       "    </tr>\n",
       "    <tr>\n",
       "      <th>27</th>\n",
       "      <td>New Jersey</td>\n",
       "      <td>7</td>\n",
       "      <td>40.86</td>\n",
       "      <td>12.88</td>\n",
       "      <td>3</td>\n",
       "      <td>4</td>\n",
       "      <td>0</td>\n",
       "    </tr>\n",
       "    <tr>\n",
       "      <th>28</th>\n",
       "      <td>New Mexico</td>\n",
       "      <td>2</td>\n",
       "      <td>37.00</td>\n",
       "      <td>21.21</td>\n",
       "      <td>0</td>\n",
       "      <td>2</td>\n",
       "      <td>0</td>\n",
       "    </tr>\n",
       "    <tr>\n",
       "      <th>29</th>\n",
       "      <td>New York</td>\n",
       "      <td>22</td>\n",
       "      <td>35.50</td>\n",
       "      <td>10.62</td>\n",
       "      <td>8</td>\n",
       "      <td>12</td>\n",
       "      <td>1</td>\n",
       "    </tr>\n",
       "    <tr>\n",
       "      <th>30</th>\n",
       "      <td>North Carolina</td>\n",
       "      <td>17</td>\n",
       "      <td>39.24</td>\n",
       "      <td>10.50</td>\n",
       "      <td>9</td>\n",
       "      <td>7</td>\n",
       "      <td>0</td>\n",
       "    </tr>\n",
       "    <tr>\n",
       "      <th>31</th>\n",
       "      <td>North Dakota</td>\n",
       "      <td>2</td>\n",
       "      <td>47.50</td>\n",
       "      <td>7.78</td>\n",
       "      <td>1</td>\n",
       "      <td>1</td>\n",
       "      <td>0</td>\n",
       "    </tr>\n",
       "    <tr>\n",
       "      <th>32</th>\n",
       "      <td>Ohio</td>\n",
       "      <td>18</td>\n",
       "      <td>34.22</td>\n",
       "      <td>9.51</td>\n",
       "      <td>11</td>\n",
       "      <td>6</td>\n",
       "      <td>0</td>\n",
       "    </tr>\n",
       "    <tr>\n",
       "      <th>33</th>\n",
       "      <td>Oklahoma</td>\n",
       "      <td>9</td>\n",
       "      <td>43.89</td>\n",
       "      <td>7.11</td>\n",
       "      <td>5</td>\n",
       "      <td>4</td>\n",
       "      <td>0</td>\n",
       "    </tr>\n",
       "    <tr>\n",
       "      <th>34</th>\n",
       "      <td>Oregon</td>\n",
       "      <td>7</td>\n",
       "      <td>38.29</td>\n",
       "      <td>7.61</td>\n",
       "      <td>2</td>\n",
       "      <td>5</td>\n",
       "      <td>0</td>\n",
       "    </tr>\n",
       "    <tr>\n",
       "      <th>35</th>\n",
       "      <td>Pennsylvania</td>\n",
       "      <td>18</td>\n",
       "      <td>38.94</td>\n",
       "      <td>11.12</td>\n",
       "      <td>9</td>\n",
       "      <td>9</td>\n",
       "      <td>0</td>\n",
       "    </tr>\n",
       "    <tr>\n",
       "      <th>36</th>\n",
       "      <td>Rhode Island</td>\n",
       "      <td>2</td>\n",
       "      <td>41.00</td>\n",
       "      <td>18.38</td>\n",
       "      <td>0</td>\n",
       "      <td>2</td>\n",
       "      <td>0</td>\n",
       "    </tr>\n",
       "    <tr>\n",
       "      <th>37</th>\n",
       "      <td>South Carolina</td>\n",
       "      <td>8</td>\n",
       "      <td>35.75</td>\n",
       "      <td>10.75</td>\n",
       "      <td>3</td>\n",
       "      <td>5</td>\n",
       "      <td>0</td>\n",
       "    </tr>\n",
       "    <tr>\n",
       "      <th>38</th>\n",
       "      <td>Tennessee</td>\n",
       "      <td>5</td>\n",
       "      <td>43.40</td>\n",
       "      <td>13.54</td>\n",
       "      <td>5</td>\n",
       "      <td>0</td>\n",
       "      <td>0</td>\n",
       "    </tr>\n",
       "    <tr>\n",
       "      <th>39</th>\n",
       "      <td>Texas</td>\n",
       "      <td>31</td>\n",
       "      <td>35.19</td>\n",
       "      <td>8.54</td>\n",
       "      <td>16</td>\n",
       "      <td>14</td>\n",
       "      <td>0</td>\n",
       "    </tr>\n",
       "    <tr>\n",
       "      <th>40</th>\n",
       "      <td>Utah</td>\n",
       "      <td>1</td>\n",
       "      <td>47.00</td>\n",
       "      <td>NaN</td>\n",
       "      <td>1</td>\n",
       "      <td>0</td>\n",
       "      <td>0</td>\n",
       "    </tr>\n",
       "    <tr>\n",
       "      <th>41</th>\n",
       "      <td>Virginia</td>\n",
       "      <td>20</td>\n",
       "      <td>35.65</td>\n",
       "      <td>11.16</td>\n",
       "      <td>10</td>\n",
       "      <td>10</td>\n",
       "      <td>0</td>\n",
       "    </tr>\n",
       "    <tr>\n",
       "      <th>42</th>\n",
       "      <td>Washington</td>\n",
       "      <td>6</td>\n",
       "      <td>37.17</td>\n",
       "      <td>9.45</td>\n",
       "      <td>1</td>\n",
       "      <td>5</td>\n",
       "      <td>0</td>\n",
       "    </tr>\n",
       "    <tr>\n",
       "      <th>43</th>\n",
       "      <td>West Virginia</td>\n",
       "      <td>2</td>\n",
       "      <td>34.50</td>\n",
       "      <td>13.44</td>\n",
       "      <td>0</td>\n",
       "      <td>1</td>\n",
       "      <td>0</td>\n",
       "    </tr>\n",
       "    <tr>\n",
       "      <th>44</th>\n",
       "      <td>Wisconsin</td>\n",
       "      <td>6</td>\n",
       "      <td>32.00</td>\n",
       "      <td>10.32</td>\n",
       "      <td>4</td>\n",
       "      <td>2</td>\n",
       "      <td>0</td>\n",
       "    </tr>\n",
       "  </tbody>\n",
       "</table>\n",
       "</div>"
      ],
      "text/plain": [
       "                   state   N      M     SD  Female  Male  Prefer_not_to_answer\n",
       "0                Alabama   8  37.75  10.67       3     5                     0\n",
       "1                Arizona   8  44.75  10.19       7     1                     0\n",
       "2               Arkansas   2  32.00   5.66       0     1                     0\n",
       "3             California  36  39.00  10.80      11    24                     0\n",
       "4               Colorado   4  33.50   9.11       1     2                     0\n",
       "5            Connecticut   3  30.33   1.53       1     1                     0\n",
       "6   District of Columbia   1  31.00    NaN       1     0                     0\n",
       "7                Florida  26  36.81   8.98       6    20                     0\n",
       "8                Georgia  11  34.73   9.70       5     6                     0\n",
       "9                 Hawaii   1  24.00    NaN       1     0                     0\n",
       "10                 Idaho   3  51.33  11.59       3     0                     0\n",
       "11              Illinois  16  35.38   8.90       7     8                     0\n",
       "12               Indiana   7  43.00  11.63       4     3                     0\n",
       "13                  Iowa   4  36.25  18.80       1     3                     0\n",
       "14                Kansas   1  56.00    NaN       1     0                     0\n",
       "15              Kentucky   3  37.33   1.53       1     2                     0\n",
       "16             Louisiana   5  36.80  12.15       4     1                     0\n",
       "17                 Maine   1  43.00    NaN       1     0                     0\n",
       "18              Maryland   5  43.00  14.95       2     3                     0\n",
       "19         Massachusetts   7  36.57   6.50       4     3                     0\n",
       "20              Michigan  10  40.50   9.62       3     6                     0\n",
       "21             Minnesota   3  30.67   5.03       1     2                     0\n",
       "22           Mississippi   3  40.67  13.05       2     1                     0\n",
       "23              Missouri  11  40.73   9.85       8     3                     0\n",
       "24              Nebraska   3  40.67  13.61       3     0                     0\n",
       "25                Nevada   5  37.00  11.73       2     3                     0\n",
       "26         New Hampshire   3  37.00   3.61       2     1                     0\n",
       "27            New Jersey   7  40.86  12.88       3     4                     0\n",
       "28            New Mexico   2  37.00  21.21       0     2                     0\n",
       "29              New York  22  35.50  10.62       8    12                     1\n",
       "30        North Carolina  17  39.24  10.50       9     7                     0\n",
       "31          North Dakota   2  47.50   7.78       1     1                     0\n",
       "32                  Ohio  18  34.22   9.51      11     6                     0\n",
       "33              Oklahoma   9  43.89   7.11       5     4                     0\n",
       "34                Oregon   7  38.29   7.61       2     5                     0\n",
       "35          Pennsylvania  18  38.94  11.12       9     9                     0\n",
       "36          Rhode Island   2  41.00  18.38       0     2                     0\n",
       "37        South Carolina   8  35.75  10.75       3     5                     0\n",
       "38             Tennessee   5  43.40  13.54       5     0                     0\n",
       "39                 Texas  31  35.19   8.54      16    14                     0\n",
       "40                  Utah   1  47.00    NaN       1     0                     0\n",
       "41              Virginia  20  35.65  11.16      10    10                     0\n",
       "42            Washington   6  37.17   9.45       1     5                     0\n",
       "43         West Virginia   2  34.50  13.44       0     1                     0\n",
       "44             Wisconsin   6  32.00  10.32       4     2                     0"
      ]
     },
     "execution_count": 34,
     "metadata": {},
     "output_type": "execute_result"
    }
   ],
   "source": [
    "import numpy as np\n",
    "\n",
    "# Map numerical state values to state names\n",
    "state_mapping = {\n",
    "    1: \"Alabama\", 2: \"Alaska\", 3: \"Arizona\", 4: \"Arkansas\", 5: \"California\",\n",
    "    6: \"Colorado\", 7: \"Connecticut\", 8: \"Delaware\", 9: \"District of Columbia\",\n",
    "    10: \"Florida\", 11: \"Georgia\", 12: \"Hawaii\", 13: \"Idaho\", 14: \"Illinois\",\n",
    "    15: \"Indiana\", 16: \"Iowa\", 17: \"Kansas\", 18: \"Kentucky\", 19: \"Louisiana\",\n",
    "    20: \"Maine\", 21: \"Maryland\", 22: \"Massachusetts\", 23: \"Michigan\",\n",
    "    24: \"Minnesota\", 25: \"Mississippi\", 26: \"Missouri\", 27: \"Montana\",\n",
    "    28: \"Nebraska\", 29: \"Nevada\", 30: \"New Hampshire\", 31: \"New Jersey\",\n",
    "    32: \"New Mexico\", 33: \"New York\", 34: \"North Carolina\", 35: \"North Dakota\",\n",
    "    36: \"Ohio\", 37: \"Oklahoma\", 38: \"Oregon\", 39: \"Pennsylvania\",\n",
    "    40: \"Puerto Rico\", 41: \"Rhode Island\", 42: \"South Carolina\", 43: \"South Dakota\",\n",
    "    44: \"Tennessee\", 45: \"Texas\", 46: \"Utah\", 47: \"Vermont\", 48: \"Virginia\",\n",
    "    49: \"Washington\", 50: \"West Virginia\", 51: \"Wisconsin\", 52: \"Wyoming\",\n",
    "    53: \"I do not reside in the United States\"\n",
    "}\n",
    "\n",
    "# Map state codes in df_filtered_by_failed_checks to names\n",
    "df_filtered_by_failed_checks['state'] = df_filtered_by_failed_checks['state'].apply(lambda x: state_mapping.get(int(x), x))\n",
    "\n",
    "# Recalculate the demographic summary for df_filtered_by_failed_checks with corrected state labels\n",
    "grouped_filtered = df_filtered_by_failed_checks.groupby('state').agg(\n",
    "    N=('state', 'size'),\n",
    "    M=('age', lambda x: round(np.mean(x), 2)),\n",
    "    SD=('age', lambda x: round(np.std(x, ddof=1), 2)),\n",
    "    Female=('gender', lambda x: (x == 2).sum()),\n",
    "    Male=('gender', lambda x: (x == 1).sum()),\n",
    "    Prefer_not_to_answer=('gender', lambda x: (x == 4).sum())\n",
    ").reset_index()\n",
    "\n",
    "grouped_filtered\n"
   ]
  },
  {
   "cell_type": "code",
   "execution_count": 35,
   "id": "70b329a3-9199-42e5-ac20-55103aa4d2fc",
   "metadata": {},
   "outputs": [
    {
     "data": {
      "text/html": [
       "<div>\n",
       "<style scoped>\n",
       "    .dataframe tbody tr th:only-of-type {\n",
       "        vertical-align: middle;\n",
       "    }\n",
       "\n",
       "    .dataframe tbody tr th {\n",
       "        vertical-align: top;\n",
       "    }\n",
       "\n",
       "    .dataframe thead th {\n",
       "        text-align: right;\n",
       "    }\n",
       "</style>\n",
       "<table border=\"1\" class=\"dataframe\">\n",
       "  <thead>\n",
       "    <tr style=\"text-align: right;\">\n",
       "      <th></th>\n",
       "      <th>Group</th>\n",
       "      <th>Country</th>\n",
       "      <th>N</th>\n",
       "      <th>M</th>\n",
       "      <th>SD</th>\n",
       "      <th>Female</th>\n",
       "      <th>Male</th>\n",
       "      <th>Non-binary / third gender</th>\n",
       "      <th>Prefer not to answer</th>\n",
       "    </tr>\n",
       "  </thead>\n",
       "  <tbody>\n",
       "    <tr>\n",
       "      <th>0</th>\n",
       "      <td>All participants</td>\n",
       "      <td>USA</td>\n",
       "      <td>438</td>\n",
       "      <td>37.52</td>\n",
       "      <td>10.34</td>\n",
       "      <td>204</td>\n",
       "      <td>219</td>\n",
       "      <td>12</td>\n",
       "      <td>1</td>\n",
       "    </tr>\n",
       "    <tr>\n",
       "      <th>1</th>\n",
       "      <td>Participants eligible for analyses after exclu...</td>\n",
       "      <td>USA</td>\n",
       "      <td>373</td>\n",
       "      <td>37.71</td>\n",
       "      <td>10.28</td>\n",
       "      <td>173</td>\n",
       "      <td>188</td>\n",
       "      <td>11</td>\n",
       "      <td>1</td>\n",
       "    </tr>\n",
       "  </tbody>\n",
       "</table>\n",
       "</div>"
      ],
      "text/plain": [
       "                                               Group Country    N      M  \\\n",
       "0                                   All participants     USA  438  37.52   \n",
       "1  Participants eligible for analyses after exclu...     USA  373  37.71   \n",
       "\n",
       "      SD  Female  Male  Non-binary / third gender  Prefer not to answer  \n",
       "0  10.34     204   219                         12                     1  \n",
       "1  10.28     173   188                         11                     1  "
      ]
     },
     "execution_count": 35,
     "metadata": {},
     "output_type": "execute_result"
    }
   ],
   "source": [
    "import numpy as np\n",
    "\n",
    "# Function to aggregate data as if the US is a single group\n",
    "def summarize_us_level(df):\n",
    "    total_n = len(df)\n",
    "    mean_age = round(df['age'].mean(), 2)\n",
    "    std_age = round(df['age'].std(), 2)\n",
    "    \n",
    "    gender_counts = df['gender'].map(mappings['gender']).value_counts()\n",
    "    female = gender_counts.get('Female', 0)\n",
    "    male = gender_counts.get('Male', 0)\n",
    "    non_binary = gender_counts.get('Non-binary / third gender', 0)\n",
    "    prefer_not_to_say = gender_counts.get('Prefer not to say', 0)\n",
    "\n",
    "    return {\n",
    "        'Country': 'USA',\n",
    "        'N': total_n,\n",
    "        'M': mean_age,\n",
    "        'SD': std_age,\n",
    "        'Female': female,\n",
    "        'Male': male,\n",
    "        'Non-binary / third gender': non_binary,\n",
    "        'Prefer not to answer': prefer_not_to_say\n",
    "    }\n",
    "\n",
    "# Apply to both datasets\n",
    "summary_all = summarize_us_level(df)\n",
    "summary_filtered = summarize_us_level(df_filtered_by_failed_checks)\n",
    "\n",
    "# Convert to DataFrame\n",
    "us_summary_table = pd.DataFrame([\n",
    "    {'Group': 'All participants', **summary_all},\n",
    "    {'Group': 'Participants eligible for analyses after exclusions', **summary_filtered}\n",
    "])\n",
    "\n",
    "us_summary_table\n"
   ]
  },
  {
   "cell_type": "markdown",
   "id": "db71cad0-b551-48d7-a219-c2e3b38ef7ce",
   "metadata": {},
   "source": [
    "<h1>Calculat Personality Traits (Mini-IPIP) Scores</h1>"
   ]
  },
  {
   "cell_type": "code",
   "execution_count": 36,
   "id": "babcca5b-db46-4532-8a6f-a218b1ba2731",
   "metadata": {
    "scrolled": true
   },
   "outputs": [
    {
     "data": {
      "text/html": [
       "<div>\n",
       "<style scoped>\n",
       "    .dataframe tbody tr th:only-of-type {\n",
       "        vertical-align: middle;\n",
       "    }\n",
       "\n",
       "    .dataframe tbody tr th {\n",
       "        vertical-align: top;\n",
       "    }\n",
       "\n",
       "    .dataframe thead th {\n",
       "        text-align: right;\n",
       "    }\n",
       "</style>\n",
       "<table border=\"1\" class=\"dataframe\">\n",
       "  <thead>\n",
       "    <tr style=\"text-align: right;\">\n",
       "      <th></th>\n",
       "      <th>StartDate</th>\n",
       "      <th>EndDate</th>\n",
       "      <th>Status</th>\n",
       "      <th>Progress</th>\n",
       "      <th>Duration (in seconds)</th>\n",
       "      <th>Finished</th>\n",
       "      <th>RecordedDate</th>\n",
       "      <th>ResponseId</th>\n",
       "      <th>DistributionChannel</th>\n",
       "      <th>UserLanguage</th>\n",
       "      <th>Q_RecaptchaScore</th>\n",
       "      <th>Q_RelevantIDDuplicate</th>\n",
       "      <th>Q_RelevantIDDuplicateScore</th>\n",
       "      <th>Q_RelevantIDFraudScore</th>\n",
       "      <th>Q_RelevantIDLastStartDate</th>\n",
       "      <th>Intro</th>\n",
       "      <th>gender</th>\n",
       "      <th>age</th>\n",
       "      <th>races_1</th>\n",
       "      <th>races_2</th>\n",
       "      <th>races_3</th>\n",
       "      <th>races_4</th>\n",
       "      <th>races_5</th>\n",
       "      <th>races_6</th>\n",
       "      <th>races_7</th>\n",
       "      <th>employment_status</th>\n",
       "      <th>marital_status</th>\n",
       "      <th>children</th>\n",
       "      <th>household_income</th>\n",
       "      <th>education_level</th>\n",
       "      <th>state</th>\n",
       "      <th>country</th>\n",
       "      <th>political_orientaton</th>\n",
       "      <th>political_orientaton_4_TEXT</th>\n",
       "      <th>republican_strength</th>\n",
       "      <th>democrat_strength</th>\n",
       "      <th>party_alignment</th>\n",
       "      <th>political_Ideology_1</th>\n",
       "      <th>voted</th>\n",
       "      <th>vote_for</th>\n",
       "      <th>shopping_freq</th>\n",
       "      <th>monthly_spend</th>\n",
       "      <th>brands_type_pref_1</th>\n",
       "      <th>brands_type_pref_2</th>\n",
       "      <th>brands_type_pref_3</th>\n",
       "      <th>brands_type_pref_4</th>\n",
       "      <th>brands_type_pref_5</th>\n",
       "      <th>brands_type_pref_6</th>\n",
       "      <th>vacation_travel_freq</th>\n",
       "      <th>brand_importance</th>\n",
       "      <th>discount_importance</th>\n",
       "      <th>buy_decision_style</th>\n",
       "      <th>device_used_to_buy_1</th>\n",
       "      <th>device_used_to_buy_2</th>\n",
       "      <th>device_used_to_buy_3</th>\n",
       "      <th>device_used_to_buy_5</th>\n",
       "      <th>social_m_influence</th>\n",
       "      <th>eco_friendly_imp</th>\n",
       "      <th>pq_1</th>\n",
       "      <th>pq_2</th>\n",
       "      <th>pq_3</th>\n",
       "      <th>pq_4</th>\n",
       "      <th>pq_5</th>\n",
       "      <th>pq_6_reverse_score</th>\n",
       "      <th>pq_7_reverse_score</th>\n",
       "      <th>pq_8_reverse_score</th>\n",
       "      <th>pq_9_reverse_score</th>\n",
       "      <th>pq_attention_check_1</th>\n",
       "      <th>pq_10_reverse_score</th>\n",
       "      <th>pq_11</th>\n",
       "      <th>pq_12</th>\n",
       "      <th>pq_13</th>\n",
       "      <th>pq_attention_check_2</th>\n",
       "      <th>pq_14</th>\n",
       "      <th>pq_15_reverse_score</th>\n",
       "      <th>pq_16_reverse_score</th>\n",
       "      <th>pq_17_reverse_score</th>\n",
       "      <th>pq_18_reverse_score</th>\n",
       "      <th>pq_19_reverse_score</th>\n",
       "      <th>pq_20_reverse_score</th>\n",
       "      <th>p_1_openness_item_1</th>\n",
       "      <th>p_1_openness_item_2</th>\n",
       "      <th>p_1_openness_item_3</th>\n",
       "      <th>p_1_openness_item_4</th>\n",
       "      <th>p_1_openness_item_5</th>\n",
       "      <th>p_1_openness_item_6</th>\n",
       "      <th>p_1_consc_item_1</th>\n",
       "      <th>p_1_consc_item_2</th>\n",
       "      <th>p_1_consc_item_3</th>\n",
       "      <th>p_1_consc_item_4</th>\n",
       "      <th>p_1_consc_item_5</th>\n",
       "      <th>p_1_consc_item_6</th>\n",
       "      <th>p_1_extr_item_1</th>\n",
       "      <th>p_1_extr_item_2</th>\n",
       "      <th>p_1_extr_item_3</th>\n",
       "      <th>p_1_extr_item_4</th>\n",
       "      <th>p_1_extr_item_5</th>\n",
       "      <th>p_1_extr_item_6</th>\n",
       "      <th>p_1_agree_item_1</th>\n",
       "      <th>p_1_agree_item_2</th>\n",
       "      <th>p_1_agree_item_3</th>\n",
       "      <th>p_1_agree_item_4</th>\n",
       "      <th>p_1_agree_item_5</th>\n",
       "      <th>p_1_agree_item_6</th>\n",
       "      <th>p_1_neuro_item_1</th>\n",
       "      <th>p_1_neuro_item_2</th>\n",
       "      <th>p_1_neuro_item_3</th>\n",
       "      <th>p_1_neuro_item_4</th>\n",
       "      <th>p_1_neuro_item_5</th>\n",
       "      <th>p_1_neuro_item_6</th>\n",
       "      <th>p_2_openness_item_1</th>\n",
       "      <th>p_2_openness_item_2</th>\n",
       "      <th>p_2_openness_item_3</th>\n",
       "      <th>p_2_openness_item_4</th>\n",
       "      <th>p_2_openness_item_5</th>\n",
       "      <th>p_2_openness_item_6</th>\n",
       "      <th>p_2_consc_item_1</th>\n",
       "      <th>p_2_consc_item_2</th>\n",
       "      <th>p_2_consc_item_3</th>\n",
       "      <th>p_2_consc_item_4</th>\n",
       "      <th>p_2_consc_item_5</th>\n",
       "      <th>p_2_consc_item_6</th>\n",
       "      <th>p_2_extr_item_1</th>\n",
       "      <th>p_2_extr_item_2</th>\n",
       "      <th>p_2_extr_item_3</th>\n",
       "      <th>p_2_extr_item_4</th>\n",
       "      <th>p_2_extr_item_5</th>\n",
       "      <th>p_2_extr_item_6</th>\n",
       "      <th>p_2_agree_item_1</th>\n",
       "      <th>p_2_agree_item_2</th>\n",
       "      <th>p_2_agree_item_3</th>\n",
       "      <th>p_2_agree_item_4</th>\n",
       "      <th>p_2_agree_item_5</th>\n",
       "      <th>p_2_agree_item_6</th>\n",
       "      <th>p_2_neuro_item_1</th>\n",
       "      <th>p_2_neuro_item_2</th>\n",
       "      <th>p_2_neuro_item_3</th>\n",
       "      <th>p_2_neuro_item_4</th>\n",
       "      <th>p_2_neuro_item_5</th>\n",
       "      <th>p_2_neuro_item_6</th>\n",
       "      <th>p_3_openness_item_1</th>\n",
       "      <th>p_3_openness_item_2</th>\n",
       "      <th>p_3_openness_item_3</th>\n",
       "      <th>p_3_openness_item_4</th>\n",
       "      <th>p_3_openness_item_5</th>\n",
       "      <th>p_3_openness_item_6</th>\n",
       "      <th>p_3_consc_item_1</th>\n",
       "      <th>p_3_consc_item_2</th>\n",
       "      <th>p_3_consc_item_3</th>\n",
       "      <th>p_3_consc_item_4</th>\n",
       "      <th>p_3_consc_item_5</th>\n",
       "      <th>p_3_consc_item_6</th>\n",
       "      <th>p_3_extr_item_1</th>\n",
       "      <th>p_3_extr_item_2</th>\n",
       "      <th>p_3_extr_item_3</th>\n",
       "      <th>p_3_extr_item_4</th>\n",
       "      <th>p_3_extr_item_5</th>\n",
       "      <th>p_3_extr_item_6</th>\n",
       "      <th>p_3_agree_item_1</th>\n",
       "      <th>p_3_agree_item_2</th>\n",
       "      <th>p_3_agree_item_3</th>\n",
       "      <th>p_3_agree_item_4</th>\n",
       "      <th>p_3_agree_item_5</th>\n",
       "      <th>p_3_agree_item_6</th>\n",
       "      <th>p_3_agree_att_check</th>\n",
       "      <th>p_3_neuro_item_1</th>\n",
       "      <th>p_3_neuro_item_2</th>\n",
       "      <th>p_3_neuro_item_3</th>\n",
       "      <th>p_3_neuro_item_4</th>\n",
       "      <th>p_3_neuro_item_5</th>\n",
       "      <th>p_3_neuro_item_6</th>\n",
       "      <th>post_shop_survey_q_1</th>\n",
       "      <th>post_shop_survey_q_2</th>\n",
       "      <th>post_shop_survey_q_3</th>\n",
       "      <th>post_shop_survey_q_4_1</th>\n",
       "      <th>post_shop_survey_q_4_2</th>\n",
       "      <th>post_shop_survey_q_4_3</th>\n",
       "      <th>post_shop_survey_q_4_4</th>\n",
       "      <th>post_shop_survey_q_4_5</th>\n",
       "      <th>post_shop_survey_q_4_6</th>\n",
       "      <th>post_shop_survey_q_4_6_TEXT</th>\n",
       "      <th>post_shop_q1</th>\n",
       "      <th>post_shop_q2</th>\n",
       "      <th>seriousness_check</th>\n",
       "      <th>Q_TotalDuration</th>\n",
       "      <th>DeviceIdentifier</th>\n",
       "      <th>source</th>\n",
       "      <th>UserAgent</th>\n",
       "      <th>PROLIFIC_PID</th>\n",
       "      <th>STUDY_ID</th>\n",
       "      <th>SESSION_ID</th>\n",
       "      <th>EarlyExit</th>\n",
       "      <th>CompleteExit</th>\n",
       "      <th>Duration</th>\n",
       "      <th>extraversion_score</th>\n",
       "      <th>agreeableness_score</th>\n",
       "      <th>conscientiousness_score</th>\n",
       "      <th>neuroticism_score</th>\n",
       "      <th>openness_score</th>\n",
       "    </tr>\n",
       "  </thead>\n",
       "  <tbody>\n",
       "    <tr>\n",
       "      <th>0</th>\n",
       "      <td>2024-12-11 11:55:06</td>\n",
       "      <td>2024-12-11 12:05:02</td>\n",
       "      <td>0</td>\n",
       "      <td>100</td>\n",
       "      <td>595</td>\n",
       "      <td>1</td>\n",
       "      <td>2024-12-11 12:05:03</td>\n",
       "      <td>R_1RsxKBs5qCxppyg</td>\n",
       "      <td>anonymous</td>\n",
       "      <td>EN</td>\n",
       "      <td>1.0</td>\n",
       "      <td>NaN</td>\n",
       "      <td>0</td>\n",
       "      <td>0</td>\n",
       "      <td>NaN</td>\n",
       "      <td>2</td>\n",
       "      <td>3.0</td>\n",
       "      <td>25.0</td>\n",
       "      <td>1.0</td>\n",
       "      <td>NaN</td>\n",
       "      <td>NaN</td>\n",
       "      <td>NaN</td>\n",
       "      <td>NaN</td>\n",
       "      <td>NaN</td>\n",
       "      <td>NaN</td>\n",
       "      <td>1.0</td>\n",
       "      <td>5.0</td>\n",
       "      <td>0.0</td>\n",
       "      <td>1.0</td>\n",
       "      <td>2.0</td>\n",
       "      <td>West Virginia</td>\n",
       "      <td>NaN</td>\n",
       "      <td>2.0</td>\n",
       "      <td>NaN</td>\n",
       "      <td>NaN</td>\n",
       "      <td>2.0</td>\n",
       "      <td>NaN</td>\n",
       "      <td>1.0</td>\n",
       "      <td>1.0</td>\n",
       "      <td>2.0</td>\n",
       "      <td>3.0</td>\n",
       "      <td>2.0</td>\n",
       "      <td>NaN</td>\n",
       "      <td>1.0</td>\n",
       "      <td>1.0</td>\n",
       "      <td>NaN</td>\n",
       "      <td>NaN</td>\n",
       "      <td>NaN</td>\n",
       "      <td>1.0</td>\n",
       "      <td>2.0</td>\n",
       "      <td>4.0</td>\n",
       "      <td>2.0</td>\n",
       "      <td>1.0</td>\n",
       "      <td>NaN</td>\n",
       "      <td>1.0</td>\n",
       "      <td>NaN</td>\n",
       "      <td>1.0</td>\n",
       "      <td>2.0</td>\n",
       "      <td>1.0</td>\n",
       "      <td>3.0</td>\n",
       "      <td>3.0</td>\n",
       "      <td>3.0</td>\n",
       "      <td>4.0</td>\n",
       "      <td>4.0</td>\n",
       "      <td>4.0</td>\n",
       "      <td>2.0</td>\n",
       "      <td>2.0</td>\n",
       "      <td>5.0</td>\n",
       "      <td>5.0</td>\n",
       "      <td>1.0</td>\n",
       "      <td>2.0</td>\n",
       "      <td>3.0</td>\n",
       "      <td>2.0</td>\n",
       "      <td>2.0</td>\n",
       "      <td>5.0</td>\n",
       "      <td>1.0</td>\n",
       "      <td>4.0</td>\n",
       "      <td>2.0</td>\n",
       "      <td>4.0</td>\n",
       "      <td>4.0</td>\n",
       "      <td>1.0</td>\n",
       "      <td>1.0</td>\n",
       "      <td>1.0</td>\n",
       "      <td>1.0</td>\n",
       "      <td>1.0</td>\n",
       "      <td>1.0</td>\n",
       "      <td>2.0</td>\n",
       "      <td>3.0</td>\n",
       "      <td>3.0</td>\n",
       "      <td>3.0</td>\n",
       "      <td>2.0</td>\n",
       "      <td>1.0</td>\n",
       "      <td>1.0</td>\n",
       "      <td>1.0</td>\n",
       "      <td>1.0</td>\n",
       "      <td>1.0</td>\n",
       "      <td>1.0</td>\n",
       "      <td>1.0</td>\n",
       "      <td>3.0</td>\n",
       "      <td>4.0</td>\n",
       "      <td>3.0</td>\n",
       "      <td>3.0</td>\n",
       "      <td>2.0</td>\n",
       "      <td>2.0</td>\n",
       "      <td>4.0</td>\n",
       "      <td>4.0</td>\n",
       "      <td>3.0</td>\n",
       "      <td>3.0</td>\n",
       "      <td>3.0</td>\n",
       "      <td>2.0</td>\n",
       "      <td>1.0</td>\n",
       "      <td>1.0</td>\n",
       "      <td>1.0</td>\n",
       "      <td>1.0</td>\n",
       "      <td>1.0</td>\n",
       "      <td>1.0</td>\n",
       "      <td>3.0</td>\n",
       "      <td>2.0</td>\n",
       "      <td>3.0</td>\n",
       "      <td>2.0</td>\n",
       "      <td>2.0</td>\n",
       "      <td>2.0</td>\n",
       "      <td>1.0</td>\n",
       "      <td>1.0</td>\n",
       "      <td>1.0</td>\n",
       "      <td>1.0</td>\n",
       "      <td>1.0</td>\n",
       "      <td>1.0</td>\n",
       "      <td>2.0</td>\n",
       "      <td>2.0</td>\n",
       "      <td>3.0</td>\n",
       "      <td>2.0</td>\n",
       "      <td>1.0</td>\n",
       "      <td>2.0</td>\n",
       "      <td>4.0</td>\n",
       "      <td>4.0</td>\n",
       "      <td>3.0</td>\n",
       "      <td>3.0</td>\n",
       "      <td>2.0</td>\n",
       "      <td>2.0</td>\n",
       "      <td>2.0</td>\n",
       "      <td>1.0</td>\n",
       "      <td>2.0</td>\n",
       "      <td>2.0</td>\n",
       "      <td>2.0</td>\n",
       "      <td>1.0</td>\n",
       "      <td>4.0</td>\n",
       "      <td>4.0</td>\n",
       "      <td>3.0</td>\n",
       "      <td>4.0</td>\n",
       "      <td>2.0</td>\n",
       "      <td>2.0</td>\n",
       "      <td>1.0</td>\n",
       "      <td>1.0</td>\n",
       "      <td>1.0</td>\n",
       "      <td>1.0</td>\n",
       "      <td>1.0</td>\n",
       "      <td>1.0</td>\n",
       "      <td>2.0</td>\n",
       "      <td>2.0</td>\n",
       "      <td>2.0</td>\n",
       "      <td>2.0</td>\n",
       "      <td>2.0</td>\n",
       "      <td>2.0</td>\n",
       "      <td>2.0</td>\n",
       "      <td>4.0</td>\n",
       "      <td>4.0</td>\n",
       "      <td>3.0</td>\n",
       "      <td>4.0</td>\n",
       "      <td>3.0</td>\n",
       "      <td>2.0</td>\n",
       "      <td>2.0</td>\n",
       "      <td>3.0</td>\n",
       "      <td>4.0</td>\n",
       "      <td>1.0</td>\n",
       "      <td>NaN</td>\n",
       "      <td>NaN</td>\n",
       "      <td>1.0</td>\n",
       "      <td>NaN</td>\n",
       "      <td>1.0</td>\n",
       "      <td>Practicality</td>\n",
       "      <td>2.0</td>\n",
       "      <td>5.0</td>\n",
       "      <td>2.0</td>\n",
       "      <td>595</td>\n",
       "      <td>NaN</td>\n",
       "      <td>prolific_final</td>\n",
       "      <td>Mozilla/5.0 (Linux; Android 10; K) AppleWebKit...</td>\n",
       "      <td>60196ee67d099006f74c5bb3</td>\n",
       "      <td>675867a866926f4f99073407</td>\n",
       "      <td>67597d8c55c8dde7afa6c10a</td>\n",
       "      <td>NaN</td>\n",
       "      <td>1.0</td>\n",
       "      <td>596.0</td>\n",
       "      <td>1.75</td>\n",
       "      <td>3.25</td>\n",
       "      <td>2.50</td>\n",
       "      <td>2.75</td>\n",
       "      <td>4.50</td>\n",
       "    </tr>\n",
       "    <tr>\n",
       "      <th>1</th>\n",
       "      <td>2024-12-11 11:50:07</td>\n",
       "      <td>2024-12-11 12:05:04</td>\n",
       "      <td>0</td>\n",
       "      <td>100</td>\n",
       "      <td>896</td>\n",
       "      <td>1</td>\n",
       "      <td>2024-12-11 12:05:05</td>\n",
       "      <td>R_6EfWDRRqI2QjBIw</td>\n",
       "      <td>anonymous</td>\n",
       "      <td>EN</td>\n",
       "      <td>0.6</td>\n",
       "      <td>NaN</td>\n",
       "      <td>0</td>\n",
       "      <td>0</td>\n",
       "      <td>NaN</td>\n",
       "      <td>2</td>\n",
       "      <td>2.0</td>\n",
       "      <td>53.0</td>\n",
       "      <td>1.0</td>\n",
       "      <td>NaN</td>\n",
       "      <td>NaN</td>\n",
       "      <td>NaN</td>\n",
       "      <td>NaN</td>\n",
       "      <td>NaN</td>\n",
       "      <td>NaN</td>\n",
       "      <td>4.0</td>\n",
       "      <td>1.0</td>\n",
       "      <td>2.0</td>\n",
       "      <td>3.0</td>\n",
       "      <td>2.0</td>\n",
       "      <td>North Carolina</td>\n",
       "      <td>NaN</td>\n",
       "      <td>1.0</td>\n",
       "      <td>NaN</td>\n",
       "      <td>1.0</td>\n",
       "      <td>NaN</td>\n",
       "      <td>NaN</td>\n",
       "      <td>6.0</td>\n",
       "      <td>1.0</td>\n",
       "      <td>1.0</td>\n",
       "      <td>2.0</td>\n",
       "      <td>2.0</td>\n",
       "      <td>NaN</td>\n",
       "      <td>1.0</td>\n",
       "      <td>NaN</td>\n",
       "      <td>NaN</td>\n",
       "      <td>NaN</td>\n",
       "      <td>NaN</td>\n",
       "      <td>4.0</td>\n",
       "      <td>1.0</td>\n",
       "      <td>4.0</td>\n",
       "      <td>2.0</td>\n",
       "      <td>1.0</td>\n",
       "      <td>NaN</td>\n",
       "      <td>1.0</td>\n",
       "      <td>NaN</td>\n",
       "      <td>1.0</td>\n",
       "      <td>2.0</td>\n",
       "      <td>1.0</td>\n",
       "      <td>5.0</td>\n",
       "      <td>2.0</td>\n",
       "      <td>4.0</td>\n",
       "      <td>5.0</td>\n",
       "      <td>4.0</td>\n",
       "      <td>4.0</td>\n",
       "      <td>5.0</td>\n",
       "      <td>2.0</td>\n",
       "      <td>5.0</td>\n",
       "      <td>2.0</td>\n",
       "      <td>4.0</td>\n",
       "      <td>5.0</td>\n",
       "      <td>4.0</td>\n",
       "      <td>2.0</td>\n",
       "      <td>4.0</td>\n",
       "      <td>2.0</td>\n",
       "      <td>1.0</td>\n",
       "      <td>5.0</td>\n",
       "      <td>4.0</td>\n",
       "      <td>2.0</td>\n",
       "      <td>5.0</td>\n",
       "      <td>4.0</td>\n",
       "      <td>4.0</td>\n",
       "      <td>2.0</td>\n",
       "      <td>2.0</td>\n",
       "      <td>2.0</td>\n",
       "      <td>2.0</td>\n",
       "      <td>4.0</td>\n",
       "      <td>4.0</td>\n",
       "      <td>4.0</td>\n",
       "      <td>4.0</td>\n",
       "      <td>4.0</td>\n",
       "      <td>4.0</td>\n",
       "      <td>2.0</td>\n",
       "      <td>2.0</td>\n",
       "      <td>2.0</td>\n",
       "      <td>2.0</td>\n",
       "      <td>2.0</td>\n",
       "      <td>2.0</td>\n",
       "      <td>2.0</td>\n",
       "      <td>2.0</td>\n",
       "      <td>2.0</td>\n",
       "      <td>2.0</td>\n",
       "      <td>2.0</td>\n",
       "      <td>2.0</td>\n",
       "      <td>4.0</td>\n",
       "      <td>4.0</td>\n",
       "      <td>4.0</td>\n",
       "      <td>4.0</td>\n",
       "      <td>4.0</td>\n",
       "      <td>4.0</td>\n",
       "      <td>4.0</td>\n",
       "      <td>4.0</td>\n",
       "      <td>4.0</td>\n",
       "      <td>4.0</td>\n",
       "      <td>4.0</td>\n",
       "      <td>2.0</td>\n",
       "      <td>4.0</td>\n",
       "      <td>4.0</td>\n",
       "      <td>4.0</td>\n",
       "      <td>4.0</td>\n",
       "      <td>4.0</td>\n",
       "      <td>4.0</td>\n",
       "      <td>4.0</td>\n",
       "      <td>4.0</td>\n",
       "      <td>2.0</td>\n",
       "      <td>2.0</td>\n",
       "      <td>2.0</td>\n",
       "      <td>2.0</td>\n",
       "      <td>4.0</td>\n",
       "      <td>4.0</td>\n",
       "      <td>2.0</td>\n",
       "      <td>2.0</td>\n",
       "      <td>2.0</td>\n",
       "      <td>2.0</td>\n",
       "      <td>4.0</td>\n",
       "      <td>4.0</td>\n",
       "      <td>4.0</td>\n",
       "      <td>4.0</td>\n",
       "      <td>4.0</td>\n",
       "      <td>4.0</td>\n",
       "      <td>4.0</td>\n",
       "      <td>4.0</td>\n",
       "      <td>2.0</td>\n",
       "      <td>2.0</td>\n",
       "      <td>2.0</td>\n",
       "      <td>2.0</td>\n",
       "      <td>4.0</td>\n",
       "      <td>4.0</td>\n",
       "      <td>4.0</td>\n",
       "      <td>4.0</td>\n",
       "      <td>4.0</td>\n",
       "      <td>4.0</td>\n",
       "      <td>4.0</td>\n",
       "      <td>2.0</td>\n",
       "      <td>2.0</td>\n",
       "      <td>2.0</td>\n",
       "      <td>2.0</td>\n",
       "      <td>2.0</td>\n",
       "      <td>4.0</td>\n",
       "      <td>4.0</td>\n",
       "      <td>2.0</td>\n",
       "      <td>4.0</td>\n",
       "      <td>2.0</td>\n",
       "      <td>2.0</td>\n",
       "      <td>2.0</td>\n",
       "      <td>4.0</td>\n",
       "      <td>4.0</td>\n",
       "      <td>4.0</td>\n",
       "      <td>4.0</td>\n",
       "      <td>4.0</td>\n",
       "      <td>4.0</td>\n",
       "      <td>4.0</td>\n",
       "      <td>3.0</td>\n",
       "      <td>5.0</td>\n",
       "      <td>1.0</td>\n",
       "      <td>NaN</td>\n",
       "      <td>1.0</td>\n",
       "      <td>1.0</td>\n",
       "      <td>NaN</td>\n",
       "      <td>NaN</td>\n",
       "      <td>NaN</td>\n",
       "      <td>3.0</td>\n",
       "      <td>3.0</td>\n",
       "      <td>2.0</td>\n",
       "      <td>896</td>\n",
       "      <td>NaN</td>\n",
       "      <td>prolific_final</td>\n",
       "      <td>Mozilla/5.0 (Windows NT 10.0; Win64; x64; rv:1...</td>\n",
       "      <td>664e46d7a85eca66b546f596</td>\n",
       "      <td>675867a866926f4f99073407</td>\n",
       "      <td>67597c65bfabd14e9d7328e3</td>\n",
       "      <td>NaN</td>\n",
       "      <td>1.0</td>\n",
       "      <td>897.0</td>\n",
       "      <td>2.50</td>\n",
       "      <td>4.75</td>\n",
       "      <td>3.75</td>\n",
       "      <td>3.00</td>\n",
       "      <td>3.50</td>\n",
       "    </tr>\n",
       "    <tr>\n",
       "      <th>2</th>\n",
       "      <td>2024-12-11 11:57:42</td>\n",
       "      <td>2024-12-11 12:08:14</td>\n",
       "      <td>0</td>\n",
       "      <td>100</td>\n",
       "      <td>632</td>\n",
       "      <td>1</td>\n",
       "      <td>2024-12-11 12:08:15</td>\n",
       "      <td>R_3gi1rpD86szmDA0</td>\n",
       "      <td>anonymous</td>\n",
       "      <td>EN</td>\n",
       "      <td>0.9</td>\n",
       "      <td>NaN</td>\n",
       "      <td>0</td>\n",
       "      <td>45</td>\n",
       "      <td>NaN</td>\n",
       "      <td>2</td>\n",
       "      <td>1.0</td>\n",
       "      <td>24.0</td>\n",
       "      <td>NaN</td>\n",
       "      <td>1.0</td>\n",
       "      <td>NaN</td>\n",
       "      <td>NaN</td>\n",
       "      <td>NaN</td>\n",
       "      <td>NaN</td>\n",
       "      <td>NaN</td>\n",
       "      <td>1.0</td>\n",
       "      <td>1.0</td>\n",
       "      <td>2.0</td>\n",
       "      <td>2.0</td>\n",
       "      <td>6.0</td>\n",
       "      <td>New York</td>\n",
       "      <td>NaN</td>\n",
       "      <td>2.0</td>\n",
       "      <td>NaN</td>\n",
       "      <td>NaN</td>\n",
       "      <td>2.0</td>\n",
       "      <td>NaN</td>\n",
       "      <td>4.0</td>\n",
       "      <td>1.0</td>\n",
       "      <td>1.0</td>\n",
       "      <td>2.0</td>\n",
       "      <td>3.0</td>\n",
       "      <td>NaN</td>\n",
       "      <td>NaN</td>\n",
       "      <td>NaN</td>\n",
       "      <td>NaN</td>\n",
       "      <td>1.0</td>\n",
       "      <td>NaN</td>\n",
       "      <td>4.0</td>\n",
       "      <td>4.0</td>\n",
       "      <td>4.0</td>\n",
       "      <td>2.0</td>\n",
       "      <td>1.0</td>\n",
       "      <td>NaN</td>\n",
       "      <td>NaN</td>\n",
       "      <td>NaN</td>\n",
       "      <td>5.0</td>\n",
       "      <td>4.0</td>\n",
       "      <td>4.0</td>\n",
       "      <td>4.0</td>\n",
       "      <td>3.0</td>\n",
       "      <td>4.0</td>\n",
       "      <td>4.0</td>\n",
       "      <td>3.0</td>\n",
       "      <td>3.0</td>\n",
       "      <td>3.0</td>\n",
       "      <td>2.0</td>\n",
       "      <td>5.0</td>\n",
       "      <td>2.0</td>\n",
       "      <td>5.0</td>\n",
       "      <td>5.0</td>\n",
       "      <td>3.0</td>\n",
       "      <td>2.0</td>\n",
       "      <td>3.0</td>\n",
       "      <td>2.0</td>\n",
       "      <td>2.0</td>\n",
       "      <td>1.0</td>\n",
       "      <td>2.0</td>\n",
       "      <td>2.0</td>\n",
       "      <td>1.0</td>\n",
       "      <td>4.0</td>\n",
       "      <td>4.0</td>\n",
       "      <td>4.0</td>\n",
       "      <td>4.0</td>\n",
       "      <td>4.0</td>\n",
       "      <td>5.0</td>\n",
       "      <td>4.0</td>\n",
       "      <td>5.0</td>\n",
       "      <td>3.0</td>\n",
       "      <td>4.0</td>\n",
       "      <td>4.0</td>\n",
       "      <td>4.0</td>\n",
       "      <td>4.0</td>\n",
       "      <td>4.0</td>\n",
       "      <td>4.0</td>\n",
       "      <td>4.0</td>\n",
       "      <td>4.0</td>\n",
       "      <td>3.0</td>\n",
       "      <td>4.0</td>\n",
       "      <td>4.0</td>\n",
       "      <td>4.0</td>\n",
       "      <td>4.0</td>\n",
       "      <td>4.0</td>\n",
       "      <td>4.0</td>\n",
       "      <td>5.0</td>\n",
       "      <td>4.0</td>\n",
       "      <td>2.0</td>\n",
       "      <td>2.0</td>\n",
       "      <td>4.0</td>\n",
       "      <td>3.0</td>\n",
       "      <td>5.0</td>\n",
       "      <td>3.0</td>\n",
       "      <td>4.0</td>\n",
       "      <td>4.0</td>\n",
       "      <td>3.0</td>\n",
       "      <td>4.0</td>\n",
       "      <td>5.0</td>\n",
       "      <td>5.0</td>\n",
       "      <td>4.0</td>\n",
       "      <td>5.0</td>\n",
       "      <td>4.0</td>\n",
       "      <td>5.0</td>\n",
       "      <td>4.0</td>\n",
       "      <td>4.0</td>\n",
       "      <td>4.0</td>\n",
       "      <td>3.0</td>\n",
       "      <td>5.0</td>\n",
       "      <td>5.0</td>\n",
       "      <td>4.0</td>\n",
       "      <td>4.0</td>\n",
       "      <td>4.0</td>\n",
       "      <td>3.0</td>\n",
       "      <td>3.0</td>\n",
       "      <td>4.0</td>\n",
       "      <td>4.0</td>\n",
       "      <td>5.0</td>\n",
       "      <td>4.0</td>\n",
       "      <td>3.0</td>\n",
       "      <td>5.0</td>\n",
       "      <td>4.0</td>\n",
       "      <td>4.0</td>\n",
       "      <td>4.0</td>\n",
       "      <td>4.0</td>\n",
       "      <td>4.0</td>\n",
       "      <td>3.0</td>\n",
       "      <td>4.0</td>\n",
       "      <td>4.0</td>\n",
       "      <td>5.0</td>\n",
       "      <td>4.0</td>\n",
       "      <td>4.0</td>\n",
       "      <td>5.0</td>\n",
       "      <td>3.0</td>\n",
       "      <td>4.0</td>\n",
       "      <td>4.0</td>\n",
       "      <td>4.0</td>\n",
       "      <td>4.0</td>\n",
       "      <td>4.0</td>\n",
       "      <td>3.0</td>\n",
       "      <td>4.0</td>\n",
       "      <td>4.0</td>\n",
       "      <td>4.0</td>\n",
       "      <td>4.0</td>\n",
       "      <td>5.0</td>\n",
       "      <td>4.0</td>\n",
       "      <td>2.0</td>\n",
       "      <td>4.0</td>\n",
       "      <td>4.0</td>\n",
       "      <td>4.0</td>\n",
       "      <td>5.0</td>\n",
       "      <td>4.0</td>\n",
       "      <td>4.0</td>\n",
       "      <td>4.0</td>\n",
       "      <td>3.0</td>\n",
       "      <td>4.0</td>\n",
       "      <td>1.0</td>\n",
       "      <td>NaN</td>\n",
       "      <td>1.0</td>\n",
       "      <td>1.0</td>\n",
       "      <td>1.0</td>\n",
       "      <td>NaN</td>\n",
       "      <td>NaN</td>\n",
       "      <td>4.0</td>\n",
       "      <td>3.0</td>\n",
       "      <td>2.0</td>\n",
       "      <td>632</td>\n",
       "      <td>NaN</td>\n",
       "      <td>prolific_final</td>\n",
       "      <td>Mozilla/5.0 (Windows NT 10.0; Win64; x64) Appl...</td>\n",
       "      <td>665acb8be8d04df6693caf4a</td>\n",
       "      <td>675867a866926f4f99073407</td>\n",
       "      <td>67597e2038e326389e732951</td>\n",
       "      <td>NaN</td>\n",
       "      <td>1.0</td>\n",
       "      <td>632.0</td>\n",
       "      <td>3.50</td>\n",
       "      <td>3.25</td>\n",
       "      <td>2.75</td>\n",
       "      <td>2.75</td>\n",
       "      <td>2.25</td>\n",
       "    </tr>\n",
       "    <tr>\n",
       "      <th>3</th>\n",
       "      <td>2024-12-11 11:52:51</td>\n",
       "      <td>2024-12-11 12:08:26</td>\n",
       "      <td>0</td>\n",
       "      <td>100</td>\n",
       "      <td>934</td>\n",
       "      <td>1</td>\n",
       "      <td>2024-12-11 12:08:27</td>\n",
       "      <td>R_3J4R9lB4hKre9fl</td>\n",
       "      <td>anonymous</td>\n",
       "      <td>EN</td>\n",
       "      <td>0.7</td>\n",
       "      <td>NaN</td>\n",
       "      <td>0</td>\n",
       "      <td>0</td>\n",
       "      <td>NaN</td>\n",
       "      <td>2</td>\n",
       "      <td>2.0</td>\n",
       "      <td>23.0</td>\n",
       "      <td>1.0</td>\n",
       "      <td>NaN</td>\n",
       "      <td>NaN</td>\n",
       "      <td>NaN</td>\n",
       "      <td>NaN</td>\n",
       "      <td>NaN</td>\n",
       "      <td>NaN</td>\n",
       "      <td>1.0</td>\n",
       "      <td>5.0</td>\n",
       "      <td>0.0</td>\n",
       "      <td>1.0</td>\n",
       "      <td>1.0</td>\n",
       "      <td>Missouri</td>\n",
       "      <td>NaN</td>\n",
       "      <td>3.0</td>\n",
       "      <td>NaN</td>\n",
       "      <td>NaN</td>\n",
       "      <td>NaN</td>\n",
       "      <td>2.0</td>\n",
       "      <td>2.0</td>\n",
       "      <td>1.0</td>\n",
       "      <td>2.0</td>\n",
       "      <td>2.0</td>\n",
       "      <td>2.0</td>\n",
       "      <td>NaN</td>\n",
       "      <td>1.0</td>\n",
       "      <td>NaN</td>\n",
       "      <td>NaN</td>\n",
       "      <td>NaN</td>\n",
       "      <td>NaN</td>\n",
       "      <td>1.0</td>\n",
       "      <td>2.0</td>\n",
       "      <td>4.0</td>\n",
       "      <td>2.0</td>\n",
       "      <td>1.0</td>\n",
       "      <td>NaN</td>\n",
       "      <td>1.0</td>\n",
       "      <td>1.0</td>\n",
       "      <td>4.0</td>\n",
       "      <td>4.0</td>\n",
       "      <td>4.0</td>\n",
       "      <td>5.0</td>\n",
       "      <td>2.0</td>\n",
       "      <td>3.0</td>\n",
       "      <td>5.0</td>\n",
       "      <td>2.0</td>\n",
       "      <td>4.0</td>\n",
       "      <td>4.0</td>\n",
       "      <td>3.0</td>\n",
       "      <td>5.0</td>\n",
       "      <td>5.0</td>\n",
       "      <td>1.0</td>\n",
       "      <td>5.0</td>\n",
       "      <td>4.0</td>\n",
       "      <td>2.0</td>\n",
       "      <td>3.0</td>\n",
       "      <td>5.0</td>\n",
       "      <td>2.0</td>\n",
       "      <td>3.0</td>\n",
       "      <td>3.0</td>\n",
       "      <td>4.0</td>\n",
       "      <td>5.0</td>\n",
       "      <td>3.0</td>\n",
       "      <td>3.0</td>\n",
       "      <td>2.0</td>\n",
       "      <td>3.0</td>\n",
       "      <td>2.0</td>\n",
       "      <td>1.0</td>\n",
       "      <td>5.0</td>\n",
       "      <td>5.0</td>\n",
       "      <td>4.0</td>\n",
       "      <td>4.0</td>\n",
       "      <td>5.0</td>\n",
       "      <td>4.0</td>\n",
       "      <td>4.0</td>\n",
       "      <td>4.0</td>\n",
       "      <td>4.0</td>\n",
       "      <td>4.0</td>\n",
       "      <td>4.0</td>\n",
       "      <td>3.0</td>\n",
       "      <td>3.0</td>\n",
       "      <td>4.0</td>\n",
       "      <td>3.0</td>\n",
       "      <td>4.0</td>\n",
       "      <td>2.0</td>\n",
       "      <td>1.0</td>\n",
       "      <td>4.0</td>\n",
       "      <td>4.0</td>\n",
       "      <td>4.0</td>\n",
       "      <td>4.0</td>\n",
       "      <td>4.0</td>\n",
       "      <td>3.0</td>\n",
       "      <td>3.0</td>\n",
       "      <td>3.0</td>\n",
       "      <td>2.0</td>\n",
       "      <td>3.0</td>\n",
       "      <td>2.0</td>\n",
       "      <td>1.0</td>\n",
       "      <td>4.0</td>\n",
       "      <td>4.0</td>\n",
       "      <td>4.0</td>\n",
       "      <td>4.0</td>\n",
       "      <td>4.0</td>\n",
       "      <td>3.0</td>\n",
       "      <td>4.0</td>\n",
       "      <td>4.0</td>\n",
       "      <td>3.0</td>\n",
       "      <td>3.0</td>\n",
       "      <td>3.0</td>\n",
       "      <td>2.0</td>\n",
       "      <td>4.0</td>\n",
       "      <td>4.0</td>\n",
       "      <td>4.0</td>\n",
       "      <td>5.0</td>\n",
       "      <td>4.0</td>\n",
       "      <td>4.0</td>\n",
       "      <td>4.0</td>\n",
       "      <td>4.0</td>\n",
       "      <td>4.0</td>\n",
       "      <td>4.0</td>\n",
       "      <td>4.0</td>\n",
       "      <td>3.0</td>\n",
       "      <td>4.0</td>\n",
       "      <td>4.0</td>\n",
       "      <td>4.0</td>\n",
       "      <td>4.0</td>\n",
       "      <td>4.0</td>\n",
       "      <td>3.0</td>\n",
       "      <td>5.0</td>\n",
       "      <td>5.0</td>\n",
       "      <td>5.0</td>\n",
       "      <td>5.0</td>\n",
       "      <td>5.0</td>\n",
       "      <td>4.0</td>\n",
       "      <td>4.0</td>\n",
       "      <td>4.0</td>\n",
       "      <td>4.0</td>\n",
       "      <td>4.0</td>\n",
       "      <td>4.0</td>\n",
       "      <td>3.0</td>\n",
       "      <td>4.0</td>\n",
       "      <td>4.0</td>\n",
       "      <td>4.0</td>\n",
       "      <td>4.0</td>\n",
       "      <td>4.0</td>\n",
       "      <td>3.0</td>\n",
       "      <td>2.0</td>\n",
       "      <td>4.0</td>\n",
       "      <td>4.0</td>\n",
       "      <td>4.0</td>\n",
       "      <td>4.0</td>\n",
       "      <td>4.0</td>\n",
       "      <td>4.0</td>\n",
       "      <td>4.0</td>\n",
       "      <td>3.0</td>\n",
       "      <td>4.0</td>\n",
       "      <td>1.0</td>\n",
       "      <td>NaN</td>\n",
       "      <td>1.0</td>\n",
       "      <td>1.0</td>\n",
       "      <td>1.0</td>\n",
       "      <td>NaN</td>\n",
       "      <td>NaN</td>\n",
       "      <td>3.0</td>\n",
       "      <td>3.0</td>\n",
       "      <td>2.0</td>\n",
       "      <td>934</td>\n",
       "      <td>NaN</td>\n",
       "      <td>prolific_final</td>\n",
       "      <td>Mozilla/5.0 (iPhone; CPU iPhone OS 18_1_1 like...</td>\n",
       "      <td>611171b294ac05e4a3ff358b</td>\n",
       "      <td>675867a866926f4f99073407</td>\n",
       "      <td>67597cfac04d321c32f5190e</td>\n",
       "      <td>NaN</td>\n",
       "      <td>1.0</td>\n",
       "      <td>935.0</td>\n",
       "      <td>2.25</td>\n",
       "      <td>4.25</td>\n",
       "      <td>3.25</td>\n",
       "      <td>3.25</td>\n",
       "      <td>5.00</td>\n",
       "    </tr>\n",
       "    <tr>\n",
       "      <th>4</th>\n",
       "      <td>2024-12-11 11:51:57</td>\n",
       "      <td>2024-12-11 12:08:38</td>\n",
       "      <td>0</td>\n",
       "      <td>100</td>\n",
       "      <td>1000</td>\n",
       "      <td>1</td>\n",
       "      <td>2024-12-11 12:08:38</td>\n",
       "      <td>R_1TXGUtGN3HLFBNJ</td>\n",
       "      <td>anonymous</td>\n",
       "      <td>EN</td>\n",
       "      <td>0.8</td>\n",
       "      <td>NaN</td>\n",
       "      <td>0</td>\n",
       "      <td>0</td>\n",
       "      <td>NaN</td>\n",
       "      <td>2</td>\n",
       "      <td>2.0</td>\n",
       "      <td>32.0</td>\n",
       "      <td>1.0</td>\n",
       "      <td>1.0</td>\n",
       "      <td>1.0</td>\n",
       "      <td>NaN</td>\n",
       "      <td>NaN</td>\n",
       "      <td>NaN</td>\n",
       "      <td>NaN</td>\n",
       "      <td>2.0</td>\n",
       "      <td>5.0</td>\n",
       "      <td>3.0</td>\n",
       "      <td>1.0</td>\n",
       "      <td>3.0</td>\n",
       "      <td>Illinois</td>\n",
       "      <td>NaN</td>\n",
       "      <td>5.0</td>\n",
       "      <td>NaN</td>\n",
       "      <td>NaN</td>\n",
       "      <td>NaN</td>\n",
       "      <td>2.0</td>\n",
       "      <td>3.0</td>\n",
       "      <td>2.0</td>\n",
       "      <td>NaN</td>\n",
       "      <td>3.0</td>\n",
       "      <td>2.0</td>\n",
       "      <td>1.0</td>\n",
       "      <td>1.0</td>\n",
       "      <td>NaN</td>\n",
       "      <td>NaN</td>\n",
       "      <td>1.0</td>\n",
       "      <td>NaN</td>\n",
       "      <td>1.0</td>\n",
       "      <td>4.0</td>\n",
       "      <td>3.0</td>\n",
       "      <td>1.0</td>\n",
       "      <td>1.0</td>\n",
       "      <td>1.0</td>\n",
       "      <td>NaN</td>\n",
       "      <td>NaN</td>\n",
       "      <td>2.0</td>\n",
       "      <td>1.0</td>\n",
       "      <td>4.0</td>\n",
       "      <td>4.0</td>\n",
       "      <td>1.0</td>\n",
       "      <td>4.0</td>\n",
       "      <td>4.0</td>\n",
       "      <td>5.0</td>\n",
       "      <td>4.0</td>\n",
       "      <td>3.0</td>\n",
       "      <td>5.0</td>\n",
       "      <td>5.0</td>\n",
       "      <td>3.0</td>\n",
       "      <td>4.0</td>\n",
       "      <td>4.0</td>\n",
       "      <td>3.0</td>\n",
       "      <td>2.0</td>\n",
       "      <td>3.0</td>\n",
       "      <td>4.0</td>\n",
       "      <td>4.0</td>\n",
       "      <td>4.0</td>\n",
       "      <td>3.0</td>\n",
       "      <td>3.0</td>\n",
       "      <td>4.0</td>\n",
       "      <td>3.0</td>\n",
       "      <td>3.0</td>\n",
       "      <td>2.0</td>\n",
       "      <td>3.0</td>\n",
       "      <td>2.0</td>\n",
       "      <td>2.0</td>\n",
       "      <td>4.0</td>\n",
       "      <td>3.0</td>\n",
       "      <td>2.0</td>\n",
       "      <td>3.0</td>\n",
       "      <td>2.0</td>\n",
       "      <td>2.0</td>\n",
       "      <td>3.0</td>\n",
       "      <td>4.0</td>\n",
       "      <td>3.0</td>\n",
       "      <td>3.0</td>\n",
       "      <td>3.0</td>\n",
       "      <td>3.0</td>\n",
       "      <td>4.0</td>\n",
       "      <td>4.0</td>\n",
       "      <td>3.0</td>\n",
       "      <td>3.0</td>\n",
       "      <td>4.0</td>\n",
       "      <td>4.0</td>\n",
       "      <td>3.0</td>\n",
       "      <td>3.0</td>\n",
       "      <td>2.0</td>\n",
       "      <td>2.0</td>\n",
       "      <td>2.0</td>\n",
       "      <td>2.0</td>\n",
       "      <td>4.0</td>\n",
       "      <td>3.0</td>\n",
       "      <td>4.0</td>\n",
       "      <td>2.0</td>\n",
       "      <td>3.0</td>\n",
       "      <td>3.0</td>\n",
       "      <td>4.0</td>\n",
       "      <td>3.0</td>\n",
       "      <td>3.0</td>\n",
       "      <td>2.0</td>\n",
       "      <td>2.0</td>\n",
       "      <td>3.0</td>\n",
       "      <td>3.0</td>\n",
       "      <td>3.0</td>\n",
       "      <td>3.0</td>\n",
       "      <td>2.0</td>\n",
       "      <td>2.0</td>\n",
       "      <td>2.0</td>\n",
       "      <td>3.0</td>\n",
       "      <td>3.0</td>\n",
       "      <td>3.0</td>\n",
       "      <td>2.0</td>\n",
       "      <td>2.0</td>\n",
       "      <td>2.0</td>\n",
       "      <td>3.0</td>\n",
       "      <td>2.0</td>\n",
       "      <td>2.0</td>\n",
       "      <td>2.0</td>\n",
       "      <td>2.0</td>\n",
       "      <td>2.0</td>\n",
       "      <td>3.0</td>\n",
       "      <td>3.0</td>\n",
       "      <td>2.0</td>\n",
       "      <td>2.0</td>\n",
       "      <td>2.0</td>\n",
       "      <td>2.0</td>\n",
       "      <td>4.0</td>\n",
       "      <td>3.0</td>\n",
       "      <td>3.0</td>\n",
       "      <td>2.0</td>\n",
       "      <td>2.0</td>\n",
       "      <td>3.0</td>\n",
       "      <td>4.0</td>\n",
       "      <td>4.0</td>\n",
       "      <td>3.0</td>\n",
       "      <td>3.0</td>\n",
       "      <td>3.0</td>\n",
       "      <td>3.0</td>\n",
       "      <td>4.0</td>\n",
       "      <td>4.0</td>\n",
       "      <td>3.0</td>\n",
       "      <td>3.0</td>\n",
       "      <td>2.0</td>\n",
       "      <td>2.0</td>\n",
       "      <td>2.0</td>\n",
       "      <td>4.0</td>\n",
       "      <td>4.0</td>\n",
       "      <td>3.0</td>\n",
       "      <td>2.0</td>\n",
       "      <td>3.0</td>\n",
       "      <td>3.0</td>\n",
       "      <td>2.0</td>\n",
       "      <td>2.0</td>\n",
       "      <td>2.0</td>\n",
       "      <td>1.0</td>\n",
       "      <td>NaN</td>\n",
       "      <td>1.0</td>\n",
       "      <td>NaN</td>\n",
       "      <td>NaN</td>\n",
       "      <td>NaN</td>\n",
       "      <td>NaN</td>\n",
       "      <td>3.0</td>\n",
       "      <td>3.0</td>\n",
       "      <td>2.0</td>\n",
       "      <td>1000</td>\n",
       "      <td>NaN</td>\n",
       "      <td>prolific_final</td>\n",
       "      <td>Mozilla/5.0 (Linux; Android 10; K) AppleWebKit...</td>\n",
       "      <td>66a8e4f1997807db5221e94f</td>\n",
       "      <td>675867a866926f4f99073407</td>\n",
       "      <td>67597cd1d68ff59c993155aa</td>\n",
       "      <td>NaN</td>\n",
       "      <td>1.0</td>\n",
       "      <td>1001.0</td>\n",
       "      <td>4.25</td>\n",
       "      <td>4.00</td>\n",
       "      <td>2.50</td>\n",
       "      <td>3.75</td>\n",
       "      <td>3.75</td>\n",
       "    </tr>\n",
       "    <tr>\n",
       "      <th>...</th>\n",
       "      <td>...</td>\n",
       "      <td>...</td>\n",
       "      <td>...</td>\n",
       "      <td>...</td>\n",
       "      <td>...</td>\n",
       "      <td>...</td>\n",
       "      <td>...</td>\n",
       "      <td>...</td>\n",
       "      <td>...</td>\n",
       "      <td>...</td>\n",
       "      <td>...</td>\n",
       "      <td>...</td>\n",
       "      <td>...</td>\n",
       "      <td>...</td>\n",
       "      <td>...</td>\n",
       "      <td>...</td>\n",
       "      <td>...</td>\n",
       "      <td>...</td>\n",
       "      <td>...</td>\n",
       "      <td>...</td>\n",
       "      <td>...</td>\n",
       "      <td>...</td>\n",
       "      <td>...</td>\n",
       "      <td>...</td>\n",
       "      <td>...</td>\n",
       "      <td>...</td>\n",
       "      <td>...</td>\n",
       "      <td>...</td>\n",
       "      <td>...</td>\n",
       "      <td>...</td>\n",
       "      <td>...</td>\n",
       "      <td>...</td>\n",
       "      <td>...</td>\n",
       "      <td>...</td>\n",
       "      <td>...</td>\n",
       "      <td>...</td>\n",
       "      <td>...</td>\n",
       "      <td>...</td>\n",
       "      <td>...</td>\n",
       "      <td>...</td>\n",
       "      <td>...</td>\n",
       "      <td>...</td>\n",
       "      <td>...</td>\n",
       "      <td>...</td>\n",
       "      <td>...</td>\n",
       "      <td>...</td>\n",
       "      <td>...</td>\n",
       "      <td>...</td>\n",
       "      <td>...</td>\n",
       "      <td>...</td>\n",
       "      <td>...</td>\n",
       "      <td>...</td>\n",
       "      <td>...</td>\n",
       "      <td>...</td>\n",
       "      <td>...</td>\n",
       "      <td>...</td>\n",
       "      <td>...</td>\n",
       "      <td>...</td>\n",
       "      <td>...</td>\n",
       "      <td>...</td>\n",
       "      <td>...</td>\n",
       "      <td>...</td>\n",
       "      <td>...</td>\n",
       "      <td>...</td>\n",
       "      <td>...</td>\n",
       "      <td>...</td>\n",
       "      <td>...</td>\n",
       "      <td>...</td>\n",
       "      <td>...</td>\n",
       "      <td>...</td>\n",
       "      <td>...</td>\n",
       "      <td>...</td>\n",
       "      <td>...</td>\n",
       "      <td>...</td>\n",
       "      <td>...</td>\n",
       "      <td>...</td>\n",
       "      <td>...</td>\n",
       "      <td>...</td>\n",
       "      <td>...</td>\n",
       "      <td>...</td>\n",
       "      <td>...</td>\n",
       "      <td>...</td>\n",
       "      <td>...</td>\n",
       "      <td>...</td>\n",
       "      <td>...</td>\n",
       "      <td>...</td>\n",
       "      <td>...</td>\n",
       "      <td>...</td>\n",
       "      <td>...</td>\n",
       "      <td>...</td>\n",
       "      <td>...</td>\n",
       "      <td>...</td>\n",
       "      <td>...</td>\n",
       "      <td>...</td>\n",
       "      <td>...</td>\n",
       "      <td>...</td>\n",
       "      <td>...</td>\n",
       "      <td>...</td>\n",
       "      <td>...</td>\n",
       "      <td>...</td>\n",
       "      <td>...</td>\n",
       "      <td>...</td>\n",
       "      <td>...</td>\n",
       "      <td>...</td>\n",
       "      <td>...</td>\n",
       "      <td>...</td>\n",
       "      <td>...</td>\n",
       "      <td>...</td>\n",
       "      <td>...</td>\n",
       "      <td>...</td>\n",
       "      <td>...</td>\n",
       "      <td>...</td>\n",
       "      <td>...</td>\n",
       "      <td>...</td>\n",
       "      <td>...</td>\n",
       "      <td>...</td>\n",
       "      <td>...</td>\n",
       "      <td>...</td>\n",
       "      <td>...</td>\n",
       "      <td>...</td>\n",
       "      <td>...</td>\n",
       "      <td>...</td>\n",
       "      <td>...</td>\n",
       "      <td>...</td>\n",
       "      <td>...</td>\n",
       "      <td>...</td>\n",
       "      <td>...</td>\n",
       "      <td>...</td>\n",
       "      <td>...</td>\n",
       "      <td>...</td>\n",
       "      <td>...</td>\n",
       "      <td>...</td>\n",
       "      <td>...</td>\n",
       "      <td>...</td>\n",
       "      <td>...</td>\n",
       "      <td>...</td>\n",
       "      <td>...</td>\n",
       "      <td>...</td>\n",
       "      <td>...</td>\n",
       "      <td>...</td>\n",
       "      <td>...</td>\n",
       "      <td>...</td>\n",
       "      <td>...</td>\n",
       "      <td>...</td>\n",
       "      <td>...</td>\n",
       "      <td>...</td>\n",
       "      <td>...</td>\n",
       "      <td>...</td>\n",
       "      <td>...</td>\n",
       "      <td>...</td>\n",
       "      <td>...</td>\n",
       "      <td>...</td>\n",
       "      <td>...</td>\n",
       "      <td>...</td>\n",
       "      <td>...</td>\n",
       "      <td>...</td>\n",
       "      <td>...</td>\n",
       "      <td>...</td>\n",
       "      <td>...</td>\n",
       "      <td>...</td>\n",
       "      <td>...</td>\n",
       "      <td>...</td>\n",
       "      <td>...</td>\n",
       "      <td>...</td>\n",
       "      <td>...</td>\n",
       "      <td>...</td>\n",
       "      <td>...</td>\n",
       "      <td>...</td>\n",
       "      <td>...</td>\n",
       "      <td>...</td>\n",
       "      <td>...</td>\n",
       "      <td>...</td>\n",
       "      <td>...</td>\n",
       "      <td>...</td>\n",
       "      <td>...</td>\n",
       "      <td>...</td>\n",
       "      <td>...</td>\n",
       "      <td>...</td>\n",
       "      <td>...</td>\n",
       "      <td>...</td>\n",
       "      <td>...</td>\n",
       "      <td>...</td>\n",
       "      <td>...</td>\n",
       "      <td>...</td>\n",
       "      <td>...</td>\n",
       "      <td>...</td>\n",
       "      <td>...</td>\n",
       "      <td>...</td>\n",
       "      <td>...</td>\n",
       "      <td>...</td>\n",
       "      <td>...</td>\n",
       "      <td>...</td>\n",
       "      <td>...</td>\n",
       "      <td>...</td>\n",
       "      <td>...</td>\n",
       "      <td>...</td>\n",
       "      <td>...</td>\n",
       "      <td>...</td>\n",
       "      <td>...</td>\n",
       "    </tr>\n",
       "    <tr>\n",
       "      <th>433</th>\n",
       "      <td>2024-12-12 21:35:55</td>\n",
       "      <td>2024-12-12 21:43:30</td>\n",
       "      <td>0</td>\n",
       "      <td>100</td>\n",
       "      <td>454</td>\n",
       "      <td>1</td>\n",
       "      <td>2024-12-12 21:43:31</td>\n",
       "      <td>R_3ab18asv3p68USs</td>\n",
       "      <td>anonymous</td>\n",
       "      <td>EN</td>\n",
       "      <td>1.0</td>\n",
       "      <td>NaN</td>\n",
       "      <td>0</td>\n",
       "      <td>0</td>\n",
       "      <td>NaN</td>\n",
       "      <td>2</td>\n",
       "      <td>1.0</td>\n",
       "      <td>25.0</td>\n",
       "      <td>1.0</td>\n",
       "      <td>NaN</td>\n",
       "      <td>NaN</td>\n",
       "      <td>NaN</td>\n",
       "      <td>NaN</td>\n",
       "      <td>NaN</td>\n",
       "      <td>NaN</td>\n",
       "      <td>1.0</td>\n",
       "      <td>5.0</td>\n",
       "      <td>0.0</td>\n",
       "      <td>7.0</td>\n",
       "      <td>3.0</td>\n",
       "      <td>Maryland</td>\n",
       "      <td>NaN</td>\n",
       "      <td>3.0</td>\n",
       "      <td>NaN</td>\n",
       "      <td>NaN</td>\n",
       "      <td>NaN</td>\n",
       "      <td>1.0</td>\n",
       "      <td>4.0</td>\n",
       "      <td>2.0</td>\n",
       "      <td>NaN</td>\n",
       "      <td>3.0</td>\n",
       "      <td>2.0</td>\n",
       "      <td>NaN</td>\n",
       "      <td>1.0</td>\n",
       "      <td>NaN</td>\n",
       "      <td>NaN</td>\n",
       "      <td>NaN</td>\n",
       "      <td>NaN</td>\n",
       "      <td>1.0</td>\n",
       "      <td>2.0</td>\n",
       "      <td>3.0</td>\n",
       "      <td>2.0</td>\n",
       "      <td>NaN</td>\n",
       "      <td>1.0</td>\n",
       "      <td>NaN</td>\n",
       "      <td>1.0</td>\n",
       "      <td>1.0</td>\n",
       "      <td>1.0</td>\n",
       "      <td>2.0</td>\n",
       "      <td>2.0</td>\n",
       "      <td>2.0</td>\n",
       "      <td>1.0</td>\n",
       "      <td>5.0</td>\n",
       "      <td>2.0</td>\n",
       "      <td>1.0</td>\n",
       "      <td>5.0</td>\n",
       "      <td>4.0</td>\n",
       "      <td>5.0</td>\n",
       "      <td>4.0</td>\n",
       "      <td>1.0</td>\n",
       "      <td>3.0</td>\n",
       "      <td>4.0</td>\n",
       "      <td>2.0</td>\n",
       "      <td>1.0</td>\n",
       "      <td>5.0</td>\n",
       "      <td>2.0</td>\n",
       "      <td>2.0</td>\n",
       "      <td>5.0</td>\n",
       "      <td>4.0</td>\n",
       "      <td>5.0</td>\n",
       "      <td>1.0</td>\n",
       "      <td>1.0</td>\n",
       "      <td>1.0</td>\n",
       "      <td>1.0</td>\n",
       "      <td>1.0</td>\n",
       "      <td>1.0</td>\n",
       "      <td>4.0</td>\n",
       "      <td>4.0</td>\n",
       "      <td>4.0</td>\n",
       "      <td>4.0</td>\n",
       "      <td>4.0</td>\n",
       "      <td>4.0</td>\n",
       "      <td>1.0</td>\n",
       "      <td>1.0</td>\n",
       "      <td>1.0</td>\n",
       "      <td>1.0</td>\n",
       "      <td>1.0</td>\n",
       "      <td>1.0</td>\n",
       "      <td>1.0</td>\n",
       "      <td>1.0</td>\n",
       "      <td>1.0</td>\n",
       "      <td>1.0</td>\n",
       "      <td>1.0</td>\n",
       "      <td>1.0</td>\n",
       "      <td>5.0</td>\n",
       "      <td>5.0</td>\n",
       "      <td>5.0</td>\n",
       "      <td>5.0</td>\n",
       "      <td>5.0</td>\n",
       "      <td>5.0</td>\n",
       "      <td>1.0</td>\n",
       "      <td>1.0</td>\n",
       "      <td>1.0</td>\n",
       "      <td>1.0</td>\n",
       "      <td>1.0</td>\n",
       "      <td>1.0</td>\n",
       "      <td>4.0</td>\n",
       "      <td>4.0</td>\n",
       "      <td>4.0</td>\n",
       "      <td>4.0</td>\n",
       "      <td>4.0</td>\n",
       "      <td>4.0</td>\n",
       "      <td>1.0</td>\n",
       "      <td>1.0</td>\n",
       "      <td>1.0</td>\n",
       "      <td>1.0</td>\n",
       "      <td>1.0</td>\n",
       "      <td>1.0</td>\n",
       "      <td>1.0</td>\n",
       "      <td>1.0</td>\n",
       "      <td>1.0</td>\n",
       "      <td>1.0</td>\n",
       "      <td>1.0</td>\n",
       "      <td>1.0</td>\n",
       "      <td>2.0</td>\n",
       "      <td>2.0</td>\n",
       "      <td>2.0</td>\n",
       "      <td>2.0</td>\n",
       "      <td>2.0</td>\n",
       "      <td>2.0</td>\n",
       "      <td>1.0</td>\n",
       "      <td>1.0</td>\n",
       "      <td>1.0</td>\n",
       "      <td>1.0</td>\n",
       "      <td>1.0</td>\n",
       "      <td>1.0</td>\n",
       "      <td>4.0</td>\n",
       "      <td>4.0</td>\n",
       "      <td>4.0</td>\n",
       "      <td>4.0</td>\n",
       "      <td>4.0</td>\n",
       "      <td>4.0</td>\n",
       "      <td>2.0</td>\n",
       "      <td>2.0</td>\n",
       "      <td>2.0</td>\n",
       "      <td>2.0</td>\n",
       "      <td>2.0</td>\n",
       "      <td>2.0</td>\n",
       "      <td>1.0</td>\n",
       "      <td>1.0</td>\n",
       "      <td>1.0</td>\n",
       "      <td>1.0</td>\n",
       "      <td>1.0</td>\n",
       "      <td>1.0</td>\n",
       "      <td>2.0</td>\n",
       "      <td>5.0</td>\n",
       "      <td>5.0</td>\n",
       "      <td>5.0</td>\n",
       "      <td>5.0</td>\n",
       "      <td>5.0</td>\n",
       "      <td>5.0</td>\n",
       "      <td>2.0</td>\n",
       "      <td>2.0</td>\n",
       "      <td>2.0</td>\n",
       "      <td>NaN</td>\n",
       "      <td>NaN</td>\n",
       "      <td>1.0</td>\n",
       "      <td>NaN</td>\n",
       "      <td>NaN</td>\n",
       "      <td>NaN</td>\n",
       "      <td>NaN</td>\n",
       "      <td>4.0</td>\n",
       "      <td>5.0</td>\n",
       "      <td>2.0</td>\n",
       "      <td>454</td>\n",
       "      <td>NaN</td>\n",
       "      <td>prolific_final</td>\n",
       "      <td>Mozilla/5.0 (Windows NT 10.0; Win64; x64) Appl...</td>\n",
       "      <td>60df7dd7029cff41ea8eed9b</td>\n",
       "      <td>675867a866926f4f99073407</td>\n",
       "      <td>675b55142275e60fc5450be7</td>\n",
       "      <td>NaN</td>\n",
       "      <td>1.0</td>\n",
       "      <td>455.0</td>\n",
       "      <td>1.75</td>\n",
       "      <td>2.00</td>\n",
       "      <td>4.00</td>\n",
       "      <td>2.50</td>\n",
       "      <td>4.75</td>\n",
       "    </tr>\n",
       "    <tr>\n",
       "      <th>434</th>\n",
       "      <td>2024-12-12 21:29:43</td>\n",
       "      <td>2024-12-12 21:46:39</td>\n",
       "      <td>0</td>\n",
       "      <td>100</td>\n",
       "      <td>1015</td>\n",
       "      <td>1</td>\n",
       "      <td>2024-12-12 21:46:39</td>\n",
       "      <td>R_5fpfufbkb47NaWR</td>\n",
       "      <td>anonymous</td>\n",
       "      <td>EN</td>\n",
       "      <td>1.0</td>\n",
       "      <td>NaN</td>\n",
       "      <td>0</td>\n",
       "      <td>20</td>\n",
       "      <td>NaN</td>\n",
       "      <td>2</td>\n",
       "      <td>2.0</td>\n",
       "      <td>30.0</td>\n",
       "      <td>1.0</td>\n",
       "      <td>NaN</td>\n",
       "      <td>NaN</td>\n",
       "      <td>NaN</td>\n",
       "      <td>NaN</td>\n",
       "      <td>NaN</td>\n",
       "      <td>NaN</td>\n",
       "      <td>3.0</td>\n",
       "      <td>5.0</td>\n",
       "      <td>0.0</td>\n",
       "      <td>4.0</td>\n",
       "      <td>5.0</td>\n",
       "      <td>Massachusetts</td>\n",
       "      <td>NaN</td>\n",
       "      <td>2.0</td>\n",
       "      <td>NaN</td>\n",
       "      <td>NaN</td>\n",
       "      <td>1.0</td>\n",
       "      <td>NaN</td>\n",
       "      <td>0.0</td>\n",
       "      <td>1.0</td>\n",
       "      <td>2.0</td>\n",
       "      <td>4.0</td>\n",
       "      <td>2.0</td>\n",
       "      <td>NaN</td>\n",
       "      <td>1.0</td>\n",
       "      <td>NaN</td>\n",
       "      <td>1.0</td>\n",
       "      <td>NaN</td>\n",
       "      <td>1.0</td>\n",
       "      <td>2.0</td>\n",
       "      <td>2.0</td>\n",
       "      <td>3.0</td>\n",
       "      <td>1.0</td>\n",
       "      <td>1.0</td>\n",
       "      <td>NaN</td>\n",
       "      <td>1.0</td>\n",
       "      <td>NaN</td>\n",
       "      <td>2.0</td>\n",
       "      <td>5.0</td>\n",
       "      <td>3.0</td>\n",
       "      <td>5.0</td>\n",
       "      <td>3.0</td>\n",
       "      <td>5.0</td>\n",
       "      <td>5.0</td>\n",
       "      <td>3.0</td>\n",
       "      <td>5.0</td>\n",
       "      <td>1.0</td>\n",
       "      <td>5.0</td>\n",
       "      <td>5.0</td>\n",
       "      <td>2.0</td>\n",
       "      <td>5.0</td>\n",
       "      <td>5.0</td>\n",
       "      <td>4.0</td>\n",
       "      <td>2.0</td>\n",
       "      <td>4.0</td>\n",
       "      <td>1.0</td>\n",
       "      <td>2.0</td>\n",
       "      <td>5.0</td>\n",
       "      <td>2.0</td>\n",
       "      <td>5.0</td>\n",
       "      <td>5.0</td>\n",
       "      <td>2.0</td>\n",
       "      <td>3.0</td>\n",
       "      <td>1.0</td>\n",
       "      <td>2.0</td>\n",
       "      <td>2.0</td>\n",
       "      <td>2.0</td>\n",
       "      <td>4.0</td>\n",
       "      <td>4.0</td>\n",
       "      <td>3.0</td>\n",
       "      <td>4.0</td>\n",
       "      <td>3.0</td>\n",
       "      <td>3.0</td>\n",
       "      <td>1.0</td>\n",
       "      <td>1.0</td>\n",
       "      <td>1.0</td>\n",
       "      <td>1.0</td>\n",
       "      <td>1.0</td>\n",
       "      <td>1.0</td>\n",
       "      <td>2.0</td>\n",
       "      <td>1.0</td>\n",
       "      <td>2.0</td>\n",
       "      <td>1.0</td>\n",
       "      <td>2.0</td>\n",
       "      <td>2.0</td>\n",
       "      <td>5.0</td>\n",
       "      <td>4.0</td>\n",
       "      <td>4.0</td>\n",
       "      <td>4.0</td>\n",
       "      <td>5.0</td>\n",
       "      <td>5.0</td>\n",
       "      <td>4.0</td>\n",
       "      <td>4.0</td>\n",
       "      <td>4.0</td>\n",
       "      <td>4.0</td>\n",
       "      <td>4.0</td>\n",
       "      <td>4.0</td>\n",
       "      <td>5.0</td>\n",
       "      <td>5.0</td>\n",
       "      <td>5.0</td>\n",
       "      <td>5.0</td>\n",
       "      <td>4.0</td>\n",
       "      <td>4.0</td>\n",
       "      <td>2.0</td>\n",
       "      <td>3.0</td>\n",
       "      <td>3.0</td>\n",
       "      <td>2.0</td>\n",
       "      <td>2.0</td>\n",
       "      <td>1.0</td>\n",
       "      <td>5.0</td>\n",
       "      <td>5.0</td>\n",
       "      <td>5.0</td>\n",
       "      <td>5.0</td>\n",
       "      <td>5.0</td>\n",
       "      <td>5.0</td>\n",
       "      <td>5.0</td>\n",
       "      <td>5.0</td>\n",
       "      <td>5.0</td>\n",
       "      <td>5.0</td>\n",
       "      <td>5.0</td>\n",
       "      <td>5.0</td>\n",
       "      <td>4.0</td>\n",
       "      <td>4.0</td>\n",
       "      <td>5.0</td>\n",
       "      <td>5.0</td>\n",
       "      <td>5.0</td>\n",
       "      <td>5.0</td>\n",
       "      <td>5.0</td>\n",
       "      <td>5.0</td>\n",
       "      <td>5.0</td>\n",
       "      <td>5.0</td>\n",
       "      <td>5.0</td>\n",
       "      <td>5.0</td>\n",
       "      <td>1.0</td>\n",
       "      <td>1.0</td>\n",
       "      <td>1.0</td>\n",
       "      <td>1.0</td>\n",
       "      <td>1.0</td>\n",
       "      <td>2.0</td>\n",
       "      <td>5.0</td>\n",
       "      <td>4.0</td>\n",
       "      <td>5.0</td>\n",
       "      <td>5.0</td>\n",
       "      <td>5.0</td>\n",
       "      <td>5.0</td>\n",
       "      <td>2.0</td>\n",
       "      <td>4.0</td>\n",
       "      <td>4.0</td>\n",
       "      <td>5.0</td>\n",
       "      <td>4.0</td>\n",
       "      <td>4.0</td>\n",
       "      <td>5.0</td>\n",
       "      <td>4.0</td>\n",
       "      <td>4.0</td>\n",
       "      <td>5.0</td>\n",
       "      <td>NaN</td>\n",
       "      <td>NaN</td>\n",
       "      <td>NaN</td>\n",
       "      <td>NaN</td>\n",
       "      <td>NaN</td>\n",
       "      <td>1.0</td>\n",
       "      <td>transparency of functions, materials it was cr...</td>\n",
       "      <td>2.0</td>\n",
       "      <td>3.0</td>\n",
       "      <td>2.0</td>\n",
       "      <td>1015</td>\n",
       "      <td>NaN</td>\n",
       "      <td>prolific_final</td>\n",
       "      <td>Mozilla/5.0 (Windows NT 10.0; Win64; x64) Appl...</td>\n",
       "      <td>666559e634fffd1ce19ba654</td>\n",
       "      <td>675867a866926f4f99073407</td>\n",
       "      <td>675b551ba440a027141b577c</td>\n",
       "      <td>NaN</td>\n",
       "      <td>1.0</td>\n",
       "      <td>1016.0</td>\n",
       "      <td>3.25</td>\n",
       "      <td>5.00</td>\n",
       "      <td>2.50</td>\n",
       "      <td>4.75</td>\n",
       "      <td>3.25</td>\n",
       "    </tr>\n",
       "    <tr>\n",
       "      <th>435</th>\n",
       "      <td>2024-12-12 21:28:01</td>\n",
       "      <td>2024-12-12 22:00:54</td>\n",
       "      <td>0</td>\n",
       "      <td>100</td>\n",
       "      <td>1972</td>\n",
       "      <td>1</td>\n",
       "      <td>2024-12-12 22:00:55</td>\n",
       "      <td>R_6CVeGzO2Dfn3Hvs</td>\n",
       "      <td>anonymous</td>\n",
       "      <td>EN</td>\n",
       "      <td>1.0</td>\n",
       "      <td>NaN</td>\n",
       "      <td>0</td>\n",
       "      <td>30</td>\n",
       "      <td>NaN</td>\n",
       "      <td>2</td>\n",
       "      <td>1.0</td>\n",
       "      <td>53.0</td>\n",
       "      <td>NaN</td>\n",
       "      <td>1.0</td>\n",
       "      <td>NaN</td>\n",
       "      <td>NaN</td>\n",
       "      <td>NaN</td>\n",
       "      <td>NaN</td>\n",
       "      <td>NaN</td>\n",
       "      <td>1.0</td>\n",
       "      <td>1.0</td>\n",
       "      <td>2.0</td>\n",
       "      <td>5.0</td>\n",
       "      <td>6.0</td>\n",
       "      <td>New York</td>\n",
       "      <td>NaN</td>\n",
       "      <td>2.0</td>\n",
       "      <td>NaN</td>\n",
       "      <td>NaN</td>\n",
       "      <td>1.0</td>\n",
       "      <td>NaN</td>\n",
       "      <td>5.0</td>\n",
       "      <td>1.0</td>\n",
       "      <td>2.0</td>\n",
       "      <td>4.0</td>\n",
       "      <td>3.0</td>\n",
       "      <td>NaN</td>\n",
       "      <td>NaN</td>\n",
       "      <td>NaN</td>\n",
       "      <td>NaN</td>\n",
       "      <td>1.0</td>\n",
       "      <td>NaN</td>\n",
       "      <td>2.0</td>\n",
       "      <td>4.0</td>\n",
       "      <td>3.0</td>\n",
       "      <td>2.0</td>\n",
       "      <td>1.0</td>\n",
       "      <td>NaN</td>\n",
       "      <td>NaN</td>\n",
       "      <td>NaN</td>\n",
       "      <td>4.0</td>\n",
       "      <td>5.0</td>\n",
       "      <td>4.0</td>\n",
       "      <td>4.0</td>\n",
       "      <td>5.0</td>\n",
       "      <td>4.0</td>\n",
       "      <td>4.0</td>\n",
       "      <td>1.0</td>\n",
       "      <td>1.0</td>\n",
       "      <td>5.0</td>\n",
       "      <td>2.0</td>\n",
       "      <td>5.0</td>\n",
       "      <td>4.0</td>\n",
       "      <td>2.0</td>\n",
       "      <td>4.0</td>\n",
       "      <td>2.0</td>\n",
       "      <td>2.0</td>\n",
       "      <td>1.0</td>\n",
       "      <td>4.0</td>\n",
       "      <td>3.0</td>\n",
       "      <td>4.0</td>\n",
       "      <td>1.0</td>\n",
       "      <td>3.0</td>\n",
       "      <td>4.0</td>\n",
       "      <td>4.0</td>\n",
       "      <td>4.0</td>\n",
       "      <td>5.0</td>\n",
       "      <td>4.0</td>\n",
       "      <td>4.0</td>\n",
       "      <td>4.0</td>\n",
       "      <td>4.0</td>\n",
       "      <td>1.0</td>\n",
       "      <td>5.0</td>\n",
       "      <td>5.0</td>\n",
       "      <td>5.0</td>\n",
       "      <td>5.0</td>\n",
       "      <td>4.0</td>\n",
       "      <td>3.0</td>\n",
       "      <td>4.0</td>\n",
       "      <td>4.0</td>\n",
       "      <td>3.0</td>\n",
       "      <td>3.0</td>\n",
       "      <td>4.0</td>\n",
       "      <td>5.0</td>\n",
       "      <td>4.0</td>\n",
       "      <td>4.0</td>\n",
       "      <td>4.0</td>\n",
       "      <td>5.0</td>\n",
       "      <td>4.0</td>\n",
       "      <td>2.0</td>\n",
       "      <td>2.0</td>\n",
       "      <td>3.0</td>\n",
       "      <td>4.0</td>\n",
       "      <td>3.0</td>\n",
       "      <td>4.0</td>\n",
       "      <td>5.0</td>\n",
       "      <td>5.0</td>\n",
       "      <td>4.0</td>\n",
       "      <td>5.0</td>\n",
       "      <td>4.0</td>\n",
       "      <td>4.0</td>\n",
       "      <td>5.0</td>\n",
       "      <td>5.0</td>\n",
       "      <td>5.0</td>\n",
       "      <td>5.0</td>\n",
       "      <td>4.0</td>\n",
       "      <td>4.0</td>\n",
       "      <td>5.0</td>\n",
       "      <td>5.0</td>\n",
       "      <td>5.0</td>\n",
       "      <td>4.0</td>\n",
       "      <td>5.0</td>\n",
       "      <td>5.0</td>\n",
       "      <td>4.0</td>\n",
       "      <td>5.0</td>\n",
       "      <td>4.0</td>\n",
       "      <td>5.0</td>\n",
       "      <td>5.0</td>\n",
       "      <td>4.0</td>\n",
       "      <td>4.0</td>\n",
       "      <td>4.0</td>\n",
       "      <td>4.0</td>\n",
       "      <td>4.0</td>\n",
       "      <td>5.0</td>\n",
       "      <td>5.0</td>\n",
       "      <td>4.0</td>\n",
       "      <td>5.0</td>\n",
       "      <td>4.0</td>\n",
       "      <td>5.0</td>\n",
       "      <td>5.0</td>\n",
       "      <td>5.0</td>\n",
       "      <td>5.0</td>\n",
       "      <td>4.0</td>\n",
       "      <td>4.0</td>\n",
       "      <td>4.0</td>\n",
       "      <td>4.0</td>\n",
       "      <td>5.0</td>\n",
       "      <td>4.0</td>\n",
       "      <td>5.0</td>\n",
       "      <td>5.0</td>\n",
       "      <td>5.0</td>\n",
       "      <td>5.0</td>\n",
       "      <td>5.0</td>\n",
       "      <td>3.0</td>\n",
       "      <td>4.0</td>\n",
       "      <td>5.0</td>\n",
       "      <td>5.0</td>\n",
       "      <td>5.0</td>\n",
       "      <td>2.0</td>\n",
       "      <td>5.0</td>\n",
       "      <td>5.0</td>\n",
       "      <td>5.0</td>\n",
       "      <td>4.0</td>\n",
       "      <td>4.0</td>\n",
       "      <td>5.0</td>\n",
       "      <td>4.0</td>\n",
       "      <td>3.0</td>\n",
       "      <td>4.0</td>\n",
       "      <td>1.0</td>\n",
       "      <td>1.0</td>\n",
       "      <td>NaN</td>\n",
       "      <td>NaN</td>\n",
       "      <td>NaN</td>\n",
       "      <td>NaN</td>\n",
       "      <td>NaN</td>\n",
       "      <td>4.0</td>\n",
       "      <td>3.0</td>\n",
       "      <td>2.0</td>\n",
       "      <td>1972</td>\n",
       "      <td>NaN</td>\n",
       "      <td>prolific_final</td>\n",
       "      <td>Mozilla/5.0 (Windows NT 10.0; Win64; x64; rv:1...</td>\n",
       "      <td>66d620579e7ea624a7a63e19</td>\n",
       "      <td>675867a866926f4f99073407</td>\n",
       "      <td>675b55510fa0335725e0ac1d</td>\n",
       "      <td>NaN</td>\n",
       "      <td>1.0</td>\n",
       "      <td>1973.0</td>\n",
       "      <td>2.50</td>\n",
       "      <td>3.25</td>\n",
       "      <td>3.25</td>\n",
       "      <td>2.50</td>\n",
       "      <td>4.00</td>\n",
       "    </tr>\n",
       "    <tr>\n",
       "      <th>436</th>\n",
       "      <td>2024-12-12 21:30:04</td>\n",
       "      <td>2024-12-12 22:05:21</td>\n",
       "      <td>0</td>\n",
       "      <td>100</td>\n",
       "      <td>2117</td>\n",
       "      <td>1</td>\n",
       "      <td>2024-12-12 22:05:22</td>\n",
       "      <td>R_7Yg671143HnCPK1</td>\n",
       "      <td>anonymous</td>\n",
       "      <td>EN</td>\n",
       "      <td>0.9</td>\n",
       "      <td>NaN</td>\n",
       "      <td>0</td>\n",
       "      <td>35</td>\n",
       "      <td>NaN</td>\n",
       "      <td>2</td>\n",
       "      <td>2.0</td>\n",
       "      <td>34.0</td>\n",
       "      <td>NaN</td>\n",
       "      <td>1.0</td>\n",
       "      <td>NaN</td>\n",
       "      <td>NaN</td>\n",
       "      <td>NaN</td>\n",
       "      <td>NaN</td>\n",
       "      <td>NaN</td>\n",
       "      <td>1.0</td>\n",
       "      <td>1.0</td>\n",
       "      <td>2.0</td>\n",
       "      <td>5.0</td>\n",
       "      <td>5.0</td>\n",
       "      <td>Virginia</td>\n",
       "      <td>NaN</td>\n",
       "      <td>1.0</td>\n",
       "      <td>NaN</td>\n",
       "      <td>2.0</td>\n",
       "      <td>NaN</td>\n",
       "      <td>NaN</td>\n",
       "      <td>1.0</td>\n",
       "      <td>1.0</td>\n",
       "      <td>1.0</td>\n",
       "      <td>3.0</td>\n",
       "      <td>2.0</td>\n",
       "      <td>NaN</td>\n",
       "      <td>1.0</td>\n",
       "      <td>NaN</td>\n",
       "      <td>1.0</td>\n",
       "      <td>1.0</td>\n",
       "      <td>NaN</td>\n",
       "      <td>2.0</td>\n",
       "      <td>4.0</td>\n",
       "      <td>4.0</td>\n",
       "      <td>2.0</td>\n",
       "      <td>1.0</td>\n",
       "      <td>NaN</td>\n",
       "      <td>1.0</td>\n",
       "      <td>NaN</td>\n",
       "      <td>4.0</td>\n",
       "      <td>6.0</td>\n",
       "      <td>5.0</td>\n",
       "      <td>5.0</td>\n",
       "      <td>5.0</td>\n",
       "      <td>1.0</td>\n",
       "      <td>5.0</td>\n",
       "      <td>2.0</td>\n",
       "      <td>3.0</td>\n",
       "      <td>4.0</td>\n",
       "      <td>2.0</td>\n",
       "      <td>5.0</td>\n",
       "      <td>4.0</td>\n",
       "      <td>3.0</td>\n",
       "      <td>4.0</td>\n",
       "      <td>4.0</td>\n",
       "      <td>2.0</td>\n",
       "      <td>1.0</td>\n",
       "      <td>4.0</td>\n",
       "      <td>3.0</td>\n",
       "      <td>5.0</td>\n",
       "      <td>5.0</td>\n",
       "      <td>3.0</td>\n",
       "      <td>5.0</td>\n",
       "      <td>4.0</td>\n",
       "      <td>4.0</td>\n",
       "      <td>4.0</td>\n",
       "      <td>5.0</td>\n",
       "      <td>4.0</td>\n",
       "      <td>4.0</td>\n",
       "      <td>4.0</td>\n",
       "      <td>4.0</td>\n",
       "      <td>4.0</td>\n",
       "      <td>5.0</td>\n",
       "      <td>5.0</td>\n",
       "      <td>4.0</td>\n",
       "      <td>4.0</td>\n",
       "      <td>4.0</td>\n",
       "      <td>4.0</td>\n",
       "      <td>4.0</td>\n",
       "      <td>4.0</td>\n",
       "      <td>4.0</td>\n",
       "      <td>4.0</td>\n",
       "      <td>4.0</td>\n",
       "      <td>4.0</td>\n",
       "      <td>5.0</td>\n",
       "      <td>4.0</td>\n",
       "      <td>5.0</td>\n",
       "      <td>4.0</td>\n",
       "      <td>4.0</td>\n",
       "      <td>4.0</td>\n",
       "      <td>4.0</td>\n",
       "      <td>4.0</td>\n",
       "      <td>4.0</td>\n",
       "      <td>4.0</td>\n",
       "      <td>4.0</td>\n",
       "      <td>4.0</td>\n",
       "      <td>4.0</td>\n",
       "      <td>4.0</td>\n",
       "      <td>4.0</td>\n",
       "      <td>4.0</td>\n",
       "      <td>4.0</td>\n",
       "      <td>4.0</td>\n",
       "      <td>4.0</td>\n",
       "      <td>4.0</td>\n",
       "      <td>4.0</td>\n",
       "      <td>5.0</td>\n",
       "      <td>4.0</td>\n",
       "      <td>4.0</td>\n",
       "      <td>4.0</td>\n",
       "      <td>4.0</td>\n",
       "      <td>4.0</td>\n",
       "      <td>5.0</td>\n",
       "      <td>4.0</td>\n",
       "      <td>5.0</td>\n",
       "      <td>4.0</td>\n",
       "      <td>4.0</td>\n",
       "      <td>4.0</td>\n",
       "      <td>4.0</td>\n",
       "      <td>3.0</td>\n",
       "      <td>4.0</td>\n",
       "      <td>3.0</td>\n",
       "      <td>4.0</td>\n",
       "      <td>4.0</td>\n",
       "      <td>4.0</td>\n",
       "      <td>5.0</td>\n",
       "      <td>5.0</td>\n",
       "      <td>5.0</td>\n",
       "      <td>4.0</td>\n",
       "      <td>5.0</td>\n",
       "      <td>5.0</td>\n",
       "      <td>5.0</td>\n",
       "      <td>4.0</td>\n",
       "      <td>5.0</td>\n",
       "      <td>5.0</td>\n",
       "      <td>5.0</td>\n",
       "      <td>4.0</td>\n",
       "      <td>4.0</td>\n",
       "      <td>4.0</td>\n",
       "      <td>4.0</td>\n",
       "      <td>4.0</td>\n",
       "      <td>4.0</td>\n",
       "      <td>4.0</td>\n",
       "      <td>4.0</td>\n",
       "      <td>4.0</td>\n",
       "      <td>4.0</td>\n",
       "      <td>4.0</td>\n",
       "      <td>5.0</td>\n",
       "      <td>2.0</td>\n",
       "      <td>5.0</td>\n",
       "      <td>5.0</td>\n",
       "      <td>5.0</td>\n",
       "      <td>5.0</td>\n",
       "      <td>4.0</td>\n",
       "      <td>5.0</td>\n",
       "      <td>5.0</td>\n",
       "      <td>5.0</td>\n",
       "      <td>5.0</td>\n",
       "      <td>NaN</td>\n",
       "      <td>1.0</td>\n",
       "      <td>NaN</td>\n",
       "      <td>1.0</td>\n",
       "      <td>NaN</td>\n",
       "      <td>NaN</td>\n",
       "      <td>NaN</td>\n",
       "      <td>5.0</td>\n",
       "      <td>5.0</td>\n",
       "      <td>2.0</td>\n",
       "      <td>2117</td>\n",
       "      <td>NaN</td>\n",
       "      <td>prolific_final</td>\n",
       "      <td>Mozilla/5.0 (Windows NT 10.0; Win64; x64; rv:1...</td>\n",
       "      <td>671829a403af514aabbac001</td>\n",
       "      <td>675867a866926f4f99073407</td>\n",
       "      <td>675b55bdfea5c9e3054828e0</td>\n",
       "      <td>NaN</td>\n",
       "      <td>1.0</td>\n",
       "      <td>2117.0</td>\n",
       "      <td>3.25</td>\n",
       "      <td>4.25</td>\n",
       "      <td>4.50</td>\n",
       "      <td>1.75</td>\n",
       "      <td>4.50</td>\n",
       "    </tr>\n",
       "    <tr>\n",
       "      <th>437</th>\n",
       "      <td>2024-12-12 22:02:00</td>\n",
       "      <td>2024-12-12 22:26:42</td>\n",
       "      <td>0</td>\n",
       "      <td>100</td>\n",
       "      <td>1481</td>\n",
       "      <td>1</td>\n",
       "      <td>2024-12-12 22:26:42</td>\n",
       "      <td>R_3flOaPiITYHBCD2</td>\n",
       "      <td>anonymous</td>\n",
       "      <td>EN</td>\n",
       "      <td>1.0</td>\n",
       "      <td>NaN</td>\n",
       "      <td>0</td>\n",
       "      <td>0</td>\n",
       "      <td>NaN</td>\n",
       "      <td>2</td>\n",
       "      <td>1.0</td>\n",
       "      <td>49.0</td>\n",
       "      <td>1.0</td>\n",
       "      <td>NaN</td>\n",
       "      <td>NaN</td>\n",
       "      <td>NaN</td>\n",
       "      <td>NaN</td>\n",
       "      <td>NaN</td>\n",
       "      <td>NaN</td>\n",
       "      <td>1.0</td>\n",
       "      <td>1.0</td>\n",
       "      <td>4.0</td>\n",
       "      <td>2.0</td>\n",
       "      <td>3.0</td>\n",
       "      <td>Alabama</td>\n",
       "      <td>NaN</td>\n",
       "      <td>1.0</td>\n",
       "      <td>NaN</td>\n",
       "      <td>1.0</td>\n",
       "      <td>NaN</td>\n",
       "      <td>NaN</td>\n",
       "      <td>6.0</td>\n",
       "      <td>1.0</td>\n",
       "      <td>1.0</td>\n",
       "      <td>1.0</td>\n",
       "      <td>5.0</td>\n",
       "      <td>1.0</td>\n",
       "      <td>1.0</td>\n",
       "      <td>1.0</td>\n",
       "      <td>1.0</td>\n",
       "      <td>NaN</td>\n",
       "      <td>NaN</td>\n",
       "      <td>2.0</td>\n",
       "      <td>3.0</td>\n",
       "      <td>3.0</td>\n",
       "      <td>2.0</td>\n",
       "      <td>NaN</td>\n",
       "      <td>NaN</td>\n",
       "      <td>1.0</td>\n",
       "      <td>1.0</td>\n",
       "      <td>2.0</td>\n",
       "      <td>4.0</td>\n",
       "      <td>2.0</td>\n",
       "      <td>4.0</td>\n",
       "      <td>4.0</td>\n",
       "      <td>5.0</td>\n",
       "      <td>2.0</td>\n",
       "      <td>3.0</td>\n",
       "      <td>3.0</td>\n",
       "      <td>2.0</td>\n",
       "      <td>4.0</td>\n",
       "      <td>5.0</td>\n",
       "      <td>3.0</td>\n",
       "      <td>2.0</td>\n",
       "      <td>4.0</td>\n",
       "      <td>4.0</td>\n",
       "      <td>2.0</td>\n",
       "      <td>4.0</td>\n",
       "      <td>4.0</td>\n",
       "      <td>3.0</td>\n",
       "      <td>3.0</td>\n",
       "      <td>4.0</td>\n",
       "      <td>4.0</td>\n",
       "      <td>3.0</td>\n",
       "      <td>3.0</td>\n",
       "      <td>3.0</td>\n",
       "      <td>3.0</td>\n",
       "      <td>3.0</td>\n",
       "      <td>2.0</td>\n",
       "      <td>3.0</td>\n",
       "      <td>4.0</td>\n",
       "      <td>4.0</td>\n",
       "      <td>4.0</td>\n",
       "      <td>4.0</td>\n",
       "      <td>4.0</td>\n",
       "      <td>4.0</td>\n",
       "      <td>3.0</td>\n",
       "      <td>3.0</td>\n",
       "      <td>2.0</td>\n",
       "      <td>3.0</td>\n",
       "      <td>3.0</td>\n",
       "      <td>3.0</td>\n",
       "      <td>3.0</td>\n",
       "      <td>3.0</td>\n",
       "      <td>2.0</td>\n",
       "      <td>2.0</td>\n",
       "      <td>2.0</td>\n",
       "      <td>3.0</td>\n",
       "      <td>5.0</td>\n",
       "      <td>5.0</td>\n",
       "      <td>5.0</td>\n",
       "      <td>4.0</td>\n",
       "      <td>5.0</td>\n",
       "      <td>4.0</td>\n",
       "      <td>3.0</td>\n",
       "      <td>3.0</td>\n",
       "      <td>2.0</td>\n",
       "      <td>3.0</td>\n",
       "      <td>3.0</td>\n",
       "      <td>4.0</td>\n",
       "      <td>4.0</td>\n",
       "      <td>4.0</td>\n",
       "      <td>3.0</td>\n",
       "      <td>4.0</td>\n",
       "      <td>5.0</td>\n",
       "      <td>5.0</td>\n",
       "      <td>2.0</td>\n",
       "      <td>2.0</td>\n",
       "      <td>2.0</td>\n",
       "      <td>2.0</td>\n",
       "      <td>2.0</td>\n",
       "      <td>2.0</td>\n",
       "      <td>2.0</td>\n",
       "      <td>2.0</td>\n",
       "      <td>2.0</td>\n",
       "      <td>2.0</td>\n",
       "      <td>2.0</td>\n",
       "      <td>2.0</td>\n",
       "      <td>5.0</td>\n",
       "      <td>5.0</td>\n",
       "      <td>5.0</td>\n",
       "      <td>5.0</td>\n",
       "      <td>5.0</td>\n",
       "      <td>5.0</td>\n",
       "      <td>2.0</td>\n",
       "      <td>2.0</td>\n",
       "      <td>2.0</td>\n",
       "      <td>2.0</td>\n",
       "      <td>2.0</td>\n",
       "      <td>2.0</td>\n",
       "      <td>5.0</td>\n",
       "      <td>5.0</td>\n",
       "      <td>4.0</td>\n",
       "      <td>5.0</td>\n",
       "      <td>5.0</td>\n",
       "      <td>5.0</td>\n",
       "      <td>4.0</td>\n",
       "      <td>4.0</td>\n",
       "      <td>3.0</td>\n",
       "      <td>4.0</td>\n",
       "      <td>4.0</td>\n",
       "      <td>4.0</td>\n",
       "      <td>3.0</td>\n",
       "      <td>3.0</td>\n",
       "      <td>3.0</td>\n",
       "      <td>3.0</td>\n",
       "      <td>3.0</td>\n",
       "      <td>3.0</td>\n",
       "      <td>2.0</td>\n",
       "      <td>5.0</td>\n",
       "      <td>5.0</td>\n",
       "      <td>4.0</td>\n",
       "      <td>5.0</td>\n",
       "      <td>5.0</td>\n",
       "      <td>5.0</td>\n",
       "      <td>4.0</td>\n",
       "      <td>4.0</td>\n",
       "      <td>1.0</td>\n",
       "      <td>NaN</td>\n",
       "      <td>NaN</td>\n",
       "      <td>1.0</td>\n",
       "      <td>NaN</td>\n",
       "      <td>NaN</td>\n",
       "      <td>NaN</td>\n",
       "      <td>NaN</td>\n",
       "      <td>4.0</td>\n",
       "      <td>4.0</td>\n",
       "      <td>2.0</td>\n",
       "      <td>1481</td>\n",
       "      <td>NaN</td>\n",
       "      <td>prolific_final</td>\n",
       "      <td>Mozilla/5.0 (Windows NT 10.0; Win64; x64; rv:1...</td>\n",
       "      <td>66da38dc1d5b9365584508ca</td>\n",
       "      <td>675867a866926f4f99073407</td>\n",
       "      <td>675b5d3e48c497c89e6db6e9</td>\n",
       "      <td>NaN</td>\n",
       "      <td>1.0</td>\n",
       "      <td>1482.0</td>\n",
       "      <td>2.50</td>\n",
       "      <td>3.50</td>\n",
       "      <td>3.50</td>\n",
       "      <td>4.25</td>\n",
       "      <td>3.00</td>\n",
       "    </tr>\n",
       "  </tbody>\n",
       "</table>\n",
       "<p>373 rows × 199 columns</p>\n",
       "</div>"
      ],
      "text/plain": [
       "              StartDate             EndDate  Status  Progress  \\\n",
       "0   2024-12-11 11:55:06 2024-12-11 12:05:02       0       100   \n",
       "1   2024-12-11 11:50:07 2024-12-11 12:05:04       0       100   \n",
       "2   2024-12-11 11:57:42 2024-12-11 12:08:14       0       100   \n",
       "3   2024-12-11 11:52:51 2024-12-11 12:08:26       0       100   \n",
       "4   2024-12-11 11:51:57 2024-12-11 12:08:38       0       100   \n",
       "..                  ...                 ...     ...       ...   \n",
       "433 2024-12-12 21:35:55 2024-12-12 21:43:30       0       100   \n",
       "434 2024-12-12 21:29:43 2024-12-12 21:46:39       0       100   \n",
       "435 2024-12-12 21:28:01 2024-12-12 22:00:54       0       100   \n",
       "436 2024-12-12 21:30:04 2024-12-12 22:05:21       0       100   \n",
       "437 2024-12-12 22:02:00 2024-12-12 22:26:42       0       100   \n",
       "\n",
       "     Duration (in seconds)  Finished         RecordedDate         ResponseId  \\\n",
       "0                      595         1  2024-12-11 12:05:03  R_1RsxKBs5qCxppyg   \n",
       "1                      896         1  2024-12-11 12:05:05  R_6EfWDRRqI2QjBIw   \n",
       "2                      632         1  2024-12-11 12:08:15  R_3gi1rpD86szmDA0   \n",
       "3                      934         1  2024-12-11 12:08:27  R_3J4R9lB4hKre9fl   \n",
       "4                     1000         1  2024-12-11 12:08:38  R_1TXGUtGN3HLFBNJ   \n",
       "..                     ...       ...                  ...                ...   \n",
       "433                    454         1  2024-12-12 21:43:31  R_3ab18asv3p68USs   \n",
       "434                   1015         1  2024-12-12 21:46:39  R_5fpfufbkb47NaWR   \n",
       "435                   1972         1  2024-12-12 22:00:55  R_6CVeGzO2Dfn3Hvs   \n",
       "436                   2117         1  2024-12-12 22:05:22  R_7Yg671143HnCPK1   \n",
       "437                   1481         1  2024-12-12 22:26:42  R_3flOaPiITYHBCD2   \n",
       "\n",
       "    DistributionChannel UserLanguage  Q_RecaptchaScore Q_RelevantIDDuplicate  \\\n",
       "0             anonymous           EN               1.0                   NaN   \n",
       "1             anonymous           EN               0.6                   NaN   \n",
       "2             anonymous           EN               0.9                   NaN   \n",
       "3             anonymous           EN               0.7                   NaN   \n",
       "4             anonymous           EN               0.8                   NaN   \n",
       "..                  ...          ...               ...                   ...   \n",
       "433           anonymous           EN               1.0                   NaN   \n",
       "434           anonymous           EN               1.0                   NaN   \n",
       "435           anonymous           EN               1.0                   NaN   \n",
       "436           anonymous           EN               0.9                   NaN   \n",
       "437           anonymous           EN               1.0                   NaN   \n",
       "\n",
       "     Q_RelevantIDDuplicateScore  Q_RelevantIDFraudScore  \\\n",
       "0                             0                       0   \n",
       "1                             0                       0   \n",
       "2                             0                      45   \n",
       "3                             0                       0   \n",
       "4                             0                       0   \n",
       "..                          ...                     ...   \n",
       "433                           0                       0   \n",
       "434                           0                      20   \n",
       "435                           0                      30   \n",
       "436                           0                      35   \n",
       "437                           0                       0   \n",
       "\n",
       "    Q_RelevantIDLastStartDate  Intro  gender   age  races_1  races_2  races_3  \\\n",
       "0                         NaN      2     3.0  25.0      1.0      NaN      NaN   \n",
       "1                         NaN      2     2.0  53.0      1.0      NaN      NaN   \n",
       "2                         NaN      2     1.0  24.0      NaN      1.0      NaN   \n",
       "3                         NaN      2     2.0  23.0      1.0      NaN      NaN   \n",
       "4                         NaN      2     2.0  32.0      1.0      1.0      1.0   \n",
       "..                        ...    ...     ...   ...      ...      ...      ...   \n",
       "433                       NaN      2     1.0  25.0      1.0      NaN      NaN   \n",
       "434                       NaN      2     2.0  30.0      1.0      NaN      NaN   \n",
       "435                       NaN      2     1.0  53.0      NaN      1.0      NaN   \n",
       "436                       NaN      2     2.0  34.0      NaN      1.0      NaN   \n",
       "437                       NaN      2     1.0  49.0      1.0      NaN      NaN   \n",
       "\n",
       "     races_4  races_5  races_6  races_7  employment_status  marital_status  \\\n",
       "0        NaN      NaN      NaN      NaN                1.0             5.0   \n",
       "1        NaN      NaN      NaN      NaN                4.0             1.0   \n",
       "2        NaN      NaN      NaN      NaN                1.0             1.0   \n",
       "3        NaN      NaN      NaN      NaN                1.0             5.0   \n",
       "4        NaN      NaN      NaN      NaN                2.0             5.0   \n",
       "..       ...      ...      ...      ...                ...             ...   \n",
       "433      NaN      NaN      NaN      NaN                1.0             5.0   \n",
       "434      NaN      NaN      NaN      NaN                3.0             5.0   \n",
       "435      NaN      NaN      NaN      NaN                1.0             1.0   \n",
       "436      NaN      NaN      NaN      NaN                1.0             1.0   \n",
       "437      NaN      NaN      NaN      NaN                1.0             1.0   \n",
       "\n",
       "     children  household_income  education_level           state  country  \\\n",
       "0         0.0               1.0              2.0   West Virginia      NaN   \n",
       "1         2.0               3.0              2.0  North Carolina      NaN   \n",
       "2         2.0               2.0              6.0        New York      NaN   \n",
       "3         0.0               1.0              1.0        Missouri      NaN   \n",
       "4         3.0               1.0              3.0        Illinois      NaN   \n",
       "..        ...               ...              ...             ...      ...   \n",
       "433       0.0               7.0              3.0        Maryland      NaN   \n",
       "434       0.0               4.0              5.0   Massachusetts      NaN   \n",
       "435       2.0               5.0              6.0        New York      NaN   \n",
       "436       2.0               5.0              5.0        Virginia      NaN   \n",
       "437       4.0               2.0              3.0         Alabama      NaN   \n",
       "\n",
       "     political_orientaton political_orientaton_4_TEXT  republican_strength  \\\n",
       "0                     2.0                         NaN                  NaN   \n",
       "1                     1.0                         NaN                  1.0   \n",
       "2                     2.0                         NaN                  NaN   \n",
       "3                     3.0                         NaN                  NaN   \n",
       "4                     5.0                         NaN                  NaN   \n",
       "..                    ...                         ...                  ...   \n",
       "433                   3.0                         NaN                  NaN   \n",
       "434                   2.0                         NaN                  NaN   \n",
       "435                   2.0                         NaN                  NaN   \n",
       "436                   1.0                         NaN                  2.0   \n",
       "437                   1.0                         NaN                  1.0   \n",
       "\n",
       "     democrat_strength  party_alignment  political_Ideology_1  voted  \\\n",
       "0                  2.0              NaN                   1.0    1.0   \n",
       "1                  NaN              NaN                   6.0    1.0   \n",
       "2                  2.0              NaN                   4.0    1.0   \n",
       "3                  NaN              2.0                   2.0    1.0   \n",
       "4                  NaN              2.0                   3.0    2.0   \n",
       "..                 ...              ...                   ...    ...   \n",
       "433                NaN              1.0                   4.0    2.0   \n",
       "434                1.0              NaN                   0.0    1.0   \n",
       "435                1.0              NaN                   5.0    1.0   \n",
       "436                NaN              NaN                   1.0    1.0   \n",
       "437                NaN              NaN                   6.0    1.0   \n",
       "\n",
       "     vote_for  shopping_freq  monthly_spend  brands_type_pref_1  \\\n",
       "0         2.0            3.0            2.0                 NaN   \n",
       "1         1.0            2.0            2.0                 NaN   \n",
       "2         1.0            2.0            3.0                 NaN   \n",
       "3         2.0            2.0            2.0                 NaN   \n",
       "4         NaN            3.0            2.0                 1.0   \n",
       "..        ...            ...            ...                 ...   \n",
       "433       NaN            3.0            2.0                 NaN   \n",
       "434       2.0            4.0            2.0                 NaN   \n",
       "435       2.0            4.0            3.0                 NaN   \n",
       "436       1.0            3.0            2.0                 NaN   \n",
       "437       1.0            1.0            5.0                 1.0   \n",
       "\n",
       "     brands_type_pref_2  brands_type_pref_3  brands_type_pref_4  \\\n",
       "0                   1.0                 1.0                 NaN   \n",
       "1                   1.0                 NaN                 NaN   \n",
       "2                   NaN                 NaN                 NaN   \n",
       "3                   1.0                 NaN                 NaN   \n",
       "4                   1.0                 NaN                 NaN   \n",
       "..                  ...                 ...                 ...   \n",
       "433                 1.0                 NaN                 NaN   \n",
       "434                 1.0                 NaN                 1.0   \n",
       "435                 NaN                 NaN                 NaN   \n",
       "436                 1.0                 NaN                 1.0   \n",
       "437                 1.0                 1.0                 1.0   \n",
       "\n",
       "     brands_type_pref_5  brands_type_pref_6  vacation_travel_freq  \\\n",
       "0                   NaN                 NaN                   1.0   \n",
       "1                   NaN                 NaN                   4.0   \n",
       "2                   1.0                 NaN                   4.0   \n",
       "3                   NaN                 NaN                   1.0   \n",
       "4                   1.0                 NaN                   1.0   \n",
       "..                  ...                 ...                   ...   \n",
       "433                 NaN                 NaN                   1.0   \n",
       "434                 NaN                 1.0                   2.0   \n",
       "435                 1.0                 NaN                   2.0   \n",
       "436                 1.0                 NaN                   2.0   \n",
       "437                 NaN                 NaN                   2.0   \n",
       "\n",
       "     brand_importance  discount_importance  buy_decision_style  \\\n",
       "0                 2.0                  4.0                 2.0   \n",
       "1                 1.0                  4.0                 2.0   \n",
       "2                 4.0                  4.0                 2.0   \n",
       "3                 2.0                  4.0                 2.0   \n",
       "4                 4.0                  3.0                 1.0   \n",
       "..                ...                  ...                 ...   \n",
       "433               2.0                  3.0                 2.0   \n",
       "434               2.0                  3.0                 1.0   \n",
       "435               4.0                  3.0                 2.0   \n",
       "436               4.0                  4.0                 2.0   \n",
       "437               3.0                  3.0                 2.0   \n",
       "\n",
       "     device_used_to_buy_1  device_used_to_buy_2  device_used_to_buy_3  \\\n",
       "0                     1.0                   NaN                   1.0   \n",
       "1                     1.0                   NaN                   1.0   \n",
       "2                     1.0                   NaN                   NaN   \n",
       "3                     1.0                   NaN                   1.0   \n",
       "4                     1.0                   1.0                   NaN   \n",
       "..                    ...                   ...                   ...   \n",
       "433                   NaN                   1.0                   NaN   \n",
       "434                   1.0                   NaN                   1.0   \n",
       "435                   1.0                   NaN                   NaN   \n",
       "436                   1.0                   NaN                   1.0   \n",
       "437                   NaN                   NaN                   1.0   \n",
       "\n",
       "     device_used_to_buy_5  social_m_influence  eco_friendly_imp  pq_1  pq_2  \\\n",
       "0                     NaN                 1.0               2.0   1.0   3.0   \n",
       "1                     NaN                 1.0               2.0   1.0   5.0   \n",
       "2                     NaN                 5.0               4.0   4.0   4.0   \n",
       "3                     1.0                 4.0               4.0   4.0   5.0   \n",
       "4                     NaN                 2.0               1.0   4.0   4.0   \n",
       "..                    ...                 ...               ...   ...   ...   \n",
       "433                   1.0                 1.0               1.0   2.0   2.0   \n",
       "434                   NaN                 2.0               5.0   3.0   5.0   \n",
       "435                   NaN                 4.0               5.0   4.0   4.0   \n",
       "436                   NaN                 4.0               6.0   5.0   5.0   \n",
       "437                   1.0                 2.0               4.0   2.0   4.0   \n",
       "\n",
       "     pq_3  pq_4  pq_5  pq_6_reverse_score  pq_7_reverse_score  \\\n",
       "0     3.0   3.0   4.0                 4.0                 4.0   \n",
       "1     2.0   4.0   5.0                 4.0                 4.0   \n",
       "2     3.0   4.0   4.0                 3.0                 3.0   \n",
       "3     2.0   3.0   5.0                 2.0                 4.0   \n",
       "4     1.0   4.0   4.0                 5.0                 4.0   \n",
       "..    ...   ...   ...                 ...                 ...   \n",
       "433   2.0   1.0   5.0                 2.0                 1.0   \n",
       "434   3.0   5.0   5.0                 3.0                 5.0   \n",
       "435   5.0   4.0   4.0                 1.0                 1.0   \n",
       "436   5.0   1.0   5.0                 2.0                 3.0   \n",
       "437   4.0   5.0   2.0                 3.0                 3.0   \n",
       "\n",
       "     pq_8_reverse_score  pq_9_reverse_score  pq_attention_check_1  \\\n",
       "0                   2.0                 2.0                   5.0   \n",
       "1                   5.0                 2.0                   5.0   \n",
       "2                   3.0                 2.0                   5.0   \n",
       "3                   4.0                 3.0                   5.0   \n",
       "4                   3.0                 5.0                   5.0   \n",
       "..                  ...                 ...                   ...   \n",
       "433                 5.0                 4.0                   5.0   \n",
       "434                 1.0                 5.0                   5.0   \n",
       "435                 5.0                 2.0                   5.0   \n",
       "436                 4.0                 2.0                   5.0   \n",
       "437                 2.0                 4.0                   5.0   \n",
       "\n",
       "     pq_10_reverse_score  pq_11  pq_12  pq_13  pq_attention_check_2  pq_14  \\\n",
       "0                    5.0    1.0    2.0    3.0                   2.0    2.0   \n",
       "1                    2.0    4.0    5.0    4.0                   2.0    4.0   \n",
       "2                    2.0    5.0    5.0    3.0                   2.0    3.0   \n",
       "3                    5.0    1.0    5.0    4.0                   2.0    3.0   \n",
       "4                    3.0    4.0    4.0    3.0                   2.0    3.0   \n",
       "..                   ...    ...    ...    ...                   ...    ...   \n",
       "433                  4.0    1.0    3.0    4.0                   2.0    1.0   \n",
       "434                  2.0    5.0    5.0    4.0                   2.0    4.0   \n",
       "435                  4.0    2.0    4.0    2.0                   2.0    1.0   \n",
       "436                  4.0    3.0    4.0    4.0                   2.0    1.0   \n",
       "437                  3.0    2.0    4.0    4.0                   2.0    4.0   \n",
       "\n",
       "     pq_15_reverse_score  pq_16_reverse_score  pq_17_reverse_score  \\\n",
       "0                    5.0                  1.0                  4.0   \n",
       "1                    2.0                  1.0                  5.0   \n",
       "2                    2.0                  2.0                  1.0   \n",
       "3                    5.0                  2.0                  3.0   \n",
       "4                    4.0                  4.0                  4.0   \n",
       "..                   ...                  ...                  ...   \n",
       "433                  5.0                  2.0                  2.0   \n",
       "434                  1.0                  2.0                  5.0   \n",
       "435                  4.0                  3.0                  4.0   \n",
       "436                  4.0                  3.0                  5.0   \n",
       "437                  4.0                  3.0                  3.0   \n",
       "\n",
       "     pq_18_reverse_score  pq_19_reverse_score  pq_20_reverse_score  \\\n",
       "0                    2.0                  4.0                  4.0   \n",
       "1                    4.0                  2.0                  5.0   \n",
       "2                    2.0                  2.0                  1.0   \n",
       "3                    3.0                  4.0                  5.0   \n",
       "4                    3.0                  3.0                  4.0   \n",
       "..                   ...                  ...                  ...   \n",
       "433                  5.0                  4.0                  5.0   \n",
       "434                  2.0                  5.0                  5.0   \n",
       "435                  1.0                  3.0                  4.0   \n",
       "436                  5.0                  3.0                  5.0   \n",
       "437                  4.0                  4.0                  3.0   \n",
       "\n",
       "     p_1_openness_item_1  p_1_openness_item_2  p_1_openness_item_3  \\\n",
       "0                    1.0                  1.0                  1.0   \n",
       "1                    4.0                  4.0                  2.0   \n",
       "2                    4.0                  4.0                  4.0   \n",
       "3                    3.0                  3.0                  2.0   \n",
       "4                    3.0                  3.0                  2.0   \n",
       "..                   ...                  ...                  ...   \n",
       "433                  1.0                  1.0                  1.0   \n",
       "434                  2.0                  3.0                  1.0   \n",
       "435                  4.0                  4.0                  5.0   \n",
       "436                  4.0                  4.0                  4.0   \n",
       "437                  3.0                  3.0                  3.0   \n",
       "\n",
       "     p_1_openness_item_4  p_1_openness_item_5  p_1_openness_item_6  \\\n",
       "0                    1.0                  1.0                  1.0   \n",
       "1                    2.0                  2.0                  2.0   \n",
       "2                    4.0                  4.0                  5.0   \n",
       "3                    3.0                  2.0                  1.0   \n",
       "4                    3.0                  2.0                  2.0   \n",
       "..                   ...                  ...                  ...   \n",
       "433                  1.0                  1.0                  1.0   \n",
       "434                  2.0                  2.0                  2.0   \n",
       "435                  4.0                  4.0                  4.0   \n",
       "436                  5.0                  4.0                  4.0   \n",
       "437                  3.0                  2.0                  3.0   \n",
       "\n",
       "     p_1_consc_item_1  p_1_consc_item_2  p_1_consc_item_3  p_1_consc_item_4  \\\n",
       "0                 2.0               3.0               3.0               3.0   \n",
       "1                 4.0               4.0               4.0               4.0   \n",
       "2                 4.0               5.0               3.0               4.0   \n",
       "3                 5.0               5.0               4.0               4.0   \n",
       "4                 4.0               3.0               2.0               3.0   \n",
       "..                ...               ...               ...               ...   \n",
       "433               4.0               4.0               4.0               4.0   \n",
       "434               4.0               4.0               3.0               4.0   \n",
       "435               4.0               1.0               5.0               5.0   \n",
       "436               4.0               4.0               4.0               5.0   \n",
       "437               4.0               4.0               4.0               4.0   \n",
       "\n",
       "     p_1_consc_item_5  p_1_consc_item_6  p_1_extr_item_1  p_1_extr_item_2  \\\n",
       "0                 2.0               1.0              1.0              1.0   \n",
       "1                 4.0               4.0              2.0              2.0   \n",
       "2                 4.0               4.0              4.0              4.0   \n",
       "3                 5.0               4.0              4.0              4.0   \n",
       "4                 2.0               2.0              3.0              4.0   \n",
       "..                ...               ...              ...              ...   \n",
       "433               4.0               4.0              1.0              1.0   \n",
       "434               3.0               3.0              1.0              1.0   \n",
       "435               5.0               5.0              4.0              3.0   \n",
       "436               5.0               4.0              4.0              4.0   \n",
       "437               4.0               4.0              3.0              3.0   \n",
       "\n",
       "     p_1_extr_item_3  p_1_extr_item_4  p_1_extr_item_5  p_1_extr_item_6  \\\n",
       "0                1.0              1.0              1.0              1.0   \n",
       "1                2.0              2.0              2.0              2.0   \n",
       "2                4.0              4.0              4.0              3.0   \n",
       "3                4.0              4.0              4.0              3.0   \n",
       "4                3.0              3.0              3.0              3.0   \n",
       "..               ...              ...              ...              ...   \n",
       "433              1.0              1.0              1.0              1.0   \n",
       "434              1.0              1.0              1.0              1.0   \n",
       "435              4.0              4.0              3.0              3.0   \n",
       "436              4.0              4.0              4.0              4.0   \n",
       "437              2.0              3.0              3.0              3.0   \n",
       "\n",
       "     p_1_agree_item_1  p_1_agree_item_2  p_1_agree_item_3  p_1_agree_item_4  \\\n",
       "0                 3.0               4.0               3.0               3.0   \n",
       "1                 2.0               2.0               2.0               2.0   \n",
       "2                 4.0               4.0               4.0               4.0   \n",
       "3                 3.0               4.0               3.0               4.0   \n",
       "4                 4.0               4.0               3.0               3.0   \n",
       "..                ...               ...               ...               ...   \n",
       "433               1.0               1.0               1.0               1.0   \n",
       "434               2.0               1.0               2.0               1.0   \n",
       "435               4.0               5.0               4.0               4.0   \n",
       "436               4.0               4.0               4.0               5.0   \n",
       "437               3.0               3.0               2.0               2.0   \n",
       "\n",
       "     p_1_agree_item_5  p_1_agree_item_6  p_1_neuro_item_1  p_1_neuro_item_2  \\\n",
       "0                 2.0               2.0               4.0               4.0   \n",
       "1                 2.0               2.0               4.0               4.0   \n",
       "2                 4.0               4.0               5.0               4.0   \n",
       "3                 2.0               1.0               4.0               4.0   \n",
       "4                 4.0               4.0               3.0               3.0   \n",
       "..                ...               ...               ...               ...   \n",
       "433               1.0               1.0               5.0               5.0   \n",
       "434               2.0               2.0               5.0               4.0   \n",
       "435               4.0               5.0               4.0               2.0   \n",
       "436               4.0               5.0               4.0               4.0   \n",
       "437               2.0               3.0               5.0               5.0   \n",
       "\n",
       "     p_1_neuro_item_3  p_1_neuro_item_4  p_1_neuro_item_5  p_1_neuro_item_6  \\\n",
       "0                 3.0               3.0               3.0               2.0   \n",
       "1                 4.0               4.0               4.0               4.0   \n",
       "2                 2.0               2.0               4.0               3.0   \n",
       "3                 4.0               4.0               4.0               3.0   \n",
       "4                 2.0               2.0               2.0               2.0   \n",
       "..                ...               ...               ...               ...   \n",
       "433               5.0               5.0               5.0               5.0   \n",
       "434               4.0               4.0               5.0               5.0   \n",
       "435               2.0               3.0               4.0               3.0   \n",
       "436               4.0               4.0               4.0               4.0   \n",
       "437               5.0               4.0               5.0               4.0   \n",
       "\n",
       "     p_2_openness_item_1  p_2_openness_item_2  p_2_openness_item_3  \\\n",
       "0                    1.0                  1.0                  1.0   \n",
       "1                    4.0                  4.0                  4.0   \n",
       "2                    5.0                  3.0                  4.0   \n",
       "3                    3.0                  3.0                  2.0   \n",
       "4                    4.0                  3.0                  4.0   \n",
       "..                   ...                  ...                  ...   \n",
       "433                  1.0                  1.0                  1.0   \n",
       "434                  4.0                  4.0                  4.0   \n",
       "435                  4.0                  5.0                  5.0   \n",
       "436                  4.0                  4.0                  4.0   \n",
       "437                  3.0                  3.0                  2.0   \n",
       "\n",
       "     p_2_openness_item_4  p_2_openness_item_5  p_2_openness_item_6  \\\n",
       "0                    1.0                  1.0                  1.0   \n",
       "1                    4.0                  4.0                  2.0   \n",
       "2                    4.0                  3.0                  4.0   \n",
       "3                    3.0                  2.0                  1.0   \n",
       "4                    2.0                  3.0                  3.0   \n",
       "..                   ...                  ...                  ...   \n",
       "433                  1.0                  1.0                  1.0   \n",
       "434                  4.0                  4.0                  4.0   \n",
       "435                  4.0                  5.0                  4.0   \n",
       "436                  4.0                  4.0                  4.0   \n",
       "437                  3.0                  3.0                  4.0   \n",
       "\n",
       "     p_2_consc_item_1  p_2_consc_item_2  p_2_consc_item_3  p_2_consc_item_4  \\\n",
       "0                 3.0               2.0               3.0               2.0   \n",
       "1                 4.0               4.0               4.0               4.0   \n",
       "2                 5.0               5.0               4.0               5.0   \n",
       "3                 4.0               4.0               4.0               4.0   \n",
       "4                 4.0               3.0               3.0               2.0   \n",
       "..                ...               ...               ...               ...   \n",
       "433               4.0               4.0               4.0               4.0   \n",
       "434               5.0               5.0               5.0               5.0   \n",
       "435               4.0               5.0               5.0               5.0   \n",
       "436               4.0               4.0               4.0               4.0   \n",
       "437               4.0               4.0               3.0               4.0   \n",
       "\n",
       "     p_2_consc_item_5  p_2_consc_item_6  p_2_extr_item_1  p_2_extr_item_2  \\\n",
       "0                 2.0               2.0              1.0              1.0   \n",
       "1                 4.0               4.0              4.0              4.0   \n",
       "2                 4.0               5.0              4.0              4.0   \n",
       "3                 4.0               3.0              4.0              4.0   \n",
       "4                 2.0               3.0              3.0              3.0   \n",
       "..                ...               ...              ...              ...   \n",
       "433               4.0               4.0              1.0              1.0   \n",
       "434               4.0               4.0              2.0              3.0   \n",
       "435               5.0               4.0              4.0              5.0   \n",
       "436               4.0               4.0              5.0              4.0   \n",
       "437               5.0               5.0              2.0              2.0   \n",
       "\n",
       "     p_2_extr_item_3  p_2_extr_item_4  p_2_extr_item_5  p_2_extr_item_6  \\\n",
       "0                1.0              1.0              1.0              1.0   \n",
       "1                2.0              2.0              2.0              2.0   \n",
       "2                4.0              3.0              5.0              5.0   \n",
       "3                3.0              3.0              3.0              2.0   \n",
       "4                3.0              2.0              2.0              2.0   \n",
       "..               ...              ...              ...              ...   \n",
       "433              1.0              1.0              1.0              1.0   \n",
       "434              3.0              2.0              2.0              1.0   \n",
       "435              5.0              5.0              4.0              5.0   \n",
       "436              4.0              4.0              4.0              4.0   \n",
       "437              2.0              2.0              2.0              2.0   \n",
       "\n",
       "     p_2_agree_item_1  p_2_agree_item_2  p_2_agree_item_3  p_2_agree_item_4  \\\n",
       "0                 2.0               2.0               3.0               2.0   \n",
       "1                 4.0               4.0               2.0               2.0   \n",
       "2                 4.0               4.0               4.0               3.0   \n",
       "3                 4.0               4.0               4.0               5.0   \n",
       "4                 3.0               3.0               3.0               2.0   \n",
       "..                ...               ...               ...               ...   \n",
       "433               1.0               1.0               1.0               1.0   \n",
       "434               5.0               5.0               5.0               5.0   \n",
       "435               5.0               4.0               5.0               4.0   \n",
       "436               5.0               4.0               5.0               4.0   \n",
       "437               2.0               2.0               2.0               2.0   \n",
       "\n",
       "     p_2_agree_item_5  p_2_agree_item_6  p_2_neuro_item_1  p_2_neuro_item_2  \\\n",
       "0                 1.0               2.0               4.0               4.0   \n",
       "1                 2.0               2.0               4.0               4.0   \n",
       "2                 3.0               4.0               4.0               5.0   \n",
       "3                 4.0               4.0               4.0               4.0   \n",
       "4                 2.0               2.0               3.0               2.0   \n",
       "..                ...               ...               ...               ...   \n",
       "433               1.0               1.0               2.0               2.0   \n",
       "434               5.0               5.0               5.0               5.0   \n",
       "435               5.0               5.0               4.0               4.0   \n",
       "436               4.0               4.0               4.0               3.0   \n",
       "437               2.0               2.0               5.0               5.0   \n",
       "\n",
       "     p_2_neuro_item_3  p_2_neuro_item_4  p_2_neuro_item_5  p_2_neuro_item_6  \\\n",
       "0                 3.0               3.0               2.0               2.0   \n",
       "1                 4.0               4.0               4.0               4.0   \n",
       "2                 4.0               3.0               5.0               4.0   \n",
       "3                 4.0               4.0               4.0               3.0   \n",
       "4                 2.0               2.0               2.0               2.0   \n",
       "..                ...               ...               ...               ...   \n",
       "433               2.0               2.0               2.0               2.0   \n",
       "434               5.0               5.0               5.0               5.0   \n",
       "435               4.0               4.0               4.0               5.0   \n",
       "436               4.0               3.0               4.0               4.0   \n",
       "437               5.0               5.0               5.0               5.0   \n",
       "\n",
       "     p_3_openness_item_1  p_3_openness_item_2  p_3_openness_item_3  \\\n",
       "0                    2.0                  1.0                  2.0   \n",
       "1                    4.0                  4.0                  2.0   \n",
       "2                    4.0                  4.0                  4.0   \n",
       "3                    4.0                  4.0                  4.0   \n",
       "4                    3.0                  3.0                  2.0   \n",
       "..                   ...                  ...                  ...   \n",
       "433                  1.0                  1.0                  1.0   \n",
       "434                  4.0                  4.0                  5.0   \n",
       "435                  5.0                  4.0                  5.0   \n",
       "436                  4.0                  5.0                  5.0   \n",
       "437                  2.0                  2.0                  2.0   \n",
       "\n",
       "     p_3_openness_item_4  p_3_openness_item_5  p_3_openness_item_6  \\\n",
       "0                    2.0                  2.0                  1.0   \n",
       "1                    2.0                  2.0                  2.0   \n",
       "2                    4.0                  3.0                  4.0   \n",
       "3                    4.0                  4.0                  3.0   \n",
       "4                    2.0                  2.0                  2.0   \n",
       "..                   ...                  ...                  ...   \n",
       "433                  1.0                  1.0                  1.0   \n",
       "434                  5.0                  5.0                  5.0   \n",
       "435                  4.0                  5.0                  5.0   \n",
       "436                  5.0                  4.0                  5.0   \n",
       "437                  2.0                  2.0                  2.0   \n",
       "\n",
       "     p_3_consc_item_1  p_3_consc_item_2  p_3_consc_item_3  p_3_consc_item_4  \\\n",
       "0                 4.0               4.0               3.0               4.0   \n",
       "1                 4.0               4.0               4.0               4.0   \n",
       "2                 4.0               5.0               4.0               4.0   \n",
       "3                 5.0               5.0               5.0               5.0   \n",
       "4                 4.0               3.0               3.0               2.0   \n",
       "..                ...               ...               ...               ...   \n",
       "433               4.0               4.0               4.0               4.0   \n",
       "434               5.0               5.0               5.0               5.0   \n",
       "435               5.0               5.0               4.0               4.0   \n",
       "436               5.0               5.0               4.0               5.0   \n",
       "437               5.0               5.0               4.0               5.0   \n",
       "\n",
       "     p_3_consc_item_5  p_3_consc_item_6  p_3_extr_item_1  p_3_extr_item_2  \\\n",
       "0                 2.0               2.0              1.0              1.0   \n",
       "1                 4.0               4.0              4.0              2.0   \n",
       "2                 5.0               3.0              4.0              4.0   \n",
       "3                 5.0               4.0              4.0              4.0   \n",
       "4                 2.0               3.0              4.0              4.0   \n",
       "..                ...               ...              ...              ...   \n",
       "433               4.0               4.0              2.0              2.0   \n",
       "434               5.0               5.0              1.0              1.0   \n",
       "435               4.0               4.0              5.0              4.0   \n",
       "436               5.0               5.0              4.0              4.0   \n",
       "437               5.0               5.0              4.0              4.0   \n",
       "\n",
       "     p_3_extr_item_3  p_3_extr_item_4  p_3_extr_item_5  p_3_extr_item_6  \\\n",
       "0                1.0              1.0              1.0              1.0   \n",
       "1                2.0              2.0              2.0              2.0   \n",
       "2                4.0              4.0              4.0              3.0   \n",
       "3                4.0              4.0              4.0              3.0   \n",
       "4                3.0              3.0              3.0              3.0   \n",
       "..               ...              ...              ...              ...   \n",
       "433              2.0              2.0              2.0              2.0   \n",
       "434              1.0              1.0              1.0              2.0   \n",
       "435              5.0              5.0              5.0              5.0   \n",
       "436              4.0              4.0              4.0              4.0   \n",
       "437              3.0              4.0              4.0              4.0   \n",
       "\n",
       "     p_3_agree_item_1  p_3_agree_item_2  p_3_agree_item_3  p_3_agree_item_4  \\\n",
       "0                 2.0               2.0               2.0               2.0   \n",
       "1                 4.0               4.0               2.0               4.0   \n",
       "2                 4.0               4.0               4.0               4.0   \n",
       "3                 4.0               4.0               4.0               4.0   \n",
       "4                 4.0               4.0               3.0               3.0   \n",
       "..                ...               ...               ...               ...   \n",
       "433               1.0               1.0               1.0               1.0   \n",
       "434               5.0               4.0               5.0               5.0   \n",
       "435               5.0               3.0               4.0               5.0   \n",
       "436               4.0               4.0               4.0               4.0   \n",
       "437               3.0               3.0               3.0               3.0   \n",
       "\n",
       "     p_3_agree_item_5  p_3_agree_item_6  p_3_agree_att_check  \\\n",
       "0                 2.0               2.0                  2.0   \n",
       "1                 2.0               2.0                  2.0   \n",
       "2                 5.0               4.0                  2.0   \n",
       "3                 4.0               3.0                  2.0   \n",
       "4                 2.0               2.0                  2.0   \n",
       "..                ...               ...                  ...   \n",
       "433               1.0               1.0                  2.0   \n",
       "434               5.0               5.0                  2.0   \n",
       "435               5.0               5.0                  2.0   \n",
       "436               4.0               5.0                  2.0   \n",
       "437               3.0               3.0                  2.0   \n",
       "\n",
       "     p_3_neuro_item_1  p_3_neuro_item_2  p_3_neuro_item_3  p_3_neuro_item_4  \\\n",
       "0                 4.0               4.0               3.0               4.0   \n",
       "1                 4.0               4.0               4.0               4.0   \n",
       "2                 4.0               4.0               4.0               5.0   \n",
       "3                 4.0               4.0               4.0               4.0   \n",
       "4                 4.0               4.0               3.0               2.0   \n",
       "..                ...               ...               ...               ...   \n",
       "433               5.0               5.0               5.0               5.0   \n",
       "434               4.0               4.0               5.0               4.0   \n",
       "435               5.0               5.0               5.0               4.0   \n",
       "436               5.0               5.0               5.0               5.0   \n",
       "437               5.0               5.0               4.0               5.0   \n",
       "\n",
       "     p_3_neuro_item_5  p_3_neuro_item_6  post_shop_survey_q_1  \\\n",
       "0                 3.0               2.0                   2.0   \n",
       "1                 4.0               4.0                   4.0   \n",
       "2                 4.0               4.0                   4.0   \n",
       "3                 4.0               4.0                   4.0   \n",
       "4                 3.0               3.0                   2.0   \n",
       "..                ...               ...                   ...   \n",
       "433               5.0               5.0                   2.0   \n",
       "434               4.0               5.0                   4.0   \n",
       "435               4.0               5.0                   4.0   \n",
       "436               4.0               5.0                   5.0   \n",
       "437               5.0               5.0                   4.0   \n",
       "\n",
       "     post_shop_survey_q_2  post_shop_survey_q_3  post_shop_survey_q_4_1  \\\n",
       "0                     3.0                   4.0                     1.0   \n",
       "1                     3.0                   5.0                     1.0   \n",
       "2                     3.0                   4.0                     1.0   \n",
       "3                     3.0                   4.0                     1.0   \n",
       "4                     2.0                   2.0                     1.0   \n",
       "..                    ...                   ...                     ...   \n",
       "433                   2.0                   2.0                     NaN   \n",
       "434                   4.0                   5.0                     NaN   \n",
       "435                   3.0                   4.0                     1.0   \n",
       "436                   5.0                   5.0                     NaN   \n",
       "437                   4.0                   1.0                     NaN   \n",
       "\n",
       "     post_shop_survey_q_4_2  post_shop_survey_q_4_3  post_shop_survey_q_4_4  \\\n",
       "0                       NaN                     NaN                     1.0   \n",
       "1                       NaN                     1.0                     1.0   \n",
       "2                       NaN                     1.0                     1.0   \n",
       "3                       NaN                     1.0                     1.0   \n",
       "4                       NaN                     1.0                     NaN   \n",
       "..                      ...                     ...                     ...   \n",
       "433                     NaN                     1.0                     NaN   \n",
       "434                     NaN                     NaN                     NaN   \n",
       "435                     1.0                     NaN                     NaN   \n",
       "436                     1.0                     NaN                     1.0   \n",
       "437                     NaN                     1.0                     NaN   \n",
       "\n",
       "     post_shop_survey_q_4_5  post_shop_survey_q_4_6  \\\n",
       "0                       NaN                     1.0   \n",
       "1                       NaN                     NaN   \n",
       "2                       1.0                     NaN   \n",
       "3                       1.0                     NaN   \n",
       "4                       NaN                     NaN   \n",
       "..                      ...                     ...   \n",
       "433                     NaN                     NaN   \n",
       "434                     NaN                     1.0   \n",
       "435                     NaN                     NaN   \n",
       "436                     NaN                     NaN   \n",
       "437                     NaN                     NaN   \n",
       "\n",
       "                           post_shop_survey_q_4_6_TEXT  post_shop_q1  \\\n",
       "0                                        Practicality            2.0   \n",
       "1                                                  NaN           3.0   \n",
       "2                                                  NaN           4.0   \n",
       "3                                                  NaN           3.0   \n",
       "4                                                  NaN           3.0   \n",
       "..                                                 ...           ...   \n",
       "433                                                NaN           4.0   \n",
       "434  transparency of functions, materials it was cr...           2.0   \n",
       "435                                                NaN           4.0   \n",
       "436                                                NaN           5.0   \n",
       "437                                                NaN           4.0   \n",
       "\n",
       "     post_shop_q2  seriousness_check  Q_TotalDuration  DeviceIdentifier  \\\n",
       "0             5.0                2.0              595               NaN   \n",
       "1             3.0                2.0              896               NaN   \n",
       "2             3.0                2.0              632               NaN   \n",
       "3             3.0                2.0              934               NaN   \n",
       "4             3.0                2.0             1000               NaN   \n",
       "..            ...                ...              ...               ...   \n",
       "433           5.0                2.0              454               NaN   \n",
       "434           3.0                2.0             1015               NaN   \n",
       "435           3.0                2.0             1972               NaN   \n",
       "436           5.0                2.0             2117               NaN   \n",
       "437           4.0                2.0             1481               NaN   \n",
       "\n",
       "             source                                          UserAgent  \\\n",
       "0    prolific_final  Mozilla/5.0 (Linux; Android 10; K) AppleWebKit...   \n",
       "1    prolific_final  Mozilla/5.0 (Windows NT 10.0; Win64; x64; rv:1...   \n",
       "2    prolific_final  Mozilla/5.0 (Windows NT 10.0; Win64; x64) Appl...   \n",
       "3    prolific_final  Mozilla/5.0 (iPhone; CPU iPhone OS 18_1_1 like...   \n",
       "4    prolific_final  Mozilla/5.0 (Linux; Android 10; K) AppleWebKit...   \n",
       "..              ...                                                ...   \n",
       "433  prolific_final  Mozilla/5.0 (Windows NT 10.0; Win64; x64) Appl...   \n",
       "434  prolific_final  Mozilla/5.0 (Windows NT 10.0; Win64; x64) Appl...   \n",
       "435  prolific_final  Mozilla/5.0 (Windows NT 10.0; Win64; x64; rv:1...   \n",
       "436  prolific_final  Mozilla/5.0 (Windows NT 10.0; Win64; x64; rv:1...   \n",
       "437  prolific_final  Mozilla/5.0 (Windows NT 10.0; Win64; x64; rv:1...   \n",
       "\n",
       "                 PROLIFIC_PID                  STUDY_ID  \\\n",
       "0    60196ee67d099006f74c5bb3  675867a866926f4f99073407   \n",
       "1    664e46d7a85eca66b546f596  675867a866926f4f99073407   \n",
       "2    665acb8be8d04df6693caf4a  675867a866926f4f99073407   \n",
       "3    611171b294ac05e4a3ff358b  675867a866926f4f99073407   \n",
       "4    66a8e4f1997807db5221e94f  675867a866926f4f99073407   \n",
       "..                        ...                       ...   \n",
       "433  60df7dd7029cff41ea8eed9b  675867a866926f4f99073407   \n",
       "434  666559e634fffd1ce19ba654  675867a866926f4f99073407   \n",
       "435  66d620579e7ea624a7a63e19  675867a866926f4f99073407   \n",
       "436  671829a403af514aabbac001  675867a866926f4f99073407   \n",
       "437  66da38dc1d5b9365584508ca  675867a866926f4f99073407   \n",
       "\n",
       "                   SESSION_ID  EarlyExit  CompleteExit  Duration  \\\n",
       "0    67597d8c55c8dde7afa6c10a        NaN           1.0     596.0   \n",
       "1    67597c65bfabd14e9d7328e3        NaN           1.0     897.0   \n",
       "2    67597e2038e326389e732951        NaN           1.0     632.0   \n",
       "3    67597cfac04d321c32f5190e        NaN           1.0     935.0   \n",
       "4    67597cd1d68ff59c993155aa        NaN           1.0    1001.0   \n",
       "..                        ...        ...           ...       ...   \n",
       "433  675b55142275e60fc5450be7        NaN           1.0     455.0   \n",
       "434  675b551ba440a027141b577c        NaN           1.0    1016.0   \n",
       "435  675b55510fa0335725e0ac1d        NaN           1.0    1973.0   \n",
       "436  675b55bdfea5c9e3054828e0        NaN           1.0    2117.0   \n",
       "437  675b5d3e48c497c89e6db6e9        NaN           1.0    1482.0   \n",
       "\n",
       "     extraversion_score  agreeableness_score  conscientiousness_score  \\\n",
       "0                  1.75                 3.25                     2.50   \n",
       "1                  2.50                 4.75                     3.75   \n",
       "2                  3.50                 3.25                     2.75   \n",
       "3                  2.25                 4.25                     3.25   \n",
       "4                  4.25                 4.00                     2.50   \n",
       "..                  ...                  ...                      ...   \n",
       "433                1.75                 2.00                     4.00   \n",
       "434                3.25                 5.00                     2.50   \n",
       "435                2.50                 3.25                     3.25   \n",
       "436                3.25                 4.25                     4.50   \n",
       "437                2.50                 3.50                     3.50   \n",
       "\n",
       "     neuroticism_score  openness_score  \n",
       "0                 2.75            4.50  \n",
       "1                 3.00            3.50  \n",
       "2                 2.75            2.25  \n",
       "3                 3.25            5.00  \n",
       "4                 3.75            3.75  \n",
       "..                 ...             ...  \n",
       "433               2.50            4.75  \n",
       "434               4.75            3.25  \n",
       "435               2.50            4.00  \n",
       "436               1.75            4.50  \n",
       "437               4.25            3.00  \n",
       "\n",
       "[373 rows x 199 columns]"
      ]
     },
     "execution_count": 36,
     "metadata": {},
     "output_type": "execute_result"
    }
   ],
   "source": [
    "def calculate_mini_ipip_scores(dataframe):\n",
    "    traits = {\n",
    "        \"extraversion\": [\"pq_1\", \"pq_6_reverse_score\", \"pq_11\", \"pq_16_reverse_score\"],\n",
    "        \"agreeableness\": [\"pq_2\", \"pq_7_reverse_score\", \"pq_12\", \"pq_17_reverse_score\"],\n",
    "        \"conscientiousness\": [\"pq_3\", \"pq_8_reverse_score\", \"pq_13\", \"pq_18_reverse_score\"],\n",
    "        \"neuroticism\": [\"pq_4\", \"pq_9_reverse_score\", \"pq_14\", \"pq_19_reverse_score\"],\n",
    "        \"openness\": [\"pq_5\", \"pq_10_reverse_score\", \"pq_15_reverse_score\", \"pq_20_reverse_score\"]\n",
    "    }\n",
    "\n",
    "    # Create a copy to avoid modifying the original dataframe\n",
    "    df = dataframe.copy()\n",
    "\n",
    "    # Reverse scoring logic: Apply 6 - response for specific items\n",
    "    for trait, questions in traits.items():\n",
    "        for q in questions:\n",
    "            if \"reverse_score\" in q:\n",
    "                df[q] = 6 - df[q]\n",
    "\n",
    "    # Calculate the mean score for each trait (1-5 scale)\n",
    "    for trait, questions in traits.items():\n",
    "        # Validate responses are within 1-5 range\n",
    "        for q in questions:\n",
    "            if not df[q].between(1, 5).all():\n",
    "                print(f\"Warning: Found values outside 1-5 range in {q}\")\n",
    "                df.loc[~df[q].between(1, 5), q] = np.nan\n",
    "        \n",
    "        # Calculate mean score\n",
    "        df[f\"{trait}_score\"] = df[questions].mean(axis=1)\n",
    "\n",
    "    return df\n",
    "\n",
    "def drop_invalid_trait_scores(df):\n",
    "    \"\"\"\n",
    "    Drop incorrectly calculated trait score columns from the dataset. \n",
    "    These scores were miscalculated in Qualtrics!\n",
    "\n",
    "    Args:\n",
    "    - df (pd.DataFrame): DataFrame with calculated trait scores.\n",
    "\n",
    "    Returns:\n",
    "    - pd.DataFrame: DataFrame without the specified trait score columns.\n",
    "    \"\"\"\n",
    "    columns_to_drop = [\n",
    "        \"intellectImagination_score\",\n",
    "        \"extraversion_score\",\n",
    "        \"agreeableness_score\",\n",
    "        \"conscientiousness_score\",\n",
    "        \"neuroticism_score\"\n",
    "    ]\n",
    "\n",
    "    df = df.drop(columns=columns_to_drop, errors='ignore')\n",
    "    return df\n",
    "\n",
    "def validate_scores(df):\n",
    "    \"\"\"\n",
    "    Validate the calculated scores.\n",
    "    \n",
    "    Args:\n",
    "    - df (pd.DataFrame): DataFrame with calculated scores\n",
    "    \n",
    "    Returns:\n",
    "    - bool: True if all validations pass\n",
    "    \"\"\"\n",
    "    traits = [\"extraversion\", \"agreeableness\", \"conscientiousness\", \n",
    "              \"neuroticism\", \"openness\"]\n",
    "    \n",
    "    valid = True\n",
    "    for trait in traits:\n",
    "        score_col = f\"{trait}_score\"\n",
    "        if not df[score_col].between(1, 5).all():\n",
    "            print(f\"Error: {trait} scores outside valid range (1-5)\")\n",
    "            valid = False\n",
    "        \n",
    "        if df[score_col].isna().any():\n",
    "            print(f\"Warning: Found missing values in {trait} scores\")\n",
    "            valid = False\n",
    "    \n",
    "    return valid\n",
    "\n",
    "#drop old invalid big5s scores\n",
    "df_without_personality_scores = drop_invalid_trait_scores(df_filtered_by_failed_checks)\n",
    "\n",
    "#calcualate new scores\n",
    "df_with_personality_scores = calculate_mini_ipip_scores(df_without_personality_scores)\n",
    "\n",
    "#validate scores\n",
    "if not validate_scores(df_with_personality_scores):\n",
    "    raise ValueError(\"Score validation failed! Please check the input data for inconsistencies.\")\n",
    "\n",
    "df_with_personality_scores"
   ]
  },
  {
   "cell_type": "markdown",
   "id": "76c3ce08-045d-4645-ad09-a21575e9c294",
   "metadata": {},
   "source": [
    "<h1>Evaluate Internal Consistency of Mini-IPIP Responses Using Cronbach's Alpha</h1>"
   ]
  },
  {
   "cell_type": "code",
   "execution_count": 37,
   "id": "f4d751c7-46bf-4241-a3bf-a4e0c234c653",
   "metadata": {},
   "outputs": [
    {
     "name": "stdout",
     "output_type": "stream",
     "text": [
      "Cronbach's alpha for Extraversion: 0.834\n",
      "Cronbach's alpha for Agreeableness: 0.768\n",
      "Cronbach's alpha for Conscientiousness: 0.751\n",
      "Cronbach's alpha for Neuroticism: 0.798\n",
      "Cronbach's alpha for Openness: 0.776\n"
     ]
    }
   ],
   "source": [
    "def calculate_mini_ipip_cronbach_alphas(df):\n",
    "    \"\"\"\n",
    "    Calculate Cronbach's alpha for multiple traits.\n",
    "\n",
    "    Args:\n",
    "    - df: DataFrame containing Mini-IPIP raw item scores.\n",
    "\n",
    "    Returns:\n",
    "    - dict: A dictionary with trait names as keys and their Cronbach's alpha values as values.\n",
    "    \"\"\"\n",
    "    alphas = {}\n",
    "    \n",
    "    trait_items = {\n",
    "        \"Extraversion\": ['pq_1', 'pq_6_reverse_score', 'pq_11', 'pq_16_reverse_score'],\n",
    "        \"Agreeableness\": ['pq_2', 'pq_7_reverse_score', 'pq_12', 'pq_17_reverse_score'],\n",
    "        \"Conscientiousness\": ['pq_3', 'pq_8_reverse_score', 'pq_13', 'pq_18_reverse_score'],\n",
    "        \"Neuroticism\": ['pq_4', 'pq_9_reverse_score', 'pq_14', 'pq_19_reverse_score'],\n",
    "        \"Openness\": ['pq_5', 'pq_10_reverse_score', 'pq_15_reverse_score', 'pq_20_reverse_score']\n",
    "    }\n",
    "\n",
    "    for trait, item_columns in trait_items.items():\n",
    "        # Subset the DataFrame to include only the columns of interest\n",
    "        subset = df[item_columns]\n",
    "        \n",
    "        # Calculate Cronbach's alpha using pingouin\n",
    "        alpha = pg.cronbach_alpha(data=subset)\n",
    "        \n",
    "        # Store the alpha value in the dictionary\n",
    "        alphas[trait] = alpha[0]\n",
    "\n",
    "    return alphas\n",
    "\n",
    "# Calculate Cronbach's alpha for all traits\n",
    "alphas = calculate_mini_ipip_cronbach_alphas(df_with_personality_scores)\n",
    "\n",
    "# Print the results\n",
    "for trait, alpha in alphas.items():\n",
    "    print(f\"Cronbach's alpha for {trait}: {alpha:.3f}\")\n"
   ]
  },
  {
   "cell_type": "code",
   "execution_count": 38,
   "id": "6dbf0cf5-0775-426f-bbad-fafad7ab2a49",
   "metadata": {},
   "outputs": [
    {
     "name": "stdout",
     "output_type": "stream",
     "text": [
      "Cronbach's alpha for Extraversion: 0.834\n",
      "Cronbach's alpha for Agreeableness: 0.768\n",
      "Cronbach's alpha for Conscientiousness: 0.751\n",
      "Cronbach's alpha for Neuroticism: 0.798\n",
      "Cronbach's alpha for Openness: 0.776\n"
     ]
    }
   ],
   "source": [
    "def calculate_mini_ipip_cronbach_alphas(df):\n",
    "    alphas = {}\n",
    "    \n",
    "    trait_items = {\n",
    "        \"Extraversion\": ['pq_1', 'pq_6_reverse_score', 'pq_11', 'pq_16_reverse_score'],\n",
    "        \"Agreeableness\": ['pq_2', 'pq_7_reverse_score', 'pq_12', 'pq_17_reverse_score'],\n",
    "        \"Conscientiousness\": ['pq_3', 'pq_8_reverse_score', 'pq_13', 'pq_18_reverse_score'],\n",
    "        \"Neuroticism\": ['pq_4', 'pq_9_reverse_score', 'pq_14', 'pq_19_reverse_score'],\n",
    "        \"Openness\": ['pq_5', 'pq_10_reverse_score', 'pq_15_reverse_score', 'pq_20_reverse_score']\n",
    "    }\n",
    "\n",
    "    for trait, item_columns in trait_items.items():\n",
    "        # Subset the DataFrame to include only the columns of interest\n",
    "        subset = df[item_columns]\n",
    "        \n",
    "        # Calculate Cronbach's alpha\n",
    "        alpha = pg.cronbach_alpha(data=subset)\n",
    "        \n",
    "        # Store the alpha value\n",
    "        alphas[trait] = alpha[0]\n",
    "\n",
    "    return alphas\n",
    "\n",
    "# Calculate Cronbach's alpha for all traits\n",
    "alphas = calculate_mini_ipip_cronbach_alphas(df_with_personality_scores)\n",
    "\n",
    "for trait, alpha in alphas.items():\n",
    "    print(f\"Cronbach's alpha for {trait}: {alpha:.3f}\")"
   ]
  },
  {
   "cell_type": "markdown",
   "id": "b9df156a-aad2-4229-9fd2-ea2a67753384",
   "metadata": {},
   "source": [
    "<h1>Evaluate Internal Consistency of Six 5-Point Likert Scale Items on Advertisement Effectiveness Using Cronbach's Alpha</h1>"
   ]
  },
  {
   "cell_type": "code",
   "execution_count": 39,
   "id": "b1a1091a-1663-4a89-a5df-b11a7174530e",
   "metadata": {},
   "outputs": [
    {
     "name": "stdout",
     "output_type": "stream",
     "text": [
      "Cronbach's Alpha for Product 1 - Openness: 0.967\n",
      "Cronbach's Alpha for Product 1 - Conscientiousness: 0.940\n",
      "Cronbach's Alpha for Product 1 - Extraversion: 0.967\n",
      "Cronbach's Alpha for Product 1 - Agreeableness: 0.963\n",
      "Cronbach's Alpha for Product 1 - Neuroticism: 0.936\n",
      "Cronbach's Alpha for Product 2 - Openness: 0.968\n",
      "Cronbach's Alpha for Product 2 - Conscientiousness: 0.952\n",
      "Cronbach's Alpha for Product 2 - Extraversion: 0.971\n",
      "Cronbach's Alpha for Product 2 - Agreeableness: 0.963\n",
      "Cronbach's Alpha for Product 2 - Neuroticism: 0.943\n",
      "Cronbach's Alpha for Product 3 - Openness: 0.963\n",
      "Cronbach's Alpha for Product 3 - Conscientiousness: 0.949\n",
      "Cronbach's Alpha for Product 3 - Extraversion: 0.968\n",
      "Cronbach's Alpha for Product 3 - Agreeableness: 0.956\n",
      "Cronbach's Alpha for Product 3 - Neuroticism: 0.942\n"
     ]
    }
   ],
   "source": [
    "def calculate_aes_cronbach_alphas(df):\n",
    "    alphas = {}    \n",
    "\n",
    "    trait_items = {\n",
    "        \"Product 1 - Openness\": ['p_1_openness_item_1', 'p_1_openness_item_2', 'p_1_openness_item_3', 'p_1_openness_item_4', 'p_1_openness_item_5', 'p_1_openness_item_6'],\n",
    "        \"Product 1 - Conscientiousness\": ['p_1_consc_item_1', 'p_1_consc_item_2', 'p_1_consc_item_3', 'p_1_consc_item_4', 'p_1_consc_item_5', 'p_1_consc_item_6'],\n",
    "        \"Product 1 - Extraversion\": ['p_1_extr_item_1', 'p_1_extr_item_2', 'p_1_extr_item_3', 'p_1_extr_item_4', 'p_1_extr_item_5', 'p_1_extr_item_6'],\n",
    "        \"Product 1 - Agreeableness\": ['p_1_agree_item_1', 'p_1_agree_item_2', 'p_1_agree_item_3', 'p_1_agree_item_4', 'p_1_agree_item_5', 'p_1_agree_item_6'],\n",
    "        \"Product 1 - Neuroticism\": ['p_1_neuro_item_1', 'p_1_neuro_item_2', 'p_1_neuro_item_3', 'p_1_neuro_item_4', 'p_1_neuro_item_5', 'p_1_neuro_item_6'],\n",
    "        \n",
    "        \"Product 2 - Openness\": ['p_2_openness_item_1', 'p_2_openness_item_2', 'p_2_openness_item_3', 'p_2_openness_item_4', 'p_2_openness_item_5', 'p_2_openness_item_6'],\n",
    "        \"Product 2 - Conscientiousness\": ['p_2_consc_item_1', 'p_2_consc_item_2', 'p_2_consc_item_3', 'p_2_consc_item_4', 'p_2_consc_item_5', 'p_2_consc_item_6'],\n",
    "        \"Product 2 - Extraversion\": ['p_2_extr_item_1', 'p_2_extr_item_2', 'p_2_extr_item_3', 'p_2_extr_item_4', 'p_2_extr_item_5', 'p_2_extr_item_6'],\n",
    "        \"Product 2 - Agreeableness\": ['p_2_agree_item_1', 'p_2_agree_item_2', 'p_2_agree_item_3', 'p_2_agree_item_4', 'p_2_agree_item_5', 'p_2_agree_item_6'],\n",
    "        \"Product 2 - Neuroticism\": ['p_2_neuro_item_1', 'p_2_neuro_item_2', 'p_2_neuro_item_3', 'p_2_neuro_item_4', 'p_2_neuro_item_5', 'p_2_neuro_item_6'],\n",
    "        \n",
    "        \"Product 3 - Openness\": ['p_3_openness_item_1', 'p_3_openness_item_2', 'p_3_openness_item_3', 'p_3_openness_item_4', 'p_3_openness_item_5', 'p_3_openness_item_6'],\n",
    "        \"Product 3 - Conscientiousness\": ['p_3_consc_item_1', 'p_3_consc_item_2', 'p_3_consc_item_3', 'p_3_consc_item_4', 'p_3_consc_item_5', 'p_3_consc_item_6'],\n",
    "        \"Product 3 - Extraversion\": ['p_3_extr_item_1', 'p_3_extr_item_2', 'p_3_extr_item_3', 'p_3_extr_item_4', 'p_3_extr_item_5', 'p_3_extr_item_6'],\n",
    "        \"Product 3 - Agreeableness\": ['p_3_agree_item_1', 'p_3_agree_item_2', 'p_3_agree_item_3', 'p_3_agree_item_4', 'p_3_agree_item_5', 'p_3_agree_item_6'],\n",
    "        \"Product 3 - Neuroticism\": ['p_3_neuro_item_1', 'p_3_neuro_item_2', 'p_3_neuro_item_3', 'p_3_neuro_item_4', 'p_3_neuro_item_5', 'p_3_neuro_item_6'],\n",
    "    }\n",
    "\n",
    "    for trait, item_columns in trait_items.items():\n",
    "        # Subset the DataFrame to include only the columns of interest\n",
    "        subset = df[item_columns]\n",
    "        \n",
    "        # Check if all required columns are in the DataFrame\n",
    "        if not all(col in df.columns for col in item_columns):\n",
    "            raise(\"ALERT!!!\")\n",
    "            alphas[trait] = None  # Assign None if any column is missing\n",
    "            continue\n",
    "\n",
    "        # Calculate Cronbach's alpha using pingouin\n",
    "        alpha = pg.cronbach_alpha(data=subset)\n",
    "        \n",
    "        # Store the alpha value in the dictionary\n",
    "        alphas[trait] = alpha[0]\n",
    "\n",
    "    return alphas\n",
    "\n",
    "\n",
    "alphas = calculate_aes_cronbach_alphas(df_with_personality_scores)\n",
    "\n",
    "for product, alpha in alphas.items():\n",
    "    if alpha is not None:\n",
    "        print(f\"Cronbach's Alpha for {product}: {alpha:.3f}\")\n",
    "    else:\n",
    "        print(f\"Cronbach's Alpha for {product}: Data missing\")\n"
   ]
  },
  {
   "cell_type": "markdown",
   "id": "5364e854-96e0-4163-bdf0-ecf570e8f408",
   "metadata": {},
   "source": [
    "<h1>Aggregate Advertisement Effectiveness Scores (AES) Responses to Derive Dependent Variables: AES by Trait and Product</h1>"
   ]
  },
  {
   "cell_type": "code",
   "execution_count": 40,
   "id": "c10d1faf-548c-4bc8-bc3d-0c76186f6402",
   "metadata": {
    "scrolled": true
   },
   "outputs": [],
   "source": [
    "from sklearn.linear_model import LinearRegression\n",
    "import numpy as np\n",
    "\n",
    "def calculate_raw_and_residualized_aes(dataframe):\n",
    "    \"\"\"\n",
    "    Calculate both raw and residualized Advertisement Effectiveness Scores (AES) for each product and trait.\n",
    "\n",
    "    Args:\n",
    "    - dataframe (pd.DataFrame): The dataset containing item-level responses.\n",
    "\n",
    "    Returns:\n",
    "    - pd.DataFrame: The dataset with added columns for raw and residualized AES for each product and trait.\n",
    "    \"\"\"\n",
    "    product_numbers = [1, 2, 3]\n",
    "    traits = {\n",
    "        \"openness\": \"openness\",\n",
    "        \"conscientiousness\": \"consc\",\n",
    "        \"extraversion\": \"extr\",\n",
    "        \"agreeableness\": \"agree\",\n",
    "        \"neuroticism\": \"neuro\"\n",
    "    }\n",
    "\n",
    "    for product_num in product_numbers:\n",
    "        # Dictionary to store raw AES columns for each trait for the current product\n",
    "        raw_aes_columns = {}\n",
    "\n",
    "        # Step 1: Calculate Raw AES\n",
    "        for trait_name, trait_prefix in traits.items():\n",
    "            # Find all relevant item columns for this product and trait\n",
    "            target_columns = [\n",
    "                col for col in dataframe.columns\n",
    "                if col.startswith(f\"p_{product_num}_{trait_prefix}_item_\")\n",
    "            ]\n",
    "            \n",
    "            if target_columns:\n",
    "                # Calculate raw AES as the mean of relevant columns\n",
    "                dataframe[f\"raw_aes_{product_num}_{trait_name}\"] = dataframe[target_columns].mean(axis=1, skipna=True)\n",
    "                raw_aes_columns[trait_name] = dataframe[f\"raw_aes_{product_num}_{trait_name}\"]\n",
    "            else:\n",
    "                print(f\"No valid columns found for product {product_num}, trait {trait_name}!\")\n",
    "\n",
    "        # Step 2: Calculate Residualized AES\n",
    "        for target_trait, raw_aes_target in raw_aes_columns.items():\n",
    "            # Use raw AES scores of other traits as predictors\n",
    "            predictors = [\n",
    "                raw_aes_columns[other_trait]\n",
    "                for other_trait in traits.keys()\n",
    "                if other_trait != target_trait and other_trait in raw_aes_columns\n",
    "            ]\n",
    "\n",
    "            if predictors:\n",
    "                # Stack predictors into a matrix\n",
    "                predictors_matrix = np.column_stack(predictors)\n",
    "                \n",
    "                # Perform regression to calculate residuals\n",
    "                regression_model = LinearRegression()\n",
    "                regression_model.fit(predictors_matrix, raw_aes_target)\n",
    "                residuals = raw_aes_target - regression_model.predict(predictors_matrix)\n",
    "                \n",
    "                # Save residualized AES\n",
    "                dataframe[f\"aes_{product_num}_{target_trait}\"] = residuals\n",
    "            else:\n",
    "                # If no predictors are available, retain raw AES\n",
    "                dataframe[f\"aes_{product_num}_{target_trait}\"] = raw_aes_target\n",
    "                print(f\"Could not residualize AES for product {product_num}, trait {target_trait} due to missing predictors.\")\n",
    "\n",
    "    return dataframe\n",
    "\n",
    "df_aes_with_aes_residualized = calculate_raw_and_residualized_aes(df_with_personality_scores)\n",
    "\n",
    "\n",
    "# #store the dataset into a new csv file that we can use to construct synthetic twins\n",
    "# df_aes_with_aes_residualized.to_csv('../data/filtered_real_participants_dataset.csv')\n"
   ]
  },
  {
   "cell_type": "markdown",
   "id": "b6dc7288-b13a-4355-92ef-e525d632bb83",
   "metadata": {},
   "source": [
    "<h1>Scatter Plot with Fitted Regresion Line</h1>"
   ]
  },
  {
   "cell_type": "code",
   "execution_count": 41,
   "id": "0ecf2564-a2cb-4b12-ac92-f64cb94688fb",
   "metadata": {},
   "outputs": [],
   "source": [
    "import numpy as np\n",
    "from scipy.stats import linregress, t\n",
    "from sklearn.linear_model import LinearRegression\n",
    "import plotly.graph_objects as go\n",
    "from plotly.subplots import make_subplots\n",
    "\n",
    "def create_scatter_plots_with_fit(df, aes_cols, traits_cols, confidence=0.95):\n",
    "    \"\"\"\n",
    "    Generates scatter plots with regression lines and 95% confidence intervals.\n",
    "    Adds p-value from linear regression to the plot title.\n",
    "    \"\"\"\n",
    "    plots = {}\n",
    "\n",
    "    for aes_col in aes_cols:\n",
    "        trait = aes_col.split('_')[-1]\n",
    "        trait_col = f\"{trait}_score\"\n",
    "\n",
    "        if trait_col not in traits_cols:\n",
    "            continue\n",
    "\n",
    "        # Prepare data\n",
    "        data = df[[trait_col, aes_col]].dropna()\n",
    "        x = data[trait_col].values\n",
    "        y = data[aes_col].values\n",
    "        x_reshaped = x.reshape(-1, 1)\n",
    "\n",
    "        # Fit regression (for plotting and CI)\n",
    "        lin_model = LinearRegression().fit(x_reshaped, y)\n",
    "        y_pred = lin_model.predict(x_reshaped)\n",
    "\n",
    "        # Get slope, intercept, p-value using linregress\n",
    "        slope, intercept, r_value, p_value, std_err = linregress(x, y)\n",
    "\n",
    "        # Confidence interval\n",
    "        n = len(x)\n",
    "        mean_x = np.mean(x)\n",
    "        t_val = t.ppf((1 + confidence) / 2., df=n - 2)\n",
    "        residuals = y - y_pred\n",
    "        se = np.sqrt(np.sum(residuals ** 2) / (n - 2))\n",
    "        se_line = se * np.sqrt(1/n + ((x - mean_x)**2 / np.sum((x - mean_x)**2)))\n",
    "        ci_upper = y_pred + t_val * se_line\n",
    "        ci_lower = y_pred - t_val * se_line\n",
    "\n",
    "        # Sort for plotting\n",
    "        sorted_idx = np.argsort(x)\n",
    "        x_sorted = x[sorted_idx]\n",
    "        y_sorted = y_pred[sorted_idx]\n",
    "        ci_upper_sorted = ci_upper[sorted_idx]\n",
    "        ci_lower_sorted = ci_lower[sorted_idx]\n",
    "\n",
    "        # Plot\n",
    "        fig = go.Figure()\n",
    "\n",
    "        # Scatter\n",
    "        fig.add_trace(go.Scatter(\n",
    "            x=x, y=y,\n",
    "            mode='markers',\n",
    "            name='Participants',\n",
    "            marker=dict(color='black', opacity=0.6)\n",
    "        ))\n",
    "\n",
    "        # Regression line\n",
    "        fig.add_trace(go.Scatter(\n",
    "            x=x_sorted,\n",
    "            y=y_sorted,\n",
    "            mode='lines',\n",
    "            name='Regression Line',\n",
    "            line=dict(color='blue')\n",
    "        ))\n",
    "\n",
    "        # Confidence interval\n",
    "        fig.add_trace(go.Scatter(\n",
    "            x=np.concatenate([x_sorted, x_sorted[::-1]]),\n",
    "            y=np.concatenate([ci_upper_sorted, ci_lower_sorted[::-1]]),\n",
    "            fill='toself',\n",
    "            fillcolor='rgba(0,100,255,0.2)',\n",
    "            line=dict(color='rgba(255,255,255,0)'),\n",
    "            hoverinfo=\"skip\",\n",
    "            showlegend=True,\n",
    "            name=f'{int(confidence*100)}% CI'\n",
    "        ))\n",
    "\n",
    "        # Format p-value\n",
    "        p_text = f\"(p = {p_value:.4f})\" if p_value >= 0.0001 else \"(p < 0.0001)\"\n",
    "\n",
    "        # Layout\n",
    "        fig.update_layout(\n",
    "            title=f\"How {trait.capitalize()} Influences Ratings of {trait.capitalize()}-Matched Ads {p_text}\",\n",
    "            xaxis_title=f\"Participant's {trait.capitalize()} Score\",\n",
    "            yaxis_title=f\"Rating of {trait.capitalize()}-Matched Ads\",\n",
    "            template=\"simple_white\",\n",
    "            height=500,\n",
    "            width=700\n",
    "        )\n",
    "\n",
    "        plots[trait] = fig\n",
    "\n",
    "    return plots\n",
    "\n",
    "\n",
    "def display_trait_grid(plots_dict, traits_order=None, rows=3, cols=2):\n",
    "    \"\"\"\n",
    "    Display multiple trait plots in a single figure using Plotly subplots.\n",
    "    traits_order can be used to control display order (e.g., ['openness', 'conscientiousness', ...])\n",
    "    \"\"\"\n",
    "    traits = traits_order if traits_order else list(plots_dict.keys())\n",
    "    fig = make_subplots(rows=rows, cols=cols, subplot_titles=[\n",
    "        plots_dict[trait].layout.title.text for trait in traits\n",
    "    ])\n",
    "\n",
    "    for i, trait in enumerate(traits):\n",
    "        row = i // cols + 1\n",
    "        col = i % cols + 1\n",
    "        for trace in plots_dict[trait].data:\n",
    "            fig.add_trace(trace, row=row, col=col)\n",
    "\n",
    "    fig.update_layout(height=1000, width=1500, title_text=\"Personality Traits and Participant Ratings of Personality-Matched Advertisements\", showlegend=False)\n",
    "    fig.show()"
   ]
  },
  {
   "cell_type": "code",
   "execution_count": 42,
   "id": "3a2a5b99-fd58-4b2a-801f-8caacd17ff4e",
   "metadata": {},
   "outputs": [],
   "source": [
    "personality_cols = ['extraversion_score', 'agreeableness_score', 'conscientiousness_score', 'neuroticism_score', 'openness_score']\n",
    "\n",
    "raw_aes_cols_product1 = ['raw_aes_1_extraversion', 'raw_aes_1_agreeableness', 'raw_aes_1_conscientiousness', 'raw_aes_1_neuroticism', 'raw_aes_1_openness']\n",
    "raw_aes_cols_product2 = ['raw_aes_2_extraversion', 'raw_aes_2_agreeableness', 'raw_aes_2_conscientiousness', 'raw_aes_2_neuroticism', 'raw_aes_2_openness']\n",
    "raw_aes_cols_product3 = ['raw_aes_3_extraversion', 'raw_aes_3_agreeableness', 'raw_aes_3_conscientiousness', 'raw_aes_3_neuroticism', 'raw_aes_3_openness']\n",
    "\n",
    "plots_product_1 = create_scatter_plots_with_fit(df_aes_with_aes_residualized, raw_aes_cols_product1, personality_cols)\n",
    "plots_product_2 = create_scatter_plots_with_fit(df_aes_with_aes_residualized, raw_aes_cols_product2, personality_cols)\n",
    "plots_product_3 = create_scatter_plots_with_fit(df_aes_with_aes_residualized, raw_aes_cols_product3, personality_cols)"
   ]
  },
  {
   "cell_type": "code",
   "execution_count": 43,
   "id": "f4e228bf-e388-4290-9f2b-a840986f3e7a",
   "metadata": {},
   "outputs": [
    {
     "data": {
      "application/vnd.plotly.v1+json": {
       "config": {
        "plotlyServerURL": "https://plot.ly"
       },
       "data": [
        {
         "marker": {
          "color": "black",
          "opacity": 0.6
         },
         "mode": "markers",
         "name": "Participants",
         "type": "scatter",
         "x": {
          "bdata": "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",
          "dtype": "f8"
         },
         "xaxis": "x",
         "y": {
          "bdata": "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",
          "dtype": "f8"
         },
         "yaxis": "y"
        },
        {
         "line": {
          "color": "blue"
         },
         "mode": "lines",
         "name": "Regression Line",
         "type": "scatter",
         "x": {
          "bdata": "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",
          "dtype": "f8"
         },
         "xaxis": "x",
         "y": {
          "bdata": "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",
          "dtype": "f8"
         },
         "yaxis": "y"
        },
        {
         "fill": "toself",
         "fillcolor": "rgba(0,100,255,0.2)",
         "hoverinfo": "skip",
         "line": {
          "color": "rgba(255,255,255,0)"
         },
         "name": "95% CI",
         "showlegend": true,
         "type": "scatter",
         "x": {
          "bdata": "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",
          "dtype": "f8"
         },
         "xaxis": "x",
         "y": {
          "bdata": "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",
          "dtype": "f8"
         },
         "yaxis": "y"
        },
        {
         "marker": {
          "color": "black",
          "opacity": 0.6
         },
         "mode": "markers",
         "name": "Participants",
         "type": "scatter",
         "x": {
          "bdata": "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",
          "dtype": "f8"
         },
         "xaxis": "x2",
         "y": {
          "bdata": "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",
          "dtype": "f8"
         },
         "yaxis": "y2"
        },
        {
         "line": {
          "color": "blue"
         },
         "mode": "lines",
         "name": "Regression Line",
         "type": "scatter",
         "x": {
          "bdata": "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",
          "dtype": "f8"
         },
         "xaxis": "x2",
         "y": {
          "bdata": "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",
          "dtype": "f8"
         },
         "yaxis": "y2"
        },
        {
         "fill": "toself",
         "fillcolor": "rgba(0,100,255,0.2)",
         "hoverinfo": "skip",
         "line": {
          "color": "rgba(255,255,255,0)"
         },
         "name": "95% CI",
         "showlegend": true,
         "type": "scatter",
         "x": {
          "bdata": "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",
          "dtype": "f8"
         },
         "xaxis": "x2",
         "y": {
          "bdata": "NC1B/bAMDEA0LUH9sAwMQIADcBvGJQxAr/+0bpQ/DECv/7RulD8MQK//tG6UPwxAr/+0bpQ/DECv/7RulD8MQK//tG6UPwxA0lAf0F1aDEDSUB/QXVoMQNJQH9BdWgxA0lAf0F1aDEDSUB/QXVoMQNJQH9BdWgxAYmjH94R2DEBiaMf3hHYMQGJox/eEdgxAYmjH94R2DEBiaMf3hHYMQGJox/eEdgxAYmjH94R2DEBiaMf3hHYMQGJox/eEdgxAYmjH94R2DEBiaMf3hHYMQF0kb2CilAxAXSRvYKKUDEBdJG9gopQMQF0kb2CilAxAXSRvYKKUDEBdJG9gopQMQF0kb2CilAxAXSRvYKKUDEBdJG9gopQMQF0kb2CilAxAXSRvYKKUDEBdJG9gopQMQF0kb2CilAxAXSRvYKKUDEBdJG9gopQMQF0kb2CilAxAXSRvYKKUDEBdJG9gopQMQF0kb2CilAxAXSRvYKKUDEBdJG9gopQMQF0kb2CilAxAWyX+66e1DEBbJf7rp7UMQFsl/uuntQxAWyX+66e1DEBbJf7rp7UMQFsl/uuntQxAWyX+66e1DEBbJf7rp7UMQFsl/uuntQxAWyX+66e1DECl8wq2GtsMQKXzCrYa2wxApfMKthrbDECl8wq2GtsMQKXzCrYa2wxApfMKthrbDECl8wq2GtsMQKXzCrYa2wxApfMKthrbDECl8wq2GtsMQKXzCrYa2wxApfMKthrbDECl8wq2GtsMQKXzCrYa2wxApfMKthrbDECl8wq2GtsMQKXzCrYa2wxApfMKthrbDECl8wq2GtsMQKXzCrYa2wxApfMKthrbDECl8wq2GtsMQKXzCrYa2wxApfMKthrbDECl8wq2GtsMQKXzCrYa2wxApfMKthrbDECl8wq2GtsMQKXzCrYa2wxAbMz86l8HDUBszPzqXwcNQGzM/OpfBw1AbMz86l8HDUBszPzqXwcNQGzM/OpfBw1AbMz86l8HDUBszPzqXwcNQGzM/OpfBw1AbMz86l8HDUBszPzqXwcNQGzM/OpfBw1AbMz86l8HDUBszPzqXwcNQGzM/OpfBw1AbMz86l8HDUBszPzqXwcNQGzM/OpfBw1AbMz86l8HDUBszPzqXwcNQGzM/OpfBw1AbMz86l8HDUBszPzqXwcNQGzM/OpfBw1AbMz86l8HDUBszPzqXwcNQGzM/OpfBw1AbMz86l8HDUBszPzqXwcNQGzM/OpfBw1AbMz86l8HDUBszPzqXwcNQGzM/OpfBw1AbMz86l8HDUBszPzqXwcNQE0xP/vfPQ1ATTE/+989DUBNMT/73z0NQE0xP/vfPQ1ATTE/+989DUBNMT/73z0NQE0xP/vfPQ1ATTE/+989DUBNMT/73z0NQE0xP/vfPQ1ATTE/+989DUBNMT/73z0NQE0xP/vfPQ1ATTE/+989DUBNMT/73z0NQE0xP/vfPQ1ATTE/+989DUBNMT/73z0NQE0xP/vfPQ1ATTE/+989DUBNMT/73z0NQE0xP/vfPQ1ATTE/+989DUBNMT/73z0NQE0xP/vfPQ1ATTE/+989DUBNMT/73z0NQE0xP/vfPQ1ATTE/+989DUBNMT/73z0NQEleRAtFgg1ASV5EC0WCDUBJXkQLRYINQEleRAtFgg1ASV5EC0WCDUBJXkQLRYINQEleRAtFgg1ASV5EC0WCDUBJXkQLRYINQEleRAtFgg1ASV5EC0WCDUBJXkQLRYINQEleRAtFgg1ASV5EC0WCDUBJXkQLRYINQEleRAtFgg1ASV5EC0WCDUBJXkQLRYINQEleRAtFgg1ASV5EC0WCDUBJXkQLRYINQEleRAtFgg1ASV5EC0WCDUBJXkQLRYINQEleRAtFgg1ASV5EC0WCDUBJXkQLRYINQEleRAtFgg1ASV5EC0WCDUBJXkQLRYINQEleRAtFgg1ASV5EC0WCDUAlNULZW9YNQCU1Qtlb1g1AJTVC2VvWDUAlNULZW9YNQCU1Qtlb1g1AJTVC2VvWDUAlNULZW9YNQCU1Qtlb1g1AJTVC2VvWDUAlNULZW9YNQCU1Qtlb1g1AJTVC2VvWDUAlNULZW9YNQCU1Qtlb1g1AJTVC2VvWDUAlNULZW9YNQCU1Qtlb1g1AJTVC2VvWDUAlNULZW9YNQCU1Qtlb1g1AJTVC2VvWDUAlNULZW9YNQCU1Qtlb1g1AJTVC2VvWDUAlNULZW9YNQCU1Qtlb1g1AJTVC2VvWDUAlNULZW9YNQCU1Qtlb1g1AJTVC2VvWDUAlNULZW9YNQCU1Qtlb1g1AJTVC2VvWDUAlNULZW9YNQCU1Qtlb1g1AJTVC2VvWDUAlNULZW9YNQCU1Qtlb1g1AJTVC2VvWDUAlNULZW9YNQCU1Qtlb1g1AJTVC2VvWDUAlNULZW9YNQCU1Qtlb1g1AJTVC2VvWDUAlNULZW9YNQCU1Qtlb1g1ABB/izpI4DkAEH+LOkjgOQAQf4s6SOA5ABB/izpI4DkAEH+LOkjgOQAQf4s6SOA5ABB/izpI4DkAEH+LOkjgOQAQf4s6SOA5ABB/izpI4DkAEH+LOkjgOQAQf4s6SOA5ABB/izpI4DkAEH+LOkjgOQAQf4s6SOA5ABB/izpI4DkAEH+LOkjgOQAQf4s6SOA5ABB/izpI4DkAEH+LOkjgOQAQf4s6SOA5ABB/izpI4DkAEH+LOkjgOQAQf4s6SOA5ABB/izpI4DkAEH+LOkjgOQAQf4s6SOA5ABB/izpI4DkAEH+LOkjgOQAQf4s6SOA5ABB/izpI4DkAEH+LOkjgOQAQf4s6SOA5ABB/izpI4DkAEH+LOkjgOQFrLmKhNpQ5AWsuYqE2lDkBay5ioTaUOQFrLmKhNpQ5AWsuYqE2lDkBay5ioTaUOQFrLmKhNpQ5AWsuYqE2lDkBay5ioTaUOQFrLmKhNpQ5AWsuYqE2lDkBay5ioTaUOQFrLmKhNpQ5AWsuYqE2lDkBay5ioTaUOQFrLmKhNpQ5AWsuYqE2lDkBay5ioTaUOQFrLmKhNpQ5AWsuYqE2lDkBay5ioTaUOQFrLmKhNpQ5AWsuYqE2lDkBay5ioTaUOQFrLmKhNpQ5AWsuYqE2lDkBay5ioTaUOQFrLmKhNpQ5AWsuYqE2lDkBay5ioTaUOQFrLmKhNpQ5AWsuYqE2lDkBay5ioTaUOQFrLmKhNpQ5AWsuYqE2lDkBay5ioTaUOQFrLmKhNpQ5AWsuYqE2lDkBay5ioTaUOQFrLmKhNpQ5ARlkE0RMZD0BGWQTRExkPQEZZBNETGQ9ARlkE0RMZD0BGWQTRExkPQEZZBNETGQ9ARlkE0RMZD0BGWQTRExkPQEZZBNETGQ9ARlkE0RMZD0BGWQTRExkPQEZZBNETGQ9ARlkE0RMZD0BGWQTRExkPQEZZBNETGQ9ARlkE0RMZD0BGWQTRExkPQEZZBNETGQ9ARlkE0RMZD0BGWQTRExkPQEZZBNETGQ9ARlkE0RMZD0BGWQTRExkPQEZZBNETGQ9ARlkE0RMZD0BGWQTRExkPQEZZBNETGQ9ARlkE0RMZD0BGWQTRExkPQEZZBNETGQ9ARlkE0RMZD0BGWQTRExkPQEZZBNETGQ9ARlkE0RMZD0BGWQTRExkPQEZZBNETGQ9A69kZf2yRD0Dr2Rl/bJEPQOvZGX9skQ9A69kZf2yRD0Dr2Rl/bJEPQOvZGX9skQ9A69kZf2yRD0Dr2Rl/bJEPQOvZGX9skQ9A69kZf2yRD0Dr2Rl/bJEPQOvZGX9skQ9A69kZf2yRD0Dr2Rl/bJEPQOvZGX9skQ9A69kZf2yRD0Dr2Rl/bJEPQOvZGX9skQ9A69kZf2yRD0Dr2Rl/bJEPQOvZGX9skQ9A69kZf2yRD0Dr2Rl/bJEPQOvZGX9skQ9A69kZf2yRD0Dr2Rl/bJEPQOvZGX9skQ9A69kZf2yRD0Dr2Rl/bJEPQOvZGX9skQ9A69kZf2yRD0DrCfdM0fkMQOsJ90zR+QxA6wn3TNH5DEDrCfdM0fkMQOsJ90zR+QxA6wn3TNH5DEDrCfdM0fkMQOsJ90zR+QxA6wn3TNH5DEDrCfdM0fkMQOsJ90zR+QxA6wn3TNH5DEDrCfdM0fkMQOsJ90zR+QxA6wn3TNH5DEDrCfdM0fkMQOsJ90zR+QxA6wn3TNH5DEDrCfdM0fkMQOsJ90zR+QxA6wn3TNH5DEDrCfdM0fkMQOsJ90zR+QxA6wn3TNH5DEDrCfdM0fkMQOsJ90zR+QxA6wn3TNH5DEDrCfdM0fkMQOsJ90zR+QxA6wn3TNH5DEDrCfdM0fkMQAYmDYCG2AxABiYNgIbYDEAGJg2AhtgMQAYmDYCG2AxABiYNgIbYDEAGJg2AhtgMQAYmDYCG2AxABiYNgIbYDEAGJg2AhtgMQAYmDYCG2AxABiYNgIbYDEAGJg2AhtgMQAYmDYCG2AxABiYNgIbYDEAGJg2AhtgMQAYmDYCG2AxABiYNgIbYDEAGJg2AhtgMQAYmDYCG2AxABiYNgIbYDEAGJg2AhtgMQAYmDYCG2AxABiYNgIbYDEAGJg2AhtgMQAYmDYCG2AxABiYNgIbYDEAGJg2AhtgMQAYmDYCG2AxABiYNgIbYDEAGJg2AhtgMQAYmDYCG2AxABiYNgIbYDEAGJg2AhtgMQAYmDYCG2AxABiYNgIbYDEAGJg2AhtgMQGZPeS2psgxAZk95LamyDEBmT3ktqbIMQGZPeS2psgxAZk95LamyDEBmT3ktqbIMQGZPeS2psgxAZk95LamyDEBmT3ktqbIMQGZPeS2psgxAZk95LamyDEBmT3ktqbIMQGZPeS2psgxAZk95LamyDEBmT3ktqbIMQGZPeS2psgxAZk95LamyDEBmT3ktqbIMQGZPeS2psgxAZk95LamyDEBmT3ktqbIMQGZPeS2psgxAZk95LamyDEBmT3ktqbIMQGZPeS2psgxAZk95LamyDEBmT3ktqbIMQGZPeS2psgxAZk95LamyDEBmT3ktqbIMQGZPeS2psgxAZk95LamyDEBmT3ktqbIMQGZPeS2psgxAZk95LamyDEBmT3ktqbIMQGZPeS2psgxAZk95LamyDEBmT3ktqbIMQGZPeS2psgxAMpcwjMCFDEAylzCMwIUMQDKXMIzAhQxAMpcwjMCFDEAylzCMwIUMQDKXMIzAhQxAMpcwjMCFDEAylzCMwIUMQDKXMIzAhQxAMpcwjMCFDEAylzCMwIUMQDKXMIzAhQxAMpcwjMCFDEAylzCMwIUMQDKXMIzAhQxAMpcwjMCFDEAylzCMwIUMQDKXMIzAhQxAMpcwjMCFDEAylzCMwIUMQDKXMIzAhQxAMpcwjMCFDEAylzCMwIUMQDKXMIzAhQxAMpcwjMCFDEAylzCMwIUMQDKXMIzAhQxAMpcwjMCFDEAylzCMwIUMQDKXMIzAhQxAMpcwjMCFDEAylzCMwIUMQDKXMIzAhQxAMpcwjMCFDEAylzCMwIUMQIcc0QZUTgxAhxzRBlRODECHHNEGVE4MQIcc0QZUTgxAhxzRBlRODECHHNEGVE4MQIcc0QZUTgxAhxzRBlRODECHHNEGVE4MQIcc0QZUTgxAhxzRBlRODECHHNEGVE4MQIcc0QZUTgxAhxzRBlRODECHHNEGVE4MQIcc0QZUTgxAhxzRBlRODECHHNEGVE4MQIcc0QZUTgxAhxzRBlRODECHHNEGVE4MQIcc0QZUTgxAhxzRBlRODECHHNEGVE4MQIcc0QZUTgxAhxzRBlRODECHHNEGVE4MQIcc0QZUTgxAhxzRBlRODECHHNEGVE4MQIcc0QZUTgxAhxzRBlRODECHHNEGVE4MQIcc0QZUTgxAhxzRBlRODECHHNEGVE4MQIcc0QZUTgxAhxzRBlRODECHHNEGVE4MQIcc0QZUTgxAhxzRBlRODECHHNEGVE4MQIcc0QZUTgxAhxzRBlRODECHHNEGVE4MQIcc0QZUTgxAhxzRBlRODEDZjs9ZxwgMQNmOz1nHCAxA2Y7PWccIDEDZjs9ZxwgMQNmOz1nHCAxA2Y7PWccIDEDZjs9ZxwgMQNmOz1nHCAxA2Y7PWccIDEDZjs9ZxwgMQNmOz1nHCAxA2Y7PWccIDEDZjs9ZxwgMQNmOz1nHCAxA2Y7PWccIDEDZjs9ZxwgMQNmOz1nHCAxA2Y7PWccIDEDZjs9ZxwgMQNmOz1nHCAxA2Y7PWccIDEDZjs9ZxwgMQNmOz1nHCAxA2Y7PWccIDEDZjs9ZxwgMQNmOz1nHCAxA2Y7PWccIDEDZjs9ZxwgMQNmOz1nHCAxA2Y7PWccIDEDZjs9ZxwgMQNmOz1nHCAxAS1fV7oizC0BLV9XuiLMLQEtX1e6IswtAS1fV7oizC0BLV9XuiLMLQEtX1e6IswtAS1fV7oizC0BLV9XuiLMLQEtX1e6IswtAS1fV7oizC0BLV9XuiLMLQEtX1e6IswtAS1fV7oizC0BLV9XuiLMLQEtX1e6IswtAS1fV7oizC0BLV9XuiLMLQEtX1e6IswtAS1fV7oizC0BLV9XuiLMLQEtX1e6IswtAS1fV7oizC0BLV9XuiLMLQEtX1e6IswtAS1fV7oizC0BLV9XuiLMLQEtX1e6IswtAS1fV7oizC0BLV9XuiLMLQEtX1e6IswtAoFcYhGVQC0CgVxiEZVALQKBXGIRlUAtAoFcYhGVQC0CgVxiEZVALQKBXGIRlUAtAoFcYhGVQC0CgVxiEZVALQKBXGIRlUAtAoFcYhGVQC0CgVxiEZVALQKBXGIRlUAtAoFcYhGVQC0CgVxiEZVALQKBXGIRlUAtAoFcYhGVQC0CgVxiEZVALQKBXGIRlUAtAoFcYhGVQC0CgVxiEZVALQKBXGIRlUAtAoFcYhGVQC0CgVxiEZVALQKBXGIRlUAtAoFcYhGVQC0CgVxiEZVALQKBXGIRlUAtAoFcYhGVQC0CgVxiEZVALQKBXGIRlUAtAoFcYhGVQC0CgVxiEZVALQKBXGIRlUAtAoFcYhGVQC0CgVxiEZVALQN3LCj4H4wpA3csKPgfjCkDdywo+B+MKQN3LCj4H4wpA3csKPgfjCkDdywo+B+MKQN3LCj4H4wpA3csKPgfjCkDdywo+B+MKQN3LCj4H4wpA3csKPgfjCkDdywo+B+MKQN3LCj4H4wpA3csKPgfjCkDdywo+B+MKQN3LCj4H4wpA3csKPgfjCkDdywo+B+MKQN3LCj4H4wpA3csKPgfjCkDdywo+B+MKQN3LCj4H4wpA3csKPgfjCkDdywo+B+MKQN3LCj4H4wpA3csKPgfjCkDdywo+B+MKQN3LCj4H4wpA3csKPgfjCkCdNRiN1m4KQJ01GI3WbgpAnTUYjdZuCkCdNRiN1m4KQJ01GI3WbgpAnTUYjdZuCkCdNRiN1m4KQJ01GI3WbgpAnTUYjdZuCkCdNRiN1m4KQA/Sp5049glAD9KnnTj2CUAP0qedOPYJQA/Sp5049glAD9KnnTj2CUAP0qedOPYJQA/Sp5049glAD9KnnTj2CUAP0qedOPYJQA/Sp5049glAD9KnnTj2CUAP0qedOPYJQA/Sp5049glAD9KnnTj2CUAP0qedOPYJQA/Sp5049glAD9KnnTj2CUAP0qedOPYJQA/Sp5049glAD9KnnTj2CUAP0qedOPYJQA/Sp5049glAgClQi7J6CUCAKVCLsnoJQIApUIuyeglAgClQi7J6CUCAKVCLsnoJQIApUIuyeglAgClQi7J6CUCAKVCLsnoJQIApUIuyeglAgClQi7J6CUCAKVCLsnoJQIbc+Dc2/QhAhtz4Nzb9CECG3Pg3Nv0IQIbc+Dc2/QhAhtz4Nzb9CECG3Pg3Nv0IQB3JYx5cfghAHcljHlx+CEAdyWMeXH4IQB3JYx5cfghAHcljHlx+CEAdyWMeXH4IQMJgqfaG/gdAhNLYmfh9B0CE0tiZ+H0HQA==",
          "dtype": "f8"
         },
         "yaxis": "y2"
        },
        {
         "marker": {
          "color": "black",
          "opacity": 0.6
         },
         "mode": "markers",
         "name": "Participants",
         "type": "scatter",
         "x": {
          "bdata": "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",
          "dtype": "f8"
         },
         "xaxis": "x3",
         "y": {
          "bdata": "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",
          "dtype": "f8"
         },
         "yaxis": "y3"
        },
        {
         "line": {
          "color": "blue"
         },
         "mode": "lines",
         "name": "Regression Line",
         "type": "scatter",
         "x": {
          "bdata": "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",
          "dtype": "f8"
         },
         "xaxis": "x3",
         "y": {
          "bdata": "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",
          "dtype": "f8"
         },
         "yaxis": "y3"
        },
        {
         "fill": "toself",
         "fillcolor": "rgba(0,100,255,0.2)",
         "hoverinfo": "skip",
         "line": {
          "color": "rgba(255,255,255,0)"
         },
         "name": "95% CI",
         "showlegend": true,
         "type": "scatter",
         "x": {
          "bdata": "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",
          "dtype": "f8"
         },
         "xaxis": "x3",
         "y": {
          "bdata": "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",
          "dtype": "f8"
         },
         "yaxis": "y3"
        },
        {
         "marker": {
          "color": "black",
          "opacity": 0.6
         },
         "mode": "markers",
         "name": "Participants",
         "type": "scatter",
         "x": {
          "bdata": "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",
          "dtype": "f8"
         },
         "xaxis": "x4",
         "y": {
          "bdata": "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",
          "dtype": "f8"
         },
         "yaxis": "y4"
        },
        {
         "line": {
          "color": "blue"
         },
         "mode": "lines",
         "name": "Regression Line",
         "type": "scatter",
         "x": {
          "bdata": "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",
          "dtype": "f8"
         },
         "xaxis": "x4",
         "y": {
          "bdata": "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",
          "dtype": "f8"
         },
         "yaxis": "y4"
        },
        {
         "fill": "toself",
         "fillcolor": "rgba(0,100,255,0.2)",
         "hoverinfo": "skip",
         "line": {
          "color": "rgba(255,255,255,0)"
         },
         "name": "95% CI",
         "showlegend": true,
         "type": "scatter",
         "x": {
          "bdata": "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",
          "dtype": "f8"
         },
         "xaxis": "x4",
         "y": {
          "bdata": "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",
          "dtype": "f8"
         },
         "yaxis": "y4"
        },
        {
         "marker": {
          "color": "black",
          "opacity": 0.6
         },
         "mode": "markers",
         "name": "Participants",
         "type": "scatter",
         "x": {
          "bdata": "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",
          "dtype": "f8"
         },
         "xaxis": "x5",
         "y": {
          "bdata": "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",
          "dtype": "f8"
         },
         "yaxis": "y5"
        },
        {
         "line": {
          "color": "blue"
         },
         "mode": "lines",
         "name": "Regression Line",
         "type": "scatter",
         "x": {
          "bdata": "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",
          "dtype": "f8"
         },
         "xaxis": "x5",
         "y": {
          "bdata": "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",
          "dtype": "f8"
         },
         "yaxis": "y5"
        },
        {
         "fill": "toself",
         "fillcolor": "rgba(0,100,255,0.2)",
         "hoverinfo": "skip",
         "line": {
          "color": "rgba(255,255,255,0)"
         },
         "name": "95% CI",
         "showlegend": true,
         "type": "scatter",
         "x": {
          "bdata": "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",
          "dtype": "f8"
         },
         "xaxis": "x5",
         "y": {
          "bdata": "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",
          "dtype": "f8"
         },
         "yaxis": "y5"
        }
       ],
       "layout": {
        "annotations": [
         {
          "font": {
           "size": 16
          },
          "showarrow": false,
          "text": "How Openness Influences Ratings of Openness-Matched Ads (p = 0.2976)",
          "x": 0.225,
          "xanchor": "center",
          "xref": "paper",
          "y": 1,
          "yanchor": "bottom",
          "yref": "paper"
         },
         {
          "font": {
           "size": 16
          },
          "showarrow": false,
          "text": "How Conscientiousness Influences Ratings of Conscientiousness-Matched Ads (p = 0.0063)",
          "x": 0.775,
          "xanchor": "center",
          "xref": "paper",
          "y": 1,
          "yanchor": "bottom",
          "yref": "paper"
         },
         {
          "font": {
           "size": 16
          },
          "showarrow": false,
          "text": "How Extraversion Influences Ratings of Extraversion-Matched Ads (p < 0.0001)",
          "x": 0.225,
          "xanchor": "center",
          "xref": "paper",
          "y": 0.6111111111111112,
          "yanchor": "bottom",
          "yref": "paper"
         },
         {
          "font": {
           "size": 16
          },
          "showarrow": false,
          "text": "How Agreeableness Influences Ratings of Agreeableness-Matched Ads (p < 0.0001)",
          "x": 0.775,
          "xanchor": "center",
          "xref": "paper",
          "y": 0.6111111111111112,
          "yanchor": "bottom",
          "yref": "paper"
         },
         {
          "font": {
           "size": 16
          },
          "showarrow": false,
          "text": "How Neuroticism Influences Ratings of Neuroticism-Matched Ads (p = 0.2301)",
          "x": 0.225,
          "xanchor": "center",
          "xref": "paper",
          "y": 0.22222222222222224,
          "yanchor": "bottom",
          "yref": "paper"
         }
        ],
        "height": 1000,
        "showlegend": false,
        "template": {
         "data": {
          "bar": [
           {
            "error_x": {
             "color": "#2a3f5f"
            },
            "error_y": {
             "color": "#2a3f5f"
            },
            "marker": {
             "line": {
              "color": "#E5ECF6",
              "width": 0.5
             },
             "pattern": {
              "fillmode": "overlay",
              "size": 10,
              "solidity": 0.2
             }
            },
            "type": "bar"
           }
          ],
          "barpolar": [
           {
            "marker": {
             "line": {
              "color": "#E5ECF6",
              "width": 0.5
             },
             "pattern": {
              "fillmode": "overlay",
              "size": 10,
              "solidity": 0.2
             }
            },
            "type": "barpolar"
           }
          ],
          "carpet": [
           {
            "aaxis": {
             "endlinecolor": "#2a3f5f",
             "gridcolor": "white",
             "linecolor": "white",
             "minorgridcolor": "white",
             "startlinecolor": "#2a3f5f"
            },
            "baxis": {
             "endlinecolor": "#2a3f5f",
             "gridcolor": "white",
             "linecolor": "white",
             "minorgridcolor": "white",
             "startlinecolor": "#2a3f5f"
            },
            "type": "carpet"
           }
          ],
          "choropleth": [
           {
            "colorbar": {
             "outlinewidth": 0,
             "ticks": ""
            },
            "type": "choropleth"
           }
          ],
          "contour": [
           {
            "colorbar": {
             "outlinewidth": 0,
             "ticks": ""
            },
            "colorscale": [
             [
              0,
              "#0d0887"
             ],
             [
              0.1111111111111111,
              "#46039f"
             ],
             [
              0.2222222222222222,
              "#7201a8"
             ],
             [
              0.3333333333333333,
              "#9c179e"
             ],
             [
              0.4444444444444444,
              "#bd3786"
             ],
             [
              0.5555555555555556,
              "#d8576b"
             ],
             [
              0.6666666666666666,
              "#ed7953"
             ],
             [
              0.7777777777777778,
              "#fb9f3a"
             ],
             [
              0.8888888888888888,
              "#fdca26"
             ],
             [
              1,
              "#f0f921"
             ]
            ],
            "type": "contour"
           }
          ],
          "contourcarpet": [
           {
            "colorbar": {
             "outlinewidth": 0,
             "ticks": ""
            },
            "type": "contourcarpet"
           }
          ],
          "heatmap": [
           {
            "colorbar": {
             "outlinewidth": 0,
             "ticks": ""
            },
            "colorscale": [
             [
              0,
              "#0d0887"
             ],
             [
              0.1111111111111111,
              "#46039f"
             ],
             [
              0.2222222222222222,
              "#7201a8"
             ],
             [
              0.3333333333333333,
              "#9c179e"
             ],
             [
              0.4444444444444444,
              "#bd3786"
             ],
             [
              0.5555555555555556,
              "#d8576b"
             ],
             [
              0.6666666666666666,
              "#ed7953"
             ],
             [
              0.7777777777777778,
              "#fb9f3a"
             ],
             [
              0.8888888888888888,
              "#fdca26"
             ],
             [
              1,
              "#f0f921"
             ]
            ],
            "type": "heatmap"
           }
          ],
          "histogram": [
           {
            "marker": {
             "pattern": {
              "fillmode": "overlay",
              "size": 10,
              "solidity": 0.2
             }
            },
            "type": "histogram"
           }
          ],
          "histogram2d": [
           {
            "colorbar": {
             "outlinewidth": 0,
             "ticks": ""
            },
            "colorscale": [
             [
              0,
              "#0d0887"
             ],
             [
              0.1111111111111111,
              "#46039f"
             ],
             [
              0.2222222222222222,
              "#7201a8"
             ],
             [
              0.3333333333333333,
              "#9c179e"
             ],
             [
              0.4444444444444444,
              "#bd3786"
             ],
             [
              0.5555555555555556,
              "#d8576b"
             ],
             [
              0.6666666666666666,
              "#ed7953"
             ],
             [
              0.7777777777777778,
              "#fb9f3a"
             ],
             [
              0.8888888888888888,
              "#fdca26"
             ],
             [
              1,
              "#f0f921"
             ]
            ],
            "type": "histogram2d"
           }
          ],
          "histogram2dcontour": [
           {
            "colorbar": {
             "outlinewidth": 0,
             "ticks": ""
            },
            "colorscale": [
             [
              0,
              "#0d0887"
             ],
             [
              0.1111111111111111,
              "#46039f"
             ],
             [
              0.2222222222222222,
              "#7201a8"
             ],
             [
              0.3333333333333333,
              "#9c179e"
             ],
             [
              0.4444444444444444,
              "#bd3786"
             ],
             [
              0.5555555555555556,
              "#d8576b"
             ],
             [
              0.6666666666666666,
              "#ed7953"
             ],
             [
              0.7777777777777778,
              "#fb9f3a"
             ],
             [
              0.8888888888888888,
              "#fdca26"
             ],
             [
              1,
              "#f0f921"
             ]
            ],
            "type": "histogram2dcontour"
           }
          ],
          "mesh3d": [
           {
            "colorbar": {
             "outlinewidth": 0,
             "ticks": ""
            },
            "type": "mesh3d"
           }
          ],
          "parcoords": [
           {
            "line": {
             "colorbar": {
              "outlinewidth": 0,
              "ticks": ""
             }
            },
            "type": "parcoords"
           }
          ],
          "pie": [
           {
            "automargin": true,
            "type": "pie"
           }
          ],
          "scatter": [
           {
            "fillpattern": {
             "fillmode": "overlay",
             "size": 10,
             "solidity": 0.2
            },
            "type": "scatter"
           }
          ],
          "scatter3d": [
           {
            "line": {
             "colorbar": {
              "outlinewidth": 0,
              "ticks": ""
             }
            },
            "marker": {
             "colorbar": {
              "outlinewidth": 0,
              "ticks": ""
             }
            },
            "type": "scatter3d"
           }
          ],
          "scattercarpet": [
           {
            "marker": {
             "colorbar": {
              "outlinewidth": 0,
              "ticks": ""
             }
            },
            "type": "scattercarpet"
           }
          ],
          "scattergeo": [
           {
            "marker": {
             "colorbar": {
              "outlinewidth": 0,
              "ticks": ""
             }
            },
            "type": "scattergeo"
           }
          ],
          "scattergl": [
           {
            "marker": {
             "colorbar": {
              "outlinewidth": 0,
              "ticks": ""
             }
            },
            "type": "scattergl"
           }
          ],
          "scattermap": [
           {
            "marker": {
             "colorbar": {
              "outlinewidth": 0,
              "ticks": ""
             }
            },
            "type": "scattermap"
           }
          ],
          "scattermapbox": [
           {
            "marker": {
             "colorbar": {
              "outlinewidth": 0,
              "ticks": ""
             }
            },
            "type": "scattermapbox"
           }
          ],
          "scatterpolar": [
           {
            "marker": {
             "colorbar": {
              "outlinewidth": 0,
              "ticks": ""
             }
            },
            "type": "scatterpolar"
           }
          ],
          "scatterpolargl": [
           {
            "marker": {
             "colorbar": {
              "outlinewidth": 0,
              "ticks": ""
             }
            },
            "type": "scatterpolargl"
           }
          ],
          "scatterternary": [
           {
            "marker": {
             "colorbar": {
              "outlinewidth": 0,
              "ticks": ""
             }
            },
            "type": "scatterternary"
           }
          ],
          "surface": [
           {
            "colorbar": {
             "outlinewidth": 0,
             "ticks": ""
            },
            "colorscale": [
             [
              0,
              "#0d0887"
             ],
             [
              0.1111111111111111,
              "#46039f"
             ],
             [
              0.2222222222222222,
              "#7201a8"
             ],
             [
              0.3333333333333333,
              "#9c179e"
             ],
             [
              0.4444444444444444,
              "#bd3786"
             ],
             [
              0.5555555555555556,
              "#d8576b"
             ],
             [
              0.6666666666666666,
              "#ed7953"
             ],
             [
              0.7777777777777778,
              "#fb9f3a"
             ],
             [
              0.8888888888888888,
              "#fdca26"
             ],
             [
              1,
              "#f0f921"
             ]
            ],
            "type": "surface"
           }
          ],
          "table": [
           {
            "cells": {
             "fill": {
              "color": "#EBF0F8"
             },
             "line": {
              "color": "white"
             }
            },
            "header": {
             "fill": {
              "color": "#C8D4E3"
             },
             "line": {
              "color": "white"
             }
            },
            "type": "table"
           }
          ]
         },
         "layout": {
          "annotationdefaults": {
           "arrowcolor": "#2a3f5f",
           "arrowhead": 0,
           "arrowwidth": 1
          },
          "autotypenumbers": "strict",
          "coloraxis": {
           "colorbar": {
            "outlinewidth": 0,
            "ticks": ""
           }
          },
          "colorscale": {
           "diverging": [
            [
             0,
             "#8e0152"
            ],
            [
             0.1,
             "#c51b7d"
            ],
            [
             0.2,
             "#de77ae"
            ],
            [
             0.3,
             "#f1b6da"
            ],
            [
             0.4,
             "#fde0ef"
            ],
            [
             0.5,
             "#f7f7f7"
            ],
            [
             0.6,
             "#e6f5d0"
            ],
            [
             0.7,
             "#b8e186"
            ],
            [
             0.8,
             "#7fbc41"
            ],
            [
             0.9,
             "#4d9221"
            ],
            [
             1,
             "#276419"
            ]
           ],
           "sequential": [
            [
             0,
             "#0d0887"
            ],
            [
             0.1111111111111111,
             "#46039f"
            ],
            [
             0.2222222222222222,
             "#7201a8"
            ],
            [
             0.3333333333333333,
             "#9c179e"
            ],
            [
             0.4444444444444444,
             "#bd3786"
            ],
            [
             0.5555555555555556,
             "#d8576b"
            ],
            [
             0.6666666666666666,
             "#ed7953"
            ],
            [
             0.7777777777777778,
             "#fb9f3a"
            ],
            [
             0.8888888888888888,
             "#fdca26"
            ],
            [
             1,
             "#f0f921"
            ]
           ],
           "sequentialminus": [
            [
             0,
             "#0d0887"
            ],
            [
             0.1111111111111111,
             "#46039f"
            ],
            [
             0.2222222222222222,
             "#7201a8"
            ],
            [
             0.3333333333333333,
             "#9c179e"
            ],
            [
             0.4444444444444444,
             "#bd3786"
            ],
            [
             0.5555555555555556,
             "#d8576b"
            ],
            [
             0.6666666666666666,
             "#ed7953"
            ],
            [
             0.7777777777777778,
             "#fb9f3a"
            ],
            [
             0.8888888888888888,
             "#fdca26"
            ],
            [
             1,
             "#f0f921"
            ]
           ]
          },
          "colorway": [
           "#636efa",
           "#EF553B",
           "#00cc96",
           "#ab63fa",
           "#FFA15A",
           "#19d3f3",
           "#FF6692",
           "#B6E880",
           "#FF97FF",
           "#FECB52"
          ],
          "font": {
           "color": "#2a3f5f"
          },
          "geo": {
           "bgcolor": "white",
           "lakecolor": "white",
           "landcolor": "#E5ECF6",
           "showlakes": true,
           "showland": true,
           "subunitcolor": "white"
          },
          "hoverlabel": {
           "align": "left"
          },
          "hovermode": "closest",
          "mapbox": {
           "style": "light"
          },
          "paper_bgcolor": "white",
          "plot_bgcolor": "#E5ECF6",
          "polar": {
           "angularaxis": {
            "gridcolor": "white",
            "linecolor": "white",
            "ticks": ""
           },
           "bgcolor": "#E5ECF6",
           "radialaxis": {
            "gridcolor": "white",
            "linecolor": "white",
            "ticks": ""
           }
          },
          "scene": {
           "xaxis": {
            "backgroundcolor": "#E5ECF6",
            "gridcolor": "white",
            "gridwidth": 2,
            "linecolor": "white",
            "showbackground": true,
            "ticks": "",
            "zerolinecolor": "white"
           },
           "yaxis": {
            "backgroundcolor": "#E5ECF6",
            "gridcolor": "white",
            "gridwidth": 2,
            "linecolor": "white",
            "showbackground": true,
            "ticks": "",
            "zerolinecolor": "white"
           },
           "zaxis": {
            "backgroundcolor": "#E5ECF6",
            "gridcolor": "white",
            "gridwidth": 2,
            "linecolor": "white",
            "showbackground": true,
            "ticks": "",
            "zerolinecolor": "white"
           }
          },
          "shapedefaults": {
           "line": {
            "color": "#2a3f5f"
           }
          },
          "ternary": {
           "aaxis": {
            "gridcolor": "white",
            "linecolor": "white",
            "ticks": ""
           },
           "baxis": {
            "gridcolor": "white",
            "linecolor": "white",
            "ticks": ""
           },
           "bgcolor": "#E5ECF6",
           "caxis": {
            "gridcolor": "white",
            "linecolor": "white",
            "ticks": ""
           }
          },
          "title": {
           "x": 0.05
          },
          "xaxis": {
           "automargin": true,
           "gridcolor": "white",
           "linecolor": "white",
           "ticks": "",
           "title": {
            "standoff": 15
           },
           "zerolinecolor": "white",
           "zerolinewidth": 2
          },
          "yaxis": {
           "automargin": true,
           "gridcolor": "white",
           "linecolor": "white",
           "ticks": "",
           "title": {
            "standoff": 15
           },
           "zerolinecolor": "white",
           "zerolinewidth": 2
          }
         }
        },
        "title": {
         "text": "Personality Traits and Participant Ratings of Personality-Matched Advertisements"
        },
        "width": 1500,
        "xaxis": {
         "anchor": "y",
         "domain": [
          0,
          0.45
         ]
        },
        "xaxis2": {
         "anchor": "y2",
         "domain": [
          0.55,
          1
         ]
        },
        "xaxis3": {
         "anchor": "y3",
         "domain": [
          0,
          0.45
         ]
        },
        "xaxis4": {
         "anchor": "y4",
         "domain": [
          0.55,
          1
         ]
        },
        "xaxis5": {
         "anchor": "y5",
         "domain": [
          0,
          0.45
         ]
        },
        "xaxis6": {
         "anchor": "y6",
         "domain": [
          0.55,
          1
         ]
        },
        "yaxis": {
         "anchor": "x",
         "domain": [
          0.7777777777777778,
          1
         ]
        },
        "yaxis2": {
         "anchor": "x2",
         "domain": [
          0.7777777777777778,
          1
         ]
        },
        "yaxis3": {
         "anchor": "x3",
         "domain": [
          0.3888888888888889,
          0.6111111111111112
         ]
        },
        "yaxis4": {
         "anchor": "x4",
         "domain": [
          0.3888888888888889,
          0.6111111111111112
         ]
        },
        "yaxis5": {
         "anchor": "x5",
         "domain": [
          0,
          0.22222222222222224
         ]
        },
        "yaxis6": {
         "anchor": "x6",
         "domain": [
          0,
          0.22222222222222224
         ]
        }
       }
      }
     },
     "metadata": {},
     "output_type": "display_data"
    }
   ],
   "source": [
    "display_trait_grid(plots_product_1, traits_order=['openness', 'conscientiousness', 'extraversion', 'agreeableness', 'neuroticism'])"
   ]
  },
  {
   "cell_type": "code",
   "execution_count": 44,
   "id": "954d8c56-aa60-4a1f-ba45-af59fe823f79",
   "metadata": {},
   "outputs": [
    {
     "data": {
      "application/vnd.plotly.v1+json": {
       "config": {
        "plotlyServerURL": "https://plot.ly"
       },
       "data": [
        {
         "marker": {
          "color": "black",
          "opacity": 0.6
         },
         "mode": "markers",
         "name": "Participants",
         "type": "scatter",
         "x": {
          "bdata": "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",
          "dtype": "f8"
         },
         "xaxis": "x",
         "y": {
          "bdata": "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",
          "dtype": "f8"
         },
         "yaxis": "y"
        },
        {
         "line": {
          "color": "blue"
         },
         "mode": "lines",
         "name": "Regression Line",
         "type": "scatter",
         "x": {
          "bdata": "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",
          "dtype": "f8"
         },
         "xaxis": "x",
         "y": {
          "bdata": "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",
          "dtype": "f8"
         },
         "yaxis": "y"
        },
        {
         "fill": "toself",
         "fillcolor": "rgba(0,100,255,0.2)",
         "hoverinfo": "skip",
         "line": {
          "color": "rgba(255,255,255,0)"
         },
         "name": "95% CI",
         "showlegend": true,
         "type": "scatter",
         "x": {
          "bdata": "AAAAAAAA9D8AAAAAAAD4PwAAAAAAAPw/AAAAAAAA/D8AAAAAAAD8PwAAAAAAAPw/AAAAAAAA/D8AAAAAAAAAQAAAAAAAAABAAAAAAAAAAEAAAAAAAAAAQAAAAAAAAABAAAAAAAAAAEAAAAAAAAAAQAAAAAAAAAJAAAAAAAAAAkAAAAAAAAACQAAAAAAAAARAAAAAAAAABEAAAAAAAAAEQAAAAAAAAARAAAAAAAAABEAAAAAAAAAEQAAAAAAAAARAAAAAAAAABEAAAAAAAAAGQAAAAAAAAAZAAAAAAAAABkAAAAAAAAAGQAAAAAAAAAZAAAAAAAAABkAAAAAAAAAGQAAAAAAAAAZAAAAAAAAABkAAAAAAAAAGQAAAAAAAAAZAAAAAAAAACEAAAAAAAAAIQAAAAAAAAAhAAAAAAAAACEAAAAAAAAAIQAAAAAAAAAhAAAAAAAAACEAAAAAAAAAIQAAAAAAAAAhAAAAAAAAACEAAAAAAAAAIQAAAAAAAAAhAAAAAAAAACEAAAAAAAAAIQAAAAAAAAAhAAAAAAAAACEAAAAAAAAAIQAAAAAAAAAhAAAAAAAAACEAAAAAAAAAIQAAAAAAAAAhAAAAAAAAACEAAAAAAAAAKQAAAAAAAAApAAAAAAAAACkAAAAAAAAAKQAAAAAAAAApAAAAAAAAACkAAAAAAAAAKQAAAAAAAAApAAAAAAAAACkAAAAAAAAAKQAAAAAAAAApAAAAAAAAACkAAAAAAAAAKQAAAAAAAAApAAAAAAAAACkAAAAAAAAAKQAAAAAAAAApAAAAAAAAACkAAAAAAAAAKQAAAAAAAAApAAAAAAAAADEAAAAAAAAAMQAAAAAAAAAxAAAAAAAAADEAAAAAAAAAMQAAAAAAAAAxAAAAAAAAADEAAAAAAAAAMQAAAAAAAAAxAAAAAAAAADEAAAAAAAAAMQAAAAAAAAAxAAAAAAAAADEAAAAAAAAAMQAAAAAAAAAxAAAAAAAAADEAAAAAAAAAMQAAAAAAAAAxAAAAAAAAADEAAAAAAAAAMQAAAAAAAAAxAAAAAAAAADEAAAAAAAAAMQAAAAAAAAAxAAAAAAAAADEAAAAAAAAAMQAAAAAAAAAxAAAAAAAAADEAAAAAAAAAMQAAAAAAAAAxAAAAAAAAADEAAAAAAAAAMQAAAAAAAAAxAAAAAAAAADkAAAAAAAAAOQAAAAAAAAA5AAAAAAAAADkAAAAAAAAAOQAAAAAAAAA5AAAAAAAAADkAAAAAAAAAOQAAAAAAAAA5AAAAAAAAADkAAAAAAAAAOQAAAAAAAAA5AAAAAAAAADkAAAAAAAAAOQAAAAAAAAA5AAAAAAAAADkAAAAAAAAAOQAAAAAAAAA5AAAAAAAAADkAAAAAAAAAOQAAAAAAAAA5AAAAAAAAADkAAAAAAAAAOQAAAAAAAAA5AAAAAAAAADkAAAAAAAAAOQAAAAAAAABBAAAAAAAAAEEAAAAAAAAAQQAAAAAAAABBAAAAAAAAAEEAAAAAAAAAQQAAAAAAAABBAAAAAAAAAEEAAAAAAAAAQQAAAAAAAABBAAAAAAAAAEEAAAAAAAAAQQAAAAAAAABBAAAAAAAAAEEAAAAAAAAAQQAAAAAAAABBAAAAAAAAAEEAAAAAAAAAQQAAAAAAAABBAAAAAAAAAEEAAAAAAAAAQQAAAAAAAABBAAAAAAAAAEEAAAAAAAAAQQAAAAAAAABBAAAAAAAAAEEAAAAAAAAAQQAAAAAAAABBAAAAAAAAAEEAAAAAAAAAQQAAAAAAAABBAAAAAAAAAEEAAAAAAAAAQQAAAAAAAABBAAAAAAAAAEEAAAAAAAAAQQAAAAAAAABBAAAAAAAAAEEAAAAAAAAAQQAAAAAAAABBAAAAAAAAAEEAAAAAAAAAQQAAAAAAAABBAAAAAAAAAEEAAAAAAAAAQQAAAAAAAABBAAAAAAAAAEEAAAAAAAAAQQAAAAAAAABBAAAAAAAAAEEAAAAAAAAAQQAAAAAAAABBAAAAAAAAAEEAAAAAAAAAQQAAAAAAAABFAAAAAAAAAEUAAAAAAAAARQAAAAAAAABFAAAAAAAAAEUAAAAAAAAARQAAAAAAAABFAAAAAAAAAEUAAAAAAAAARQAAAAAAAABFAAAAAAAAAEUAAAAAAAAARQAAAAAAAABFAAAAAAAAAEUAAAAAAAAARQAAAAAAAABFAAAAAAAAAEUAAAAAAAAARQAAAAAAAABFAAAAAAAAAEUAAAAAAAAARQAAAAAAAABFAAAAAAAAAEUAAAAAAAAARQAAAAAAAABFAAAAAAAAAEUAAAAAAAAARQAAAAAAAABFAAAAAAAAAEUAAAAAAAAARQAAAAAAAABFAAAAAAAAAEUAAAAAAAAARQAAAAAAAABFAAAAAAAAAEUAAAAAAAAARQAAAAAAAABFAAAAAAAAAEUAAAAAAAAARQAAAAAAAABJAAAAAAAAAEkAAAAAAAAASQAAAAAAAABJAAAAAAAAAEkAAAAAAAAASQAAAAAAAABJAAAAAAAAAEkAAAAAAAAASQAAAAAAAABJAAAAAAAAAEkAAAAAAAAASQAAAAAAAABJAAAAAAAAAEkAAAAAAAAASQAAAAAAAABJAAAAAAAAAEkAAAAAAAAASQAAAAAAAABJAAAAAAAAAEkAAAAAAAAASQAAAAAAAABJAAAAAAAAAEkAAAAAAAAASQAAAAAAAABJAAAAAAAAAEkAAAAAAAAASQAAAAAAAABJAAAAAAAAAEkAAAAAAAAASQAAAAAAAABJAAAAAAAAAEkAAAAAAAAASQAAAAAAAABJAAAAAAAAAEkAAAAAAAAASQAAAAAAAABJAAAAAAAAAE0AAAAAAAAATQAAAAAAAABNAAAAAAAAAE0AAAAAAAAATQAAAAAAAABNAAAAAAAAAE0AAAAAAAAATQAAAAAAAABNAAAAAAAAAE0AAAAAAAAATQAAAAAAAABNAAAAAAAAAE0AAAAAAAAATQAAAAAAAABNAAAAAAAAAE0AAAAAAAAATQAAAAAAAABNAAAAAAAAAE0AAAAAAAAATQAAAAAAAABNAAAAAAAAAE0AAAAAAAAATQAAAAAAAABNAAAAAAAAAE0AAAAAAAAATQAAAAAAAABNAAAAAAAAAE0AAAAAAAAATQAAAAAAAABNAAAAAAAAAE0AAAAAAAAATQAAAAAAAABNAAAAAAAAAE0AAAAAAAAATQAAAAAAAABNAAAAAAAAAE0AAAAAAAAATQAAAAAAAABNAAAAAAAAAE0AAAAAAAAATQAAAAAAAABNAAAAAAAAAE0AAAAAAAAATQAAAAAAAABRAAAAAAAAAFEAAAAAAAAAUQAAAAAAAABRAAAAAAAAAFEAAAAAAAAAUQAAAAAAAABRAAAAAAAAAFEAAAAAAAAAUQAAAAAAAABRAAAAAAAAAFEAAAAAAAAAUQAAAAAAAABRAAAAAAAAAFEAAAAAAAAAUQAAAAAAAABRAAAAAAAAAFEAAAAAAAAAUQAAAAAAAABRAAAAAAAAAFEAAAAAAAAAUQAAAAAAAABRAAAAAAAAAFEAAAAAAAAAUQAAAAAAAABRAAAAAAAAAFEAAAAAAAAAUQAAAAAAAABRAAAAAAAAAFEAAAAAAAAAUQAAAAAAAABRAAAAAAAAAFEAAAAAAAAAUQAAAAAAAABRAAAAAAAAAFEAAAAAAAAAUQAAAAAAAABRAAAAAAAAAFEAAAAAAAAAUQAAAAAAAABRAAAAAAAAAFEAAAAAAAAAUQAAAAAAAABRAAAAAAAAAFEAAAAAAAAAUQAAAAAAAABRAAAAAAAAAFEAAAAAAAAAUQAAAAAAAABRAAAAAAAAAFEAAAAAAAAAUQAAAAAAAABRAAAAAAAAAFEAAAAAAAAAUQAAAAAAAABRAAAAAAAAAFEAAAAAAAAAUQAAAAAAAABRAAAAAAAAAFEAAAAAAAAAUQAAAAAAAABRAAAAAAAAAFEAAAAAAAAAUQAAAAAAAABRAAAAAAAAAFEAAAAAAAAAUQAAAAAAAABRAAAAAAAAAFEAAAAAAAAAUQAAAAAAAABRAAAAAAAAAFEAAAAAAAAAUQAAAAAAAABRAAAAAAAAAFEAAAAAAAAAUQAAAAAAAABRAAAAAAAAAFEAAAAAAAAAUQAAAAAAAABRAAAAAAAAAFEAAAAAAAAAUQAAAAAAAABRAAAAAAAAAFEAAAAAAAAAUQAAAAAAAABRAAAAAAAAAFEAAAAAAAAAUQAAAAAAAABRAAAAAAAAAFEAAAAAAAAAUQAAAAAAAABRAAAAAAAAAFEAAAAAAAAAUQAAAAAAAABRAAAAAAAAAFEAAAAAAAAAUQAAAAAAAABRAAAAAAAAAFEAAAAAAAAAUQAAAAAAAABRAAAAAAAAAFEAAAAAAAAAUQAAAAAAAABRAAAAAAAAAFEAAAAAAAAAUQAAAAAAAABRAAAAAAAAAFEAAAAAAAAAUQAAAAAAAABRAAAAAAAAAFEAAAAAAAAAUQAAAAAAAABRAAAAAAAAAFEAAAAAAAAAUQAAAAAAAABRAAAAAAAAAFEAAAAAAAAAUQAAAAAAAABRAAAAAAAAAFEAAAAAAAAAUQAAAAAAAABRAAAAAAAAAFEAAAAAAAAAUQAAAAAAAABRAAAAAAAAAE0AAAAAAAAATQAAAAAAAABNAAAAAAAAAE0AAAAAAAAATQAAAAAAAABNAAAAAAAAAE0AAAAAAAAATQAAAAAAAABNAAAAAAAAAE0AAAAAAAAATQAAAAAAAABNAAAAAAAAAE0AAAAAAAAATQAAAAAAAABNAAAAAAAAAE0AAAAAAAAATQAAAAAAAABNAAAAAAAAAE0AAAAAAAAATQAAAAAAAABNAAAAAAAAAE0AAAAAAAAATQAAAAAAAABNAAAAAAAAAE0AAAAAAAAATQAAAAAAAABNAAAAAAAAAE0AAAAAAAAATQAAAAAAAABNAAAAAAAAAE0AAAAAAAAATQAAAAAAAABNAAAAAAAAAE0AAAAAAAAATQAAAAAAAABNAAAAAAAAAE0AAAAAAAAATQAAAAAAAABNAAAAAAAAAE0AAAAAAAAATQAAAAAAAABNAAAAAAAAAE0AAAAAAAAATQAAAAAAAABJAAAAAAAAAEkAAAAAAAAASQAAAAAAAABJAAAAAAAAAEkAAAAAAAAASQAAAAAAAABJAAAAAAAAAEkAAAAAAAAASQAAAAAAAABJAAAAAAAAAEkAAAAAAAAASQAAAAAAAABJAAAAAAAAAEkAAAAAAAAASQAAAAAAAABJAAAAAAAAAEkAAAAAAAAASQAAAAAAAABJAAAAAAAAAEkAAAAAAAAASQAAAAAAAABJAAAAAAAAAEkAAAAAAAAASQAAAAAAAABJAAAAAAAAAEkAAAAAAAAASQAAAAAAAABJAAAAAAAAAEkAAAAAAAAASQAAAAAAAABJAAAAAAAAAEkAAAAAAAAASQAAAAAAAABJAAAAAAAAAEkAAAAAAAAASQAAAAAAAABJAAAAAAAAAEUAAAAAAAAARQAAAAAAAABFAAAAAAAAAEUAAAAAAAAARQAAAAAAAABFAAAAAAAAAEUAAAAAAAAARQAAAAAAAABFAAAAAAAAAEUAAAAAAAAARQAAAAAAAABFAAAAAAAAAEUAAAAAAAAARQAAAAAAAABFAAAAAAAAAEUAAAAAAAAARQAAAAAAAABFAAAAAAAAAEUAAAAAAAAARQAAAAAAAABFAAAAAAAAAEUAAAAAAAAARQAAAAAAAABFAAAAAAAAAEUAAAAAAAAARQAAAAAAAABFAAAAAAAAAEUAAAAAAAAARQAAAAAAAABFAAAAAAAAAEUAAAAAAAAARQAAAAAAAABFAAAAAAAAAEUAAAAAAAAARQAAAAAAAABFAAAAAAAAAEUAAAAAAAAARQAAAAAAAABFAAAAAAAAAEEAAAAAAAAAQQAAAAAAAABBAAAAAAAAAEEAAAAAAAAAQQAAAAAAAABBAAAAAAAAAEEAAAAAAAAAQQAAAAAAAABBAAAAAAAAAEEAAAAAAAAAQQAAAAAAAABBAAAAAAAAAEEAAAAAAAAAQQAAAAAAAABBAAAAAAAAAEEAAAAAAAAAQQAAAAAAAABBAAAAAAAAAEEAAAAAAAAAQQAAAAAAAABBAAAAAAAAAEEAAAAAAAAAQQAAAAAAAABBAAAAAAAAAEEAAAAAAAAAQQAAAAAAAABBAAAAAAAAAEEAAAAAAAAAQQAAAAAAAABBAAAAAAAAAEEAAAAAAAAAQQAAAAAAAABBAAAAAAAAAEEAAAAAAAAAQQAAAAAAAABBAAAAAAAAAEEAAAAAAAAAQQAAAAAAAABBAAAAAAAAAEEAAAAAAAAAQQAAAAAAAABBAAAAAAAAAEEAAAAAAAAAQQAAAAAAAABBAAAAAAAAAEEAAAAAAAAAQQAAAAAAAABBAAAAAAAAAEEAAAAAAAAAQQAAAAAAAABBAAAAAAAAAEEAAAAAAAAAQQAAAAAAAABBAAAAAAAAADkAAAAAAAAAOQAAAAAAAAA5AAAAAAAAADkAAAAAAAAAOQAAAAAAAAA5AAAAAAAAADkAAAAAAAAAOQAAAAAAAAA5AAAAAAAAADkAAAAAAAAAOQAAAAAAAAA5AAAAAAAAADkAAAAAAAAAOQAAAAAAAAA5AAAAAAAAADkAAAAAAAAAOQAAAAAAAAA5AAAAAAAAADkAAAAAAAAAOQAAAAAAAAA5AAAAAAAAADkAAAAAAAAAOQAAAAAAAAA5AAAAAAAAADkAAAAAAAAAOQAAAAAAAAAxAAAAAAAAADEAAAAAAAAAMQAAAAAAAAAxAAAAAAAAADEAAAAAAAAAMQAAAAAAAAAxAAAAAAAAADEAAAAAAAAAMQAAAAAAAAAxAAAAAAAAADEAAAAAAAAAMQAAAAAAAAAxAAAAAAAAADEAAAAAAAAAMQAAAAAAAAAxAAAAAAAAADEAAAAAAAAAMQAAAAAAAAAxAAAAAAAAADEAAAAAAAAAMQAAAAAAAAAxAAAAAAAAADEAAAAAAAAAMQAAAAAAAAAxAAAAAAAAADEAAAAAAAAAMQAAAAAAAAAxAAAAAAAAADEAAAAAAAAAMQAAAAAAAAAxAAAAAAAAADEAAAAAAAAAMQAAAAAAAAApAAAAAAAAACkAAAAAAAAAKQAAAAAAAAApAAAAAAAAACkAAAAAAAAAKQAAAAAAAAApAAAAAAAAACkAAAAAAAAAKQAAAAAAAAApAAAAAAAAACkAAAAAAAAAKQAAAAAAAAApAAAAAAAAACkAAAAAAAAAKQAAAAAAAAApAAAAAAAAACkAAAAAAAAAKQAAAAAAAAApAAAAAAAAACkAAAAAAAAAIQAAAAAAAAAhAAAAAAAAACEAAAAAAAAAIQAAAAAAAAAhAAAAAAAAACEAAAAAAAAAIQAAAAAAAAAhAAAAAAAAACEAAAAAAAAAIQAAAAAAAAAhAAAAAAAAACEAAAAAAAAAIQAAAAAAAAAhAAAAAAAAACEAAAAAAAAAIQAAAAAAAAAhAAAAAAAAACEAAAAAAAAAIQAAAAAAAAAhAAAAAAAAACEAAAAAAAAAIQAAAAAAAAAZAAAAAAAAABkAAAAAAAAAGQAAAAAAAAAZAAAAAAAAABkAAAAAAAAAGQAAAAAAAAAZAAAAAAAAABkAAAAAAAAAGQAAAAAAAAAZAAAAAAAAABkAAAAAAAAAEQAAAAAAAAARAAAAAAAAABEAAAAAAAAAEQAAAAAAAAARAAAAAAAAABEAAAAAAAAAEQAAAAAAAAARAAAAAAAAAAkAAAAAAAAACQAAAAAAAAAJAAAAAAAAAAEAAAAAAAAAAQAAAAAAAAABAAAAAAAAAAEAAAAAAAAAAQAAAAAAAAABAAAAAAAAAAEAAAAAAAAD8PwAAAAAAAPw/AAAAAAAA/D8AAAAAAAD8PwAAAAAAAPw/AAAAAAAA+D8AAAAAAAD0Pw==",
          "dtype": "f8"
         },
         "xaxis": "x",
         "y": {
          "bdata": "lii44WRoCUBE06VbM0YJQHI4UpKsJAlAcjhSkqwkCUByOFKSrCQJQHI4UpKsJAlAcjhSkqwkCUB/Mt5bCAQJQH8y3lsIBAlAfzLeWwgECUB/Mt5bCAQJQH8y3lsIBAlAfzLeWwgECUB/Mt5bCAQJQHXCq32Y5AhAdcKrfZjkCEB1wqt9mOQIQD+CtnjYxghAP4K2eNjGCEA/grZ42MYIQD+CtnjYxghAP4K2eNjGCEA/grZ42MYIQD+CtnjYxghAP4K2eNjGCEDxIOj4iKsIQPEg6PiIqwhA8SDo+IirCEDxIOj4iKsIQPEg6PiIqwhA8SDo+IirCEDxIOj4iKsIQPEg6PiIqwhA8SDo+IirCEDxIOj4iKsIQPEg6PiIqwhAk+Az0N+TCECT4DPQ35MIQJPgM9DfkwhAk+Az0N+TCECT4DPQ35MIQJPgM9DfkwhAk+Az0N+TCECT4DPQ35MIQJPgM9DfkwhAk+Az0N+TCECT4DPQ35MIQJPgM9DfkwhAk+Az0N+TCECT4DPQ35MIQJPgM9DfkwhAk+Az0N+TCECT4DPQ35MIQJPgM9DfkwhAk+Az0N+TCECT4DPQ35MIQJPgM9DfkwhAk+Az0N+TCEBtwZ652IEIQG3BnrnYgQhAbcGeudiBCEBtwZ652IEIQG3BnrnYgQhAbcGeudiBCEBtwZ652IEIQG3BnrnYgQhAbcGeudiBCEBtwZ652IEIQG3BnrnYgQhAbcGeudiBCEBtwZ652IEIQG3BnrnYgQhAbcGeudiBCEBtwZ652IEIQG3BnrnYgQhAbcGeudiBCEBtwZ652IEIQG3BnrnYgQhAjXsgsqd4CECNeyCyp3gIQI17ILKneAhAjXsgsqd4CECNeyCyp3gIQI17ILKneAhAjXsgsqd4CECNeyCyp3gIQI17ILKneAhAjXsgsqd4CECNeyCyp3gIQI17ILKneAhAjXsgsqd4CECNeyCyp3gIQI17ILKneAhAjXsgsqd4CECNeyCyp3gIQI17ILKneAhAjXsgsqd4CECNeyCyp3gIQI17ILKneAhAjXsgsqd4CECNeyCyp3gIQI17ILKneAhAjXsgsqd4CECNeyCyp3gIQI17ILKneAhAjXsgsqd4CECNeyCyp3gIQI17ILKneAhAjXsgsqd4CECNeyCyp3gIQI17ILKneAhAolS+0f18CECiVL7R/XwIQKJUvtH9fAhAolS+0f18CECiVL7R/XwIQKJUvtH9fAhAolS+0f18CECiVL7R/XwIQKJUvtH9fAhAolS+0f18CECiVL7R/XwIQKJUvtH9fAhAolS+0f18CECiVL7R/XwIQKJUvtH9fAhAolS+0f18CECiVL7R/XwIQKJUvtH9fAhAolS+0f18CECiVL7R/XwIQKJUvtH9fAhAolS+0f18CECiVL7R/XwIQKJUvtH9fAhAolS+0f18CECiVL7R/XwIQPigHX8HlAhA+KAdfweUCED4oB1/B5QIQPigHX8HlAhA+KAdfweUCED4oB1/B5QIQPigHX8HlAhA+KAdfweUCED4oB1/B5QIQPigHX8HlAhA+KAdfweUCED4oB1/B5QIQPigHX8HlAhA+KAdfweUCED4oB1/B5QIQPigHX8HlAhA+KAdfweUCED4oB1/B5QIQPigHX8HlAhA+KAdfweUCED4oB1/B5QIQPigHX8HlAhA+KAdfweUCED4oB1/B5QIQPigHX8HlAhA+KAdfweUCED4oB1/B5QIQPigHX8HlAhA+KAdfweUCED4oB1/B5QIQPigHX8HlAhA+KAdfweUCED4oB1/B5QIQPigHX8HlAhA+KAdfweUCED4oB1/B5QIQPigHX8HlAhA+KAdfweUCED4oB1/B5QIQPigHX8HlAhA+KAdfweUCED4oB1/B5QIQPigHX8HlAhA+KAdfweUCED4oB1/B5QIQPigHX8HlAhA+KAdfweUCED4oB1/B5QIQPigHX8HlAhA+KAdfweUCED4oB1/B5QIQPigHX8HlAhA+KAdfweUCED4oB1/B5QIQP0EUeBKwAhA/QRR4ErACED9BFHgSsAIQP0EUeBKwAhA/QRR4ErACED9BFHgSsAIQP0EUeBKwAhA/QRR4ErACED9BFHgSsAIQP0EUeBKwAhA/QRR4ErACED9BFHgSsAIQP0EUeBKwAhA/QRR4ErACED9BFHgSsAIQP0EUeBKwAhA/QRR4ErACED9BFHgSsAIQP0EUeBKwAhA/QRR4ErACED9BFHgSsAIQP0EUeBKwAhA/QRR4ErACED9BFHgSsAIQP0EUeBKwAhA/QRR4ErACED9BFHgSsAIQP0EUeBKwAhA/QRR4ErACED9BFHgSsAIQP0EUeBKwAhA/QRR4ErACED9BFHgSsAIQP0EUeBKwAhA/QRR4ErACED9BFHgSsAIQP0EUeBKwAhA/QRR4ErACED9BFHgSsAIQFMpLGFs/whAUyksYWz/CEBTKSxhbP8IQFMpLGFs/whAUyksYWz/CEBTKSxhbP8IQFMpLGFs/whAUyksYWz/CEBTKSxhbP8IQFMpLGFs/whAUyksYWz/CEBTKSxhbP8IQFMpLGFs/whAUyksYWz/CEBTKSxhbP8IQFMpLGFs/whAUyksYWz/CEBTKSxhbP8IQFMpLGFs/whAUyksYWz/CEBTKSxhbP8IQFMpLGFs/whAUyksYWz/CEBTKSxhbP8IQFMpLGFs/whAUyksYWz/CEBTKSxhbP8IQFMpLGFs/whAUyksYWz/CEBTKSxhbP8IQFMpLGFs/whAUyksYWz/CEBTKSxhbP8IQFMpLGFs/whAUyksYWz/CEBTKSxhbP8IQFMpLGFs/whAf+ER90dMCUB/4RH3R0wJQH/hEfdHTAlAf+ER90dMCUB/4RH3R0wJQH/hEfdHTAlAf+ER90dMCUB/4RH3R0wJQH/hEfdHTAlAf+ER90dMCUB/4RH3R0wJQH/hEfdHTAlAf+ER90dMCUB/4RH3R0wJQH/hEfdHTAlAf+ER90dMCUB/4RH3R0wJQH/hEfdHTAlAf+ER90dMCUB/4RH3R0wJQH/hEfdHTAlAf+ER90dMCUB/4RH3R0wJQH/hEfdHTAlAf+ER90dMCUB/4RH3R0wJQH/hEfdHTAlAf+ER90dMCUB/4RH3R0wJQH/hEfdHTAlAf+ER90dMCUB/4RH3R0wJQH/hEfdHTAlAf+ER90dMCUB/4RH3R0wJQH/hEfdHTAlAf+ER90dMCUB/4RH3R0wJQH/hEfdHTAlAf+ER90dMCUB/4RH3R0wJQH/hEfdHTAlAf+ER90dMCUB/4RH3R0wJQJ8UMekfoglAnxQx6R+iCUCfFDHpH6IJQJ8UMekfoglAnxQx6R+iCUCfFDHpH6IJQJ8UMekfoglAnxQx6R+iCUCfFDHpH6IJQJ8UMekfoglAnxQx6R+iCUCfFDHpH6IJQJ8UMekfoglAnxQx6R+iCUCfFDHpH6IJQJ8UMekfoglAnxQx6R+iCUCfFDHpH6IJQJ8UMekfoglAnxQx6R+iCUCfFDHpH6IJQJ8UMekfoglAnxQx6R+iCUCfFDHpH6IJQJ8UMekfoglAnxQx6R+iCUCfFDHpH6IJQJ8UMekfoglAnxQx6R+iCUCfFDHpH6IJQJ8UMekfoglAnxQx6R+iCUCfFDHpH6IJQJ8UMekfoglAnxQx6R+iCUCfFDHpH6IJQJ8UMekfoglAnxQx6R+iCUCfFDHpH6IJQJ8UMekfoglAnxQx6R+iCUCfFDHpH6IJQJ8UMekfoglAnxQx6R+iCUCfFDHpH6IJQJ8UMekfoglAnxQx6R+iCUCfFDHpH6IJQJ8UMekfoglAnxQx6R+iCUCfFDHpH6IJQJ8UMekfoglAnxQx6R+iCUCfFDHpH6IJQJ8UMekfoglAnxQx6R+iCUCfFDHpH6IJQJ8UMekfoglAnxQx6R+iCUCfFDHpH6IJQJ8UMekfoglAnxQx6R+iCUC995DdDL8GQL33kN0MvwZAvfeQ3Qy/BkC995DdDL8GQL33kN0MvwZAvfeQ3Qy/BkC995DdDL8GQL33kN0MvwZAvfeQ3Qy/BkC995DdDL8GQL33kN0MvwZAvfeQ3Qy/BkC995DdDL8GQL33kN0MvwZAvfeQ3Qy/BkC995DdDL8GQL33kN0MvwZAvfeQ3Qy/BkC995DdDL8GQL33kN0MvwZAvfeQ3Qy/BkC995DdDL8GQL33kN0MvwZAvfeQ3Qy/BkC995DdDL8GQL33kN0MvwZAvfeQ3Qy/BkC995DdDL8GQL33kN0MvwZAvfeQ3Qy/BkC995DdDL8GQL33kN0MvwZAvfeQ3Qy/BkC995DdDL8GQL33kN0MvwZAvfeQ3Qy/BkC995DdDL8GQL33kN0MvwZAvfeQ3Qy/BkC995DdDL8GQL33kN0MvwZAvfeQ3Qy/BkC995DdDL8GQL33kN0MvwZAvfeQ3Qy/BkC995DdDL8GQL33kN0MvwZAvfeQ3Qy/BkC995DdDL8GQL33kN0MvwZAvfeQ3Qy/BkC995DdDL8GQL33kN0MvwZAvfeQ3Qy/BkC995DdDL8GQL33kN0MvwZAvfeQ3Qy/BkC995DdDL8GQL33kN0MvwZAvfeQ3Qy/BkC995DdDL8GQL33kN0MvwZA4QSnMtDQBkDhBKcy0NAGQOEEpzLQ0AZA4QSnMtDQBkDhBKcy0NAGQOEEpzLQ0AZA4QSnMtDQBkDhBKcy0NAGQOEEpzLQ0AZA4QSnMtDQBkDhBKcy0NAGQOEEpzLQ0AZA4QSnMtDQBkDhBKcy0NAGQOEEpzLQ0AZA4QSnMtDQBkDhBKcy0NAGQOEEpzLQ0AZA4QSnMtDQBkDhBKcy0NAGQOEEpzLQ0AZA4QSnMtDQBkDhBKcy0NAGQOEEpzLQ0AZA4QSnMtDQBkDhBKcy0NAGQOEEpzLQ0AZA4QSnMtDQBkDhBKcy0NAGQOEEpzLQ0AZA4QSnMtDQBkDhBKcy0NAGQOEEpzLQ0AZA4QSnMtDQBkDhBKcy0NAGQOEEpzLQ0AZA4QSnMtDQBkDhBKcy0NAGQOEEpzLQ0AZA4QSnMtDQBkDhBKcy0NAGQOEEpzLQ0AZA4QSnMtDQBkDhBKcy0NAGQBGXgyuX2QZAEZeDK5fZBkARl4Mrl9kGQBGXgyuX2QZAEZeDK5fZBkARl4Mrl9kGQBGXgyuX2QZAEZeDK5fZBkARl4Mrl9kGQBGXgyuX2QZAEZeDK5fZBkARl4Mrl9kGQBGXgyuX2QZAEZeDK5fZBkARl4Mrl9kGQBGXgyuX2QZAEZeDK5fZBkARl4Mrl9kGQBGXgyuX2QZAEZeDK5fZBkARl4Mrl9kGQBGXgyuX2QZAEZeDK5fZBkARl4Mrl9kGQBGXgyuX2QZAEZeDK5fZBkARl4Mrl9kGQBGXgyuX2QZAEZeDK5fZBkARl4Mrl9kGQBGXgyuX2QZAEZeDK5fZBkARl4Mrl9kGQBGXgyuX2QZAEZeDK5fZBkARl4Mrl9kGQBGXgyuX2QZAaZVVD6TUBkBplVUPpNQGQGmVVQ+k1AZAaZVVD6TUBkBplVUPpNQGQGmVVQ+k1AZAaZVVD6TUBkBplVUPpNQGQGmVVQ+k1AZAaZVVD6TUBkBplVUPpNQGQGmVVQ+k1AZAaZVVD6TUBkBplVUPpNQGQGmVVQ+k1AZAaZVVD6TUBkBplVUPpNQGQGmVVQ+k1AZAaZVVD6TUBkBplVUPpNQGQGmVVQ+k1AZAaZVVD6TUBkBplVUPpNQGQGmVVQ+k1AZAaZVVD6TUBkBplVUPpNQGQGmVVQ+k1AZAaZVVD6TUBkBplVUPpNQGQGmVVQ+k1AZAaZVVD6TUBkBplVUPpNQGQGmVVQ+k1AZAaZVVD6TUBkBplVUPpNQGQGmVVQ+k1AZAaZVVD6TUBkBplVUPpNQGQGmVVQ+k1AZActN/09K8BkBy03/T0rwGQHLTf9PSvAZActN/09K8BkBy03/T0rwGQHLTf9PSvAZActN/09K8BkBy03/T0rwGQHLTf9PSvAZActN/09K8BkBy03/T0rwGQHLTf9PSvAZActN/09K8BkBy03/T0rwGQHLTf9PSvAZActN/09K8BkBy03/T0rwGQHLTf9PSvAZActN/09K8BkBy03/T0rwGQHLTf9PSvAZActN/09K8BkBy03/T0rwGQHLTf9PSvAZActN/09K8BkBy03/T0rwGQHLTf9PSvAZActN/09K8BkBy03/T0rwGQHLTf9PSvAZActN/09K8BkBy03/T0rwGQHLTf9PSvAZActN/09K8BkBy03/T0rwGQHLTf9PSvAZActN/09K8BkBy03/T0rwGQHLTf9PSvAZActN/09K8BkBy03/T0rwGQHLTf9PSvAZActN/09K8BkBy03/T0rwGQHLTf9PSvAZActN/09K8BkBy03/T0rwGQHLTf9PSvAZActN/09K8BkBy03/T0rwGQHLTf9PSvAZActN/09K8BkBy03/T0rwGQHLTf9PSvAZAyvnV48ePBkDK+dXjx48GQMr51ePHjwZAyvnV48ePBkDK+dXjx48GQMr51ePHjwZAyvnV48ePBkDK+dXjx48GQMr51ePHjwZAyvnV48ePBkDK+dXjx48GQMr51ePHjwZAyvnV48ePBkDK+dXjx48GQMr51ePHjwZAyvnV48ePBkDK+dXjx48GQMr51ePHjwZAyvnV48ePBkDK+dXjx48GQMr51ePHjwZAyvnV48ePBkDK+dXjx48GQMr51ePHjwZAyvnV48ePBkDK+dXjx48GQOOsamYJUAZA46xqZglQBkDjrGpmCVAGQOOsamYJUAZA46xqZglQBkDjrGpmCVAGQOOsamYJUAZA46xqZglQBkDjrGpmCVAGQOOsamYJUAZA46xqZglQBkDjrGpmCVAGQOOsamYJUAZA46xqZglQBkDjrGpmCVAGQOOsamYJUAZA46xqZglQBkDjrGpmCVAGQOOsamYJUAZA46xqZglQBkDjrGpmCVAGQOOsamYJUAZA46xqZglQBkDjrGpmCVAGQOOsamYJUAZA46xqZglQBkDjrGpmCVAGQOOsamYJUAZA46xqZglQBkDjrGpmCVAGQOOsamYJUAZA46xqZglQBkDjrGpmCVAGQAdB48HDAgZAB0HjwcMCBkAHQePBwwIGQAdB48HDAgZAB0HjwcMCBkAHQePBwwIGQAdB48HDAgZAB0HjwcMCBkAHQePBwwIGQAdB48HDAgZAB0HjwcMCBkAHQePBwwIGQAdB48HDAgZAB0HjwcMCBkAHQePBwwIGQAdB48HDAgZAB0HjwcMCBkAHQePBwwIGQAdB48HDAgZAB0HjwcMCBkDj+0QOqKwFQOP7RA6orAVA4/tEDqisBUDj+0QOqKwFQOP7RA6orAVA4/tEDqisBUDj+0QOqKwFQOP7RA6orAVA4/tEDqisBUDj+0QOqKwFQOP7RA6orAVA4/tEDqisBUDj+0QOqKwFQOP7RA6orAVA4/tEDqisBUDj+0QOqKwFQOP7RA6orAVA4/tEDqisBUDj+0QOqKwFQOP7RA6orAVA4/tEDqisBUDj+0QOqKwFQImVh0jqUAVAiZWHSOpQBUCJlYdI6lAFQImVh0jqUAVAiZWHSOpQBUCJlYdI6lAFQImVh0jqUAVAiZWHSOpQBUCJlYdI6lAFQImVh0jqUAVAiZWHSOpQBUA/DrArhvEEQD8OsCuG8QRAPw6wK4bxBEA/DrArhvEEQD8OsCuG8QRAPw6wK4bxBEA/DrArhvEEQD8OsCuG8QRAC6ixibGPBEALqLGJsY8EQAuosYmxjwRABRJ2Di0sBEAFEnYOLSwEQAUSdg4tLARABRJ2Di0sBEAFEnYOLSwEQAUSdg4tLARABRJ2Di0sBEAW5vg6dMcDQBbm+Dp0xwNAFub4OnTHA0AW5vg6dMcDQBbm+Dp0xwNARiWc1NhhA0D4qYCxkvsCQA==",
          "dtype": "f8"
         },
         "yaxis": "y"
        },
        {
         "marker": {
          "color": "black",
          "opacity": 0.6
         },
         "mode": "markers",
         "name": "Participants",
         "type": "scatter",
         "x": {
          "bdata": "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",
          "dtype": "f8"
         },
         "xaxis": "x2",
         "y": {
          "bdata": "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",
          "dtype": "f8"
         },
         "yaxis": "y2"
        },
        {
         "line": {
          "color": "blue"
         },
         "mode": "lines",
         "name": "Regression Line",
         "type": "scatter",
         "x": {
          "bdata": "AAAAAAAA9D8AAAAAAAD0PwAAAAAAAPg/AAAAAAAA/D8AAAAAAAD8PwAAAAAAAPw/AAAAAAAA/D8AAAAAAAD8PwAAAAAAAPw/AAAAAAAAAEAAAAAAAAAAQAAAAAAAAABAAAAAAAAAAEAAAAAAAAAAQAAAAAAAAABAAAAAAAAAAkAAAAAAAAACQAAAAAAAAAJAAAAAAAAAAkAAAAAAAAACQAAAAAAAAAJAAAAAAAAAAkAAAAAAAAACQAAAAAAAAAJAAAAAAAAAAkAAAAAAAAACQAAAAAAAAARAAAAAAAAABEAAAAAAAAAEQAAAAAAAAARAAAAAAAAABEAAAAAAAAAEQAAAAAAAAARAAAAAAAAABEAAAAAAAAAEQAAAAAAAAARAAAAAAAAABEAAAAAAAAAEQAAAAAAAAARAAAAAAAAABEAAAAAAAAAEQAAAAAAAAARAAAAAAAAABEAAAAAAAAAEQAAAAAAAAARAAAAAAAAABEAAAAAAAAAEQAAAAAAAAARAAAAAAAAABkAAAAAAAAAGQAAAAAAAAAZAAAAAAAAABkAAAAAAAAAGQAAAAAAAAAZAAAAAAAAABkAAAAAAAAAGQAAAAAAAAAZAAAAAAAAABkAAAAAAAAAIQAAAAAAAAAhAAAAAAAAACEAAAAAAAAAIQAAAAAAAAAhAAAAAAAAACEAAAAAAAAAIQAAAAAAAAAhAAAAAAAAACEAAAAAAAAAIQAAAAAAAAAhAAAAAAAAACEAAAAAAAAAIQAAAAAAAAAhAAAAAAAAACEAAAAAAAAAIQAAAAAAAAAhAAAAAAAAACEAAAAAAAAAIQAAAAAAAAAhAAAAAAAAACEAAAAAAAAAIQAAAAAAAAAhAAAAAAAAACEAAAAAAAAAIQAAAAAAAAAhAAAAAAAAACEAAAAAAAAAIQAAAAAAAAAhAAAAAAAAACkAAAAAAAAAKQAAAAAAAAApAAAAAAAAACkAAAAAAAAAKQAAAAAAAAApAAAAAAAAACkAAAAAAAAAKQAAAAAAAAApAAAAAAAAACkAAAAAAAAAKQAAAAAAAAApAAAAAAAAACkAAAAAAAAAKQAAAAAAAAApAAAAAAAAACkAAAAAAAAAKQAAAAAAAAApAAAAAAAAACkAAAAAAAAAKQAAAAAAAAApAAAAAAAAACkAAAAAAAAAKQAAAAAAAAApAAAAAAAAACkAAAAAAAAAKQAAAAAAAAApAAAAAAAAACkAAAAAAAAAKQAAAAAAAAApAAAAAAAAACkAAAAAAAAAKQAAAAAAAAApAAAAAAAAACkAAAAAAAAAKQAAAAAAAAAxAAAAAAAAADEAAAAAAAAAMQAAAAAAAAAxAAAAAAAAADEAAAAAAAAAMQAAAAAAAAAxAAAAAAAAADEAAAAAAAAAMQAAAAAAAAAxAAAAAAAAADEAAAAAAAAAMQAAAAAAAAAxAAAAAAAAADEAAAAAAAAAMQAAAAAAAAAxAAAAAAAAADEAAAAAAAAAMQAAAAAAAAAxAAAAAAAAADEAAAAAAAAAMQAAAAAAAAAxAAAAAAAAADEAAAAAAAAAMQAAAAAAAAAxAAAAAAAAADEAAAAAAAAAMQAAAAAAAAAxAAAAAAAAADEAAAAAAAAAMQAAAAAAAAA5AAAAAAAAADkAAAAAAAAAOQAAAAAAAAA5AAAAAAAAADkAAAAAAAAAOQAAAAAAAAA5AAAAAAAAADkAAAAAAAAAOQAAAAAAAAA5AAAAAAAAADkAAAAAAAAAOQAAAAAAAAA5AAAAAAAAADkAAAAAAAAAOQAAAAAAAAA5AAAAAAAAADkAAAAAAAAAOQAAAAAAAAA5AAAAAAAAADkAAAAAAAAAOQAAAAAAAAA5AAAAAAAAADkAAAAAAAAAOQAAAAAAAAA5AAAAAAAAADkAAAAAAAAAOQAAAAAAAAA5AAAAAAAAADkAAAAAAAAAOQAAAAAAAAA5AAAAAAAAADkAAAAAAAAAQQAAAAAAAABBAAAAAAAAAEEAAAAAAAAAQQAAAAAAAABBAAAAAAAAAEEAAAAAAAAAQQAAAAAAAABBAAAAAAAAAEEAAAAAAAAAQQAAAAAAAABBAAAAAAAAAEEAAAAAAAAAQQAAAAAAAABBAAAAAAAAAEEAAAAAAAAAQQAAAAAAAABBAAAAAAAAAEEAAAAAAAAAQQAAAAAAAABBAAAAAAAAAEEAAAAAAAAAQQAAAAAAAABBAAAAAAAAAEEAAAAAAAAAQQAAAAAAAABBAAAAAAAAAEEAAAAAAAAAQQAAAAAAAABBAAAAAAAAAEEAAAAAAAAAQQAAAAAAAABBAAAAAAAAAEEAAAAAAAAAQQAAAAAAAABBAAAAAAAAAEEAAAAAAAAAQQAAAAAAAABBAAAAAAAAAEEAAAAAAAAAQQAAAAAAAABBAAAAAAAAAEEAAAAAAAAAQQAAAAAAAABBAAAAAAAAAEEAAAAAAAAAQQAAAAAAAABBAAAAAAAAAEUAAAAAAAAARQAAAAAAAABFAAAAAAAAAEUAAAAAAAAARQAAAAAAAABFAAAAAAAAAEUAAAAAAAAARQAAAAAAAABFAAAAAAAAAEUAAAAAAAAARQAAAAAAAABFAAAAAAAAAEUAAAAAAAAARQAAAAAAAABFAAAAAAAAAEUAAAAAAAAARQAAAAAAAABFAAAAAAAAAEUAAAAAAAAARQAAAAAAAABFAAAAAAAAAEUAAAAAAAAARQAAAAAAAABFAAAAAAAAAEUAAAAAAAAARQAAAAAAAABFAAAAAAAAAEUAAAAAAAAARQAAAAAAAABFAAAAAAAAAEUAAAAAAAAARQAAAAAAAABFAAAAAAAAAEUAAAAAAAAARQAAAAAAAABJAAAAAAAAAEkAAAAAAAAASQAAAAAAAABJAAAAAAAAAEkAAAAAAAAASQAAAAAAAABJAAAAAAAAAEkAAAAAAAAASQAAAAAAAABJAAAAAAAAAEkAAAAAAAAASQAAAAAAAABJAAAAAAAAAEkAAAAAAAAASQAAAAAAAABJAAAAAAAAAEkAAAAAAAAASQAAAAAAAABJAAAAAAAAAEkAAAAAAAAASQAAAAAAAABJAAAAAAAAAEkAAAAAAAAASQAAAAAAAABJAAAAAAAAAEkAAAAAAAAASQAAAAAAAABJAAAAAAAAAEkAAAAAAAAASQAAAAAAAABJAAAAAAAAAEkAAAAAAAAASQAAAAAAAABJAAAAAAAAAEkAAAAAAAAASQAAAAAAAABJAAAAAAAAAEkAAAAAAAAASQAAAAAAAABJAAAAAAAAAE0AAAAAAAAATQAAAAAAAABNAAAAAAAAAE0AAAAAAAAATQAAAAAAAABNAAAAAAAAAE0AAAAAAAAATQAAAAAAAABNAAAAAAAAAE0AAAAAAAAATQAAAAAAAABNAAAAAAAAAE0AAAAAAAAATQAAAAAAAABNAAAAAAAAAE0AAAAAAAAATQAAAAAAAABNAAAAAAAAAE0AAAAAAAAATQAAAAAAAABNAAAAAAAAAE0AAAAAAAAATQAAAAAAAABNAAAAAAAAAE0AAAAAAAAATQAAAAAAAABNAAAAAAAAAE0AAAAAAAAATQAAAAAAAABNAAAAAAAAAE0AAAAAAAAATQAAAAAAAABNAAAAAAAAAE0AAAAAAAAATQAAAAAAAABNAAAAAAAAAFEAAAAAAAAAUQAAAAAAAABRAAAAAAAAAFEAAAAAAAAAUQAAAAAAAABRAAAAAAAAAFEAAAAAAAAAUQAAAAAAAABRAAAAAAAAAFEAAAAAAAAAUQAAAAAAAABRAAAAAAAAAFEAAAAAAAAAUQAAAAAAAABRAAAAAAAAAFEAAAAAAAAAUQAAAAAAAABRAAAAAAAAAFEAAAAAAAAAUQAAAAAAAABRAAAAAAAAAFEAAAAAAAAAUQAAAAAAAABRAAAAAAAAAFEAAAAAAAAAUQAAAAAAAABRAAAAAAAAAFEAAAAAAAAAUQAAAAAAAABRAAAAAAAAAFEA=",
          "dtype": "f8"
         },
         "xaxis": "x2",
         "y": {
          "bdata": "Q2rUiLkbC0BDatSIuRsLQDIX5umeSAtAIsT3SoR1C0AixPdKhHULQCLE90qEdQtAIsT3SoR1C0AixPdKhHULQCLE90qEdQtAEXEJrGmiC0ARcQmsaaILQBFxCaxpogtAEXEJrGmiC0ARcQmsaaILQBFxCaxpogtAAR4bDU/PC0ABHhsNT88LQAEeGw1PzwtAAR4bDU/PC0ABHhsNT88LQAEeGw1PzwtAAR4bDU/PC0ABHhsNT88LQAEeGw1PzwtAAR4bDU/PC0ABHhsNT88LQPDKLG40/AtA8MosbjT8C0DwyixuNPwLQPDKLG40/AtA8MosbjT8C0DwyixuNPwLQPDKLG40/AtA8MosbjT8C0DwyixuNPwLQPDKLG40/AtA8MosbjT8C0DwyixuNPwLQPDKLG40/AtA8MosbjT8C0DwyixuNPwLQPDKLG40/AtA8MosbjT8C0DwyixuNPwLQPDKLG40/AtA8MosbjT8C0DwyixuNPwLQPDKLG40/AtA4Hc+zxkpDEDgdz7PGSkMQOB3Ps8ZKQxA4Hc+zxkpDEDgdz7PGSkMQOB3Ps8ZKQxA4Hc+zxkpDEDgdz7PGSkMQOB3Ps8ZKQxA4Hc+zxkpDEDQJFAw/1UMQNAkUDD/VQxA0CRQMP9VDEDQJFAw/1UMQNAkUDD/VQxA0CRQMP9VDEDQJFAw/1UMQNAkUDD/VQxA0CRQMP9VDEDQJFAw/1UMQNAkUDD/VQxA0CRQMP9VDEDQJFAw/1UMQNAkUDD/VQxA0CRQMP9VDEDQJFAw/1UMQNAkUDD/VQxA0CRQMP9VDEDQJFAw/1UMQNAkUDD/VQxA0CRQMP9VDEDQJFAw/1UMQNAkUDD/VQxA0CRQMP9VDEDQJFAw/1UMQNAkUDD/VQxA0CRQMP9VDEDQJFAw/1UMQNAkUDD/VQxAv9FhkeSCDEC/0WGR5IIMQL/RYZHkggxAv9FhkeSCDEC/0WGR5IIMQL/RYZHkggxAv9FhkeSCDEC/0WGR5IIMQL/RYZHkggxAv9FhkeSCDEC/0WGR5IIMQL/RYZHkggxAv9FhkeSCDEC/0WGR5IIMQL/RYZHkggxAv9FhkeSCDEC/0WGR5IIMQL/RYZHkggxAv9FhkeSCDEC/0WGR5IIMQL/RYZHkggxAv9FhkeSCDEC/0WGR5IIMQL/RYZHkggxAv9FhkeSCDEC/0WGR5IIMQL/RYZHkggxAv9FhkeSCDEC/0WGR5IIMQL/RYZHkggxAv9FhkeSCDEC/0WGR5IIMQL/RYZHkggxAv9FhkeSCDEC/0WGR5IIMQK5+c/LJrwxArn5z8smvDECufnPyya8MQK5+c/LJrwxArn5z8smvDECufnPyya8MQK5+c/LJrwxArn5z8smvDECufnPyya8MQK5+c/LJrwxArn5z8smvDECufnPyya8MQK5+c/LJrwxArn5z8smvDECufnPyya8MQK5+c/LJrwxArn5z8smvDECufnPyya8MQK5+c/LJrwxArn5z8smvDECufnPyya8MQK5+c/LJrwxArn5z8smvDECufnPyya8MQK5+c/LJrwxArn5z8smvDECufnPyya8MQK5+c/LJrwxArn5z8smvDECufnPyya8MQJ4rhVOv3AxAniuFU6/cDECeK4VTr9wMQJ4rhVOv3AxAniuFU6/cDECeK4VTr9wMQJ4rhVOv3AxAniuFU6/cDECeK4VTr9wMQJ4rhVOv3AxAniuFU6/cDECeK4VTr9wMQJ4rhVOv3AxAniuFU6/cDECeK4VTr9wMQJ4rhVOv3AxAniuFU6/cDECeK4VTr9wMQJ4rhVOv3AxAniuFU6/cDECeK4VTr9wMQJ4rhVOv3AxAniuFU6/cDECeK4VTr9wMQJ4rhVOv3AxAniuFU6/cDECeK4VTr9wMQJ4rhVOv3AxAniuFU6/cDECeK4VTr9wMQJ4rhVOv3AxAniuFU6/cDECO2Ja0lAkNQI7YlrSUCQ1AjtiWtJQJDUCO2Ja0lAkNQI7YlrSUCQ1AjtiWtJQJDUCO2Ja0lAkNQI7YlrSUCQ1AjtiWtJQJDUCO2Ja0lAkNQI7YlrSUCQ1AjtiWtJQJDUCO2Ja0lAkNQI7YlrSUCQ1AjtiWtJQJDUCO2Ja0lAkNQI7YlrSUCQ1AjtiWtJQJDUCO2Ja0lAkNQI7YlrSUCQ1AjtiWtJQJDUCO2Ja0lAkNQI7YlrSUCQ1AjtiWtJQJDUCO2Ja0lAkNQI7YlrSUCQ1AjtiWtJQJDUCO2Ja0lAkNQI7YlrSUCQ1AjtiWtJQJDUCO2Ja0lAkNQI7YlrSUCQ1AjtiWtJQJDUCO2Ja0lAkNQI7YlrSUCQ1AjtiWtJQJDUCO2Ja0lAkNQI7YlrSUCQ1AjtiWtJQJDUCO2Ja0lAkNQI7YlrSUCQ1AjtiWtJQJDUCO2Ja0lAkNQI7YlrSUCQ1AjtiWtJQJDUCO2Ja0lAkNQI7YlrSUCQ1AfYWoFXo2DUB9hagVejYNQH2FqBV6Ng1AfYWoFXo2DUB9hagVejYNQH2FqBV6Ng1AfYWoFXo2DUB9hagVejYNQH2FqBV6Ng1AfYWoFXo2DUB9hagVejYNQH2FqBV6Ng1AfYWoFXo2DUB9hagVejYNQH2FqBV6Ng1AfYWoFXo2DUB9hagVejYNQH2FqBV6Ng1AfYWoFXo2DUB9hagVejYNQH2FqBV6Ng1AfYWoFXo2DUB9hagVejYNQH2FqBV6Ng1AfYWoFXo2DUB9hagVejYNQH2FqBV6Ng1AfYWoFXo2DUB9hagVejYNQH2FqBV6Ng1AfYWoFXo2DUB9hagVejYNQH2FqBV6Ng1AfYWoFXo2DUB9hagVejYNQG0yunZfYw1AbTK6dl9jDUBtMrp2X2MNQG0yunZfYw1AbTK6dl9jDUBtMrp2X2MNQG0yunZfYw1AbTK6dl9jDUBtMrp2X2MNQG0yunZfYw1AbTK6dl9jDUBtMrp2X2MNQG0yunZfYw1AbTK6dl9jDUBtMrp2X2MNQG0yunZfYw1AbTK6dl9jDUBtMrp2X2MNQG0yunZfYw1AbTK6dl9jDUBtMrp2X2MNQG0yunZfYw1AbTK6dl9jDUBtMrp2X2MNQG0yunZfYw1AbTK6dl9jDUBtMrp2X2MNQG0yunZfYw1AbTK6dl9jDUBtMrp2X2MNQG0yunZfYw1AbTK6dl9jDUBtMrp2X2MNQG0yunZfYw1AbTK6dl9jDUBtMrp2X2MNQG0yunZfYw1AbTK6dl9jDUBtMrp2X2MNQG0yunZfYw1AXN/L10SQDUBc38vXRJANQFzfy9dEkA1AXN/L10SQDUBc38vXRJANQFzfy9dEkA1AXN/L10SQDUBc38vXRJANQFzfy9dEkA1AXN/L10SQDUBc38vXRJANQFzfy9dEkA1AXN/L10SQDUBc38vXRJANQFzfy9dEkA1AXN/L10SQDUBc38vXRJANQFzfy9dEkA1AXN/L10SQDUBc38vXRJANQFzfy9dEkA1AXN/L10SQDUBc38vXRJANQFzfy9dEkA1AXN/L10SQDUBc38vXRJANQFzfy9dEkA1AXN/L10SQDUBc38vXRJANQFzfy9dEkA1AXN/L10SQDUBc38vXRJANQFzfy9dEkA1AXN/L10SQDUBc38vXRJANQFzfy9dEkA1ATIzdOCq9DUBMjN04Kr0NQEyM3TgqvQ1ATIzdOCq9DUBMjN04Kr0NQEyM3TgqvQ1ATIzdOCq9DUBMjN04Kr0NQEyM3TgqvQ1ATIzdOCq9DUBMjN04Kr0NQEyM3TgqvQ1ATIzdOCq9DUBMjN04Kr0NQEyM3TgqvQ1ATIzdOCq9DUBMjN04Kr0NQEyM3TgqvQ1ATIzdOCq9DUBMjN04Kr0NQEyM3TgqvQ1ATIzdOCq9DUBMjN04Kr0NQEyM3TgqvQ1ATIzdOCq9DUBMjN04Kr0NQEyM3TgqvQ1ATIzdOCq9DUBMjN04Kr0NQEyM3TgqvQ1ATIzdOCq9DUA=",
          "dtype": "f8"
         },
         "yaxis": "y2"
        },
        {
         "fill": "toself",
         "fillcolor": "rgba(0,100,255,0.2)",
         "hoverinfo": "skip",
         "line": {
          "color": "rgba(255,255,255,0)"
         },
         "name": "95% CI",
         "showlegend": true,
         "type": "scatter",
         "x": {
          "bdata": "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",
          "dtype": "f8"
         },
         "xaxis": "x2",
         "y": {
          "bdata": "Mvnbc85wDUAy+dtzznANQJgapay/aA1A9fq/dW5hDUD1+r91bmENQPX6v3VuYQ1A9fq/dW5hDUD1+r91bmENQPX6v3VuYQ1ALiy9NB5bDUAuLL00HlsNQC4svTQeWw1ALiy9NB5bDUAuLL00HlsNQC4svTQeWw1AqfMl9DNWDUCp8yX0M1YNQKnzJfQzVg1AqfMl9DNWDUCp8yX0M1YNQKnzJfQzVg1AqfMl9DNWDUCp8yX0M1YNQKnzJfQzVg1AqfMl9DNWDUCp8yX0M1YNQKNf5cRLUw1Ao1/lxEtTDUCjX+XES1MNQKNf5cRLUw1Ao1/lxEtTDUCjX+XES1MNQKNf5cRLUw1Ao1/lxEtTDUCjX+XES1MNQKNf5cRLUw1Ao1/lxEtTDUCjX+XES1MNQKNf5cRLUw1Ao1/lxEtTDUCjX+XES1MNQKNf5cRLUw1Ao1/lxEtTDUCjX+XES1MNQKNf5cRLUw1Ao1/lxEtTDUCjX+XES1MNQKNf5cRLUw1AKghkOV1TDUAqCGQ5XVMNQCoIZDldUw1AKghkOV1TDUAqCGQ5XVMNQCoIZDldUw1AKghkOV1TDUAqCGQ5XVMNQCoIZDldUw1AKghkOV1TDUDdMz+U9lcNQN0zP5T2Vw1A3TM/lPZXDUDdMz+U9lcNQN0zP5T2Vw1A3TM/lPZXDUDdMz+U9lcNQN0zP5T2Vw1A3TM/lPZXDUDdMz+U9lcNQN0zP5T2Vw1A3TM/lPZXDUDdMz+U9lcNQN0zP5T2Vw1A3TM/lPZXDUDdMz+U9lcNQN0zP5T2Vw1A3TM/lPZXDUDdMz+U9lcNQN0zP5T2Vw1A3TM/lPZXDUDdMz+U9lcNQN0zP5T2Vw1A3TM/lPZXDUDdMz+U9lcNQN0zP5T2Vw1A3TM/lPZXDUDdMz+U9lcNQN0zP5T2Vw1AJBIdbotjDUAkEh1ui2MNQCQSHW6LYw1AJBIdbotjDUAkEh1ui2MNQCQSHW6LYw1AJBIdbotjDUAkEh1ui2MNQCQSHW6LYw1AJBIdbotjDUAkEh1ui2MNQCQSHW6LYw1AJBIdbotjDUAkEh1ui2MNQCQSHW6LYw1AJBIdbotjDUAkEh1ui2MNQCQSHW6LYw1AJBIdbotjDUAkEh1ui2MNQCQSHW6LYw1AJBIdbotjDUAkEh1ui2MNQCQSHW6LYw1AJBIdbotjDUAkEh1ui2MNQCQSHW6LYw1AJBIdbotjDUAkEh1ui2MNQCQSHW6LYw1AJBIdbotjDUAkEh1ui2MNQCQSHW6LYw1AJBIdbotjDUAkEh1ui2MNQFOQ1byYeQ1AU5DVvJh5DUBTkNW8mHkNQFOQ1byYeQ1AU5DVvJh5DUBTkNW8mHkNQFOQ1byYeQ1AU5DVvJh5DUBTkNW8mHkNQFOQ1byYeQ1AU5DVvJh5DUBTkNW8mHkNQFOQ1byYeQ1AU5DVvJh5DUBTkNW8mHkNQFOQ1byYeQ1AU5DVvJh5DUBTkNW8mHkNQFOQ1byYeQ1AU5DVvJh5DUBTkNW8mHkNQFOQ1byYeQ1AU5DVvJh5DUBTkNW8mHkNQFOQ1byYeQ1AU5DVvJh5DUBTkNW8mHkNQFOQ1byYeQ1AU5DVvJh5DUBTkNW8mHkNQBm66bXenQ1AGbrptd6dDUAZuum13p0NQBm66bXenQ1AGbrptd6dDUAZuum13p0NQBm66bXenQ1AGbrptd6dDUAZuum13p0NQBm66bXenQ1AGbrptd6dDUAZuum13p0NQBm66bXenQ1AGbrptd6dDUAZuum13p0NQBm66bXenQ1AGbrptd6dDUAZuum13p0NQBm66bXenQ1AGbrptd6dDUAZuum13p0NQBm66bXenQ1AGbrptd6dDUAZuum13p0NQBm66bXenQ1AGbrptd6dDUAZuum13p0NQBm66bXenQ1AGbrptd6dDUAZuum13p0NQBm66bXenQ1AGbrptd6dDUCE2/DtNNINQITb8O000g1AhNvw7TTSDUCE2/DtNNINQITb8O000g1AhNvw7TTSDUCE2/DtNNINQITb8O000g1AhNvw7TTSDUCE2/DtNNINQITb8O000g1AhNvw7TTSDUCE2/DtNNINQITb8O000g1AhNvw7TTSDUCE2/DtNNINQITb8O000g1AhNvw7TTSDUCE2/DtNNINQITb8O000g1AhNvw7TTSDUCE2/DtNNINQITb8O000g1AhNvw7TTSDUCE2/DtNNINQITb8O000g1AhNvw7TTSDUCE2/DtNNINQITb8O000g1AhNvw7TTSDUCE2/DtNNINQITb8O000g1AhNvw7TTSDUCE2/DtNNINQITb8O000g1AhNvw7TTSDUCE2/DtNNINQITb8O000g1AhNvw7TTSDUCE2/DtNNINQITb8O000g1AhNvw7TTSDUCE2/DtNNINQITb8O000g1AhNvw7TTSDUCE2/DtNNINQITb8O000g1A11FoXAAVDkDXUWhcABUOQNdRaFwAFQ5A11FoXAAVDkDXUWhcABUOQNdRaFwAFQ5A11FoXAAVDkDXUWhcABUOQNdRaFwAFQ5A11FoXAAVDkDXUWhcABUOQNdRaFwAFQ5A11FoXAAVDkDXUWhcABUOQNdRaFwAFQ5A11FoXAAVDkDXUWhcABUOQNdRaFwAFQ5A11FoXAAVDkDXUWhcABUOQNdRaFwAFQ5A11FoXAAVDkDXUWhcABUOQNdRaFwAFQ5A11FoXAAVDkDXUWhcABUOQNdRaFwAFQ5A11FoXAAVDkDXUWhcABUOQNdRaFwAFQ5A11FoXAAVDkDXUWhcABUOQNdRaFwAFQ5A11FoXAAVDkDXUWhcABUOQCDqRwCPYg5AIOpHAI9iDkAg6kcAj2IOQCDqRwCPYg5AIOpHAI9iDkAg6kcAj2IOQCDqRwCPYg5AIOpHAI9iDkAg6kcAj2IOQCDqRwCPYg5AIOpHAI9iDkAg6kcAj2IOQCDqRwCPYg5AIOpHAI9iDkAg6kcAj2IOQCDqRwCPYg5AIOpHAI9iDkAg6kcAj2IOQCDqRwCPYg5AIOpHAI9iDkAg6kcAj2IOQCDqRwCPYg5AIOpHAI9iDkAg6kcAj2IOQCDqRwCPYg5AIOpHAI9iDkAg6kcAj2IOQCDqRwCPYg5AIOpHAI9iDkAg6kcAj2IOQCDqRwCPYg5AIOpHAI9iDkAg6kcAj2IOQCDqRwCPYg5AIOpHAI9iDkAg6kcAj2IOQCDqRwCPYg5AIOpHAI9iDkAg6kcAj2IOQCDqRwCPYg5A0o+KXVO3DkDSj4pdU7cOQNKPil1Ttw5A0o+KXVO3DkDSj4pdU7cOQNKPil1Ttw5A0o+KXVO3DkDSj4pdU7cOQNKPil1Ttw5A0o+KXVO3DkDSj4pdU7cOQNKPil1Ttw5A0o+KXVO3DkDSj4pdU7cOQNKPil1Ttw5A0o+KXVO3DkDSj4pdU7cOQNKPil1Ttw5A0o+KXVO3DkDSj4pdU7cOQNKPil1Ttw5A0o+KXVO3DkDSj4pdU7cOQNKPil1Ttw5A0o+KXVO3DkDSj4pdU7cOQNKPil1Ttw5A0o+KXVO3DkDSj4pdU7cOQNKPil1Ttw5A0o+KXVO3DkDSj4pdU7cOQNKPil1Ttw5A0o+KXVO3DkDSj4pdU7cOQNKPil1Ttw5AFGzOyMUQD0AUbM7IxRAPQBRszsjFEA9AFGzOyMUQD0AUbM7IxRAPQBRszsjFEA9AFGzOyMUQD0AUbM7IxRAPQBRszsjFEA9AFGzOyMUQD0AUbM7IxRAPQBRszsjFEA9AFGzOyMUQD0AUbM7IxRAPQBRszsjFEA9AFGzOyMUQD0AUbM7IxRAPQBRszsjFEA9AFGzOyMUQD0AUbM7IxRAPQBRszsjFEA9AFGzOyMUQD0AUbM7IxRAPQBRszsjFEA9AFGzOyMUQD0AUbM7IxRAPQBRszsjFEA9AFGzOyMUQD0AUbM7IxRAPQBRszsjFEA9AFGzOyMUQD0CErOyojmkMQISs7KiOaQxAhKzsqI5pDECErOyojmkMQISs7KiOaQxAhKzsqI5pDECErOyojmkMQISs7KiOaQxAhKzsqI5pDECErOyojmkMQISs7KiOaQxAhKzsqI5pDECErOyojmkMQISs7KiOaQxAhKzsqI5pDECErOyojmkMQISs7KiOaQxAhKzsqI5pDECErOyojmkMQISs7KiOaQxAhKzsqI5pDECErOyojmkMQISs7KiOaQxAhKzsqI5pDECErOyojmkMQISs7KiOaQxAhKzsqI5pDECErOyojmkMQISs7KiOaQxAhKzsqI5pDECErOyojmkMQOYuDVI2aQxA5i4NUjZpDEDmLg1SNmkMQOYuDVI2aQxA5i4NUjZpDEDmLg1SNmkMQOYuDVI2aQxA5i4NUjZpDEDmLg1SNmkMQOYuDVI2aQxA5i4NUjZpDEDmLg1SNmkMQOYuDVI2aQxA5i4NUjZpDEDmLg1SNmkMQOYuDVI2aQxA5i4NUjZpDEDmLg1SNmkMQOYuDVI2aQxA5i4NUjZpDEDmLg1SNmkMQOYuDVI2aQxA5i4NUjZpDEDmLg1SNmkMQOYuDVI2aQxA5i4NUjZpDEDmLg1SNmkMQOYuDVI2aQxA5i4NUjZpDEDmLg1SNmkMQOYuDVI2aQxA5i4NUjZpDEDmLg1SNmkMQOYuDVI2aQxA5i4NUjZpDEDmLg1SNmkMQLp6LO0vZAxAunos7S9kDEC6eiztL2QMQLp6LO0vZAxAunos7S9kDEC6eiztL2QMQLp6LO0vZAxAunos7S9kDEC6eiztL2QMQLp6LO0vZAxAunos7S9kDEC6eiztL2QMQLp6LO0vZAxAunos7S9kDEC6eiztL2QMQLp6LO0vZAxAunos7S9kDEC6eiztL2QMQLp6LO0vZAxAunos7S9kDEC6eiztL2QMQLp6LO0vZAxAunos7S9kDEC6eiztL2QMQLp6LO0vZAxAunos7S9kDEC6eiztL2QMQLp6LO0vZAxAunos7S9kDEC6eiztL2QMQLp6LO0vZAxAunos7S9kDEC6eiztL2QMQLp6LO0vZAxAunos7S9kDEC6eiztL2QMQLp6LO0vZAxAunos7S9kDEC6eiztL2QMQLp6LO0vZAxAI7nozvNXDEAjuejO81cMQCO56M7zVwxAI7nozvNXDEAjuejO81cMQCO56M7zVwxAI7nozvNXDEAjuejO81cMQCO56M7zVwxAI7nozvNXDEAjuejO81cMQCO56M7zVwxAI7nozvNXDEAjuejO81cMQCO56M7zVwxAI7nozvNXDEAjuejO81cMQCO56M7zVwxAI7nozvNXDEAjuejO81cMQCO56M7zVwxAI7nozvNXDEAjuejO81cMQCO56M7zVwxAI7nozvNXDEAjuejO81cMQCO56M7zVwxAI7nozvNXDEAjuejO81cMQCO56M7zVwxAI7nozvNXDEAjuejO81cMQCO56M7zVwxAI7nozvNXDEAjuejO81cMQJjVPHv0QAxAmNU8e/RADECY1Tx79EAMQJjVPHv0QAxAmNU8e/RADECY1Tx79EAMQJjVPHv0QAxAmNU8e/RADECY1Tx79EAMQJjVPHv0QAxAmNU8e/RADECY1Tx79EAMQJjVPHv0QAxAmNU8e/RADECY1Tx79EAMQJjVPHv0QAxAmNU8e/RADECY1Tx79EAMQJjVPHv0QAxAmNU8e/RADECY1Tx79EAMQJjVPHv0QAxAmNU8e/RADECY1Tx79EAMQJjVPHv0QAxAmNU8e/RADECY1Tx79EAMQJjVPHv0QAxAmNU8e/RADECY1Tx79EAMQJjVPHv0QAxAmNU8e/RADECY1Tx79EAMQJjVPHv0QAxAmNU8e/RADECY1Tx79EAMQJjVPHv0QAxAmNU8e/RADECY1Tx79EAMQJjVPHv0QAxAmNU8e/RADECY1Tx79EAMQJjVPHv0QAxAmNU8e/RADECY1Tx79EAMQJjVPHv0QAxAmNU8e/RADEAjnSDxfxsMQCOdIPF/GwxAI50g8X8bDEAjnSDxfxsMQCOdIPF/GwxAI50g8X8bDEAjnSDxfxsMQCOdIPF/GwxAI50g8X8bDEAjnSDxfxsMQCOdIPF/GwxAI50g8X8bDEAjnSDxfxsMQCOdIPF/GwxAI50g8X8bDEAjnSDxfxsMQCOdIPF/GwxAI50g8X8bDEAjnSDxfxsMQCOdIPF/GwxAI50g8X8bDEAjnSDxfxsMQCOdIPF/GwxAI50g8X8bDEAjnSDxfxsMQCOdIPF/GwxAI50g8X8bDEAjnSDxfxsMQCOdIPF/GwxAI50g8X8bDEAjnSDxfxsMQCOdIPF/GwxACW0RKPvlC0AJbREo++ULQAltESj75QtACW0RKPvlC0AJbREo++ULQAltESj75QtACW0RKPvlC0AJbREo++ULQAltESj75QtACW0RKPvlC0AJbREo++ULQAltESj75QtACW0RKPvlC0AJbREo++ULQAltESj75QtACW0RKPvlC0AJbREo++ULQAltESj75QtACW0RKPvlC0AJbREo++ULQAltESj75QtACW0RKPvlC0AJbREo++ULQAltESj75QtACW0RKPvlC0AJbREo++ULQAltESj75QtACW0RKPvlC0AJbREo++ULQAltESj75QtAWpGmtD2iC0Bakaa0PaILQFqRprQ9ogtAWpGmtD2iC0Bakaa0PaILQFqRprQ9ogtAWpGmtD2iC0Bakaa0PaILQFqRprQ9ogtAWpGmtD2iC0Bakaa0PaILQFqRprQ9ogtAWpGmtD2iC0Bakaa0PaILQFqRprQ9ogtAWpGmtD2iC0Bakaa0PaILQFqRprQ9ogtAWpGmtD2iC0Bakaa0PaILQFqRprQ9ogtAWpGmtD2iC0Bakaa0PaILQFqRprQ9ogtAWpGmtD2iC0Bakaa0PaILQFqRprQ9ogtAWpGmtD2iC0Bakaa0PaILQFqRprQ9ogtAWpGmtD2iC0Bakaa0PaILQFqRprQ9ogtAWpGmtD2iC0Bakaa0PaILQMMVYcwHVAtAwxVhzAdUC0DDFWHMB1QLQMMVYcwHVAtAwxVhzAdUC0DDFWHMB1QLQMMVYcwHVAtAwxVhzAdUC0DDFWHMB1QLQMMVYcwHVAtAwxVhzAdUC0DDFWHMB1QLQMMVYcwHVAtAwxVhzAdUC0DDFWHMB1QLQMMVYcwHVAtAwxVhzAdUC0DDFWHMB1QLQMMVYcwHVAtAwxVhzAdUC0DDFWHMB1QLQMMVYcwHVAtAwxVhzAdUC0DDFWHMB1QLQMMVYcwHVAtAwxVhzAdUC0DDFWHMB1QLQMMVYcwHVAtAwxVhzAdUC0CW5xhl1v4KQJbnGGXW/gpAlucYZdb+CkCW5xhl1v4KQJbnGGXW/gpAlucYZdb+CkCW5xhl1v4KQJbnGGXW/gpAlucYZdb+CkCW5xhl1v4KQD02dBcdpQpAPTZ0Fx2lCkA9NnQXHaUKQD02dBcdpQpAPTZ0Fx2lCkA9NnQXHaUKQD02dBcdpQpAPTZ0Fx2lCkA9NnQXHaUKQD02dBcdpQpAPTZ0Fx2lCkA9NnQXHaUKQD02dBcdpQpAPTZ0Fx2lCkA9NnQXHaUKQD02dBcdpQpAPTZ0Fx2lCkA9NnQXHaUKQD02dBcdpQpAPTZ0Fx2lCkA9NnQXHaUKQD02dBcdpQpAWUgQJmpICkBZSBAmakgKQFlIECZqSApAWUgQJmpICkBZSBAmakgKQFlIECZqSApAWUgQJmpICkBZSBAmakgKQFlIECZqSApAWUgQJmpICkBZSBAmakgKQPS1VSO16QlA9LVVI7XpCUD0tVUjtekJQPS1VSO16QlA9LVVI7XpCUD0tVUjtekJQE+NLyCaiQlAT40vIJqJCUBPjS8gmokJQE+NLyCaiQlAT40vIJqJCUBPjS8gmokJQMwTJyd+KAlAVNvMnaTGCEBU28ydpMYIQA==",
          "dtype": "f8"
         },
         "yaxis": "y2"
        },
        {
         "marker": {
          "color": "black",
          "opacity": 0.6
         },
         "mode": "markers",
         "name": "Participants",
         "type": "scatter",
         "x": {
          "bdata": "AAAAAAAA/D8AAAAAAAAEQAAAAAAAAAxAAAAAAAAAAkAAAAAAAAARQAAAAAAAAApAAAAAAAAA9D8AAAAAAAAIQAAAAAAAAAZAAAAAAAAA8D8AAAAAAAAQQAAAAAAAAApAAAAAAAAACkAAAAAAAAAMQAAAAAAAAAZAAAAAAAAABkAAAAAAAAAMQAAAAAAAAAxAAAAAAAAA9D8AAAAAAAD0PwAAAAAAAPQ/AAAAAAAAE0AAAAAAAAASQAAAAAAAAPw/AAAAAAAAEEAAAAAAAADwPwAAAAAAAPA/AAAAAAAAEEAAAAAAAAAGQAAAAAAAAPw/AAAAAAAA/D8AAAAAAAAOQAAAAAAAAApAAAAAAAAA8D8AAAAAAAAQQAAAAAAAAAxAAAAAAAAACkAAAAAAAAD0PwAAAAAAABBAAAAAAAAAAkAAAAAAAAATQAAAAAAAAPA/AAAAAAAAAEAAAAAAAAAMQAAAAAAAABFAAAAAAAAA8D8AAAAAAAAQQAAAAAAAAABAAAAAAAAA/D8AAAAAAAAIQAAAAAAAABRAAAAAAAAACkAAAAAAAADwPwAAAAAAAABAAAAAAAAAAEAAAAAAAAAKQAAAAAAAAARAAAAAAAAACEAAAAAAAAAMQAAAAAAAABNAAAAAAAAAEEAAAAAAAAAOQAAAAAAAAABAAAAAAAAADkAAAAAAAAAOQAAAAAAAAAxAAAAAAAAACkAAAAAAAAATQAAAAAAAAApAAAAAAAAACEAAAAAAAAAKQAAAAAAAAAhAAAAAAAAAEEAAAAAAAAAQQAAAAAAAAARAAAAAAAAAAkAAAAAAAAAKQAAAAAAAAABAAAAAAAAA/D8AAAAAAAAKQAAAAAAAAPA/AAAAAAAABEAAAAAAAAD4PwAAAAAAAABAAAAAAAAABEAAAAAAAAACQAAAAAAAAARAAAAAAAAADEAAAAAAAAAAQAAAAAAAAAJAAAAAAAAADkAAAAAAAAAMQAAAAAAAAPA/AAAAAAAA+D8AAAAAAAARQAAAAAAAAABAAAAAAAAA+D8AAAAAAAAOQAAAAAAAAPw/AAAAAAAA+D8AAAAAAAAIQAAAAAAAAABAAAAAAAAA8D8AAAAAAAACQAAAAAAAAARAAAAAAAAAAEAAAAAAAAAMQAAAAAAAAPA/AAAAAAAA+D8AAAAAAAD8PwAAAAAAAABAAAAAAAAACEAAAAAAAAAEQAAAAAAAAAxAAAAAAAAADEAAAAAAAAAMQAAAAAAAAA5AAAAAAAAA/D8AAAAAAAAOQAAAAAAAAABAAAAAAAAACEAAAAAAAAAAQAAAAAAAAPg/AAAAAAAAAEAAAAAAAAACQAAAAAAAAAJAAAAAAAAABEAAAAAAAAD8PwAAAAAAAAhAAAAAAAAAEUAAAAAAAAAEQAAAAAAAAABAAAAAAAAA8D8AAAAAAAARQAAAAAAAAPQ/AAAAAAAA8D8AAAAAAAD8PwAAAAAAABFAAAAAAAAA8D8AAAAAAAAQQAAAAAAAABFAAAAAAAAADEAAAAAAAAAMQAAAAAAAABNAAAAAAAAA8D8AAAAAAAAKQAAAAAAAAAxAAAAAAAAAAkAAAAAAAAAIQAAAAAAAABRAAAAAAAAA8D8AAAAAAAASQAAAAAAAAABAAAAAAAAAAkAAAAAAAAAGQAAAAAAAABFAAAAAAAAADEAAAAAAAAAUQAAAAAAAAARAAAAAAAAADEAAAAAAAAD8PwAAAAAAAAZAAAAAAAAADEAAAAAAAAATQAAAAAAAAABAAAAAAAAA8D8AAAAAAAAAQAAAAAAAAARAAAAAAAAAEEAAAAAAAAD0PwAAAAAAAAxAAAAAAAAACEAAAAAAAAAIQAAAAAAAAAxAAAAAAAAAAEAAAAAAAAAGQAAAAAAAAA5AAAAAAAAACkAAAAAAAAD4PwAAAAAAAPA/AAAAAAAABEAAAAAAAAAGQAAAAAAAAPA/AAAAAAAAAEAAAAAAAAAKQAAAAAAAAApAAAAAAAAAAkAAAAAAAAAQQAAAAAAAAAJAAAAAAAAACkAAAAAAAAAQQAAAAAAAABBAAAAAAAAAAkAAAAAAAAAKQAAAAAAAAA5AAAAAAAAA8D8AAAAAAAAQQAAAAAAAAAJAAAAAAAAADkAAAAAAAAAIQAAAAAAAABJAAAAAAAAAEkAAAAAAAAACQAAAAAAAAPA/AAAAAAAACEAAAAAAAAAUQAAAAAAAAPg/AAAAAAAAEUAAAAAAAAAIQAAAAAAAAARAAAAAAAAA+D8AAAAAAAAQQAAAAAAAABBAAAAAAAAAAkAAAAAAAAACQAAAAAAAAPw/AAAAAAAAEUAAAAAAAAD8PwAAAAAAAPg/AAAAAAAACEAAAAAAAAAAQAAAAAAAAApAAAAAAAAADEAAAAAAAAACQAAAAAAAAABAAAAAAAAACEAAAAAAAAACQAAAAAAAAPw/AAAAAAAA/D8AAAAAAAAMQAAAAAAAABRAAAAAAAAABEAAAAAAAAAGQAAAAAAAAAZAAAAAAAAAAEAAAAAAAAARQAAAAAAAAPQ/AAAAAAAADEAAAAAAAAATQAAAAAAAAApAAAAAAAAAEEAAAAAAAAAQQAAAAAAAAAJAAAAAAAAAAkAAAAAAAAAMQAAAAAAAAApAAAAAAAAA+D8AAAAAAAAKQAAAAAAAAABAAAAAAAAA8D8AAAAAAAAEQAAAAAAAAABAAAAAAAAABkAAAAAAAAAOQAAAAAAAAApAAAAAAAAAEkAAAAAAAAAAQAAAAAAAAAxAAAAAAAAA/D8AAAAAAAAKQAAAAAAAABBAAAAAAAAA8D8AAAAAAAD8PwAAAAAAAApAAAAAAAAA8D8AAAAAAAD4PwAAAAAAABJAAAAAAAAABkAAAAAAAAAAQAAAAAAAAApAAAAAAAAAAkAAAAAAAAAOQAAAAAAAABBAAAAAAAAACEAAAAAAAAAKQAAAAAAAAPw/AAAAAAAACkAAAAAAAAAAQAAAAAAAAAZAAAAAAAAABkAAAAAAAAAEQAAAAAAAAApAAAAAAAAAAkAAAAAAAADwPwAAAAAAAPQ/AAAAAAAADEAAAAAAAAD8PwAAAAAAAPA/AAAAAAAACEAAAAAAAAAAQAAAAAAAAAhAAAAAAAAAAEAAAAAAAAAEQAAAAAAAAAhAAAAAAAAACEAAAAAAAAAMQAAAAAAAABJAAAAAAAAADEAAAAAAAAAOQAAAAAAAAPg/AAAAAAAACkAAAAAAAAAGQAAAAAAAAPg/AAAAAAAAEUAAAAAAAAAQQAAAAAAAAAxAAAAAAAAAAEAAAAAAAAD8PwAAAAAAAPw/AAAAAAAA+D8AAAAAAAACQAAAAAAAAABAAAAAAAAADkAAAAAAAAD4PwAAAAAAAAhAAAAAAAAA8D8AAAAAAAAIQAAAAAAAAPA/AAAAAAAA+D8AAAAAAAAOQAAAAAAAAAJAAAAAAAAAEUAAAAAAAAACQAAAAAAAAAJAAAAAAAAACEAAAAAAAAAKQAAAAAAAAPQ/AAAAAAAA9D8AAAAAAAAKQAAAAAAAAAZAAAAAAAAACEAAAAAAAAACQAAAAAAAAAxAAAAAAAAA8D8AAAAAAAAIQAAAAAAAAA5AAAAAAAAACkAAAAAAAAD8PwAAAAAAAAhAAAAAAAAACEAAAAAAAAAIQAAAAAAAAABAAAAAAAAA9D8AAAAAAAAAQAAAAAAAAPA/AAAAAAAACEAAAAAAAAAGQAAAAAAAAPg/AAAAAAAACEAAAAAAAAD4PwAAAAAAAPA/AAAAAAAADkAAAAAAAAAOQAAAAAAAAAhAAAAAAAAA+D8AAAAAAAAIQAAAAAAAAPA/AAAAAAAACEAAAAAAAAAGQAAAAAAAAAJAAAAAAAAAAkAAAAAAAAAGQAAAAAAAAPw/AAAAAAAADEAAAAAAAAAOQAAAAAAAABJAAAAAAAAABkAAAAAAAAAMQAAAAAAAAPw/AAAAAAAACkAAAAAAAAAEQAAAAAAAAApAAAAAAAAABEA=",
          "dtype": "f8"
         },
         "xaxis": "x3",
         "y": {
          "bdata": "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",
          "dtype": "f8"
         },
         "yaxis": "y3"
        },
        {
         "line": {
          "color": "blue"
         },
         "mode": "lines",
         "name": "Regression Line",
         "type": "scatter",
         "x": {
          "bdata": "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",
          "dtype": "f8"
         },
         "xaxis": "x3",
         "y": {
          "bdata": "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",
          "dtype": "f8"
         },
         "yaxis": "y3"
        },
        {
         "fill": "toself",
         "fillcolor": "rgba(0,100,255,0.2)",
         "hoverinfo": "skip",
         "line": {
          "color": "rgba(255,255,255,0)"
         },
         "name": "95% CI",
         "showlegend": true,
         "type": "scatter",
         "x": {
          "bdata": "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",
          "dtype": "f8"
         },
         "xaxis": "x3",
         "y": {
          "bdata": "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",
          "dtype": "f8"
         },
         "yaxis": "y3"
        },
        {
         "marker": {
          "color": "black",
          "opacity": 0.6
         },
         "mode": "markers",
         "name": "Participants",
         "type": "scatter",
         "x": {
          "bdata": "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",
          "dtype": "f8"
         },
         "xaxis": "x4",
         "y": {
          "bdata": "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",
          "dtype": "f8"
         },
         "yaxis": "y4"
        },
        {
         "line": {
          "color": "blue"
         },
         "mode": "lines",
         "name": "Regression Line",
         "type": "scatter",
         "x": {
          "bdata": "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",
          "dtype": "f8"
         },
         "xaxis": "x4",
         "y": {
          "bdata": "RgDxkI6F/j9CyQyJRYECQPY2PkkalgNA9jY+SRqWA0D2Nj5JGpYDQPY2PkkalgNA9jY+SRqWA0D2Nj5JGpYDQPY2PkkalgNA9jY+SRqWA0D2Nj5JGpYDQPY2PkkalgNArKRvCe+qBECspG8J76oEQKykbwnvqgRArKRvCe+qBECspG8J76oEQKykbwnvqgRArKRvCe+qBECspG8J76oEQKykbwnvqgRArKRvCe+qBECspG8J76oEQKykbwnvqgRAYBKhycO/BUBgEqHJw78FQGASocnDvwVAYBKhycO/BUBgEqHJw78FQGASocnDvwVAYBKhycO/BUAVgNKJmNQGQBWA0omY1AZAFYDSiZjUBkAVgNKJmNQGQBWA0omY1AZAFYDSiZjUBkAVgNKJmNQGQBWA0omY1AZAFYDSiZjUBkAVgNKJmNQGQBWA0omY1AZAFYDSiZjUBkAVgNKJmNQGQMrtA0pt6QdAyu0DSm3pB0DK7QNKbekHQMrtA0pt6QdAyu0DSm3pB0DK7QNKbekHQMrtA0pt6QdAyu0DSm3pB0DK7QNKbekHQMrtA0pt6QdAyu0DSm3pB0DK7QNKbekHQMrtA0pt6QdAyu0DSm3pB0DK7QNKbekHQMrtA0pt6QdAyu0DSm3pB0DK7QNKbekHQMrtA0pt6QdAyu0DSm3pB0DK7QNKbekHQMrtA0pt6QdAyu0DSm3pB0DK7QNKbekHQMrtA0pt6QdAyu0DSm3pB0DK7QNKbekHQMrtA0pt6QdAyu0DSm3pB0DK7QNKbekHQH5bNQpC/ghAfls1CkL+CEB+WzUKQv4IQH5bNQpC/ghAfls1CkL+CEB+WzUKQv4IQH5bNQpC/ghAfls1CkL+CEB+WzUKQv4IQH5bNQpC/ghAfls1CkL+CEB+WzUKQv4IQH5bNQpC/ghAfls1CkL+CEB+WzUKQv4IQH5bNQpC/ghAfls1CkL+CEB+WzUKQv4IQH5bNQpC/ghAfls1CkL+CEB+WzUKQv4IQH5bNQpC/ghAfls1CkL+CEB+WzUKQv4IQH5bNQpC/ghAfls1CkL+CEB+WzUKQv4IQH5bNQpC/ghAfls1CkL+CEB+WzUKQv4IQH5bNQpC/ghAfls1CkL+CEB+WzUKQv4IQH5bNQpC/ghAfls1CkL+CEB+WzUKQv4IQH5bNQpC/ghAfls1CkL+CEB+WzUKQv4IQH5bNQpC/ghANMlmyhYTCkA0yWbKFhMKQDTJZsoWEwpANMlmyhYTCkA0yWbKFhMKQDTJZsoWEwpANMlmyhYTCkA0yWbKFhMKQDTJZsoWEwpANMlmyhYTCkA0yWbKFhMKQDTJZsoWEwpANMlmyhYTCkA0yWbKFhMKQDTJZsoWEwpANMlmyhYTCkA0yWbKFhMKQDTJZsoWEwpANMlmyhYTCkA0yWbKFhMKQDTJZsoWEwpANMlmyhYTCkA0yWbKFhMKQDTJZsoWEwpANMlmyhYTCkA0yWbKFhMKQDTJZsoWEwpANMlmyhYTCkA0yWbKFhMKQDTJZsoWEwpANMlmyhYTCkA0yWbKFhMKQDTJZsoWEwpA6DaYiusnC0DoNpiK6ycLQOg2mIrrJwtA6DaYiusnC0DoNpiK6ycLQOg2mIrrJwtA6DaYiusnC0DoNpiK6ycLQOg2mIrrJwtA6DaYiusnC0DoNpiK6ycLQOg2mIrrJwtA6DaYiusnC0DoNpiK6ycLQOg2mIrrJwtA6DaYiusnC0DoNpiK6ycLQOg2mIrrJwtA6DaYiusnC0DoNpiK6ycLQOg2mIrrJwtA6DaYiusnC0DoNpiK6ycLQOg2mIrrJwtAnaTJSsA8DECdpMlKwDwMQJ2kyUrAPAxAnaTJSsA8DECdpMlKwDwMQJ2kyUrAPAxAnaTJSsA8DECdpMlKwDwMQJ2kyUrAPAxAnaTJSsA8DECdpMlKwDwMQJ2kyUrAPAxAnaTJSsA8DECdpMlKwDwMQJ2kyUrAPAxAnaTJSsA8DECdpMlKwDwMQJ2kyUrAPAxAnaTJSsA8DECdpMlKwDwMQJ2kyUrAPAxAnaTJSsA8DECdpMlKwDwMQJ2kyUrAPAxAnaTJSsA8DECdpMlKwDwMQJ2kyUrAPAxAnaTJSsA8DECdpMlKwDwMQJ2kyUrAPAxAnaTJSsA8DECdpMlKwDwMQJ2kyUrAPAxAnaTJSsA8DECdpMlKwDwMQJ2kyUrAPAxAnaTJSsA8DECdpMlKwDwMQJ2kyUrAPAxAnaTJSsA8DECdpMlKwDwMQJ2kyUrAPAxAnaTJSsA8DECdpMlKwDwMQJ2kyUrAPAxAnaTJSsA8DECdpMlKwDwMQJ2kyUrAPAxAnaTJSsA8DECdpMlKwDwMQJ2kyUrAPAxAnaTJSsA8DECdpMlKwDwMQJ2kyUrAPAxAnaTJSsA8DECdpMlKwDwMQJ2kyUrAPAxAnaTJSsA8DECdpMlKwDwMQJ2kyUrAPAxAnaTJSsA8DEBSEvsKlVENQFIS+wqVUQ1AUhL7CpVRDUBSEvsKlVENQFIS+wqVUQ1AUhL7CpVRDUBSEvsKlVENQFIS+wqVUQ1AUhL7CpVRDUBSEvsKlVENQFIS+wqVUQ1AUhL7CpVRDUBSEvsKlVENQFIS+wqVUQ1AUhL7CpVRDUBSEvsKlVENQFIS+wqVUQ1AUhL7CpVRDUBSEvsKlVENQFIS+wqVUQ1AUhL7CpVRDUBSEvsKlVENQFIS+wqVUQ1AUhL7CpVRDUBSEvsKlVENQFIS+wqVUQ1AUhL7CpVRDUBSEvsKlVENQFIS+wqVUQ1AUhL7CpVRDUBSEvsKlVENQFIS+wqVUQ1AUhL7CpVRDUBSEvsKlVENQFIS+wqVUQ1AUhL7CpVRDUBSEvsKlVENQFIS+wqVUQ1AUhL7CpVRDUBSEvsKlVENQAeALMtpZg5AB4Asy2lmDkAHgCzLaWYOQAeALMtpZg5AB4Asy2lmDkAHgCzLaWYOQAeALMtpZg5AB4Asy2lmDkAHgCzLaWYOQAeALMtpZg5AB4Asy2lmDkAHgCzLaWYOQAeALMtpZg5AB4Asy2lmDkAHgCzLaWYOQAeALMtpZg5AB4Asy2lmDkAHgCzLaWYOQAeALMtpZg5AB4Asy2lmDkAHgCzLaWYOQAeALMtpZg5AB4Asy2lmDkAHgCzLaWYOQAeALMtpZg5AB4Asy2lmDkAHgCzLaWYOQAeALMtpZg5AB4Asy2lmDkAHgCzLaWYOQAeALMtpZg5AB4Asy2lmDkAHgCzLaWYOQAeALMtpZg5AB4Asy2lmDkAHgCzLaWYOQAeALMtpZg5AB4Asy2lmDkAHgCzLaWYOQAeALMtpZg5AB4Asy2lmDkAHgCzLaWYOQAeALMtpZg5AB4Asy2lmDkC77V2LPnsPQLvtXYs+ew9Au+1diz57D0C77V2LPnsPQLvtXYs+ew9Au+1diz57D0C77V2LPnsPQLvtXYs+ew9Au+1diz57D0C77V2LPnsPQLvtXYs+ew9Au+1diz57D0C77V2LPnsPQLvtXYs+ew9Au+1diz57D0C77V2LPnsPQLvtXYs+ew9Au+1diz57D0C77V2LPnsPQLvtXYs+ew9Au+1diz57D0C77V2LPnsPQLvtXYs+ew9AuK3HpQlIEEC4rcelCUgQQLitx6UJSBBAuK3HpQlIEEC4rcelCUgQQLitx6UJSBBAuK3HpQlIEEC4rcelCUgQQLitx6UJSBBAuK3HpQlIEEC4rcelCUgQQLitx6UJSBBAuK3HpQlIEEC4rcelCUgQQLitx6UJSBBAuK3HpQlIEEC4rcelCUgQQLitx6UJSBBAuK3HpQlIEEC4rcelCUgQQLitx6UJSBBAuK3HpQlIEEC4rcelCUgQQLitx6UJSBBAuK3HpQlIEEC4rcelCUgQQLitx6UJSBBAuK3HpQlIEEC4rcelCUgQQLitx6UJSBBAuK3HpQlIEEC4rcelCUgQQLitx6UJSBBAuK3HpQlIEEA=",
          "dtype": "f8"
         },
         "yaxis": "y4"
        },
        {
         "fill": "toself",
         "fillcolor": "rgba(0,100,255,0.2)",
         "hoverinfo": "skip",
         "line": {
          "color": "rgba(255,255,255,0)"
         },
         "name": "95% CI",
         "showlegend": true,
         "type": "scatter",
         "x": {
          "bdata": "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",
          "dtype": "f8"
         },
         "xaxis": "x4",
         "y": {
          "bdata": "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",
          "dtype": "f8"
         },
         "yaxis": "y4"
        },
        {
         "marker": {
          "color": "black",
          "opacity": 0.6
         },
         "mode": "markers",
         "name": "Participants",
         "type": "scatter",
         "x": {
          "bdata": "AAAAAAAABkAAAAAAAAAIQAAAAAAAAAZAAAAAAAAACkAAAAAAAAAOQAAAAAAAAAJAAAAAAAAADEAAAAAAAAAEQAAAAAAAAARAAAAAAAAA/D8AAAAAAAAMQAAAAAAAAARAAAAAAAAAAEAAAAAAAAAAQAAAAAAAAAxAAAAAAAAABEAAAAAAAAAEQAAAAAAAAAJAAAAAAAAAAEAAAAAAAAAIQAAAAAAAAApAAAAAAAAACEAAAAAAAAAMQAAAAAAAAAhAAAAAAAAAEUAAAAAAAAAOQAAAAAAAAAxAAAAAAAAA+D8AAAAAAAAKQAAAAAAAAAZAAAAAAAAACEAAAAAAAAD8PwAAAAAAAPw/AAAAAAAAAkAAAAAAAAACQAAAAAAAAAJAAAAAAAAACkAAAAAAAAACQAAAAAAAAPg/AAAAAAAA/D8AAAAAAAAKQAAAAAAAAApAAAAAAAAAE0AAAAAAAAD4PwAAAAAAAAxAAAAAAAAADEAAAAAAAAAEQAAAAAAAAAhAAAAAAAAABEAAAAAAAADwPwAAAAAAAPA/AAAAAAAABkAAAAAAAAACQAAAAAAAAPg/AAAAAAAAE0AAAAAAAAAAQAAAAAAAAA5AAAAAAAAABEAAAAAAAAAGQAAAAAAAAApAAAAAAAAADkAAAAAAAAAKQAAAAAAAAAJAAAAAAAAACEAAAAAAAAAIQAAAAAAAAAhAAAAAAAAAAEAAAAAAAAD4PwAAAAAAAAZAAAAAAAAABEAAAAAAAADwPwAAAAAAAARAAAAAAAAAAEAAAAAAAAD8PwAAAAAAAPg/AAAAAAAAAEAAAAAAAAARQAAAAAAAABBAAAAAAAAA/D8AAAAAAAAGQAAAAAAAABFAAAAAAAAACkAAAAAAAAAQQAAAAAAAAA5AAAAAAAAAAEAAAAAAAAARQAAAAAAAABFAAAAAAAAAAEAAAAAAAAD4PwAAAAAAAPA/AAAAAAAAAEAAAAAAAAAEQAAAAAAAABFAAAAAAAAABEAAAAAAAAAEQAAAAAAAAAhAAAAAAAAABEAAAAAAAAAIQAAAAAAAABJAAAAAAAAACEAAAAAAAAAEQAAAAAAAAARAAAAAAAAA/D8AAAAAAAACQAAAAAAAAPQ/AAAAAAAA+D8AAAAAAAAQQAAAAAAAAPA/AAAAAAAA9D8AAAAAAAAEQAAAAAAAAABAAAAAAAAACkAAAAAAAAAMQAAAAAAAAAJAAAAAAAAACkAAAAAAAAAEQAAAAAAAABFAAAAAAAAAEkAAAAAAAAAAQAAAAAAAAABAAAAAAAAA+D8AAAAAAAAIQAAAAAAAAARAAAAAAAAA+D8AAAAAAADwPwAAAAAAAABAAAAAAAAAAEAAAAAAAAAIQAAAAAAAAAhAAAAAAAAA/D8AAAAAAAD8PwAAAAAAAAhAAAAAAAAACEAAAAAAAAAAQAAAAAAAAPQ/AAAAAAAA8D8AAAAAAAATQAAAAAAAAAJAAAAAAAAABEAAAAAAAAAEQAAAAAAAAABAAAAAAAAAEkAAAAAAAAARQAAAAAAAAPA/AAAAAAAA/D8AAAAAAAAKQAAAAAAAAA5AAAAAAAAA8D8AAAAAAAAIQAAAAAAAAAxAAAAAAAAA/D8AAAAAAADwPwAAAAAAAAxAAAAAAAAA/D8AAAAAAAAAQAAAAAAAAAhAAAAAAAAACEAAAAAAAADwPwAAAAAAAApAAAAAAAAAAkAAAAAAAAD8PwAAAAAAAARAAAAAAAAAAkAAAAAAAAARQAAAAAAAAAJAAAAAAAAADkAAAAAAAAAAQAAAAAAAABNAAAAAAAAAAEAAAAAAAAAKQAAAAAAAAPA/AAAAAAAACkAAAAAAAAAEQAAAAAAAAPw/AAAAAAAADkAAAAAAAAAIQAAAAAAAABFAAAAAAAAA8D8AAAAAAAAGQAAAAAAAAARAAAAAAAAACEAAAAAAAAAMQAAAAAAAABBAAAAAAAAAAEAAAAAAAAD4PwAAAAAAAARAAAAAAAAA9D8AAAAAAAD8PwAAAAAAAAhAAAAAAAAACkAAAAAAAAACQAAAAAAAAAhAAAAAAAAAAEAAAAAAAAAGQAAAAAAAAAZAAAAAAAAAEEAAAAAAAAAGQAAAAAAAAAZAAAAAAAAAAEAAAAAAAAACQAAAAAAAAPA/AAAAAAAA8D8AAAAAAADwPwAAAAAAAPg/AAAAAAAA/D8AAAAAAADwPwAAAAAAAAhAAAAAAAAAAEAAAAAAAAAMQAAAAAAAAAxAAAAAAAAADkAAAAAAAADwPwAAAAAAAAZAAAAAAAAACkAAAAAAAAARQAAAAAAAAARAAAAAAAAA/D8AAAAAAAASQAAAAAAAABRAAAAAAAAAAEAAAAAAAAAGQAAAAAAAAAZAAAAAAAAAAEAAAAAAAAD4PwAAAAAAAA5AAAAAAAAAAEAAAAAAAAAKQAAAAAAAABBAAAAAAAAAAEAAAAAAAAAIQAAAAAAAAPA/AAAAAAAA+D8AAAAAAAD4PwAAAAAAAPg/AAAAAAAADEAAAAAAAAACQAAAAAAAAA5AAAAAAAAA9D8AAAAAAAAMQAAAAAAAAARAAAAAAAAAAkAAAAAAAAAEQAAAAAAAAAZAAAAAAAAAAEAAAAAAAAD8PwAAAAAAAABAAAAAAAAAAkAAAAAAAAASQAAAAAAAAABAAAAAAAAABEAAAAAAAAAOQAAAAAAAAPg/AAAAAAAAEEAAAAAAAAD4PwAAAAAAAABAAAAAAAAABEAAAAAAAADwPwAAAAAAAAhAAAAAAAAAAkAAAAAAAAAEQAAAAAAAAARAAAAAAAAA8D8AAAAAAAAIQAAAAAAAAPQ/AAAAAAAAEUAAAAAAAAAKQAAAAAAAAABAAAAAAAAADEAAAAAAAAD8PwAAAAAAAAJAAAAAAAAACkAAAAAAAAAGQAAAAAAAAARAAAAAAAAACkAAAAAAAAAIQAAAAAAAAPw/AAAAAAAABEAAAAAAAAAQQAAAAAAAAAZAAAAAAAAABEAAAAAAAAAIQAAAAAAAAARAAAAAAAAA9D8AAAAAAAAEQAAAAAAAAAhAAAAAAAAABEAAAAAAAAAEQAAAAAAAAA5AAAAAAAAABEAAAAAAAAAUQAAAAAAAAApAAAAAAAAA/D8AAAAAAAAEQAAAAAAAAApAAAAAAAAAAEAAAAAAAAAEQAAAAAAAAA5AAAAAAAAAAEAAAAAAAAARQAAAAAAAAPw/AAAAAAAAAkAAAAAAAAAEQAAAAAAAABFAAAAAAAAA+D8AAAAAAAACQAAAAAAAAAZAAAAAAAAA/D8AAAAAAAARQAAAAAAAAApAAAAAAAAADEAAAAAAAAD4PwAAAAAAAApAAAAAAAAABEAAAAAAAAACQAAAAAAAAABAAAAAAAAA/D8AAAAAAAAGQAAAAAAAAA5AAAAAAAAAEUAAAAAAAAD0PwAAAAAAAAhAAAAAAAAADkAAAAAAAAAEQAAAAAAAAA5AAAAAAAAAAEAAAAAAAAAAQAAAAAAAABFAAAAAAAAAFEAAAAAAAAD4PwAAAAAAAAhAAAAAAAAA/D8AAAAAAAACQAAAAAAAABBAAAAAAAAAE0AAAAAAAAAKQAAAAAAAAAZAAAAAAAAAFEAAAAAAAAAEQAAAAAAAAARAAAAAAAAACkAAAAAAAAAAQAAAAAAAAPg/AAAAAAAAEkAAAAAAAAAGQAAAAAAAAPQ/AAAAAAAABkAAAAAAAAACQAAAAAAAAA5AAAAAAAAACEAAAAAAAAARQAAAAAAAAAhAAAAAAAAABkAAAAAAAAD4PwAAAAAAAARAAAAAAAAA8D8AAAAAAAAKQAAAAAAAAAZAAAAAAAAAAkAAAAAAAAAIQAAAAAAAAAhAAAAAAAAA/D8AAAAAAAAEQAAAAAAAAARAAAAAAAAADEAAAAAAAAASQAAAAAAAAABAAAAAAAAABEAAAAAAAAAGQAAAAAAAAARAAAAAAAAAE0AAAAAAAAAEQAAAAAAAAPw/AAAAAAAAEUA=",
          "dtype": "f8"
         },
         "xaxis": "x5",
         "y": {
          "bdata": "AAAAAAAACEAAAAAAAAAQQKuqqqqqqhBAq6qqqqqqDkBVVVVVVVUBQKuqqqqqqg5AVVVVVVVVDUCrqqqqqqoOQAAAAAAAABBAAAAAAAAACEAAAAAAAAAAQKuqqqqqqhJAAAAAAAAACEBVVVVVVVURQAAAAAAAAAxAAAAAAAAADEBVVVVVVVUTQFVVVVVVVQ1AAAAAAAAAEEAAAAAAAAAUQAAAAAAAAAhAq6qqqqqqEECrqqqqqqoOQKuqqqqqqhBAAAAAAAAACEAAAAAAAAASQKuqqqqqqgpAAAAAAAAACEAAAAAAAAAQQAAAAAAAAARAAAAAAAAAEEBVVVVVVVUTQAAAAAAAAAxAVVVVVVVVDUAAAAAAAAAQQAAAAAAAAPg/AAAAAAAAEEBVVVVVVVURQFVVVVVVVRNAVVVVVVVVEUAAAAAAAAAUQKuqqqqqqg5Aq6qqqqqqDkBVVVVVVVURQAAAAAAAABBAq6qqqqqqDkBVVVVVVVURQFVVVVVVVQ1AAAAAAAAAFEAAAAAAAAAEQFVVVVVVVRFAq6qqqqqqBkAAAAAAAAAQQAAAAAAAABRAq6qqqqqqBkAAAAAAAAAQQKuqqqqqqg5AAAAAAAAACEAAAAAAAAAIQKuqqqqqqgpAq6qqqqqqAkCrqqqqqqoOQAAAAAAAABBAVVVVVVVVAUAAAAAAAAAUQAAAAAAAABRAAAAAAAAAEEBVVVVVVVUNQAAAAAAAABRAAAAAAAAADEAAAAAAAAAUQFVVVVVVVRNAq6qqqqqqEEBVVVVVVVURQAAAAAAAABBAAAAAAAAAEEBVVVVVVVUNQAAAAAAAABBAAAAAAAAABEAAAAAAAADwPwAAAAAAAAhAVVVVVVVVCUAAAAAAAAAAQFVVVVVVVRFAq6qqqqqqDkAAAAAAAAAQQAAAAAAAAAhAAAAAAAAACEAAAAAAAAAQQAAAAAAAABBAAAAAAAAAEkAAAAAAAAAQQAAAAAAAABBAVVVVVVVVCUAAAAAAAAAQQAAAAAAAABBAAAAAAAAA+D+rqqqqqqoOQAAAAAAAABBAAAAAAAAAFEAAAAAAAAAQQKuqqqqqqg5Aq6qqqqqqDkAAAAAAAAAUQAAAAAAAABBAAAAAAAAAEEAAAAAAAAAQQAAAAAAAAAhAAAAAAAAAEECrqqqqqqoOQFVVVVVVVQFAVVVVVVVVEUAAAAAAAAAAQAAAAAAAAAhAAAAAAAAAEkAAAAAAAAAQQKuqqqqqqg5AAAAAAAAAEkAAAAAAAAAQQAAAAAAAAARAAAAAAAAAFEAAAAAAAAAQQAAAAAAAABBAVVVVVVVVDUAAAAAAAAAAQKuqqqqqqg5Aq6qqqqqqDkCrqqqqqqoOQFVVVVVVVQVAVVVVVVVVCUCrqqqqqqoQQKuqqqqqqg5AAAAAAAAADEAAAAAAAAAQQKuqqqqqqhBAAAAAAAAAFEBVVVVVVVUNQKuqqqqqqhBAq6qqqqqqDkBVVVVVVVURQAAAAAAAABJAAAAAAAAAEEAAAAAAAAAQQAAAAAAAABRAVVVVVVVV/T8AAAAAAAAQQFVVVVVVVQ1Aq6qqqqqqEEAAAAAAAAAQQAAAAAAAABRAAAAAAAAAEEAAAAAAAAAQQAAAAAAAAABAAAAAAAAAEEAAAAAAAAASQFVVVVVVVQ1AAAAAAAAADEAAAAAAAAAUQAAAAAAAABRAq6qqqqqqDkBVVVVVVVUNQAAAAAAAABBAq6qqqqqqEEAAAAAAAAAIQKuqqqqqqhJAAAAAAAAAEECrqqqqqqoCQFVVVVVVVRFAAAAAAAAACECrqqqqqqoOQAAAAAAAABBAVVVVVVVVDUBVVVVVVVUBQFVVVVVVVRFAAAAAAAAAFECrqqqqqqoGQKuqqqqqqg5Aq6qqqqqqDkBVVVVVVVUJQKuqqqqqqg5Aq6qqqqqqEEAAAAAAAAAUQFVVVVVVVRNAAAAAAAAAEkAAAAAAAAASQAAAAAAAAARAVVVVVVVVE0AAAAAAAAAUQKuqqqqqqg5AVVVVVVVVEUAAAAAAAAAQQAAAAAAAABJAVVVVVVVVEUBVVVVVVVUTQFVVVVVVVRFAAAAAAAAAEEAAAAAAAAAAQFVVVVVVVRFAAAAAAAAA8D9VVVVVVVURQKuqqqqqqhBAq6qqqqqqEEAAAAAAAAAQQKuqqqqqqg5AVVVVVVVVE0BVVVVVVVURQAAAAAAAAAhAAAAAAAAACEAAAAAAAAAUQKuqqqqqqgJAAAAAAAAAEkCrqqqqqqoOQAAAAAAAABBAVVVVVVVVDUBVVVVVVVX9P6uqqqqqqgpAAAAAAAAAEEAAAAAAAAAQQAAAAAAAABRAAAAAAAAAEEAAAAAAAADwPwAAAAAAAAhAq6qqqqqqEEBVVVVVVVUFQFVVVVVVVQVAq6qqqqqqDkCrqqqqqqoGQKuqqqqqqg5AAAAAAAAAEkAAAAAAAAAMQAAAAAAAABBAAAAAAAAAFECrqqqqqqoOQFVVVVVVVRFAAAAAAAAAEECrqqqqqqoQQFVVVVVVVQ1AAAAAAAAAFEAAAAAAAAAIQFVVVVVVVRFAVVVVVVVVAUAAAAAAAAAEQKuqqqqqqg5Aq6qqqqqqAkCrqqqqqqoQQAAAAAAAAARAq6qqqqqqEkCrqqqqqqoQQFVVVVVVVQ1AAAAAAAAAEEBVVVVVVVURQFVVVVVVVQ1Aq6qqqqqqDkBVVVVVVVUNQAAAAAAAABBAq6qqqqqqDkCrqqqqqqoKQAAAAAAAAABAVVVVVVVVEUAAAAAAAAAUQAAAAAAAABBAAAAAAAAAEEAAAAAAAAAQQAAAAAAAABRAAAAAAAAAEECrqqqqqqoQQFVVVVVVVRNAAAAAAAAAEkAAAAAAAAAQQFVVVVVVVfU/AAAAAAAAEkCrqqqqqqoOQFVVVVVVVRNAVVVVVVVVEUAAAAAAAAAIQAAAAAAAABBAq6qqqqqqEEBVVVVVVVUNQFVVVVVVVQ1AAAAAAAAAEkBVVVVVVVUNQAAAAAAAABBAq6qqqqqqBkAAAAAAAADwPwAAAAAAAABAAAAAAAAAEEAAAAAAAAAUQAAAAAAAAAhAAAAAAAAAEEAAAAAAAADwP1VVVVVVVQVAVVVVVVVVDUAAAAAAAAAMQAAAAAAAAABAAAAAAAAAEEAAAAAAAAAQQKuqqqqqqg5Aq6qqqqqqEECrqqqqqqoSQAAAAAAAAARAVVVVVVVVDUBVVVVVVVUNQFVVVVVVVQ1AAAAAAAAAEECrqqqqqqoQQFVVVVVVVRNAAAAAAAAAFEAAAAAAAAAUQAAAAAAAAAhAAAAAAAAAEECrqqqqqqoQQKuqqqqqqhBAq6qqqqqqDkAAAAAAAAAQQFVVVVVVVRFAAAAAAAAAEEAAAAAAAAAQQKuqqqqqqgJAq6qqqqqqAkBVVVVVVVUTQKuqqqqqqg5AAAAAAAAAFECrqqqqqqoOQKuqqqqqqhBAq6qqqqqqEEAAAAAAAAAQQAAAAAAAAAhAAAAAAAAAEkAAAAAAAAAUQAAAAAAAABJAVVVVVVVVCUCrqqqqqqoCQAAAAAAAABRAAAAAAAAAEECrqqqqqqoOQKuqqqqqqg5AAAAAAAAAFEAAAAAAAAAQQKuqqqqqqg5AVVVVVVVV/T9VVVVVVVURQAAAAAAAABBAAAAAAAAAEkBVVVVVVVUJQAAAAAAAABRAVVVVVVVVDUBVVVVVVVUNQAAAAAAAAAxAq6qqqqqqCkAAAAAAAAAQQAAAAAAAAAhAVVVVVVVVBUBVVVVVVVUTQKuqqqqqqhBAq6qqqqqqCkCrqqqqqqoQQFVVVVVVVRNAAAAAAAAABECrqqqqqqoOQAAAAAAAAAhAAAAAAAAAEEAAAAAAAAAMQAAAAAAAABBAAAAAAAAAFEAAAAAAAAAUQFVVVVVVVRFAAAAAAAAAEECrqqqqqqoKQAAAAAAAAABAAAAAAAAAFECrqqqqqqoQQFVVVVVVVQ1AAAAAAAAAFEA=",
          "dtype": "f8"
         },
         "yaxis": "y5"
        },
        {
         "line": {
          "color": "blue"
         },
         "mode": "lines",
         "name": "Regression Line",
         "type": "scatter",
         "x": {
          "bdata": "AAAAAAAA8D8AAAAAAADwPwAAAAAAAPA/AAAAAAAA8D8AAAAAAADwPwAAAAAAAPA/AAAAAAAA8D8AAAAAAADwPwAAAAAAAPA/AAAAAAAA8D8AAAAAAADwPwAAAAAAAPA/AAAAAAAA8D8AAAAAAADwPwAAAAAAAPA/AAAAAAAA8D8AAAAAAADwPwAAAAAAAPA/AAAAAAAA8D8AAAAAAADwPwAAAAAAAPA/AAAAAAAA8D8AAAAAAAD0PwAAAAAAAPQ/AAAAAAAA9D8AAAAAAAD0PwAAAAAAAPQ/AAAAAAAA9D8AAAAAAAD0PwAAAAAAAPQ/AAAAAAAA9D8AAAAAAAD4PwAAAAAAAPg/AAAAAAAA+D8AAAAAAAD4PwAAAAAAAPg/AAAAAAAA+D8AAAAAAAD4PwAAAAAAAPg/AAAAAAAA+D8AAAAAAAD4PwAAAAAAAPg/AAAAAAAA+D8AAAAAAAD4PwAAAAAAAPg/AAAAAAAA+D8AAAAAAAD4PwAAAAAAAPg/AAAAAAAA+D8AAAAAAAD4PwAAAAAAAPg/AAAAAAAA+D8AAAAAAAD4PwAAAAAAAPg/AAAAAAAA/D8AAAAAAAD8PwAAAAAAAPw/AAAAAAAA/D8AAAAAAAD8PwAAAAAAAPw/AAAAAAAA/D8AAAAAAAD8PwAAAAAAAPw/AAAAAAAA/D8AAAAAAAD8PwAAAAAAAPw/AAAAAAAA/D8AAAAAAAD8PwAAAAAAAPw/AAAAAAAA/D8AAAAAAAD8PwAAAAAAAPw/AAAAAAAA/D8AAAAAAAD8PwAAAAAAAPw/AAAAAAAA/D8AAAAAAAD8PwAAAAAAAPw/AAAAAAAA/D8AAAAAAAD8PwAAAAAAAPw/AAAAAAAAAEAAAAAAAAAAQAAAAAAAAABAAAAAAAAAAEAAAAAAAAAAQAAAAAAAAABAAAAAAAAAAEAAAAAAAAAAQAAAAAAAAABAAAAAAAAAAEAAAAAAAAAAQAAAAAAAAABAAAAAAAAAAEAAAAAAAAAAQAAAAAAAAABAAAAAAAAAAEAAAAAAAAAAQAAAAAAAAABAAAAAAAAAAEAAAAAAAAAAQAAAAAAAAABAAAAAAAAAAEAAAAAAAAAAQAAAAAAAAABAAAAAAAAAAEAAAAAAAAAAQAAAAAAAAABAAAAAAAAAAEAAAAAAAAAAQAAAAAAAAABAAAAAAAAAAEAAAAAAAAAAQAAAAAAAAABAAAAAAAAAAEAAAAAAAAAAQAAAAAAAAABAAAAAAAAAAEAAAAAAAAAAQAAAAAAAAABAAAAAAAAAAEAAAAAAAAACQAAAAAAAAAJAAAAAAAAAAkAAAAAAAAACQAAAAAAAAAJAAAAAAAAAAkAAAAAAAAACQAAAAAAAAAJAAAAAAAAAAkAAAAAAAAACQAAAAAAAAAJAAAAAAAAAAkAAAAAAAAACQAAAAAAAAAJAAAAAAAAAAkAAAAAAAAACQAAAAAAAAAJAAAAAAAAAAkAAAAAAAAACQAAAAAAAAAJAAAAAAAAAAkAAAAAAAAACQAAAAAAAAAJAAAAAAAAAAkAAAAAAAAACQAAAAAAAAAJAAAAAAAAAAkAAAAAAAAAEQAAAAAAAAARAAAAAAAAABEAAAAAAAAAEQAAAAAAAAARAAAAAAAAABEAAAAAAAAAEQAAAAAAAAARAAAAAAAAABEAAAAAAAAAEQAAAAAAAAARAAAAAAAAABEAAAAAAAAAEQAAAAAAAAARAAAAAAAAABEAAAAAAAAAEQAAAAAAAAARAAAAAAAAABEAAAAAAAAAEQAAAAAAAAARAAAAAAAAABEAAAAAAAAAEQAAAAAAAAARAAAAAAAAABEAAAAAAAAAEQAAAAAAAAARAAAAAAAAABEAAAAAAAAAEQAAAAAAAAARAAAAAAAAABEAAAAAAAAAEQAAAAAAAAARAAAAAAAAABEAAAAAAAAAEQAAAAAAAAARAAAAAAAAABEAAAAAAAAAEQAAAAAAAAARAAAAAAAAABEAAAAAAAAAEQAAAAAAAAARAAAAAAAAABEAAAAAAAAAEQAAAAAAAAARAAAAAAAAABEAAAAAAAAAEQAAAAAAAAARAAAAAAAAABEAAAAAAAAAEQAAAAAAAAARAAAAAAAAABEAAAAAAAAAEQAAAAAAAAARAAAAAAAAABkAAAAAAAAAGQAAAAAAAAAZAAAAAAAAABkAAAAAAAAAGQAAAAAAAAAZAAAAAAAAABkAAAAAAAAAGQAAAAAAAAAZAAAAAAAAABkAAAAAAAAAGQAAAAAAAAAZAAAAAAAAABkAAAAAAAAAGQAAAAAAAAAZAAAAAAAAABkAAAAAAAAAGQAAAAAAAAAZAAAAAAAAABkAAAAAAAAAGQAAAAAAAAAZAAAAAAAAABkAAAAAAAAAGQAAAAAAAAAZAAAAAAAAABkAAAAAAAAAGQAAAAAAAAAhAAAAAAAAACEAAAAAAAAAIQAAAAAAAAAhAAAAAAAAACEAAAAAAAAAIQAAAAAAAAAhAAAAAAAAACEAAAAAAAAAIQAAAAAAAAAhAAAAAAAAACEAAAAAAAAAIQAAAAAAAAAhAAAAAAAAACEAAAAAAAAAIQAAAAAAAAAhAAAAAAAAACEAAAAAAAAAIQAAAAAAAAAhAAAAAAAAACEAAAAAAAAAIQAAAAAAAAAhAAAAAAAAACEAAAAAAAAAIQAAAAAAAAAhAAAAAAAAACEAAAAAAAAAIQAAAAAAAAAhAAAAAAAAACEAAAAAAAAAIQAAAAAAAAAhAAAAAAAAACEAAAAAAAAAIQAAAAAAAAAhAAAAAAAAACEAAAAAAAAAIQAAAAAAAAAhAAAAAAAAACkAAAAAAAAAKQAAAAAAAAApAAAAAAAAACkAAAAAAAAAKQAAAAAAAAApAAAAAAAAACkAAAAAAAAAKQAAAAAAAAApAAAAAAAAACkAAAAAAAAAKQAAAAAAAAApAAAAAAAAACkAAAAAAAAAKQAAAAAAAAApAAAAAAAAACkAAAAAAAAAKQAAAAAAAAApAAAAAAAAACkAAAAAAAAAKQAAAAAAAAApAAAAAAAAACkAAAAAAAAAKQAAAAAAAAApAAAAAAAAACkAAAAAAAAAKQAAAAAAAAApAAAAAAAAACkAAAAAAAAAMQAAAAAAAAAxAAAAAAAAADEAAAAAAAAAMQAAAAAAAAAxAAAAAAAAADEAAAAAAAAAMQAAAAAAAAAxAAAAAAAAADEAAAAAAAAAMQAAAAAAAAAxAAAAAAAAADEAAAAAAAAAMQAAAAAAAAAxAAAAAAAAADEAAAAAAAAAMQAAAAAAAAAxAAAAAAAAADEAAAAAAAAAOQAAAAAAAAA5AAAAAAAAADkAAAAAAAAAOQAAAAAAAAA5AAAAAAAAADkAAAAAAAAAOQAAAAAAAAA5AAAAAAAAADkAAAAAAAAAOQAAAAAAAAA5AAAAAAAAADkAAAAAAAAAOQAAAAAAAAA5AAAAAAAAADkAAAAAAAAAOQAAAAAAAAA5AAAAAAAAADkAAAAAAAAAQQAAAAAAAABBAAAAAAAAAEEAAAAAAAAAQQAAAAAAAABBAAAAAAAAAEEAAAAAAAAAQQAAAAAAAABBAAAAAAAAAEEAAAAAAAAARQAAAAAAAABFAAAAAAAAAEUAAAAAAAAARQAAAAAAAABFAAAAAAAAAEUAAAAAAAAARQAAAAAAAABFAAAAAAAAAEUAAAAAAAAARQAAAAAAAABFAAAAAAAAAEUAAAAAAAAARQAAAAAAAABFAAAAAAAAAEUAAAAAAAAARQAAAAAAAABFAAAAAAAAAEUAAAAAAAAARQAAAAAAAABJAAAAAAAAAEkAAAAAAAAASQAAAAAAAABJAAAAAAAAAEkAAAAAAAAASQAAAAAAAABJAAAAAAAAAE0AAAAAAAAATQAAAAAAAABNAAAAAAAAAE0AAAAAAAAATQAAAAAAAABNAAAAAAAAAFEAAAAAAAAAUQAAAAAAAABRAAAAAAAAAFEA=",
          "dtype": "f8"
         },
         "xaxis": "x5",
         "y": {
          "bdata": "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",
          "dtype": "f8"
         },
         "yaxis": "y5"
        },
        {
         "fill": "toself",
         "fillcolor": "rgba(0,100,255,0.2)",
         "hoverinfo": "skip",
         "line": {
          "color": "rgba(255,255,255,0)"
         },
         "name": "95% CI",
         "showlegend": true,
         "type": "scatter",
         "x": {
          "bdata": "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",
          "dtype": "f8"
         },
         "xaxis": "x5",
         "y": {
          "bdata": "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",
          "dtype": "f8"
         },
         "yaxis": "y5"
        }
       ],
       "layout": {
        "annotations": [
         {
          "font": {
           "size": 16
          },
          "showarrow": false,
          "text": "How Openness Influences Ratings of Openness-Matched Ads (p = 0.3499)",
          "x": 0.225,
          "xanchor": "center",
          "xref": "paper",
          "y": 1,
          "yanchor": "bottom",
          "yref": "paper"
         },
         {
          "font": {
           "size": 16
          },
          "showarrow": false,
          "text": "How Conscientiousness Influences Ratings of Conscientiousness-Matched Ads (p = 0.1176)",
          "x": 0.775,
          "xanchor": "center",
          "xref": "paper",
          "y": 1,
          "yanchor": "bottom",
          "yref": "paper"
         },
         {
          "font": {
           "size": 16
          },
          "showarrow": false,
          "text": "How Extraversion Influences Ratings of Extraversion-Matched Ads (p < 0.0001)",
          "x": 0.225,
          "xanchor": "center",
          "xref": "paper",
          "y": 0.6111111111111112,
          "yanchor": "bottom",
          "yref": "paper"
         },
         {
          "font": {
           "size": 16
          },
          "showarrow": false,
          "text": "How Agreeableness Influences Ratings of Agreeableness-Matched Ads (p < 0.0001)",
          "x": 0.775,
          "xanchor": "center",
          "xref": "paper",
          "y": 0.6111111111111112,
          "yanchor": "bottom",
          "yref": "paper"
         },
         {
          "font": {
           "size": 16
          },
          "showarrow": false,
          "text": "How Neuroticism Influences Ratings of Neuroticism-Matched Ads (p = 0.1679)",
          "x": 0.225,
          "xanchor": "center",
          "xref": "paper",
          "y": 0.22222222222222224,
          "yanchor": "bottom",
          "yref": "paper"
         }
        ],
        "height": 1000,
        "showlegend": false,
        "template": {
         "data": {
          "bar": [
           {
            "error_x": {
             "color": "#2a3f5f"
            },
            "error_y": {
             "color": "#2a3f5f"
            },
            "marker": {
             "line": {
              "color": "#E5ECF6",
              "width": 0.5
             },
             "pattern": {
              "fillmode": "overlay",
              "size": 10,
              "solidity": 0.2
             }
            },
            "type": "bar"
           }
          ],
          "barpolar": [
           {
            "marker": {
             "line": {
              "color": "#E5ECF6",
              "width": 0.5
             },
             "pattern": {
              "fillmode": "overlay",
              "size": 10,
              "solidity": 0.2
             }
            },
            "type": "barpolar"
           }
          ],
          "carpet": [
           {
            "aaxis": {
             "endlinecolor": "#2a3f5f",
             "gridcolor": "white",
             "linecolor": "white",
             "minorgridcolor": "white",
             "startlinecolor": "#2a3f5f"
            },
            "baxis": {
             "endlinecolor": "#2a3f5f",
             "gridcolor": "white",
             "linecolor": "white",
             "minorgridcolor": "white",
             "startlinecolor": "#2a3f5f"
            },
            "type": "carpet"
           }
          ],
          "choropleth": [
           {
            "colorbar": {
             "outlinewidth": 0,
             "ticks": ""
            },
            "type": "choropleth"
           }
          ],
          "contour": [
           {
            "colorbar": {
             "outlinewidth": 0,
             "ticks": ""
            },
            "colorscale": [
             [
              0,
              "#0d0887"
             ],
             [
              0.1111111111111111,
              "#46039f"
             ],
             [
              0.2222222222222222,
              "#7201a8"
             ],
             [
              0.3333333333333333,
              "#9c179e"
             ],
             [
              0.4444444444444444,
              "#bd3786"
             ],
             [
              0.5555555555555556,
              "#d8576b"
             ],
             [
              0.6666666666666666,
              "#ed7953"
             ],
             [
              0.7777777777777778,
              "#fb9f3a"
             ],
             [
              0.8888888888888888,
              "#fdca26"
             ],
             [
              1,
              "#f0f921"
             ]
            ],
            "type": "contour"
           }
          ],
          "contourcarpet": [
           {
            "colorbar": {
             "outlinewidth": 0,
             "ticks": ""
            },
            "type": "contourcarpet"
           }
          ],
          "heatmap": [
           {
            "colorbar": {
             "outlinewidth": 0,
             "ticks": ""
            },
            "colorscale": [
             [
              0,
              "#0d0887"
             ],
             [
              0.1111111111111111,
              "#46039f"
             ],
             [
              0.2222222222222222,
              "#7201a8"
             ],
             [
              0.3333333333333333,
              "#9c179e"
             ],
             [
              0.4444444444444444,
              "#bd3786"
             ],
             [
              0.5555555555555556,
              "#d8576b"
             ],
             [
              0.6666666666666666,
              "#ed7953"
             ],
             [
              0.7777777777777778,
              "#fb9f3a"
             ],
             [
              0.8888888888888888,
              "#fdca26"
             ],
             [
              1,
              "#f0f921"
             ]
            ],
            "type": "heatmap"
           }
          ],
          "histogram": [
           {
            "marker": {
             "pattern": {
              "fillmode": "overlay",
              "size": 10,
              "solidity": 0.2
             }
            },
            "type": "histogram"
           }
          ],
          "histogram2d": [
           {
            "colorbar": {
             "outlinewidth": 0,
             "ticks": ""
            },
            "colorscale": [
             [
              0,
              "#0d0887"
             ],
             [
              0.1111111111111111,
              "#46039f"
             ],
             [
              0.2222222222222222,
              "#7201a8"
             ],
             [
              0.3333333333333333,
              "#9c179e"
             ],
             [
              0.4444444444444444,
              "#bd3786"
             ],
             [
              0.5555555555555556,
              "#d8576b"
             ],
             [
              0.6666666666666666,
              "#ed7953"
             ],
             [
              0.7777777777777778,
              "#fb9f3a"
             ],
             [
              0.8888888888888888,
              "#fdca26"
             ],
             [
              1,
              "#f0f921"
             ]
            ],
            "type": "histogram2d"
           }
          ],
          "histogram2dcontour": [
           {
            "colorbar": {
             "outlinewidth": 0,
             "ticks": ""
            },
            "colorscale": [
             [
              0,
              "#0d0887"
             ],
             [
              0.1111111111111111,
              "#46039f"
             ],
             [
              0.2222222222222222,
              "#7201a8"
             ],
             [
              0.3333333333333333,
              "#9c179e"
             ],
             [
              0.4444444444444444,
              "#bd3786"
             ],
             [
              0.5555555555555556,
              "#d8576b"
             ],
             [
              0.6666666666666666,
              "#ed7953"
             ],
             [
              0.7777777777777778,
              "#fb9f3a"
             ],
             [
              0.8888888888888888,
              "#fdca26"
             ],
             [
              1,
              "#f0f921"
             ]
            ],
            "type": "histogram2dcontour"
           }
          ],
          "mesh3d": [
           {
            "colorbar": {
             "outlinewidth": 0,
             "ticks": ""
            },
            "type": "mesh3d"
           }
          ],
          "parcoords": [
           {
            "line": {
             "colorbar": {
              "outlinewidth": 0,
              "ticks": ""
             }
            },
            "type": "parcoords"
           }
          ],
          "pie": [
           {
            "automargin": true,
            "type": "pie"
           }
          ],
          "scatter": [
           {
            "fillpattern": {
             "fillmode": "overlay",
             "size": 10,
             "solidity": 0.2
            },
            "type": "scatter"
           }
          ],
          "scatter3d": [
           {
            "line": {
             "colorbar": {
              "outlinewidth": 0,
              "ticks": ""
             }
            },
            "marker": {
             "colorbar": {
              "outlinewidth": 0,
              "ticks": ""
             }
            },
            "type": "scatter3d"
           }
          ],
          "scattercarpet": [
           {
            "marker": {
             "colorbar": {
              "outlinewidth": 0,
              "ticks": ""
             }
            },
            "type": "scattercarpet"
           }
          ],
          "scattergeo": [
           {
            "marker": {
             "colorbar": {
              "outlinewidth": 0,
              "ticks": ""
             }
            },
            "type": "scattergeo"
           }
          ],
          "scattergl": [
           {
            "marker": {
             "colorbar": {
              "outlinewidth": 0,
              "ticks": ""
             }
            },
            "type": "scattergl"
           }
          ],
          "scattermap": [
           {
            "marker": {
             "colorbar": {
              "outlinewidth": 0,
              "ticks": ""
             }
            },
            "type": "scattermap"
           }
          ],
          "scattermapbox": [
           {
            "marker": {
             "colorbar": {
              "outlinewidth": 0,
              "ticks": ""
             }
            },
            "type": "scattermapbox"
           }
          ],
          "scatterpolar": [
           {
            "marker": {
             "colorbar": {
              "outlinewidth": 0,
              "ticks": ""
             }
            },
            "type": "scatterpolar"
           }
          ],
          "scatterpolargl": [
           {
            "marker": {
             "colorbar": {
              "outlinewidth": 0,
              "ticks": ""
             }
            },
            "type": "scatterpolargl"
           }
          ],
          "scatterternary": [
           {
            "marker": {
             "colorbar": {
              "outlinewidth": 0,
              "ticks": ""
             }
            },
            "type": "scatterternary"
           }
          ],
          "surface": [
           {
            "colorbar": {
             "outlinewidth": 0,
             "ticks": ""
            },
            "colorscale": [
             [
              0,
              "#0d0887"
             ],
             [
              0.1111111111111111,
              "#46039f"
             ],
             [
              0.2222222222222222,
              "#7201a8"
             ],
             [
              0.3333333333333333,
              "#9c179e"
             ],
             [
              0.4444444444444444,
              "#bd3786"
             ],
             [
              0.5555555555555556,
              "#d8576b"
             ],
             [
              0.6666666666666666,
              "#ed7953"
             ],
             [
              0.7777777777777778,
              "#fb9f3a"
             ],
             [
              0.8888888888888888,
              "#fdca26"
             ],
             [
              1,
              "#f0f921"
             ]
            ],
            "type": "surface"
           }
          ],
          "table": [
           {
            "cells": {
             "fill": {
              "color": "#EBF0F8"
             },
             "line": {
              "color": "white"
             }
            },
            "header": {
             "fill": {
              "color": "#C8D4E3"
             },
             "line": {
              "color": "white"
             }
            },
            "type": "table"
           }
          ]
         },
         "layout": {
          "annotationdefaults": {
           "arrowcolor": "#2a3f5f",
           "arrowhead": 0,
           "arrowwidth": 1
          },
          "autotypenumbers": "strict",
          "coloraxis": {
           "colorbar": {
            "outlinewidth": 0,
            "ticks": ""
           }
          },
          "colorscale": {
           "diverging": [
            [
             0,
             "#8e0152"
            ],
            [
             0.1,
             "#c51b7d"
            ],
            [
             0.2,
             "#de77ae"
            ],
            [
             0.3,
             "#f1b6da"
            ],
            [
             0.4,
             "#fde0ef"
            ],
            [
             0.5,
             "#f7f7f7"
            ],
            [
             0.6,
             "#e6f5d0"
            ],
            [
             0.7,
             "#b8e186"
            ],
            [
             0.8,
             "#7fbc41"
            ],
            [
             0.9,
             "#4d9221"
            ],
            [
             1,
             "#276419"
            ]
           ],
           "sequential": [
            [
             0,
             "#0d0887"
            ],
            [
             0.1111111111111111,
             "#46039f"
            ],
            [
             0.2222222222222222,
             "#7201a8"
            ],
            [
             0.3333333333333333,
             "#9c179e"
            ],
            [
             0.4444444444444444,
             "#bd3786"
            ],
            [
             0.5555555555555556,
             "#d8576b"
            ],
            [
             0.6666666666666666,
             "#ed7953"
            ],
            [
             0.7777777777777778,
             "#fb9f3a"
            ],
            [
             0.8888888888888888,
             "#fdca26"
            ],
            [
             1,
             "#f0f921"
            ]
           ],
           "sequentialminus": [
            [
             0,
             "#0d0887"
            ],
            [
             0.1111111111111111,
             "#46039f"
            ],
            [
             0.2222222222222222,
             "#7201a8"
            ],
            [
             0.3333333333333333,
             "#9c179e"
            ],
            [
             0.4444444444444444,
             "#bd3786"
            ],
            [
             0.5555555555555556,
             "#d8576b"
            ],
            [
             0.6666666666666666,
             "#ed7953"
            ],
            [
             0.7777777777777778,
             "#fb9f3a"
            ],
            [
             0.8888888888888888,
             "#fdca26"
            ],
            [
             1,
             "#f0f921"
            ]
           ]
          },
          "colorway": [
           "#636efa",
           "#EF553B",
           "#00cc96",
           "#ab63fa",
           "#FFA15A",
           "#19d3f3",
           "#FF6692",
           "#B6E880",
           "#FF97FF",
           "#FECB52"
          ],
          "font": {
           "color": "#2a3f5f"
          },
          "geo": {
           "bgcolor": "white",
           "lakecolor": "white",
           "landcolor": "#E5ECF6",
           "showlakes": true,
           "showland": true,
           "subunitcolor": "white"
          },
          "hoverlabel": {
           "align": "left"
          },
          "hovermode": "closest",
          "mapbox": {
           "style": "light"
          },
          "paper_bgcolor": "white",
          "plot_bgcolor": "#E5ECF6",
          "polar": {
           "angularaxis": {
            "gridcolor": "white",
            "linecolor": "white",
            "ticks": ""
           },
           "bgcolor": "#E5ECF6",
           "radialaxis": {
            "gridcolor": "white",
            "linecolor": "white",
            "ticks": ""
           }
          },
          "scene": {
           "xaxis": {
            "backgroundcolor": "#E5ECF6",
            "gridcolor": "white",
            "gridwidth": 2,
            "linecolor": "white",
            "showbackground": true,
            "ticks": "",
            "zerolinecolor": "white"
           },
           "yaxis": {
            "backgroundcolor": "#E5ECF6",
            "gridcolor": "white",
            "gridwidth": 2,
            "linecolor": "white",
            "showbackground": true,
            "ticks": "",
            "zerolinecolor": "white"
           },
           "zaxis": {
            "backgroundcolor": "#E5ECF6",
            "gridcolor": "white",
            "gridwidth": 2,
            "linecolor": "white",
            "showbackground": true,
            "ticks": "",
            "zerolinecolor": "white"
           }
          },
          "shapedefaults": {
           "line": {
            "color": "#2a3f5f"
           }
          },
          "ternary": {
           "aaxis": {
            "gridcolor": "white",
            "linecolor": "white",
            "ticks": ""
           },
           "baxis": {
            "gridcolor": "white",
            "linecolor": "white",
            "ticks": ""
           },
           "bgcolor": "#E5ECF6",
           "caxis": {
            "gridcolor": "white",
            "linecolor": "white",
            "ticks": ""
           }
          },
          "title": {
           "x": 0.05
          },
          "xaxis": {
           "automargin": true,
           "gridcolor": "white",
           "linecolor": "white",
           "ticks": "",
           "title": {
            "standoff": 15
           },
           "zerolinecolor": "white",
           "zerolinewidth": 2
          },
          "yaxis": {
           "automargin": true,
           "gridcolor": "white",
           "linecolor": "white",
           "ticks": "",
           "title": {
            "standoff": 15
           },
           "zerolinecolor": "white",
           "zerolinewidth": 2
          }
         }
        },
        "title": {
         "text": "Personality Traits and Participant Ratings of Personality-Matched Advertisements"
        },
        "width": 1500,
        "xaxis": {
         "anchor": "y",
         "domain": [
          0,
          0.45
         ]
        },
        "xaxis2": {
         "anchor": "y2",
         "domain": [
          0.55,
          1
         ]
        },
        "xaxis3": {
         "anchor": "y3",
         "domain": [
          0,
          0.45
         ]
        },
        "xaxis4": {
         "anchor": "y4",
         "domain": [
          0.55,
          1
         ]
        },
        "xaxis5": {
         "anchor": "y5",
         "domain": [
          0,
          0.45
         ]
        },
        "xaxis6": {
         "anchor": "y6",
         "domain": [
          0.55,
          1
         ]
        },
        "yaxis": {
         "anchor": "x",
         "domain": [
          0.7777777777777778,
          1
         ]
        },
        "yaxis2": {
         "anchor": "x2",
         "domain": [
          0.7777777777777778,
          1
         ]
        },
        "yaxis3": {
         "anchor": "x3",
         "domain": [
          0.3888888888888889,
          0.6111111111111112
         ]
        },
        "yaxis4": {
         "anchor": "x4",
         "domain": [
          0.3888888888888889,
          0.6111111111111112
         ]
        },
        "yaxis5": {
         "anchor": "x5",
         "domain": [
          0,
          0.22222222222222224
         ]
        },
        "yaxis6": {
         "anchor": "x6",
         "domain": [
          0,
          0.22222222222222224
         ]
        }
       }
      }
     },
     "metadata": {},
     "output_type": "display_data"
    }
   ],
   "source": [
    "display_trait_grid(plots_product_2, traits_order=['openness', 'conscientiousness', 'extraversion', 'agreeableness', 'neuroticism'])"
   ]
  },
  {
   "cell_type": "code",
   "execution_count": 45,
   "id": "345c86bc-b056-4170-a121-5ba83c308e1d",
   "metadata": {},
   "outputs": [
    {
     "data": {
      "application/vnd.plotly.v1+json": {
       "config": {
        "plotlyServerURL": "https://plot.ly"
       },
       "data": [
        {
         "marker": {
          "color": "black",
          "opacity": 0.6
         },
         "mode": "markers",
         "name": "Participants",
         "type": "scatter",
         "x": {
          "bdata": "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",
          "dtype": "f8"
         },
         "xaxis": "x",
         "y": {
          "bdata": "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",
          "dtype": "f8"
         },
         "yaxis": "y"
        },
        {
         "line": {
          "color": "blue"
         },
         "mode": "lines",
         "name": "Regression Line",
         "type": "scatter",
         "x": {
          "bdata": "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",
          "dtype": "f8"
         },
         "xaxis": "x",
         "y": {
          "bdata": "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",
          "dtype": "f8"
         },
         "yaxis": "y"
        },
        {
         "fill": "toself",
         "fillcolor": "rgba(0,100,255,0.2)",
         "hoverinfo": "skip",
         "line": {
          "color": "rgba(255,255,255,0)"
         },
         "name": "95% CI",
         "showlegend": true,
         "type": "scatter",
         "x": {
          "bdata": "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",
          "dtype": "f8"
         },
         "xaxis": "x",
         "y": {
          "bdata": "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",
          "dtype": "f8"
         },
         "yaxis": "y"
        },
        {
         "marker": {
          "color": "black",
          "opacity": 0.6
         },
         "mode": "markers",
         "name": "Participants",
         "type": "scatter",
         "x": {
          "bdata": "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",
          "dtype": "f8"
         },
         "xaxis": "x2",
         "y": {
          "bdata": "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",
          "dtype": "f8"
         },
         "yaxis": "y2"
        },
        {
         "line": {
          "color": "blue"
         },
         "mode": "lines",
         "name": "Regression Line",
         "type": "scatter",
         "x": {
          "bdata": "AAAAAAAA9D8AAAAAAAD0PwAAAAAAAPg/AAAAAAAA/D8AAAAAAAD8PwAAAAAAAPw/AAAAAAAA/D8AAAAAAAD8PwAAAAAAAPw/AAAAAAAAAEAAAAAAAAAAQAAAAAAAAABAAAAAAAAAAEAAAAAAAAAAQAAAAAAAAABAAAAAAAAAAkAAAAAAAAACQAAAAAAAAAJAAAAAAAAAAkAAAAAAAAACQAAAAAAAAAJAAAAAAAAAAkAAAAAAAAACQAAAAAAAAAJAAAAAAAAAAkAAAAAAAAACQAAAAAAAAARAAAAAAAAABEAAAAAAAAAEQAAAAAAAAARAAAAAAAAABEAAAAAAAAAEQAAAAAAAAARAAAAAAAAABEAAAAAAAAAEQAAAAAAAAARAAAAAAAAABEAAAAAAAAAEQAAAAAAAAARAAAAAAAAABEAAAAAAAAAEQAAAAAAAAARAAAAAAAAABEAAAAAAAAAEQAAAAAAAAARAAAAAAAAABEAAAAAAAAAEQAAAAAAAAARAAAAAAAAABkAAAAAAAAAGQAAAAAAAAAZAAAAAAAAABkAAAAAAAAAGQAAAAAAAAAZAAAAAAAAABkAAAAAAAAAGQAAAAAAAAAZAAAAAAAAABkAAAAAAAAAIQAAAAAAAAAhAAAAAAAAACEAAAAAAAAAIQAAAAAAAAAhAAAAAAAAACEAAAAAAAAAIQAAAAAAAAAhAAAAAAAAACEAAAAAAAAAIQAAAAAAAAAhAAAAAAAAACEAAAAAAAAAIQAAAAAAAAAhAAAAAAAAACEAAAAAAAAAIQAAAAAAAAAhAAAAAAAAACEAAAAAAAAAIQAAAAAAAAAhAAAAAAAAACEAAAAAAAAAIQAAAAAAAAAhAAAAAAAAACEAAAAAAAAAIQAAAAAAAAAhAAAAAAAAACEAAAAAAAAAIQAAAAAAAAAhAAAAAAAAACkAAAAAAAAAKQAAAAAAAAApAAAAAAAAACkAAAAAAAAAKQAAAAAAAAApAAAAAAAAACkAAAAAAAAAKQAAAAAAAAApAAAAAAAAACkAAAAAAAAAKQAAAAAAAAApAAAAAAAAACkAAAAAAAAAKQAAAAAAAAApAAAAAAAAACkAAAAAAAAAKQAAAAAAAAApAAAAAAAAACkAAAAAAAAAKQAAAAAAAAApAAAAAAAAACkAAAAAAAAAKQAAAAAAAAApAAAAAAAAACkAAAAAAAAAKQAAAAAAAAApAAAAAAAAACkAAAAAAAAAKQAAAAAAAAApAAAAAAAAACkAAAAAAAAAKQAAAAAAAAApAAAAAAAAACkAAAAAAAAAKQAAAAAAAAAxAAAAAAAAADEAAAAAAAAAMQAAAAAAAAAxAAAAAAAAADEAAAAAAAAAMQAAAAAAAAAxAAAAAAAAADEAAAAAAAAAMQAAAAAAAAAxAAAAAAAAADEAAAAAAAAAMQAAAAAAAAAxAAAAAAAAADEAAAAAAAAAMQAAAAAAAAAxAAAAAAAAADEAAAAAAAAAMQAAAAAAAAAxAAAAAAAAADEAAAAAAAAAMQAAAAAAAAAxAAAAAAAAADEAAAAAAAAAMQAAAAAAAAAxAAAAAAAAADEAAAAAAAAAMQAAAAAAAAAxAAAAAAAAADEAAAAAAAAAMQAAAAAAAAA5AAAAAAAAADkAAAAAAAAAOQAAAAAAAAA5AAAAAAAAADkAAAAAAAAAOQAAAAAAAAA5AAAAAAAAADkAAAAAAAAAOQAAAAAAAAA5AAAAAAAAADkAAAAAAAAAOQAAAAAAAAA5AAAAAAAAADkAAAAAAAAAOQAAAAAAAAA5AAAAAAAAADkAAAAAAAAAOQAAAAAAAAA5AAAAAAAAADkAAAAAAAAAOQAAAAAAAAA5AAAAAAAAADkAAAAAAAAAOQAAAAAAAAA5AAAAAAAAADkAAAAAAAAAOQAAAAAAAAA5AAAAAAAAADkAAAAAAAAAOQAAAAAAAAA5AAAAAAAAADkAAAAAAAAAQQAAAAAAAABBAAAAAAAAAEEAAAAAAAAAQQAAAAAAAABBAAAAAAAAAEEAAAAAAAAAQQAAAAAAAABBAAAAAAAAAEEAAAAAAAAAQQAAAAAAAABBAAAAAAAAAEEAAAAAAAAAQQAAAAAAAABBAAAAAAAAAEEAAAAAAAAAQQAAAAAAAABBAAAAAAAAAEEAAAAAAAAAQQAAAAAAAABBAAAAAAAAAEEAAAAAAAAAQQAAAAAAAABBAAAAAAAAAEEAAAAAAAAAQQAAAAAAAABBAAAAAAAAAEEAAAAAAAAAQQAAAAAAAABBAAAAAAAAAEEAAAAAAAAAQQAAAAAAAABBAAAAAAAAAEEAAAAAAAAAQQAAAAAAAABBAAAAAAAAAEEAAAAAAAAAQQAAAAAAAABBAAAAAAAAAEEAAAAAAAAAQQAAAAAAAABBAAAAAAAAAEEAAAAAAAAAQQAAAAAAAABBAAAAAAAAAEEAAAAAAAAAQQAAAAAAAABBAAAAAAAAAEUAAAAAAAAARQAAAAAAAABFAAAAAAAAAEUAAAAAAAAARQAAAAAAAABFAAAAAAAAAEUAAAAAAAAARQAAAAAAAABFAAAAAAAAAEUAAAAAAAAARQAAAAAAAABFAAAAAAAAAEUAAAAAAAAARQAAAAAAAABFAAAAAAAAAEUAAAAAAAAARQAAAAAAAABFAAAAAAAAAEUAAAAAAAAARQAAAAAAAABFAAAAAAAAAEUAAAAAAAAARQAAAAAAAABFAAAAAAAAAEUAAAAAAAAARQAAAAAAAABFAAAAAAAAAEUAAAAAAAAARQAAAAAAAABFAAAAAAAAAEUAAAAAAAAARQAAAAAAAABFAAAAAAAAAEUAAAAAAAAARQAAAAAAAABJAAAAAAAAAEkAAAAAAAAASQAAAAAAAABJAAAAAAAAAEkAAAAAAAAASQAAAAAAAABJAAAAAAAAAEkAAAAAAAAASQAAAAAAAABJAAAAAAAAAEkAAAAAAAAASQAAAAAAAABJAAAAAAAAAEkAAAAAAAAASQAAAAAAAABJAAAAAAAAAEkAAAAAAAAASQAAAAAAAABJAAAAAAAAAEkAAAAAAAAASQAAAAAAAABJAAAAAAAAAEkAAAAAAAAASQAAAAAAAABJAAAAAAAAAEkAAAAAAAAASQAAAAAAAABJAAAAAAAAAEkAAAAAAAAASQAAAAAAAABJAAAAAAAAAEkAAAAAAAAASQAAAAAAAABJAAAAAAAAAEkAAAAAAAAASQAAAAAAAABJAAAAAAAAAEkAAAAAAAAASQAAAAAAAABJAAAAAAAAAE0AAAAAAAAATQAAAAAAAABNAAAAAAAAAE0AAAAAAAAATQAAAAAAAABNAAAAAAAAAE0AAAAAAAAATQAAAAAAAABNAAAAAAAAAE0AAAAAAAAATQAAAAAAAABNAAAAAAAAAE0AAAAAAAAATQAAAAAAAABNAAAAAAAAAE0AAAAAAAAATQAAAAAAAABNAAAAAAAAAE0AAAAAAAAATQAAAAAAAABNAAAAAAAAAE0AAAAAAAAATQAAAAAAAABNAAAAAAAAAE0AAAAAAAAATQAAAAAAAABNAAAAAAAAAE0AAAAAAAAATQAAAAAAAABNAAAAAAAAAE0AAAAAAAAATQAAAAAAAABNAAAAAAAAAE0AAAAAAAAATQAAAAAAAABNAAAAAAAAAFEAAAAAAAAAUQAAAAAAAABRAAAAAAAAAFEAAAAAAAAAUQAAAAAAAABRAAAAAAAAAFEAAAAAAAAAUQAAAAAAAABRAAAAAAAAAFEAAAAAAAAAUQAAAAAAAABRAAAAAAAAAFEAAAAAAAAAUQAAAAAAAABRAAAAAAAAAFEAAAAAAAAAUQAAAAAAAABRAAAAAAAAAFEAAAAAAAAAUQAAAAAAAABRAAAAAAAAAFEAAAAAAAAAUQAAAAAAAABRAAAAAAAAAFEAAAAAAAAAUQAAAAAAAABRAAAAAAAAAFEAAAAAAAAAUQAAAAAAAABRAAAAAAAAAFEA=",
          "dtype": "f8"
         },
         "xaxis": "x2",
         "y": {
          "bdata": "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",
          "dtype": "f8"
         },
         "yaxis": "y2"
        },
        {
         "fill": "toself",
         "fillcolor": "rgba(0,100,255,0.2)",
         "hoverinfo": "skip",
         "line": {
          "color": "rgba(255,255,255,0)"
         },
         "name": "95% CI",
         "showlegend": true,
         "type": "scatter",
         "x": {
          "bdata": "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",
          "dtype": "f8"
         },
         "xaxis": "x2",
         "y": {
          "bdata": "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",
          "dtype": "f8"
         },
         "yaxis": "y2"
        },
        {
         "marker": {
          "color": "black",
          "opacity": 0.6
         },
         "mode": "markers",
         "name": "Participants",
         "type": "scatter",
         "x": {
          "bdata": "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",
          "dtype": "f8"
         },
         "xaxis": "x3",
         "y": {
          "bdata": "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",
          "dtype": "f8"
         },
         "yaxis": "y3"
        },
        {
         "line": {
          "color": "blue"
         },
         "mode": "lines",
         "name": "Regression Line",
         "type": "scatter",
         "x": {
          "bdata": "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",
          "dtype": "f8"
         },
         "xaxis": "x3",
         "y": {
          "bdata": "47bnxOOtA0DjtufE460DQOO258TjrQNA47bnxOOtA0DjtufE460DQOO258TjrQNA47bnxOOtA0DjtufE460DQOO258TjrQNA47bnxOOtA0DjtufE460DQOO258TjrQNA47bnxOOtA0DjtufE460DQOO258TjrQNA47bnxOOtA0DjtufE460DQOO258TjrQNA47bnxOOtA0DjtufE460DQOO258TjrQNA47bnxOOtA0DjtufE460DQOO258TjrQNA47bnxOOtA0DjtufE460DQOO258TjrQNA47bnxOOtA0DjtufE460DQOO258TjrQNA47bnxOOtA0DjtufE460DQLwUmbAvWQRAvBSZsC9ZBEC8FJmwL1kEQLwUmbAvWQRAvBSZsC9ZBEC8FJmwL1kEQLwUmbAvWQRAvBSZsC9ZBEC8FJmwL1kEQLwUmbAvWQRAvBSZsC9ZBEC8FJmwL1kEQJRySpx7BAVAlHJKnHsEBUCUckqcewQFQJRySpx7BAVAlHJKnHsEBUCUckqcewQFQJRySpx7BAVAlHJKnHsEBUCUckqcewQFQJRySpx7BAVAlHJKnHsEBUCUckqcewQFQJRySpx7BAVAlHJKnHsEBUCUckqcewQFQJRySpx7BAVAlHJKnHsEBUCUckqcewQFQJRySpx7BAVAlHJKnHsEBUBs0PuHx68FQGzQ+4fHrwVAbND7h8evBUBs0PuHx68FQGzQ+4fHrwVAbND7h8evBUBs0PuHx68FQGzQ+4fHrwVAbND7h8evBUBs0PuHx68FQGzQ+4fHrwVAbND7h8evBUBs0PuHx68FQGzQ+4fHrwVAbND7h8evBUBs0PuHx68FQGzQ+4fHrwVAbND7h8evBUBs0PuHx68FQGzQ+4fHrwVAbND7h8evBUBs0PuHx68FQGzQ+4fHrwVAbND7h8evBUBs0PuHx68FQEQurXMTWwZARC6tcxNbBkBELq1zE1sGQEQurXMTWwZARC6tcxNbBkBELq1zE1sGQEQurXMTWwZARC6tcxNbBkBELq1zE1sGQEQurXMTWwZARC6tcxNbBkBELq1zE1sGQEQurXMTWwZARC6tcxNbBkBELq1zE1sGQEQurXMTWwZARC6tcxNbBkBELq1zE1sGQEQurXMTWwZARC6tcxNbBkBELq1zE1sGQEQurXMTWwZARC6tcxNbBkBELq1zE1sGQEQurXMTWwZARC6tcxNbBkBELq1zE1sGQEQurXMTWwZARC6tcxNbBkBELq1zE1sGQEQurXMTWwZARC6tcxNbBkBELq1zE1sGQEQurXMTWwZARC6tcxNbBkAdjF5fXwYHQB2MXl9fBgdAHYxeX18GB0AdjF5fXwYHQB2MXl9fBgdAHYxeX18GB0AdjF5fXwYHQB2MXl9fBgdAHYxeX18GB0AdjF5fXwYHQB2MXl9fBgdAHYxeX18GB0AdjF5fXwYHQB2MXl9fBgdAHYxeX18GB0AdjF5fXwYHQB2MXl9fBgdAHYxeX18GB0AdjF5fXwYHQB2MXl9fBgdAHYxeX18GB0AdjF5fXwYHQB2MXl9fBgdAHYxeX18GB0AdjF5fXwYHQB2MXl9fBgdAHYxeX18GB0AdjF5fXwYHQB2MXl9fBgdAHYxeX18GB0D16Q9Lq7EHQPXpD0ursQdA9ekPS6uxB0D16Q9Lq7EHQPXpD0ursQdA9ekPS6uxB0D16Q9Lq7EHQPXpD0ursQdA9ekPS6uxB0D16Q9Lq7EHQPXpD0ursQdA9ekPS6uxB0D16Q9Lq7EHQPXpD0ursQdA9ekPS6uxB0D16Q9Lq7EHQPXpD0ursQdA9ekPS6uxB0D16Q9Lq7EHQPXpD0ursQdAzkfBNvdcCEDOR8E291wIQM5HwTb3XAhAzkfBNvdcCEDOR8E291wIQM5HwTb3XAhAzkfBNvdcCEDOR8E291wIQM5HwTb3XAhAzkfBNvdcCEDOR8E291wIQM5HwTb3XAhAzkfBNvdcCEDOR8E291wIQM5HwTb3XAhAzkfBNvdcCEDOR8E291wIQM5HwTb3XAhAzkfBNvdcCEDOR8E291wIQKalciJDCAlApqVyIkMICUCmpXIiQwgJQKalciJDCAlApqVyIkMICUCmpXIiQwgJQKalciJDCAlApqVyIkMICUCmpXIiQwgJQKalciJDCAlApqVyIkMICUCmpXIiQwgJQKalciJDCAlApqVyIkMICUCmpXIiQwgJQKalciJDCAlApqVyIkMICUCmpXIiQwgJQKalciJDCAlApqVyIkMICUCmpXIiQwgJQKalciJDCAlApqVyIkMICUCmpXIiQwgJQKalciJDCAlApqVyIkMICUCmpXIiQwgJQKalciJDCAlApqVyIkMICUCmpXIiQwgJQKalciJDCAlApqVyIkMICUCmpXIiQwgJQKalciJDCAlApqVyIkMICUB+AyQOj7MJQH4DJA6PswlAfgMkDo+zCUB+AyQOj7MJQH4DJA6PswlAfgMkDo+zCUB+AyQOj7MJQH4DJA6PswlAfgMkDo+zCUB+AyQOj7MJQH4DJA6PswlAfgMkDo+zCUB+AyQOj7MJQH4DJA6PswlAfgMkDo+zCUB+AyQOj7MJQH4DJA6PswlAfgMkDo+zCUB+AyQOj7MJQH4DJA6PswlAfgMkDo+zCUB+AyQOj7MJQH4DJA6PswlAfgMkDo+zCUB+AyQOj7MJQH4DJA6PswlAfgMkDo+zCUB+AyQOj7MJQH4DJA6PswlAfgMkDo+zCUB+AyQOj7MJQH4DJA6PswlAfgMkDo+zCUB+AyQOj7MJQH4DJA6PswlAVmHV+dpeCkBWYdX52l4KQFZh1fnaXgpAVmHV+dpeCkBWYdX52l4KQFZh1fnaXgpAVmHV+dpeCkBWYdX52l4KQFZh1fnaXgpAVmHV+dpeCkBWYdX52l4KQFZh1fnaXgpAVmHV+dpeCkBWYdX52l4KQFZh1fnaXgpAVmHV+dpeCkBWYdX52l4KQFZh1fnaXgpAVmHV+dpeCkBWYdX52l4KQFZh1fnaXgpAVmHV+dpeCkBWYdX52l4KQFZh1fnaXgpAVmHV+dpeCkBWYdX52l4KQFZh1fnaXgpAVmHV+dpeCkBWYdX52l4KQFZh1fnaXgpAVmHV+dpeCkBWYdX52l4KQFZh1fnaXgpAVmHV+dpeCkAuv4blJgoLQC6/huUmCgtALr+G5SYKC0Auv4blJgoLQC6/huUmCgtALr+G5SYKC0Auv4blJgoLQC6/huUmCgtALr+G5SYKC0Auv4blJgoLQC6/huUmCgtALr+G5SYKC0Auv4blJgoLQC6/huUmCgtALr+G5SYKC0Auv4blJgoLQC6/huUmCgtALr+G5SYKC0Auv4blJgoLQC6/huUmCgtABx040XK1C0AHHTjRcrULQAcdONFytQtABx040XK1C0AHHTjRcrULQAcdONFytQtABx040XK1C0AHHTjRcrULQAcdONFytQtABx040XK1C0AHHTjRcrULQAcdONFytQtABx040XK1C0AHHTjRcrULQAcdONFytQtABx040XK1C0AHHTjRcrULQAcdONFytQtABx040XK1C0AHHTjRcrULQAcdONFytQtABx040XK1C0Dgeum8vmAMQOB66by+YAxA4HrpvL5gDEDgeum8vmAMQOB66by+YAxA4HrpvL5gDEDgeum8vmAMQOB66by+YAxA4HrpvL5gDEDgeum8vmAMQOB66by+YAxA4HrpvL5gDEDgeum8vmAMQLjYmqgKDA1AuNiaqAoMDUC42JqoCgwNQLjYmqgKDA1AuNiaqAoMDUC42JqoCgwNQLjYmqgKDA1AuNiaqAoMDUCQNkyUVrcNQJA2TJRWtw1AkDZMlFa3DUCQNkyUVrcNQJA2TJRWtw1AkDZMlFa3DUCQNkyUVrcNQGiU/X+iYg5AaJT9f6JiDkBolP1/omIOQGiU/X+iYg5AaJT9f6JiDkA=",
          "dtype": "f8"
         },
         "yaxis": "y3"
        },
        {
         "fill": "toself",
         "fillcolor": "rgba(0,100,255,0.2)",
         "hoverinfo": "skip",
         "line": {
          "color": "rgba(255,255,255,0)"
         },
         "name": "95% CI",
         "showlegend": true,
         "type": "scatter",
         "x": {
          "bdata": "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",
          "dtype": "f8"
         },
         "xaxis": "x3",
         "y": {
          "bdata": "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",
          "dtype": "f8"
         },
         "yaxis": "y3"
        },
        {
         "marker": {
          "color": "black",
          "opacity": 0.6
         },
         "mode": "markers",
         "name": "Participants",
         "type": "scatter",
         "x": {
          "bdata": "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",
          "dtype": "f8"
         },
         "xaxis": "x4",
         "y": {
          "bdata": "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",
          "dtype": "f8"
         },
         "yaxis": "y4"
        },
        {
         "line": {
          "color": "blue"
         },
         "mode": "lines",
         "name": "Regression Line",
         "type": "scatter",
         "x": {
          "bdata": "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",
          "dtype": "f8"
         },
         "xaxis": "x4",
         "y": {
          "bdata": "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",
          "dtype": "f8"
         },
         "yaxis": "y4"
        },
        {
         "fill": "toself",
         "fillcolor": "rgba(0,100,255,0.2)",
         "hoverinfo": "skip",
         "line": {
          "color": "rgba(255,255,255,0)"
         },
         "name": "95% CI",
         "showlegend": true,
         "type": "scatter",
         "x": {
          "bdata": "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",
          "dtype": "f8"
         },
         "xaxis": "x4",
         "y": {
          "bdata": "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",
          "dtype": "f8"
         },
         "yaxis": "y4"
        },
        {
         "marker": {
          "color": "black",
          "opacity": 0.6
         },
         "mode": "markers",
         "name": "Participants",
         "type": "scatter",
         "x": {
          "bdata": "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",
          "dtype": "f8"
         },
         "xaxis": "x5",
         "y": {
          "bdata": "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",
          "dtype": "f8"
         },
         "yaxis": "y5"
        },
        {
         "line": {
          "color": "blue"
         },
         "mode": "lines",
         "name": "Regression Line",
         "type": "scatter",
         "x": {
          "bdata": "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",
          "dtype": "f8"
         },
         "xaxis": "x5",
         "y": {
          "bdata": "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",
          "dtype": "f8"
         },
         "yaxis": "y5"
        },
        {
         "fill": "toself",
         "fillcolor": "rgba(0,100,255,0.2)",
         "hoverinfo": "skip",
         "line": {
          "color": "rgba(255,255,255,0)"
         },
         "name": "95% CI",
         "showlegend": true,
         "type": "scatter",
         "x": {
          "bdata": "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",
          "dtype": "f8"
         },
         "xaxis": "x5",
         "y": {
          "bdata": "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",
          "dtype": "f8"
         },
         "yaxis": "y5"
        }
       ],
       "layout": {
        "annotations": [
         {
          "font": {
           "size": 16
          },
          "showarrow": false,
          "text": "How Openness Influences Ratings of Openness-Matched Ads (p = 0.8102)",
          "x": 0.225,
          "xanchor": "center",
          "xref": "paper",
          "y": 1,
          "yanchor": "bottom",
          "yref": "paper"
         },
         {
          "font": {
           "size": 16
          },
          "showarrow": false,
          "text": "How Conscientiousness Influences Ratings of Conscientiousness-Matched Ads (p = 0.0049)",
          "x": 0.775,
          "xanchor": "center",
          "xref": "paper",
          "y": 1,
          "yanchor": "bottom",
          "yref": "paper"
         },
         {
          "font": {
           "size": 16
          },
          "showarrow": false,
          "text": "How Extraversion Influences Ratings of Extraversion-Matched Ads (p < 0.0001)",
          "x": 0.225,
          "xanchor": "center",
          "xref": "paper",
          "y": 0.6111111111111112,
          "yanchor": "bottom",
          "yref": "paper"
         },
         {
          "font": {
           "size": 16
          },
          "showarrow": false,
          "text": "How Agreeableness Influences Ratings of Agreeableness-Matched Ads (p < 0.0001)",
          "x": 0.775,
          "xanchor": "center",
          "xref": "paper",
          "y": 0.6111111111111112,
          "yanchor": "bottom",
          "yref": "paper"
         },
         {
          "font": {
           "size": 16
          },
          "showarrow": false,
          "text": "How Neuroticism Influences Ratings of Neuroticism-Matched Ads (p = 0.0004)",
          "x": 0.225,
          "xanchor": "center",
          "xref": "paper",
          "y": 0.22222222222222224,
          "yanchor": "bottom",
          "yref": "paper"
         }
        ],
        "height": 1000,
        "showlegend": false,
        "template": {
         "data": {
          "bar": [
           {
            "error_x": {
             "color": "#2a3f5f"
            },
            "error_y": {
             "color": "#2a3f5f"
            },
            "marker": {
             "line": {
              "color": "#E5ECF6",
              "width": 0.5
             },
             "pattern": {
              "fillmode": "overlay",
              "size": 10,
              "solidity": 0.2
             }
            },
            "type": "bar"
           }
          ],
          "barpolar": [
           {
            "marker": {
             "line": {
              "color": "#E5ECF6",
              "width": 0.5
             },
             "pattern": {
              "fillmode": "overlay",
              "size": 10,
              "solidity": 0.2
             }
            },
            "type": "barpolar"
           }
          ],
          "carpet": [
           {
            "aaxis": {
             "endlinecolor": "#2a3f5f",
             "gridcolor": "white",
             "linecolor": "white",
             "minorgridcolor": "white",
             "startlinecolor": "#2a3f5f"
            },
            "baxis": {
             "endlinecolor": "#2a3f5f",
             "gridcolor": "white",
             "linecolor": "white",
             "minorgridcolor": "white",
             "startlinecolor": "#2a3f5f"
            },
            "type": "carpet"
           }
          ],
          "choropleth": [
           {
            "colorbar": {
             "outlinewidth": 0,
             "ticks": ""
            },
            "type": "choropleth"
           }
          ],
          "contour": [
           {
            "colorbar": {
             "outlinewidth": 0,
             "ticks": ""
            },
            "colorscale": [
             [
              0,
              "#0d0887"
             ],
             [
              0.1111111111111111,
              "#46039f"
             ],
             [
              0.2222222222222222,
              "#7201a8"
             ],
             [
              0.3333333333333333,
              "#9c179e"
             ],
             [
              0.4444444444444444,
              "#bd3786"
             ],
             [
              0.5555555555555556,
              "#d8576b"
             ],
             [
              0.6666666666666666,
              "#ed7953"
             ],
             [
              0.7777777777777778,
              "#fb9f3a"
             ],
             [
              0.8888888888888888,
              "#fdca26"
             ],
             [
              1,
              "#f0f921"
             ]
            ],
            "type": "contour"
           }
          ],
          "contourcarpet": [
           {
            "colorbar": {
             "outlinewidth": 0,
             "ticks": ""
            },
            "type": "contourcarpet"
           }
          ],
          "heatmap": [
           {
            "colorbar": {
             "outlinewidth": 0,
             "ticks": ""
            },
            "colorscale": [
             [
              0,
              "#0d0887"
             ],
             [
              0.1111111111111111,
              "#46039f"
             ],
             [
              0.2222222222222222,
              "#7201a8"
             ],
             [
              0.3333333333333333,
              "#9c179e"
             ],
             [
              0.4444444444444444,
              "#bd3786"
             ],
             [
              0.5555555555555556,
              "#d8576b"
             ],
             [
              0.6666666666666666,
              "#ed7953"
             ],
             [
              0.7777777777777778,
              "#fb9f3a"
             ],
             [
              0.8888888888888888,
              "#fdca26"
             ],
             [
              1,
              "#f0f921"
             ]
            ],
            "type": "heatmap"
           }
          ],
          "histogram": [
           {
            "marker": {
             "pattern": {
              "fillmode": "overlay",
              "size": 10,
              "solidity": 0.2
             }
            },
            "type": "histogram"
           }
          ],
          "histogram2d": [
           {
            "colorbar": {
             "outlinewidth": 0,
             "ticks": ""
            },
            "colorscale": [
             [
              0,
              "#0d0887"
             ],
             [
              0.1111111111111111,
              "#46039f"
             ],
             [
              0.2222222222222222,
              "#7201a8"
             ],
             [
              0.3333333333333333,
              "#9c179e"
             ],
             [
              0.4444444444444444,
              "#bd3786"
             ],
             [
              0.5555555555555556,
              "#d8576b"
             ],
             [
              0.6666666666666666,
              "#ed7953"
             ],
             [
              0.7777777777777778,
              "#fb9f3a"
             ],
             [
              0.8888888888888888,
              "#fdca26"
             ],
             [
              1,
              "#f0f921"
             ]
            ],
            "type": "histogram2d"
           }
          ],
          "histogram2dcontour": [
           {
            "colorbar": {
             "outlinewidth": 0,
             "ticks": ""
            },
            "colorscale": [
             [
              0,
              "#0d0887"
             ],
             [
              0.1111111111111111,
              "#46039f"
             ],
             [
              0.2222222222222222,
              "#7201a8"
             ],
             [
              0.3333333333333333,
              "#9c179e"
             ],
             [
              0.4444444444444444,
              "#bd3786"
             ],
             [
              0.5555555555555556,
              "#d8576b"
             ],
             [
              0.6666666666666666,
              "#ed7953"
             ],
             [
              0.7777777777777778,
              "#fb9f3a"
             ],
             [
              0.8888888888888888,
              "#fdca26"
             ],
             [
              1,
              "#f0f921"
             ]
            ],
            "type": "histogram2dcontour"
           }
          ],
          "mesh3d": [
           {
            "colorbar": {
             "outlinewidth": 0,
             "ticks": ""
            },
            "type": "mesh3d"
           }
          ],
          "parcoords": [
           {
            "line": {
             "colorbar": {
              "outlinewidth": 0,
              "ticks": ""
             }
            },
            "type": "parcoords"
           }
          ],
          "pie": [
           {
            "automargin": true,
            "type": "pie"
           }
          ],
          "scatter": [
           {
            "fillpattern": {
             "fillmode": "overlay",
             "size": 10,
             "solidity": 0.2
            },
            "type": "scatter"
           }
          ],
          "scatter3d": [
           {
            "line": {
             "colorbar": {
              "outlinewidth": 0,
              "ticks": ""
             }
            },
            "marker": {
             "colorbar": {
              "outlinewidth": 0,
              "ticks": ""
             }
            },
            "type": "scatter3d"
           }
          ],
          "scattercarpet": [
           {
            "marker": {
             "colorbar": {
              "outlinewidth": 0,
              "ticks": ""
             }
            },
            "type": "scattercarpet"
           }
          ],
          "scattergeo": [
           {
            "marker": {
             "colorbar": {
              "outlinewidth": 0,
              "ticks": ""
             }
            },
            "type": "scattergeo"
           }
          ],
          "scattergl": [
           {
            "marker": {
             "colorbar": {
              "outlinewidth": 0,
              "ticks": ""
             }
            },
            "type": "scattergl"
           }
          ],
          "scattermap": [
           {
            "marker": {
             "colorbar": {
              "outlinewidth": 0,
              "ticks": ""
             }
            },
            "type": "scattermap"
           }
          ],
          "scattermapbox": [
           {
            "marker": {
             "colorbar": {
              "outlinewidth": 0,
              "ticks": ""
             }
            },
            "type": "scattermapbox"
           }
          ],
          "scatterpolar": [
           {
            "marker": {
             "colorbar": {
              "outlinewidth": 0,
              "ticks": ""
             }
            },
            "type": "scatterpolar"
           }
          ],
          "scatterpolargl": [
           {
            "marker": {
             "colorbar": {
              "outlinewidth": 0,
              "ticks": ""
             }
            },
            "type": "scatterpolargl"
           }
          ],
          "scatterternary": [
           {
            "marker": {
             "colorbar": {
              "outlinewidth": 0,
              "ticks": ""
             }
            },
            "type": "scatterternary"
           }
          ],
          "surface": [
           {
            "colorbar": {
             "outlinewidth": 0,
             "ticks": ""
            },
            "colorscale": [
             [
              0,
              "#0d0887"
             ],
             [
              0.1111111111111111,
              "#46039f"
             ],
             [
              0.2222222222222222,
              "#7201a8"
             ],
             [
              0.3333333333333333,
              "#9c179e"
             ],
             [
              0.4444444444444444,
              "#bd3786"
             ],
             [
              0.5555555555555556,
              "#d8576b"
             ],
             [
              0.6666666666666666,
              "#ed7953"
             ],
             [
              0.7777777777777778,
              "#fb9f3a"
             ],
             [
              0.8888888888888888,
              "#fdca26"
             ],
             [
              1,
              "#f0f921"
             ]
            ],
            "type": "surface"
           }
          ],
          "table": [
           {
            "cells": {
             "fill": {
              "color": "#EBF0F8"
             },
             "line": {
              "color": "white"
             }
            },
            "header": {
             "fill": {
              "color": "#C8D4E3"
             },
             "line": {
              "color": "white"
             }
            },
            "type": "table"
           }
          ]
         },
         "layout": {
          "annotationdefaults": {
           "arrowcolor": "#2a3f5f",
           "arrowhead": 0,
           "arrowwidth": 1
          },
          "autotypenumbers": "strict",
          "coloraxis": {
           "colorbar": {
            "outlinewidth": 0,
            "ticks": ""
           }
          },
          "colorscale": {
           "diverging": [
            [
             0,
             "#8e0152"
            ],
            [
             0.1,
             "#c51b7d"
            ],
            [
             0.2,
             "#de77ae"
            ],
            [
             0.3,
             "#f1b6da"
            ],
            [
             0.4,
             "#fde0ef"
            ],
            [
             0.5,
             "#f7f7f7"
            ],
            [
             0.6,
             "#e6f5d0"
            ],
            [
             0.7,
             "#b8e186"
            ],
            [
             0.8,
             "#7fbc41"
            ],
            [
             0.9,
             "#4d9221"
            ],
            [
             1,
             "#276419"
            ]
           ],
           "sequential": [
            [
             0,
             "#0d0887"
            ],
            [
             0.1111111111111111,
             "#46039f"
            ],
            [
             0.2222222222222222,
             "#7201a8"
            ],
            [
             0.3333333333333333,
             "#9c179e"
            ],
            [
             0.4444444444444444,
             "#bd3786"
            ],
            [
             0.5555555555555556,
             "#d8576b"
            ],
            [
             0.6666666666666666,
             "#ed7953"
            ],
            [
             0.7777777777777778,
             "#fb9f3a"
            ],
            [
             0.8888888888888888,
             "#fdca26"
            ],
            [
             1,
             "#f0f921"
            ]
           ],
           "sequentialminus": [
            [
             0,
             "#0d0887"
            ],
            [
             0.1111111111111111,
             "#46039f"
            ],
            [
             0.2222222222222222,
             "#7201a8"
            ],
            [
             0.3333333333333333,
             "#9c179e"
            ],
            [
             0.4444444444444444,
             "#bd3786"
            ],
            [
             0.5555555555555556,
             "#d8576b"
            ],
            [
             0.6666666666666666,
             "#ed7953"
            ],
            [
             0.7777777777777778,
             "#fb9f3a"
            ],
            [
             0.8888888888888888,
             "#fdca26"
            ],
            [
             1,
             "#f0f921"
            ]
           ]
          },
          "colorway": [
           "#636efa",
           "#EF553B",
           "#00cc96",
           "#ab63fa",
           "#FFA15A",
           "#19d3f3",
           "#FF6692",
           "#B6E880",
           "#FF97FF",
           "#FECB52"
          ],
          "font": {
           "color": "#2a3f5f"
          },
          "geo": {
           "bgcolor": "white",
           "lakecolor": "white",
           "landcolor": "#E5ECF6",
           "showlakes": true,
           "showland": true,
           "subunitcolor": "white"
          },
          "hoverlabel": {
           "align": "left"
          },
          "hovermode": "closest",
          "mapbox": {
           "style": "light"
          },
          "paper_bgcolor": "white",
          "plot_bgcolor": "#E5ECF6",
          "polar": {
           "angularaxis": {
            "gridcolor": "white",
            "linecolor": "white",
            "ticks": ""
           },
           "bgcolor": "#E5ECF6",
           "radialaxis": {
            "gridcolor": "white",
            "linecolor": "white",
            "ticks": ""
           }
          },
          "scene": {
           "xaxis": {
            "backgroundcolor": "#E5ECF6",
            "gridcolor": "white",
            "gridwidth": 2,
            "linecolor": "white",
            "showbackground": true,
            "ticks": "",
            "zerolinecolor": "white"
           },
           "yaxis": {
            "backgroundcolor": "#E5ECF6",
            "gridcolor": "white",
            "gridwidth": 2,
            "linecolor": "white",
            "showbackground": true,
            "ticks": "",
            "zerolinecolor": "white"
           },
           "zaxis": {
            "backgroundcolor": "#E5ECF6",
            "gridcolor": "white",
            "gridwidth": 2,
            "linecolor": "white",
            "showbackground": true,
            "ticks": "",
            "zerolinecolor": "white"
           }
          },
          "shapedefaults": {
           "line": {
            "color": "#2a3f5f"
           }
          },
          "ternary": {
           "aaxis": {
            "gridcolor": "white",
            "linecolor": "white",
            "ticks": ""
           },
           "baxis": {
            "gridcolor": "white",
            "linecolor": "white",
            "ticks": ""
           },
           "bgcolor": "#E5ECF6",
           "caxis": {
            "gridcolor": "white",
            "linecolor": "white",
            "ticks": ""
           }
          },
          "title": {
           "x": 0.05
          },
          "xaxis": {
           "automargin": true,
           "gridcolor": "white",
           "linecolor": "white",
           "ticks": "",
           "title": {
            "standoff": 15
           },
           "zerolinecolor": "white",
           "zerolinewidth": 2
          },
          "yaxis": {
           "automargin": true,
           "gridcolor": "white",
           "linecolor": "white",
           "ticks": "",
           "title": {
            "standoff": 15
           },
           "zerolinecolor": "white",
           "zerolinewidth": 2
          }
         }
        },
        "title": {
         "text": "Personality Traits and Participant Ratings of Personality-Matched Advertisements"
        },
        "width": 1500,
        "xaxis": {
         "anchor": "y",
         "domain": [
          0,
          0.45
         ]
        },
        "xaxis2": {
         "anchor": "y2",
         "domain": [
          0.55,
          1
         ]
        },
        "xaxis3": {
         "anchor": "y3",
         "domain": [
          0,
          0.45
         ]
        },
        "xaxis4": {
         "anchor": "y4",
         "domain": [
          0.55,
          1
         ]
        },
        "xaxis5": {
         "anchor": "y5",
         "domain": [
          0,
          0.45
         ]
        },
        "xaxis6": {
         "anchor": "y6",
         "domain": [
          0.55,
          1
         ]
        },
        "yaxis": {
         "anchor": "x",
         "domain": [
          0.7777777777777778,
          1
         ]
        },
        "yaxis2": {
         "anchor": "x2",
         "domain": [
          0.7777777777777778,
          1
         ]
        },
        "yaxis3": {
         "anchor": "x3",
         "domain": [
          0.3888888888888889,
          0.6111111111111112
         ]
        },
        "yaxis4": {
         "anchor": "x4",
         "domain": [
          0.3888888888888889,
          0.6111111111111112
         ]
        },
        "yaxis5": {
         "anchor": "x5",
         "domain": [
          0,
          0.22222222222222224
         ]
        },
        "yaxis6": {
         "anchor": "x6",
         "domain": [
          0,
          0.22222222222222224
         ]
        }
       }
      }
     },
     "metadata": {},
     "output_type": "display_data"
    }
   ],
   "source": [
    "display_trait_grid(plots_product_3, traits_order=['openness', 'conscientiousness', 'extraversion', 'agreeableness', 'neuroticism'])"
   ]
  },
  {
   "cell_type": "markdown",
   "id": "30aa530a-3e84-463c-8aae-d85423cd023b",
   "metadata": {},
   "source": [
    "<h1>Regression Analysis: Scores on the Big Five Traits as Predictors of Respondents' Ratings of the Advertisements' Effectivenes</h1>"
   ]
  },
  {
   "cell_type": "code",
   "execution_count": 46,
   "id": "6586c7b5-f491-407c-bc09-2ba7288ae7d2",
   "metadata": {
    "editable": true,
    "slideshow": {
     "slide_type": ""
    },
    "tags": []
   },
   "outputs": [],
   "source": [
    "import pandas as pd\n",
    "import statsmodels.api as sm\n",
    "from sklearn.preprocessing import StandardScaler\n",
    "\n",
    "def perform_regression_on_personality(df, aes_cols, traits_cols):\n",
    "    results = pd.DataFrame(index=traits_cols, columns=aes_cols)\n",
    "\n",
    "    for aes_col in aes_cols:\n",
    "        # Standardize predictors (traits) and outcome (AES)\n",
    "        scaler = StandardScaler()\n",
    "        X = scaler.fit_transform(df[traits_cols])\n",
    "        y = scaler.fit_transform(df[[aes_col]]).flatten()\n",
    "\n",
    "        # Add constant to predictors\n",
    "        X = sm.add_constant(X)\n",
    "\n",
    "        # Fit regression model\n",
    "        model = sm.OLS(y, X).fit()\n",
    "\n",
    "        # Extract coefficients and p-values (skip constant)\n",
    "        coefficients = model.params[1:]\n",
    "        p_values = model.pvalues[1:]\n",
    "\n",
    "        # Store results as standardized beta coefficients with p-values\n",
    "        results[aes_col] = [\n",
    "            f\"{0.00 if round(coeff, 2) == 0 else coeff:.2f} ({pval:.4f})\"\n",
    "            for coeff, pval in zip(coefficients, p_values)\n",
    "        ]\n",
    "\n",
    "    return results\n",
    "\n",
    "# Define AES and personality trait columns\n",
    "aes_cols_product1 = ['aes_1_extraversion', 'aes_1_agreeableness', 'aes_1_conscientiousness', 'aes_1_neuroticism', 'aes_1_openness']\n",
    "aes_cols_product2 = ['aes_2_extraversion', 'aes_2_agreeableness', 'aes_2_conscientiousness', 'aes_2_neuroticism', 'aes_2_openness']\n",
    "aes_cols_product3 = ['aes_3_extraversion', 'aes_3_agreeableness', 'aes_3_conscientiousness', 'aes_3_neuroticism', 'aes_3_openness']\n",
    "\n",
    "personality_cols = ['extraversion_score', 'agreeableness_score', 'conscientiousness_score', 'neuroticism_score', 'openness_score']\n",
    "\n",
    "# Run the analysis for each product\n",
    "regression_results = {\n",
    "    1: perform_regression_on_personality(df_aes_with_aes_residualized, aes_cols_product1, personality_cols),\n",
    "    2: perform_regression_on_personality(df_aes_with_aes_residualized, aes_cols_product2, personality_cols),\n",
    "    3: perform_regression_on_personality(df_aes_with_aes_residualized, aes_cols_product3, personality_cols),\n",
    "}\n"
   ]
  },
  {
   "cell_type": "markdown",
   "id": "893c3177-1ed2-4984-98d5-887dcb6a5604",
   "metadata": {},
   "source": [
    "<h1>Human Participants: Regression Coefficient Matrix – Cabin luggage</h1>"
   ]
  },
  {
   "cell_type": "code",
   "execution_count": 47,
   "id": "6f765e13-1e13-441e-9d45-97058b85f718",
   "metadata": {},
   "outputs": [
    {
     "data": {
      "text/html": [
       "<div>\n",
       "<style scoped>\n",
       "    .dataframe tbody tr th:only-of-type {\n",
       "        vertical-align: middle;\n",
       "    }\n",
       "\n",
       "    .dataframe tbody tr th {\n",
       "        vertical-align: top;\n",
       "    }\n",
       "\n",
       "    .dataframe thead th {\n",
       "        text-align: right;\n",
       "    }\n",
       "</style>\n",
       "<table border=\"1\" class=\"dataframe\">\n",
       "  <thead>\n",
       "    <tr style=\"text-align: right;\">\n",
       "      <th></th>\n",
       "      <th>aes_1_extraversion</th>\n",
       "      <th>aes_1_agreeableness</th>\n",
       "      <th>aes_1_conscientiousness</th>\n",
       "      <th>aes_1_neuroticism</th>\n",
       "      <th>aes_1_openness</th>\n",
       "    </tr>\n",
       "  </thead>\n",
       "  <tbody>\n",
       "    <tr>\n",
       "      <th>extraversion_score</th>\n",
       "      <td>0.10 (0.0702)</td>\n",
       "      <td>-0.13 (0.0184)</td>\n",
       "      <td>0.02 (0.6794)</td>\n",
       "      <td>-0.04 (0.4349)</td>\n",
       "      <td>0.19 (0.0007)</td>\n",
       "    </tr>\n",
       "    <tr>\n",
       "      <th>agreeableness_score</th>\n",
       "      <td>-0.04 (0.5058)</td>\n",
       "      <td>0.26 (0.0000)</td>\n",
       "      <td>0.02 (0.6687)</td>\n",
       "      <td>0.10 (0.0682)</td>\n",
       "      <td>-0.03 (0.6449)</td>\n",
       "    </tr>\n",
       "    <tr>\n",
       "      <th>conscientiousness_score</th>\n",
       "      <td>-0.01 (0.8683)</td>\n",
       "      <td>-0.02 (0.7351)</td>\n",
       "      <td>0.02 (0.7806)</td>\n",
       "      <td>0.06 (0.3253)</td>\n",
       "      <td>0.09 (0.1062)</td>\n",
       "    </tr>\n",
       "    <tr>\n",
       "      <th>neuroticism_score</th>\n",
       "      <td>-0.06 (0.3035)</td>\n",
       "      <td>0.03 (0.6298)</td>\n",
       "      <td>-0.11 (0.0551)</td>\n",
       "      <td>0.03 (0.6075)</td>\n",
       "      <td>0.01 (0.8456)</td>\n",
       "    </tr>\n",
       "    <tr>\n",
       "      <th>openness_score</th>\n",
       "      <td>-0.06 (0.2288)</td>\n",
       "      <td>-0.06 (0.2399)</td>\n",
       "      <td>0.03 (0.5413)</td>\n",
       "      <td>-0.01 (0.8650)</td>\n",
       "      <td>-0.03 (0.5706)</td>\n",
       "    </tr>\n",
       "  </tbody>\n",
       "</table>\n",
       "</div>"
      ],
      "text/plain": [
       "                        aes_1_extraversion aes_1_agreeableness  \\\n",
       "extraversion_score           0.10 (0.0702)      -0.13 (0.0184)   \n",
       "agreeableness_score         -0.04 (0.5058)       0.26 (0.0000)   \n",
       "conscientiousness_score     -0.01 (0.8683)      -0.02 (0.7351)   \n",
       "neuroticism_score           -0.06 (0.3035)       0.03 (0.6298)   \n",
       "openness_score              -0.06 (0.2288)      -0.06 (0.2399)   \n",
       "\n",
       "                        aes_1_conscientiousness aes_1_neuroticism  \\\n",
       "extraversion_score                0.02 (0.6794)    -0.04 (0.4349)   \n",
       "agreeableness_score               0.02 (0.6687)     0.10 (0.0682)   \n",
       "conscientiousness_score           0.02 (0.7806)     0.06 (0.3253)   \n",
       "neuroticism_score                -0.11 (0.0551)     0.03 (0.6075)   \n",
       "openness_score                    0.03 (0.5413)    -0.01 (0.8650)   \n",
       "\n",
       "                         aes_1_openness  \n",
       "extraversion_score        0.19 (0.0007)  \n",
       "agreeableness_score      -0.03 (0.6449)  \n",
       "conscientiousness_score   0.09 (0.1062)  \n",
       "neuroticism_score         0.01 (0.8456)  \n",
       "openness_score           -0.03 (0.5706)  "
      ]
     },
     "execution_count": 47,
     "metadata": {},
     "output_type": "execute_result"
    }
   ],
   "source": [
    "regression_results[1]"
   ]
  },
  {
   "cell_type": "markdown",
   "id": "6a68ca41-db4a-4d37-9aa1-82a6b5818714",
   "metadata": {},
   "source": [
    "<h1>Human Participants: Regression Coefficient – Packing Cubes</h1>"
   ]
  },
  {
   "cell_type": "code",
   "execution_count": 48,
   "id": "9f96d2d4-1ee4-43a2-bf02-a71e23c93478",
   "metadata": {},
   "outputs": [
    {
     "data": {
      "text/html": [
       "<div>\n",
       "<style scoped>\n",
       "    .dataframe tbody tr th:only-of-type {\n",
       "        vertical-align: middle;\n",
       "    }\n",
       "\n",
       "    .dataframe tbody tr th {\n",
       "        vertical-align: top;\n",
       "    }\n",
       "\n",
       "    .dataframe thead th {\n",
       "        text-align: right;\n",
       "    }\n",
       "</style>\n",
       "<table border=\"1\" class=\"dataframe\">\n",
       "  <thead>\n",
       "    <tr style=\"text-align: right;\">\n",
       "      <th></th>\n",
       "      <th>aes_2_extraversion</th>\n",
       "      <th>aes_2_agreeableness</th>\n",
       "      <th>aes_2_conscientiousness</th>\n",
       "      <th>aes_2_neuroticism</th>\n",
       "      <th>aes_2_openness</th>\n",
       "    </tr>\n",
       "  </thead>\n",
       "  <tbody>\n",
       "    <tr>\n",
       "      <th>extraversion_score</th>\n",
       "      <td>0.17 (0.0020)</td>\n",
       "      <td>-0.15 (0.0052)</td>\n",
       "      <td>0.13 (0.0245)</td>\n",
       "      <td>-0.08 (0.1329)</td>\n",
       "      <td>0.13 (0.0204)</td>\n",
       "    </tr>\n",
       "    <tr>\n",
       "      <th>agreeableness_score</th>\n",
       "      <td>-0.09 (0.1108)</td>\n",
       "      <td>0.39 (0.0000)</td>\n",
       "      <td>-0.07 (0.2108)</td>\n",
       "      <td>0.09 (0.1257)</td>\n",
       "      <td>-0.03 (0.6286)</td>\n",
       "    </tr>\n",
       "    <tr>\n",
       "      <th>conscientiousness_score</th>\n",
       "      <td>0.08 (0.1361)</td>\n",
       "      <td>0.02 (0.7268)</td>\n",
       "      <td>-0.03 (0.6069)</td>\n",
       "      <td>0.05 (0.3303)</td>\n",
       "      <td>0.01 (0.8487)</td>\n",
       "    </tr>\n",
       "    <tr>\n",
       "      <th>neuroticism_score</th>\n",
       "      <td>-0.01 (0.8453)</td>\n",
       "      <td>0.04 (0.4995)</td>\n",
       "      <td>-0.05 (0.4213)</td>\n",
       "      <td>0.00 (0.9878)</td>\n",
       "      <td>-0.04 (0.4855)</td>\n",
       "    </tr>\n",
       "    <tr>\n",
       "      <th>openness_score</th>\n",
       "      <td>-0.09 (0.0960)</td>\n",
       "      <td>-0.05 (0.3453)</td>\n",
       "      <td>0.08 (0.1161)</td>\n",
       "      <td>0.00 (0.9641)</td>\n",
       "      <td>0.04 (0.4109)</td>\n",
       "    </tr>\n",
       "  </tbody>\n",
       "</table>\n",
       "</div>"
      ],
      "text/plain": [
       "                        aes_2_extraversion aes_2_agreeableness  \\\n",
       "extraversion_score           0.17 (0.0020)      -0.15 (0.0052)   \n",
       "agreeableness_score         -0.09 (0.1108)       0.39 (0.0000)   \n",
       "conscientiousness_score      0.08 (0.1361)       0.02 (0.7268)   \n",
       "neuroticism_score           -0.01 (0.8453)       0.04 (0.4995)   \n",
       "openness_score              -0.09 (0.0960)      -0.05 (0.3453)   \n",
       "\n",
       "                        aes_2_conscientiousness aes_2_neuroticism  \\\n",
       "extraversion_score                0.13 (0.0245)    -0.08 (0.1329)   \n",
       "agreeableness_score              -0.07 (0.2108)     0.09 (0.1257)   \n",
       "conscientiousness_score          -0.03 (0.6069)     0.05 (0.3303)   \n",
       "neuroticism_score                -0.05 (0.4213)     0.00 (0.9878)   \n",
       "openness_score                    0.08 (0.1161)     0.00 (0.9641)   \n",
       "\n",
       "                         aes_2_openness  \n",
       "extraversion_score        0.13 (0.0204)  \n",
       "agreeableness_score      -0.03 (0.6286)  \n",
       "conscientiousness_score   0.01 (0.8487)  \n",
       "neuroticism_score        -0.04 (0.4855)  \n",
       "openness_score            0.04 (0.4109)  "
      ]
     },
     "execution_count": 48,
     "metadata": {},
     "output_type": "execute_result"
    }
   ],
   "source": [
    "regression_results[2]"
   ]
  },
  {
   "cell_type": "markdown",
   "id": "5638f28e-1964-4565-af6f-3045503e2d1c",
   "metadata": {},
   "source": [
    "<h1>Human Participants: Regression Coefficient – Water Bottle</h1>"
   ]
  },
  {
   "cell_type": "code",
   "execution_count": 49,
   "id": "9c4552eb-61b7-4e36-8f27-138b8152538e",
   "metadata": {
    "scrolled": true
   },
   "outputs": [
    {
     "data": {
      "text/html": [
       "<div>\n",
       "<style scoped>\n",
       "    .dataframe tbody tr th:only-of-type {\n",
       "        vertical-align: middle;\n",
       "    }\n",
       "\n",
       "    .dataframe tbody tr th {\n",
       "        vertical-align: top;\n",
       "    }\n",
       "\n",
       "    .dataframe thead th {\n",
       "        text-align: right;\n",
       "    }\n",
       "</style>\n",
       "<table border=\"1\" class=\"dataframe\">\n",
       "  <thead>\n",
       "    <tr style=\"text-align: right;\">\n",
       "      <th></th>\n",
       "      <th>aes_3_extraversion</th>\n",
       "      <th>aes_3_agreeableness</th>\n",
       "      <th>aes_3_conscientiousness</th>\n",
       "      <th>aes_3_neuroticism</th>\n",
       "      <th>aes_3_openness</th>\n",
       "    </tr>\n",
       "  </thead>\n",
       "  <tbody>\n",
       "    <tr>\n",
       "      <th>extraversion_score</th>\n",
       "      <td>0.19 (0.0008)</td>\n",
       "      <td>-0.07 (0.1996)</td>\n",
       "      <td>0.03 (0.5425)</td>\n",
       "      <td>0.01 (0.8137)</td>\n",
       "      <td>0.07 (0.1904)</td>\n",
       "    </tr>\n",
       "    <tr>\n",
       "      <th>agreeableness_score</th>\n",
       "      <td>-0.09 (0.1241)</td>\n",
       "      <td>0.26 (0.0000)</td>\n",
       "      <td>0.00 (0.9521)</td>\n",
       "      <td>0.10 (0.0707)</td>\n",
       "      <td>-0.01 (0.8831)</td>\n",
       "    </tr>\n",
       "    <tr>\n",
       "      <th>conscientiousness_score</th>\n",
       "      <td>0.01 (0.8169)</td>\n",
       "      <td>0.00 (0.9879)</td>\n",
       "      <td>0.05 (0.3336)</td>\n",
       "      <td>-0.03 (0.5588)</td>\n",
       "      <td>0.11 (0.0490)</td>\n",
       "    </tr>\n",
       "    <tr>\n",
       "      <th>neuroticism_score</th>\n",
       "      <td>-0.02 (0.6594)</td>\n",
       "      <td>0.04 (0.5273)</td>\n",
       "      <td>0.00 (0.9999)</td>\n",
       "      <td>-0.17 (0.0025)</td>\n",
       "      <td>0.09 (0.1161)</td>\n",
       "    </tr>\n",
       "    <tr>\n",
       "      <th>openness_score</th>\n",
       "      <td>-0.03 (0.5197)</td>\n",
       "      <td>-0.06 (0.2909)</td>\n",
       "      <td>0.10 (0.0711)</td>\n",
       "      <td>-0.04 (0.4814)</td>\n",
       "      <td>-0.03 (0.6229)</td>\n",
       "    </tr>\n",
       "  </tbody>\n",
       "</table>\n",
       "</div>"
      ],
      "text/plain": [
       "                        aes_3_extraversion aes_3_agreeableness  \\\n",
       "extraversion_score           0.19 (0.0008)      -0.07 (0.1996)   \n",
       "agreeableness_score         -0.09 (0.1241)       0.26 (0.0000)   \n",
       "conscientiousness_score      0.01 (0.8169)       0.00 (0.9879)   \n",
       "neuroticism_score           -0.02 (0.6594)       0.04 (0.5273)   \n",
       "openness_score              -0.03 (0.5197)      -0.06 (0.2909)   \n",
       "\n",
       "                        aes_3_conscientiousness aes_3_neuroticism  \\\n",
       "extraversion_score                0.03 (0.5425)     0.01 (0.8137)   \n",
       "agreeableness_score               0.00 (0.9521)     0.10 (0.0707)   \n",
       "conscientiousness_score           0.05 (0.3336)    -0.03 (0.5588)   \n",
       "neuroticism_score                 0.00 (0.9999)    -0.17 (0.0025)   \n",
       "openness_score                    0.10 (0.0711)    -0.04 (0.4814)   \n",
       "\n",
       "                         aes_3_openness  \n",
       "extraversion_score        0.07 (0.1904)  \n",
       "agreeableness_score      -0.01 (0.8831)  \n",
       "conscientiousness_score   0.11 (0.0490)  \n",
       "neuroticism_score         0.09 (0.1161)  \n",
       "openness_score           -0.03 (0.6229)  "
      ]
     },
     "execution_count": 49,
     "metadata": {},
     "output_type": "execute_result"
    }
   ],
   "source": [
    "regression_results[3]"
   ]
  },
  {
   "cell_type": "markdown",
   "id": "2b219864-bbd5-4260-91c2-d33834bd9d2b",
   "metadata": {},
   "source": [
    "<h1> Compute Pearson Correaltion </h1>"
   ]
  },
  {
   "cell_type": "code",
   "execution_count": 50,
   "id": "52c351d3-9b40-4c2b-b832-731954d211a9",
   "metadata": {},
   "outputs": [
    {
     "name": "stdout",
     "output_type": "stream",
     "text": [
      "Pearson Correlations with p-values - Product 1\n"
     ]
    },
    {
     "data": {
      "text/html": [
       "<div>\n",
       "<style scoped>\n",
       "    .dataframe tbody tr th:only-of-type {\n",
       "        vertical-align: middle;\n",
       "    }\n",
       "\n",
       "    .dataframe tbody tr th {\n",
       "        vertical-align: top;\n",
       "    }\n",
       "\n",
       "    .dataframe thead th {\n",
       "        text-align: right;\n",
       "    }\n",
       "</style>\n",
       "<table border=\"1\" class=\"dataframe\">\n",
       "  <thead>\n",
       "    <tr style=\"text-align: right;\">\n",
       "      <th></th>\n",
       "      <th>aes_1_extraversion</th>\n",
       "      <th>aes_1_agreeableness</th>\n",
       "      <th>aes_1_conscientiousness</th>\n",
       "      <th>aes_1_neuroticism</th>\n",
       "      <th>aes_1_openness</th>\n",
       "    </tr>\n",
       "  </thead>\n",
       "  <tbody>\n",
       "    <tr>\n",
       "      <th>extraversion_score</th>\n",
       "      <td>0.09 (p=0.086446)</td>\n",
       "      <td>-0.06 (p=0.250425)</td>\n",
       "      <td>0.06 (p=0.279730)</td>\n",
       "      <td>-0.01 (p=0.867345)</td>\n",
       "      <td>0.19 (p=0.000291)</td>\n",
       "    </tr>\n",
       "    <tr>\n",
       "      <th>agreeableness_score</th>\n",
       "      <td>-0.02 (p=0.658013)</td>\n",
       "      <td>0.20 (p=0.000104)</td>\n",
       "      <td>0.04 (p=0.457307)</td>\n",
       "      <td>0.09 (p=0.075723)</td>\n",
       "      <td>0.04 (p=0.490102)</td>\n",
       "    </tr>\n",
       "    <tr>\n",
       "      <th>conscientiousness_score</th>\n",
       "      <td>0.02 (p=0.654670)</td>\n",
       "      <td>-0.03 (p=0.622715)</td>\n",
       "      <td>0.06 (p=0.240631)</td>\n",
       "      <td>0.05 (p=0.368652)</td>\n",
       "      <td>0.11 (p=0.036550)</td>\n",
       "    </tr>\n",
       "    <tr>\n",
       "      <th>neuroticism_score</th>\n",
       "      <td>-0.07 (p=0.191295)</td>\n",
       "      <td>0.07 (p=0.194483)</td>\n",
       "      <td>-0.12 (p=0.019138)</td>\n",
       "      <td>0.02 (p=0.707979)</td>\n",
       "      <td>-0.05 (p=0.310472)</td>\n",
       "    </tr>\n",
       "    <tr>\n",
       "      <th>openness_score</th>\n",
       "      <td>-0.06 (p=0.283757)</td>\n",
       "      <td>-0.02 (p=0.753256)</td>\n",
       "      <td>0.05 (p=0.323189)</td>\n",
       "      <td>0.01 (p=0.873622)</td>\n",
       "      <td>-0.01 (p=0.812530)</td>\n",
       "    </tr>\n",
       "  </tbody>\n",
       "</table>\n",
       "</div>"
      ],
      "text/plain": [
       "                         aes_1_extraversion aes_1_agreeableness  \\\n",
       "extraversion_score        0.09 (p=0.086446)  -0.06 (p=0.250425)   \n",
       "agreeableness_score      -0.02 (p=0.658013)   0.20 (p=0.000104)   \n",
       "conscientiousness_score   0.02 (p=0.654670)  -0.03 (p=0.622715)   \n",
       "neuroticism_score        -0.07 (p=0.191295)   0.07 (p=0.194483)   \n",
       "openness_score           -0.06 (p=0.283757)  -0.02 (p=0.753256)   \n",
       "\n",
       "                        aes_1_conscientiousness   aes_1_neuroticism  \\\n",
       "extraversion_score            0.06 (p=0.279730)  -0.01 (p=0.867345)   \n",
       "agreeableness_score           0.04 (p=0.457307)   0.09 (p=0.075723)   \n",
       "conscientiousness_score       0.06 (p=0.240631)   0.05 (p=0.368652)   \n",
       "neuroticism_score            -0.12 (p=0.019138)   0.02 (p=0.707979)   \n",
       "openness_score                0.05 (p=0.323189)   0.01 (p=0.873622)   \n",
       "\n",
       "                             aes_1_openness  \n",
       "extraversion_score        0.19 (p=0.000291)  \n",
       "agreeableness_score       0.04 (p=0.490102)  \n",
       "conscientiousness_score   0.11 (p=0.036550)  \n",
       "neuroticism_score        -0.05 (p=0.310472)  \n",
       "openness_score           -0.01 (p=0.812530)  "
      ]
     },
     "metadata": {},
     "output_type": "display_data"
    },
    {
     "name": "stdout",
     "output_type": "stream",
     "text": [
      "Pearson Correlations with p-values - Product 2\n"
     ]
    },
    {
     "data": {
      "text/html": [
       "<div>\n",
       "<style scoped>\n",
       "    .dataframe tbody tr th:only-of-type {\n",
       "        vertical-align: middle;\n",
       "    }\n",
       "\n",
       "    .dataframe tbody tr th {\n",
       "        vertical-align: top;\n",
       "    }\n",
       "\n",
       "    .dataframe thead th {\n",
       "        text-align: right;\n",
       "    }\n",
       "</style>\n",
       "<table border=\"1\" class=\"dataframe\">\n",
       "  <thead>\n",
       "    <tr style=\"text-align: right;\">\n",
       "      <th></th>\n",
       "      <th>aes_2_extraversion</th>\n",
       "      <th>aes_2_agreeableness</th>\n",
       "      <th>aes_2_conscientiousness</th>\n",
       "      <th>aes_2_neuroticism</th>\n",
       "      <th>aes_2_openness</th>\n",
       "    </tr>\n",
       "  </thead>\n",
       "  <tbody>\n",
       "    <tr>\n",
       "      <th>extraversion_score</th>\n",
       "      <td>0.14 (p=0.005811)</td>\n",
       "      <td>-0.03 (p=0.585653)</td>\n",
       "      <td>0.12 (p=0.022689)</td>\n",
       "      <td>-0.05 (p=0.346921)</td>\n",
       "      <td>0.13 (p=0.009053)</td>\n",
       "    </tr>\n",
       "    <tr>\n",
       "      <th>agreeableness_score</th>\n",
       "      <td>-0.05 (p=0.340865)</td>\n",
       "      <td>0.33 (p=0.000000)</td>\n",
       "      <td>-0.01 (p=0.827796)</td>\n",
       "      <td>0.06 (p=0.225492)</td>\n",
       "      <td>0.03 (p=0.611950)</td>\n",
       "    </tr>\n",
       "    <tr>\n",
       "      <th>conscientiousness_score</th>\n",
       "      <td>0.10 (p=0.047163)</td>\n",
       "      <td>0.02 (p=0.765586)</td>\n",
       "      <td>-0.00 (p=0.975736)</td>\n",
       "      <td>0.05 (p=0.327270)</td>\n",
       "      <td>0.04 (p=0.444147)</td>\n",
       "    </tr>\n",
       "    <tr>\n",
       "      <th>neuroticism_score</th>\n",
       "      <td>-0.07 (p=0.206167)</td>\n",
       "      <td>0.07 (p=0.189829)</td>\n",
       "      <td>-0.06 (p=0.210647)</td>\n",
       "      <td>-0.00 (p=0.928989)</td>\n",
       "      <td>-0.07 (p=0.177784)</td>\n",
       "    </tr>\n",
       "    <tr>\n",
       "      <th>openness_score</th>\n",
       "      <td>-0.09 (p=0.091730)</td>\n",
       "      <td>0.03 (p=0.585329)</td>\n",
       "      <td>0.09 (p=0.090176)</td>\n",
       "      <td>0.01 (p=0.881534)</td>\n",
       "      <td>0.06 (p=0.260859)</td>\n",
       "    </tr>\n",
       "  </tbody>\n",
       "</table>\n",
       "</div>"
      ],
      "text/plain": [
       "                         aes_2_extraversion aes_2_agreeableness  \\\n",
       "extraversion_score        0.14 (p=0.005811)  -0.03 (p=0.585653)   \n",
       "agreeableness_score      -0.05 (p=0.340865)   0.33 (p=0.000000)   \n",
       "conscientiousness_score   0.10 (p=0.047163)   0.02 (p=0.765586)   \n",
       "neuroticism_score        -0.07 (p=0.206167)   0.07 (p=0.189829)   \n",
       "openness_score           -0.09 (p=0.091730)   0.03 (p=0.585329)   \n",
       "\n",
       "                        aes_2_conscientiousness   aes_2_neuroticism  \\\n",
       "extraversion_score            0.12 (p=0.022689)  -0.05 (p=0.346921)   \n",
       "agreeableness_score          -0.01 (p=0.827796)   0.06 (p=0.225492)   \n",
       "conscientiousness_score      -0.00 (p=0.975736)   0.05 (p=0.327270)   \n",
       "neuroticism_score            -0.06 (p=0.210647)  -0.00 (p=0.928989)   \n",
       "openness_score                0.09 (p=0.090176)   0.01 (p=0.881534)   \n",
       "\n",
       "                             aes_2_openness  \n",
       "extraversion_score        0.13 (p=0.009053)  \n",
       "agreeableness_score       0.03 (p=0.611950)  \n",
       "conscientiousness_score   0.04 (p=0.444147)  \n",
       "neuroticism_score        -0.07 (p=0.177784)  \n",
       "openness_score            0.06 (p=0.260859)  "
      ]
     },
     "metadata": {},
     "output_type": "display_data"
    },
    {
     "name": "stdout",
     "output_type": "stream",
     "text": [
      "Pearson Correlations with p-values - Product 3\n"
     ]
    },
    {
     "data": {
      "text/html": [
       "<div>\n",
       "<style scoped>\n",
       "    .dataframe tbody tr th:only-of-type {\n",
       "        vertical-align: middle;\n",
       "    }\n",
       "\n",
       "    .dataframe tbody tr th {\n",
       "        vertical-align: top;\n",
       "    }\n",
       "\n",
       "    .dataframe thead th {\n",
       "        text-align: right;\n",
       "    }\n",
       "</style>\n",
       "<table border=\"1\" class=\"dataframe\">\n",
       "  <thead>\n",
       "    <tr style=\"text-align: right;\">\n",
       "      <th></th>\n",
       "      <th>aes_3_extraversion</th>\n",
       "      <th>aes_3_agreeableness</th>\n",
       "      <th>aes_3_conscientiousness</th>\n",
       "      <th>aes_3_neuroticism</th>\n",
       "      <th>aes_3_openness</th>\n",
       "    </tr>\n",
       "  </thead>\n",
       "  <tbody>\n",
       "    <tr>\n",
       "      <th>extraversion_score</th>\n",
       "      <td>0.16 (p=0.002038)</td>\n",
       "      <td>0.00 (p=0.989637)</td>\n",
       "      <td>0.05 (p=0.303793)</td>\n",
       "      <td>0.07 (p=0.201799)</td>\n",
       "      <td>0.07 (p=0.203377)</td>\n",
       "    </tr>\n",
       "    <tr>\n",
       "      <th>agreeableness_score</th>\n",
       "      <td>-0.03 (p=0.517940)</td>\n",
       "      <td>0.22 (p=0.000017)</td>\n",
       "      <td>0.04 (p=0.481114)</td>\n",
       "      <td>0.09 (p=0.083083)</td>\n",
       "      <td>0.02 (p=0.706723)</td>\n",
       "    </tr>\n",
       "    <tr>\n",
       "      <th>conscientiousness_score</th>\n",
       "      <td>0.04 (p=0.441748)</td>\n",
       "      <td>-0.00 (p=0.946026)</td>\n",
       "      <td>0.06 (p=0.265217)</td>\n",
       "      <td>0.04 (p=0.431794)</td>\n",
       "      <td>0.09 (p=0.095164)</td>\n",
       "    </tr>\n",
       "    <tr>\n",
       "      <th>neuroticism_score</th>\n",
       "      <td>-0.06 (p=0.243697)</td>\n",
       "      <td>0.06 (p=0.258781)</td>\n",
       "      <td>-0.03 (p=0.508755)</td>\n",
       "      <td>-0.16 (p=0.002535)</td>\n",
       "      <td>0.04 (p=0.466084)</td>\n",
       "    </tr>\n",
       "    <tr>\n",
       "      <th>openness_score</th>\n",
       "      <td>-0.03 (p=0.579635)</td>\n",
       "      <td>-0.00 (p=0.950813)</td>\n",
       "      <td>0.10 (p=0.051041)</td>\n",
       "      <td>0.00 (p=0.930185)</td>\n",
       "      <td>-0.03 (p=0.604450)</td>\n",
       "    </tr>\n",
       "  </tbody>\n",
       "</table>\n",
       "</div>"
      ],
      "text/plain": [
       "                         aes_3_extraversion aes_3_agreeableness  \\\n",
       "extraversion_score        0.16 (p=0.002038)   0.00 (p=0.989637)   \n",
       "agreeableness_score      -0.03 (p=0.517940)   0.22 (p=0.000017)   \n",
       "conscientiousness_score   0.04 (p=0.441748)  -0.00 (p=0.946026)   \n",
       "neuroticism_score        -0.06 (p=0.243697)   0.06 (p=0.258781)   \n",
       "openness_score           -0.03 (p=0.579635)  -0.00 (p=0.950813)   \n",
       "\n",
       "                        aes_3_conscientiousness   aes_3_neuroticism  \\\n",
       "extraversion_score            0.05 (p=0.303793)   0.07 (p=0.201799)   \n",
       "agreeableness_score           0.04 (p=0.481114)   0.09 (p=0.083083)   \n",
       "conscientiousness_score       0.06 (p=0.265217)   0.04 (p=0.431794)   \n",
       "neuroticism_score            -0.03 (p=0.508755)  -0.16 (p=0.002535)   \n",
       "openness_score                0.10 (p=0.051041)   0.00 (p=0.930185)   \n",
       "\n",
       "                             aes_3_openness  \n",
       "extraversion_score        0.07 (p=0.203377)  \n",
       "agreeableness_score       0.02 (p=0.706723)  \n",
       "conscientiousness_score   0.09 (p=0.095164)  \n",
       "neuroticism_score         0.04 (p=0.466084)  \n",
       "openness_score           -0.03 (p=0.604450)  "
      ]
     },
     "metadata": {},
     "output_type": "display_data"
    }
   ],
   "source": [
    "import pandas as pd\n",
    "import pingouin as pg\n",
    "\n",
    "def compute_correlations_with_pvalues(df, aes_cols, traits_cols):\n",
    "    correlation_results = pd.DataFrame(index=traits_cols, columns=aes_cols)\n",
    "    \n",
    "    for trait in traits_cols:\n",
    "        for aes in aes_cols:\n",
    "            corr_res = pg.corr(df[trait], df[aes])\n",
    "            r = corr_res[\"r\"].values[0]\n",
    "            p = corr_res[\"p-val\"].values[0]\n",
    "            correlation_results.loc[trait, aes] = f\"{r:.2f} (p={p:.6f})\"\n",
    "    \n",
    "    return correlation_results\n",
    "\n",
    "# Define AES and personality trait columns\n",
    "aes_cols_product1 = ['aes_1_extraversion', 'aes_1_agreeableness', 'aes_1_conscientiousness', 'aes_1_neuroticism', 'aes_1_openness']\n",
    "aes_cols_product2 = ['aes_2_extraversion', 'aes_2_agreeableness', 'aes_2_conscientiousness', 'aes_2_neuroticism', 'aes_2_openness']\n",
    "aes_cols_product3 = ['aes_3_extraversion', 'aes_3_agreeableness', 'aes_3_conscientiousness', 'aes_3_neuroticism', 'aes_3_openness']\n",
    "personality_cols = ['extraversion_score', 'agreeableness_score', 'conscientiousness_score', 'neuroticism_score', 'openness_score']\n",
    "\n",
    "# Compute Pearson correlations with p-values for each product\n",
    "correlations_pvalues_product1 = compute_correlations_with_pvalues(df_aes_with_aes_residualized, aes_cols_product1, personality_cols)\n",
    "correlations_pvalues_product2 = compute_correlations_with_pvalues(df_aes_with_aes_residualized, aes_cols_product2, personality_cols)\n",
    "correlations_pvalues_product3 = compute_correlations_with_pvalues(df_aes_with_aes_residualized, aes_cols_product3, personality_cols)\n",
    "\n",
    "# Display results\n",
    "print(\"Pearson Correlations with p-values - Product 1\")\n",
    "display(correlations_pvalues_product1)\n",
    "\n",
    "print(\"Pearson Correlations with p-values - Product 2\")\n",
    "display(correlations_pvalues_product2)\n",
    "\n",
    "print(\"Pearson Correlations with p-values - Product 3\")\n",
    "display(correlations_pvalues_product3)\n"
   ]
  },
  {
   "cell_type": "code",
   "execution_count": 51,
   "id": "bebd876f",
   "metadata": {},
   "outputs": [
    {
     "name": "stdout",
     "output_type": "stream",
     "text": [
      "Pearson Correlations with p-values - Product 1\n"
     ]
    },
    {
     "data": {
      "text/html": [
       "<div>\n",
       "<style scoped>\n",
       "    .dataframe tbody tr th:only-of-type {\n",
       "        vertical-align: middle;\n",
       "    }\n",
       "\n",
       "    .dataframe tbody tr th {\n",
       "        vertical-align: top;\n",
       "    }\n",
       "\n",
       "    .dataframe thead th {\n",
       "        text-align: right;\n",
       "    }\n",
       "</style>\n",
       "<table border=\"1\" class=\"dataframe\">\n",
       "  <thead>\n",
       "    <tr style=\"text-align: right;\">\n",
       "      <th></th>\n",
       "      <th>aes_1_extraversion</th>\n",
       "      <th>aes_1_agreeableness</th>\n",
       "      <th>aes_1_conscientiousness</th>\n",
       "      <th>aes_1_neuroticism</th>\n",
       "      <th>aes_1_openness</th>\n",
       "    </tr>\n",
       "  </thead>\n",
       "  <tbody>\n",
       "    <tr>\n",
       "      <th>extraversion_score</th>\n",
       "      <td>0.09 (p=0.086446)</td>\n",
       "      <td>-0.06 (p=0.250425)</td>\n",
       "      <td>0.06 (p=0.279730)</td>\n",
       "      <td>-0.01 (p=0.867345)</td>\n",
       "      <td>0.19 (p=0.000291)</td>\n",
       "    </tr>\n",
       "    <tr>\n",
       "      <th>agreeableness_score</th>\n",
       "      <td>-0.02 (p=0.658013)</td>\n",
       "      <td>0.20 (p=0.000104)</td>\n",
       "      <td>0.04 (p=0.457307)</td>\n",
       "      <td>0.09 (p=0.075723)</td>\n",
       "      <td>0.04 (p=0.490102)</td>\n",
       "    </tr>\n",
       "    <tr>\n",
       "      <th>conscientiousness_score</th>\n",
       "      <td>0.02 (p=0.654670)</td>\n",
       "      <td>-0.03 (p=0.622715)</td>\n",
       "      <td>0.06 (p=0.240631)</td>\n",
       "      <td>0.05 (p=0.368652)</td>\n",
       "      <td>0.11 (p=0.036550)</td>\n",
       "    </tr>\n",
       "    <tr>\n",
       "      <th>neuroticism_score</th>\n",
       "      <td>-0.07 (p=0.191295)</td>\n",
       "      <td>0.07 (p=0.194483)</td>\n",
       "      <td>-0.12 (p=0.019138)</td>\n",
       "      <td>0.02 (p=0.707979)</td>\n",
       "      <td>-0.05 (p=0.310472)</td>\n",
       "    </tr>\n",
       "    <tr>\n",
       "      <th>openness_score</th>\n",
       "      <td>-0.06 (p=0.283757)</td>\n",
       "      <td>-0.02 (p=0.753256)</td>\n",
       "      <td>0.05 (p=0.323189)</td>\n",
       "      <td>0.01 (p=0.873622)</td>\n",
       "      <td>-0.01 (p=0.812530)</td>\n",
       "    </tr>\n",
       "  </tbody>\n",
       "</table>\n",
       "</div>"
      ],
      "text/plain": [
       "                         aes_1_extraversion aes_1_agreeableness  \\\n",
       "extraversion_score        0.09 (p=0.086446)  -0.06 (p=0.250425)   \n",
       "agreeableness_score      -0.02 (p=0.658013)   0.20 (p=0.000104)   \n",
       "conscientiousness_score   0.02 (p=0.654670)  -0.03 (p=0.622715)   \n",
       "neuroticism_score        -0.07 (p=0.191295)   0.07 (p=0.194483)   \n",
       "openness_score           -0.06 (p=0.283757)  -0.02 (p=0.753256)   \n",
       "\n",
       "                        aes_1_conscientiousness   aes_1_neuroticism  \\\n",
       "extraversion_score            0.06 (p=0.279730)  -0.01 (p=0.867345)   \n",
       "agreeableness_score           0.04 (p=0.457307)   0.09 (p=0.075723)   \n",
       "conscientiousness_score       0.06 (p=0.240631)   0.05 (p=0.368652)   \n",
       "neuroticism_score            -0.12 (p=0.019138)   0.02 (p=0.707979)   \n",
       "openness_score                0.05 (p=0.323189)   0.01 (p=0.873622)   \n",
       "\n",
       "                             aes_1_openness  \n",
       "extraversion_score        0.19 (p=0.000291)  \n",
       "agreeableness_score       0.04 (p=0.490102)  \n",
       "conscientiousness_score   0.11 (p=0.036550)  \n",
       "neuroticism_score        -0.05 (p=0.310472)  \n",
       "openness_score           -0.01 (p=0.812530)  "
      ]
     },
     "metadata": {},
     "output_type": "display_data"
    },
    {
     "name": "stdout",
     "output_type": "stream",
     "text": [
      "Pearson Correlations with p-values - Product 2\n"
     ]
    },
    {
     "data": {
      "text/html": [
       "<div>\n",
       "<style scoped>\n",
       "    .dataframe tbody tr th:only-of-type {\n",
       "        vertical-align: middle;\n",
       "    }\n",
       "\n",
       "    .dataframe tbody tr th {\n",
       "        vertical-align: top;\n",
       "    }\n",
       "\n",
       "    .dataframe thead th {\n",
       "        text-align: right;\n",
       "    }\n",
       "</style>\n",
       "<table border=\"1\" class=\"dataframe\">\n",
       "  <thead>\n",
       "    <tr style=\"text-align: right;\">\n",
       "      <th></th>\n",
       "      <th>aes_2_extraversion</th>\n",
       "      <th>aes_2_agreeableness</th>\n",
       "      <th>aes_2_conscientiousness</th>\n",
       "      <th>aes_2_neuroticism</th>\n",
       "      <th>aes_2_openness</th>\n",
       "    </tr>\n",
       "  </thead>\n",
       "  <tbody>\n",
       "    <tr>\n",
       "      <th>extraversion_score</th>\n",
       "      <td>0.14 (p=0.005811)</td>\n",
       "      <td>-0.03 (p=0.585653)</td>\n",
       "      <td>0.12 (p=0.022689)</td>\n",
       "      <td>-0.05 (p=0.346921)</td>\n",
       "      <td>0.13 (p=0.009053)</td>\n",
       "    </tr>\n",
       "    <tr>\n",
       "      <th>agreeableness_score</th>\n",
       "      <td>-0.05 (p=0.340865)</td>\n",
       "      <td>0.33 (p=0.000000)</td>\n",
       "      <td>-0.01 (p=0.827796)</td>\n",
       "      <td>0.06 (p=0.225492)</td>\n",
       "      <td>0.03 (p=0.611950)</td>\n",
       "    </tr>\n",
       "    <tr>\n",
       "      <th>conscientiousness_score</th>\n",
       "      <td>0.10 (p=0.047163)</td>\n",
       "      <td>0.02 (p=0.765586)</td>\n",
       "      <td>-0.00 (p=0.975736)</td>\n",
       "      <td>0.05 (p=0.327270)</td>\n",
       "      <td>0.04 (p=0.444147)</td>\n",
       "    </tr>\n",
       "    <tr>\n",
       "      <th>neuroticism_score</th>\n",
       "      <td>-0.07 (p=0.206167)</td>\n",
       "      <td>0.07 (p=0.189829)</td>\n",
       "      <td>-0.06 (p=0.210647)</td>\n",
       "      <td>-0.00 (p=0.928989)</td>\n",
       "      <td>-0.07 (p=0.177784)</td>\n",
       "    </tr>\n",
       "    <tr>\n",
       "      <th>openness_score</th>\n",
       "      <td>-0.09 (p=0.091730)</td>\n",
       "      <td>0.03 (p=0.585329)</td>\n",
       "      <td>0.09 (p=0.090176)</td>\n",
       "      <td>0.01 (p=0.881534)</td>\n",
       "      <td>0.06 (p=0.260859)</td>\n",
       "    </tr>\n",
       "  </tbody>\n",
       "</table>\n",
       "</div>"
      ],
      "text/plain": [
       "                         aes_2_extraversion aes_2_agreeableness  \\\n",
       "extraversion_score        0.14 (p=0.005811)  -0.03 (p=0.585653)   \n",
       "agreeableness_score      -0.05 (p=0.340865)   0.33 (p=0.000000)   \n",
       "conscientiousness_score   0.10 (p=0.047163)   0.02 (p=0.765586)   \n",
       "neuroticism_score        -0.07 (p=0.206167)   0.07 (p=0.189829)   \n",
       "openness_score           -0.09 (p=0.091730)   0.03 (p=0.585329)   \n",
       "\n",
       "                        aes_2_conscientiousness   aes_2_neuroticism  \\\n",
       "extraversion_score            0.12 (p=0.022689)  -0.05 (p=0.346921)   \n",
       "agreeableness_score          -0.01 (p=0.827796)   0.06 (p=0.225492)   \n",
       "conscientiousness_score      -0.00 (p=0.975736)   0.05 (p=0.327270)   \n",
       "neuroticism_score            -0.06 (p=0.210647)  -0.00 (p=0.928989)   \n",
       "openness_score                0.09 (p=0.090176)   0.01 (p=0.881534)   \n",
       "\n",
       "                             aes_2_openness  \n",
       "extraversion_score        0.13 (p=0.009053)  \n",
       "agreeableness_score       0.03 (p=0.611950)  \n",
       "conscientiousness_score   0.04 (p=0.444147)  \n",
       "neuroticism_score        -0.07 (p=0.177784)  \n",
       "openness_score            0.06 (p=0.260859)  "
      ]
     },
     "metadata": {},
     "output_type": "display_data"
    },
    {
     "name": "stdout",
     "output_type": "stream",
     "text": [
      "Pearson Correlations with p-values - Product 3\n"
     ]
    },
    {
     "data": {
      "text/html": [
       "<div>\n",
       "<style scoped>\n",
       "    .dataframe tbody tr th:only-of-type {\n",
       "        vertical-align: middle;\n",
       "    }\n",
       "\n",
       "    .dataframe tbody tr th {\n",
       "        vertical-align: top;\n",
       "    }\n",
       "\n",
       "    .dataframe thead th {\n",
       "        text-align: right;\n",
       "    }\n",
       "</style>\n",
       "<table border=\"1\" class=\"dataframe\">\n",
       "  <thead>\n",
       "    <tr style=\"text-align: right;\">\n",
       "      <th></th>\n",
       "      <th>aes_3_extraversion</th>\n",
       "      <th>aes_3_agreeableness</th>\n",
       "      <th>aes_3_conscientiousness</th>\n",
       "      <th>aes_3_neuroticism</th>\n",
       "      <th>aes_3_openness</th>\n",
       "    </tr>\n",
       "  </thead>\n",
       "  <tbody>\n",
       "    <tr>\n",
       "      <th>extraversion_score</th>\n",
       "      <td>0.16 (p=0.002038)</td>\n",
       "      <td>0.00 (p=0.989637)</td>\n",
       "      <td>0.05 (p=0.303793)</td>\n",
       "      <td>0.07 (p=0.201799)</td>\n",
       "      <td>0.07 (p=0.203377)</td>\n",
       "    </tr>\n",
       "    <tr>\n",
       "      <th>agreeableness_score</th>\n",
       "      <td>-0.03 (p=0.517940)</td>\n",
       "      <td>0.22 (p=0.000017)</td>\n",
       "      <td>0.04 (p=0.481114)</td>\n",
       "      <td>0.09 (p=0.083083)</td>\n",
       "      <td>0.02 (p=0.706723)</td>\n",
       "    </tr>\n",
       "    <tr>\n",
       "      <th>conscientiousness_score</th>\n",
       "      <td>0.04 (p=0.441748)</td>\n",
       "      <td>-0.00 (p=0.946026)</td>\n",
       "      <td>0.06 (p=0.265217)</td>\n",
       "      <td>0.04 (p=0.431794)</td>\n",
       "      <td>0.09 (p=0.095164)</td>\n",
       "    </tr>\n",
       "    <tr>\n",
       "      <th>neuroticism_score</th>\n",
       "      <td>-0.06 (p=0.243697)</td>\n",
       "      <td>0.06 (p=0.258781)</td>\n",
       "      <td>-0.03 (p=0.508755)</td>\n",
       "      <td>-0.16 (p=0.002535)</td>\n",
       "      <td>0.04 (p=0.466084)</td>\n",
       "    </tr>\n",
       "    <tr>\n",
       "      <th>openness_score</th>\n",
       "      <td>-0.03 (p=0.579635)</td>\n",
       "      <td>-0.00 (p=0.950813)</td>\n",
       "      <td>0.10 (p=0.051041)</td>\n",
       "      <td>0.00 (p=0.930185)</td>\n",
       "      <td>-0.03 (p=0.604450)</td>\n",
       "    </tr>\n",
       "  </tbody>\n",
       "</table>\n",
       "</div>"
      ],
      "text/plain": [
       "                         aes_3_extraversion aes_3_agreeableness  \\\n",
       "extraversion_score        0.16 (p=0.002038)   0.00 (p=0.989637)   \n",
       "agreeableness_score      -0.03 (p=0.517940)   0.22 (p=0.000017)   \n",
       "conscientiousness_score   0.04 (p=0.441748)  -0.00 (p=0.946026)   \n",
       "neuroticism_score        -0.06 (p=0.243697)   0.06 (p=0.258781)   \n",
       "openness_score           -0.03 (p=0.579635)  -0.00 (p=0.950813)   \n",
       "\n",
       "                        aes_3_conscientiousness   aes_3_neuroticism  \\\n",
       "extraversion_score            0.05 (p=0.303793)   0.07 (p=0.201799)   \n",
       "agreeableness_score           0.04 (p=0.481114)   0.09 (p=0.083083)   \n",
       "conscientiousness_score       0.06 (p=0.265217)   0.04 (p=0.431794)   \n",
       "neuroticism_score            -0.03 (p=0.508755)  -0.16 (p=0.002535)   \n",
       "openness_score                0.10 (p=0.051041)   0.00 (p=0.930185)   \n",
       "\n",
       "                             aes_3_openness  \n",
       "extraversion_score        0.07 (p=0.203377)  \n",
       "agreeableness_score       0.02 (p=0.706723)  \n",
       "conscientiousness_score   0.09 (p=0.095164)  \n",
       "neuroticism_score         0.04 (p=0.466084)  \n",
       "openness_score           -0.03 (p=0.604450)  "
      ]
     },
     "metadata": {},
     "output_type": "display_data"
    },
    {
     "name": "stdout",
     "output_type": "stream",
     "text": [
      "\n",
      "P-values as arrays:\n",
      "Product 1: [8.64456506e-02 2.50424807e-01 2.79730176e-01 8.67344862e-01\n",
      " 2.91230617e-04 6.58013058e-01 1.04281206e-04 4.57306556e-01\n",
      " 7.57233124e-02 4.90102134e-01 6.54670001e-01 6.22714529e-01\n",
      " 2.40630810e-01 3.68651991e-01 3.65495687e-02 1.91294808e-01\n",
      " 1.94483233e-01 1.91376074e-02 7.07979109e-01 3.10471932e-01\n",
      " 2.83757417e-01 7.53256230e-01 3.23189295e-01 8.73621783e-01\n",
      " 8.12530281e-01]\n",
      "Product 2: [5.81079438e-03 5.85653435e-01 2.26891366e-02 3.46920704e-01\n",
      " 9.05293313e-03 3.40864846e-01 3.44545738e-11 8.27795951e-01\n",
      " 2.25491601e-01 6.11949617e-01 4.71632037e-02 7.65585828e-01\n",
      " 9.75735782e-01 3.27269505e-01 4.44146514e-01 2.06167498e-01\n",
      " 1.89828822e-01 2.10647134e-01 9.28989281e-01 1.77784055e-01\n",
      " 9.17300070e-02 5.85329462e-01 9.01761659e-02 8.81533536e-01\n",
      " 2.60859008e-01]\n",
      "Product 3: [2.03839180e-03 9.89637497e-01 3.03793263e-01 2.01798680e-01\n",
      " 2.03377309e-01 5.17940307e-01 1.67311321e-05 4.81114157e-01\n",
      " 8.30831482e-02 7.06723267e-01 4.41747650e-01 9.46026310e-01\n",
      " 2.65217314e-01 4.31793756e-01 9.51637434e-02 2.43696812e-01\n",
      " 2.58780946e-01 5.08755125e-01 2.53491658e-03 4.66083739e-01\n",
      " 5.79634944e-01 9.50812898e-01 5.10411220e-02 9.30185146e-01\n",
      " 6.04449839e-01]\n"
     ]
    }
   ],
   "source": [
    "import pandas as pd\n",
    "import numpy as np\n",
    "from scipy.stats import pearsonr\n",
    "\n",
    "def correlations_with_p_and_n(df, aes_cols, traits_cols):\n",
    "    r_df = pd.DataFrame(index=traits_cols, columns=aes_cols, dtype=float)\n",
    "    p_df = pd.DataFrame(index=traits_cols, columns=aes_cols, dtype=float)\n",
    "    n_df = pd.DataFrame(index=traits_cols, columns=aes_cols, dtype=int)\n",
    "\n",
    "    for trait in traits_cols:\n",
    "        for aes in aes_cols:\n",
    "            pair = df[[trait, aes]].dropna()\n",
    "            n = len(pair)\n",
    "            if n >= 3:\n",
    "                r, p = pearsonr(pair[trait], pair[aes])\n",
    "            else:\n",
    "                r, p = float(\"nan\"), float(\"nan\")\n",
    "            r_df.loc[trait, aes] = r\n",
    "            p_df.loc[trait, aes] = p\n",
    "            n_df.loc[trait, aes] = n\n",
    "\n",
    "    return r_df, p_df, n_df\n",
    "\n",
    "r1, p1, n1 = correlations_with_p_and_n(df_aes_with_aes_residualized, aes_cols_product1, personality_cols)\n",
    "r2, p2, n2 = correlations_with_p_and_n(df_aes_with_aes_residualized, aes_cols_product2, personality_cols)\n",
    "r3, p3, n3 = correlations_with_p_and_n(df_aes_with_aes_residualized, aes_cols_product3, personality_cols)\n",
    "\n",
    "def pretty_table(r_df, p_df):\n",
    "    return pd.DataFrame(\n",
    "        [[f\"{r_df.iloc[i,j]:.2f} (p={p_df.iloc[i,j]:.6f})\"\n",
    "          if pd.notna(r_df.iloc[i,j]) and pd.notna(p_df.iloc[i,j]) else \"nan\"\n",
    "          for j in range(r_df.shape[1])]\n",
    "         for i in range(r_df.shape[0])],\n",
    "        index=r_df.index,\n",
    "        columns=r_df.columns\n",
    "    )\n",
    "\n",
    "def json_ready_pvals(p_df: pd.DataFrame):\n",
    "    # Flatten -> Python floats -> replace NaN/inf with None\n",
    "    flat = np.asarray(p_df.to_numpy(dtype=float)).ravel()\n",
    "    return [None if (pd.isna(v) or not np.isfinite(v)) else float(v) for v in flat]\n",
    "\n",
    "# --- Pretty tables ---\n",
    "print(\"Pearson Correlations with p-values - Product 1\")\n",
    "display(pretty_table(r1, p1))\n",
    "print(\"Pearson Correlations with p-values - Product 2\")\n",
    "display(pretty_table(r2, p2))\n",
    "print(\"Pearson Correlations with p-values - Product 3\")\n",
    "display(pretty_table(r3, p3))\n",
    "\n",
    "# --- Print arrays of p-values ---\n",
    "print(\"\\nP-values as arrays:\")\n",
    "print(\"Product 1:\", p1.values.flatten())\n",
    "print(\"Product 2:\", p2.values.flatten())\n",
    "print(\"Product 3:\", p3.values.flatten())\n",
    "\n",
    "\n",
    "import json\n",
    "\n",
    "pvals = {\n",
    "    \"p1_human_correlatins_analysis\": json_ready_pvals(p1),\n",
    "    \"p2_human_correlatins_analysis\": json_ready_pvals(p2),\n",
    "    \"p3_human_correlatins_analysis\": json_ready_pvals(p3),\n",
    "}\n",
    "\n",
    "# save pvals\n",
    "with open(\"../p_value_correction/human_correlations_pvals.json\", \"w\") as f:\n",
    "    json.dump(pvals, f, indent=4)\n",
    "\n",
    "\n"
   ]
  },
  {
   "cell_type": "markdown",
   "id": "f8dcc426-38fa-4d78-9068-adf37a6c8e03",
   "metadata": {},
   "source": [
    "<h1>Compute r-difference (matched vs missmatched)</h1>"
   ]
  },
  {
   "cell_type": "code",
   "execution_count": 52,
   "id": "c628b025-5dae-457f-8ada-2ee3a48fee8c",
   "metadata": {},
   "outputs": [
    {
     "name": "stdout",
     "output_type": "stream",
     "text": [
      "R-Difference Table for Human Participants (Product 1)\n"
     ]
    },
    {
     "data": {
      "text/html": [
       "<div>\n",
       "<style scoped>\n",
       "    .dataframe tbody tr th:only-of-type {\n",
       "        vertical-align: middle;\n",
       "    }\n",
       "\n",
       "    .dataframe tbody tr th {\n",
       "        vertical-align: top;\n",
       "    }\n",
       "\n",
       "    .dataframe thead th {\n",
       "        text-align: right;\n",
       "    }\n",
       "</style>\n",
       "<table border=\"1\" class=\"dataframe\">\n",
       "  <thead>\n",
       "    <tr style=\"text-align: right;\">\n",
       "      <th></th>\n",
       "      <th>r_difference</th>\n",
       "      <th>t_value</th>\n",
       "      <th>p_value</th>\n",
       "    </tr>\n",
       "  </thead>\n",
       "  <tbody>\n",
       "    <tr>\n",
       "      <th>extraversion_score</th>\n",
       "      <td>0.14</td>\n",
       "      <td>1.91</td>\n",
       "      <td>0.057026</td>\n",
       "    </tr>\n",
       "    <tr>\n",
       "      <th>agreeableness_score</th>\n",
       "      <td>0.29</td>\n",
       "      <td>4.03</td>\n",
       "      <td>0.000068</td>\n",
       "    </tr>\n",
       "    <tr>\n",
       "      <th>conscientiousness_score</th>\n",
       "      <td>0.03</td>\n",
       "      <td>0.41</td>\n",
       "      <td>0.683447</td>\n",
       "    </tr>\n",
       "    <tr>\n",
       "      <th>neuroticism_score</th>\n",
       "      <td>0.14</td>\n",
       "      <td>1.91</td>\n",
       "      <td>0.056851</td>\n",
       "    </tr>\n",
       "    <tr>\n",
       "      <th>openness_score</th>\n",
       "      <td>0.03</td>\n",
       "      <td>0.41</td>\n",
       "      <td>0.682847</td>\n",
       "    </tr>\n",
       "  </tbody>\n",
       "</table>\n",
       "</div>"
      ],
      "text/plain": [
       "                        r_difference t_value   p_value\n",
       "extraversion_score              0.14    1.91  0.057026\n",
       "agreeableness_score             0.29    4.03  0.000068\n",
       "conscientiousness_score         0.03    0.41  0.683447\n",
       "neuroticism_score               0.14    1.91  0.056851\n",
       "openness_score                  0.03    0.41  0.682847"
      ]
     },
     "metadata": {},
     "output_type": "display_data"
    },
    {
     "name": "stdout",
     "output_type": "stream",
     "text": [
      "R-Difference Table for Human Participants (Product 2)\n"
     ]
    },
    {
     "data": {
      "text/html": [
       "<div>\n",
       "<style scoped>\n",
       "    .dataframe tbody tr th:only-of-type {\n",
       "        vertical-align: middle;\n",
       "    }\n",
       "\n",
       "    .dataframe tbody tr th {\n",
       "        vertical-align: top;\n",
       "    }\n",
       "\n",
       "    .dataframe thead th {\n",
       "        text-align: right;\n",
       "    }\n",
       "</style>\n",
       "<table border=\"1\" class=\"dataframe\">\n",
       "  <thead>\n",
       "    <tr style=\"text-align: right;\">\n",
       "      <th></th>\n",
       "      <th>r_difference</th>\n",
       "      <th>t_value</th>\n",
       "      <th>p_value</th>\n",
       "    </tr>\n",
       "  </thead>\n",
       "  <tbody>\n",
       "    <tr>\n",
       "      <th>extraversion_score</th>\n",
       "      <td>0.25</td>\n",
       "      <td>3.43</td>\n",
       "      <td>0.000683</td>\n",
       "    </tr>\n",
       "    <tr>\n",
       "      <th>agreeableness_score</th>\n",
       "      <td>0.42</td>\n",
       "      <td>6.01</td>\n",
       "      <td>0.0</td>\n",
       "    </tr>\n",
       "    <tr>\n",
       "      <th>conscientiousness_score</th>\n",
       "      <td>-0.11</td>\n",
       "      <td>-1.50</td>\n",
       "      <td>0.134824</td>\n",
       "    </tr>\n",
       "    <tr>\n",
       "      <th>neuroticism_score</th>\n",
       "      <td>0.05</td>\n",
       "      <td>0.68</td>\n",
       "      <td>0.496523</td>\n",
       "    </tr>\n",
       "    <tr>\n",
       "      <th>openness_score</th>\n",
       "      <td>0.09</td>\n",
       "      <td>1.22</td>\n",
       "      <td>0.221356</td>\n",
       "    </tr>\n",
       "  </tbody>\n",
       "</table>\n",
       "</div>"
      ],
      "text/plain": [
       "                        r_difference t_value   p_value\n",
       "extraversion_score              0.25    3.43  0.000683\n",
       "agreeableness_score             0.42    6.01       0.0\n",
       "conscientiousness_score        -0.11   -1.50  0.134824\n",
       "neuroticism_score               0.05    0.68  0.496523\n",
       "openness_score                  0.09    1.22  0.221356"
      ]
     },
     "metadata": {},
     "output_type": "display_data"
    },
    {
     "name": "stdout",
     "output_type": "stream",
     "text": [
      "R-Difference Table for Human Participants (Product 3)\n"
     ]
    },
    {
     "data": {
      "text/html": [
       "<div>\n",
       "<style scoped>\n",
       "    .dataframe tbody tr th:only-of-type {\n",
       "        vertical-align: middle;\n",
       "    }\n",
       "\n",
       "    .dataframe tbody tr th {\n",
       "        vertical-align: top;\n",
       "    }\n",
       "\n",
       "    .dataframe thead th {\n",
       "        text-align: right;\n",
       "    }\n",
       "</style>\n",
       "<table border=\"1\" class=\"dataframe\">\n",
       "  <thead>\n",
       "    <tr style=\"text-align: right;\">\n",
       "      <th></th>\n",
       "      <th>r_difference</th>\n",
       "      <th>t_value</th>\n",
       "      <th>p_value</th>\n",
       "    </tr>\n",
       "  </thead>\n",
       "  <tbody>\n",
       "    <tr>\n",
       "      <th>extraversion_score</th>\n",
       "      <td>0.18</td>\n",
       "      <td>2.48</td>\n",
       "      <td>0.013579</td>\n",
       "    </tr>\n",
       "    <tr>\n",
       "      <th>agreeableness_score</th>\n",
       "      <td>0.27</td>\n",
       "      <td>3.76</td>\n",
       "      <td>0.000201</td>\n",
       "    </tr>\n",
       "    <tr>\n",
       "      <th>conscientiousness_score</th>\n",
       "      <td>0.04</td>\n",
       "      <td>0.54</td>\n",
       "      <td>0.586341</td>\n",
       "    </tr>\n",
       "    <tr>\n",
       "      <th>neuroticism_score</th>\n",
       "      <td>-0.17</td>\n",
       "      <td>-2.33</td>\n",
       "      <td>0.02008</td>\n",
       "    </tr>\n",
       "    <tr>\n",
       "      <th>openness_score</th>\n",
       "      <td>0.03</td>\n",
       "      <td>0.41</td>\n",
       "      <td>0.682847</td>\n",
       "    </tr>\n",
       "  </tbody>\n",
       "</table>\n",
       "</div>"
      ],
      "text/plain": [
       "                        r_difference t_value   p_value\n",
       "extraversion_score              0.18    2.48  0.013579\n",
       "agreeableness_score             0.27    3.76  0.000201\n",
       "conscientiousness_score         0.04    0.54  0.586341\n",
       "neuroticism_score              -0.17   -2.33   0.02008\n",
       "openness_score                  0.03    0.41  0.682847"
      ]
     },
     "metadata": {},
     "output_type": "display_data"
    }
   ],
   "source": [
    "import numpy as np\n",
    "import pandas as pd\n",
    "from scipy.stats import t\n",
    "\n",
    "def compute_r_difference_human(human_results, product_num, N):\n",
    "    \"\"\"\n",
    "    Compute r-difference (difference in standardized regression coefficients) for human participants only.\n",
    "\n",
    "    Args:\n",
    "    - human_results (pd.DataFrame): Regression coefficients for human participants for a specific product.\n",
    "    - product_num (int): Product number (1, 2, or 3).\n",
    "    - N (int): Sample size.\n",
    "\n",
    "    Returns:\n",
    "    - pd.DataFrame: Table with r-differences, t-values, and p-values.\n",
    "    \"\"\"\n",
    "    # Compute degrees of freedom\n",
    "    df = N - 2\n",
    "\n",
    "    def fisher_r_to_z(r):\n",
    "        \"\"\"Apply Fisher's transformation to r.\"\"\"\n",
    "        return 0.5 * np.log((1 + r) / (1 - r))\n",
    "\n",
    "    def compute_t_value(r_matched, r_mismatched, N):\n",
    "        \"\"\"Compute t-value and p-value for r-difference.\"\"\"\n",
    "        z_matched = fisher_r_to_z(r_matched)\n",
    "        z_mismatched = fisher_r_to_z(r_mismatched)\n",
    "        \n",
    "        SE = np.sqrt((1 / (N - 3)) + (1 / (N - 3)))\n",
    "        t_value = (z_matched - z_mismatched) / SE\n",
    "        p_value = 2 * (1 - t.cdf(abs(t_value), df))\n",
    "        \n",
    "        return t_value, p_value\n",
    "\n",
    "    # Dynamically construct the matched-mismatched AES columns for the given product\n",
    "    matched_mismatched_pairs = {\n",
    "        \"extraversion_score\": (f\"aes_{product_num}_extraversion\", f\"aes_{product_num}_neuroticism\"),\n",
    "        \"agreeableness_score\": (f\"aes_{product_num}_agreeableness\", f\"aes_{product_num}_openness\"),\n",
    "        \"conscientiousness_score\": (f\"aes_{product_num}_conscientiousness\", f\"aes_{product_num}_extraversion\"),\n",
    "        \"neuroticism_score\": (f\"aes_{product_num}_neuroticism\", f\"aes_{product_num}_conscientiousness\"),\n",
    "        \"openness_score\": (f\"aes_{product_num}_openness\", f\"aes_{product_num}_agreeableness\"),\n",
    "    }\n",
    "\n",
    "    # Initialize results DataFrame\n",
    "    results = pd.DataFrame(index=matched_mismatched_pairs.keys(), columns=[\"r_difference\", \"t_value\", \"p_value\"])\n",
    "\n",
    "    # Compute r-difference for each trait\n",
    "    for trait, (matched_col, mismatched_col) in matched_mismatched_pairs.items():\n",
    "        if matched_col in human_results.columns and mismatched_col in human_results.columns:\n",
    "            # Extract beta coefficient (ignoring p-values in parentheses)\n",
    "            r_matched = float(human_results.loc[trait, matched_col].split()[0])  \n",
    "            r_mismatched = float(human_results.loc[trait, mismatched_col].split()[0])  \n",
    "            \n",
    "            # Compute r-difference\n",
    "            r_diff = r_matched - r_mismatched\n",
    "            \n",
    "            # Compute t-test values\n",
    "            t_val, p_val = compute_t_value(r_matched, r_mismatched, N)\n",
    "            \n",
    "            # Store results\n",
    "            results.loc[trait, \"r_difference\"] = f'{r_diff:.2f}'\n",
    "            results.loc[trait, \"t_value\"] = f'{t_val:.2f}'\n",
    "            results.loc[trait, \"p_value\"] = p_val\n",
    "        else:\n",
    "            print(f\"Missing data for {trait} in product {product_num}. Check if columns exist in human_results.\")\n",
    "\n",
    "    return results\n",
    "\n",
    "\n",
    "\n",
    "# Compute r-differences for all three products\n",
    "r_difference_human_product1 = compute_r_difference_human(regression_results[1], product_num=1, N=373)\n",
    "r_difference_human_product2 = compute_r_difference_human(regression_results[2], product_num=2, N=373)\n",
    "r_difference_human_product3 = compute_r_difference_human(regression_results[3], product_num=3, N=373)\n",
    "\n",
    "# Display results\n",
    "print(\"R-Difference Table for Human Participants (Product 1)\")\n",
    "display(r_difference_human_product1)\n",
    "\n",
    "print(\"R-Difference Table for Human Participants (Product 2)\")\n",
    "display(r_difference_human_product2)\n",
    "\n",
    "print(\"R-Difference Table for Human Participants (Product 3)\")\n",
    "display(r_difference_human_product3)\n"
   ]
  }
 ],
 "metadata": {
  "kernelspec": {
   "display_name": "synthetic-twin-agents-env",
   "language": "python",
   "name": "python3"
  },
  "language_info": {
   "codemirror_mode": {
    "name": "ipython",
    "version": 3
   },
   "file_extension": ".py",
   "mimetype": "text/x-python",
   "name": "python",
   "nbconvert_exporter": "python",
   "pygments_lexer": "ipython3",
   "version": "3.12.11"
  }
 },
 "nbformat": 4,
 "nbformat_minor": 5
}
