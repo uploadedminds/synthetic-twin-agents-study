{
 "cells": [
  {
   "cell_type": "code",
   "execution_count": 327,
   "id": "8f9c564d-ae80-42a7-a3a5-314b71791fed",
   "metadata": {},
   "outputs": [],
   "source": [
    "import numpy as np\n",
    "import pandas as pd\n",
    "import plotly.graph_objects as go\n",
    "from scipy.stats import norm\n",
    "\n",
    "def fishers_z_test(r1, r2, n1, n2):\n",
    "    \"\"\"\n",
    "    Perform Fisher's Z-test to compare two correlation coefficients.\n",
    "    r1, r2: Correlation coefficients to compare\n",
    "    n1, n2: Sample sizes of the respective groups\n",
    "    Returns: z-score and p-value\n",
    "    \"\"\"\n",
    "    # Fisher's Z transformation\n",
    "    z1 = 0.5 * np.log((1 + r1) / (1 - r1))\n",
    "    z2 = 0.5 * np.log((1 + r2) / (1 - r2))\n",
    "\n",
    "    # Standard error\n",
    "    se = np.sqrt(1/(n1 - 3) + 1/(n2 - 3))\n",
    "\n",
    "    # Z-test statistic\n",
    "    z = (z1 - z2) / se\n",
    "\n",
    "    # Two-tailed p-value\n",
    "    p_value = 2 * (1 - norm.cdf(abs(z)))\n",
    "\n",
    "    return z, p_value\n",
    "\n",
    "n_human = 373\n",
    "n_synthetic = 373\n",
    "\n",
    "# --- Baseline (Humans) ---\n",
    "# --- The cors take from the analysis/human-participants/human_participants_analysis.ipynb ---\n",
    "correlations_human = {\n",
    "    \"Cabin Luggage\": {\"Extraversion\": 0.10, \"Agreeableness\": 0.26, \"Conscientiousness\": 0.02, \"Neuroticism\": 0.03, \"Openness\": -0.03},\n",
    "    \"Packing Cubes\": {\"Extraversion\": 0.17, \"Agreeableness\": 0.39, \"Conscientiousness\": -0.03, \"Neuroticism\": 0.00, \"Openness\": 0.04},\n",
    "    \"Water Bottle\": {\"Extraversion\": 0.19, \"Agreeableness\": 0.26, \"Conscientiousness\": 0.05, \"Neuroticism\": -0.17, \"Openness\": -0.03}\n",
    "}\n",
    "\n",
    "# --- Model-specific correlations ---\n",
    "\n",
    "# --- The cors take from the analysis/synthetic-participants/analysis_gpt_4o.ipynb ---\n",
    "correlations_gpt4o = {\n",
    "    \"Cabin Luggage\": {\"Extraversion\": 0.27, \"Agreeableness\": 0.21, \"Conscientiousness\": 0.26, \"Neuroticism\": 0.00, \"Openness\": 0.55},\n",
    "    \"Packing Cubes\": {\"Extraversion\": 0.34, \"Agreeableness\": 0.23, \"Conscientiousness\": 0.23, \"Neuroticism\": 0.00, \"Openness\": 0.52},\n",
    "    \"Water Bottle\": {\"Extraversion\": 0.64, \"Agreeableness\": 0.17, \"Conscientiousness\": 0.27, \"Neuroticism\": 0.08, \"Openness\": 0.57}\n",
    "}\n",
    "\n",
    "# --- The cors take from the analysis/synthetic-participants/analysis_gpt_5_latest.ipynb ---\n",
    "correlations_gpt5_latest = {\n",
    "    \"Cabin Luggage\": {\"Extraversion\": 0.41, \"Agreeableness\": 0.31, \"Conscientiousness\": 0.30, \"Neuroticism\": 0.24, \"Openness\": 0.75},\n",
    "    \"Packing Cubes\": {\"Extraversion\": 0.41, \"Agreeableness\": 0.30, \"Conscientiousness\": 0.27, \"Neuroticism\": 0.22, \"Openness\": 0.71},\n",
    "    \"Water Bottle\": {\"Extraversion\": 0.72, \"Agreeableness\": 0.22, \"Conscientiousness\": -0.09, \"Neuroticism\": 0.24, \"Openness\": 0.61}\n",
    "}\n",
    "\n",
    "# --- The cors take from the analysis/synthetic-participants/analysis_gemini_1.5_flash.ipynb ---\n",
    "correlations_gemini_1_5 = {\n",
    "    \"Cabin Luggage\": {\"Extraversion\": 0.18, \"Agreeableness\": 0.24, \"Conscientiousness\": 0.28, \"Neuroticism\": 0.08, \"Openness\": 0.29},\n",
    "    \"Packing Cubes\": {\"Extraversion\": 0.26, \"Agreeableness\": 0.22, \"Conscientiousness\": 0.19, \"Neuroticism\": 0.14, \"Openness\": 0.35},\n",
    "    \"Water Bottle\": {\"Extraversion\": 0.37, \"Agreeableness\": 0.18, \"Conscientiousness\": 0.09, \"Neuroticism\": -0.21, \"Openness\": 0.42}\n",
    "}\n",
    "\n",
    "# --- The cors take from the analysis/synthetic-participants/analysis_gemini_2.0_flash.ipynb ---\n",
    "correlations_gemini_2_0 = {\n",
    "    \"Cabin Luggage\": {\"Extraversion\": 0.28, \"Agreeableness\": 0.28, \"Conscientiousness\": 0.25, \"Neuroticism\": 0.16, \"Openness\": 0.20},\n",
    "    \"Packing Cubes\": {\"Extraversion\": 0.15, \"Agreeableness\": 0.25, \"Conscientiousness\": 0.17, \"Neuroticism\": 0.16, \"Openness\": 0.25},\n",
    "    \"Water Bottle\": {\"Extraversion\": 0.23, \"Agreeableness\": 0.07, \"Conscientiousness\": 0.16, \"Neuroticism\": 0.11, \"Openness\": 0.34}\n",
    "}\n",
    "\n",
    "traits = ['openness', 'conscientiousness', 'extraversion', 'agreeableness', 'neuroticism']\n",
    "\n",
    "# Compute Fisher's Z-tests\n",
    "def fisher_tests(human_data, synthetic_data):\n",
    "    results = {product: {} for product in human_data.keys()}\n",
    "    \n",
    "    for product in human_data.keys():\n",
    "        for trait in human_data[product].keys():\n",
    "            z, p = fishers_z_test(\n",
    "                human_data[product][trait], \n",
    "                synthetic_data[product][trait], \n",
    "                n_human, \n",
    "                n_synthetic\n",
    "            )\n",
    "            results[product][trait] = {\"z-score\": z, \"p-value\": p}\n",
    "    \n",
    "    return results\n",
    "\n",
    "results_gpt4o = fisher_tests(correlations_human, correlations_gpt4o)\n",
    "results_gpt5_latest = fisher_tests(correlations_human, correlations_gpt5_latest)\n",
    "results_gemini_1_5 = fisher_tests(correlations_human, correlations_gemini_1_5)\n",
    "results_gemini_2_0 = fisher_tests(correlations_human, correlations_gemini_2_0)\n",
    "\n"
   ]
  },
  {
   "cell_type": "markdown",
   "id": "c180d68c-19a8-48c9-8beb-407625a3b19f",
   "metadata": {},
   "source": [
    "<h1>Assessing Alignment Between Humans and Models Using Fisher’s z-Test</h1>"
   ]
  },
  {
   "cell_type": "code",
   "execution_count": 328,
   "id": "9d9c47e7-f50f-40b9-9b1c-a3e5bd4b04f4",
   "metadata": {},
   "outputs": [],
   "source": [
    "import numpy as np\n",
    "import scipy.stats as stats\n",
    "import pandas as pd\n",
    "from statsmodels.stats.multitest import multipletests\n",
    "\n",
    "# --- The cors take from the analysis/synthetic-participants/analysis_gpt_4o.ipynb ---\n",
    "correlations_gpt4o = {\n",
    "    \"Cabin Luggage\": {\"Extraversion\": 0.27, \"Agreeableness\": 0.21, \"Conscientiousness\": 0.26, \"Neuroticism\": 0.00, \"Openness\": 0.55},\n",
    "    \"Packing Cubes\": {\"Extraversion\": 0.34, \"Agreeableness\": 0.23, \"Conscientiousness\": 0.23, \"Neuroticism\": 0.00, \"Openness\": 0.52},\n",
    "    \"Water Bottle\": {\"Extraversion\": 0.64, \"Agreeableness\": 0.17, \"Conscientiousness\": 0.27, \"Neuroticism\": 0.08, \"Openness\": 0.57}\n",
    "}\n",
    "\n",
    "# --- The cors take from the analysis/synthetic-participants/analysis_gpt_5_latest.ipynb ---\n",
    "correlations_gpt5_latest = {\n",
    "    \"Cabin Luggage\": {\"Extraversion\": 0.41, \"Agreeableness\": 0.31, \"Conscientiousness\": 0.30, \"Neuroticism\": 0.24, \"Openness\": 0.75},\n",
    "    \"Packing Cubes\": {\"Extraversion\": 0.41, \"Agreeableness\": 0.30, \"Conscientiousness\": 0.27, \"Neuroticism\": 0.22, \"Openness\": 0.71},\n",
    "    \"Water Bottle\": {\"Extraversion\": 0.72, \"Agreeableness\": 0.22, \"Conscientiousness\": -0.09, \"Neuroticism\": 0.24, \"Openness\": 0.61}\n",
    "}\n",
    "\n",
    "# --- The cors take from the analysis/synthetic-participants/analysis_gemini_1.5_flash.ipynb ---\n",
    "correlations_gemini_1_5 = {\n",
    "    \"Cabin Luggage\": {\"Extraversion\": 0.18, \"Agreeableness\": 0.24, \"Conscientiousness\": 0.28, \"Neuroticism\": 0.08, \"Openness\": 0.29},\n",
    "    \"Packing Cubes\": {\"Extraversion\": 0.26, \"Agreeableness\": 0.22, \"Conscientiousness\": 0.19, \"Neuroticism\": 0.14, \"Openness\": 0.35},\n",
    "    \"Water Bottle\": {\"Extraversion\": 0.37, \"Agreeableness\": 0.18, \"Conscientiousness\": 0.09, \"Neuroticism\": -0.21, \"Openness\": 0.42}\n",
    "}\n",
    "\n",
    "# --- The cors take from the analysis/synthetic-participants/analysis_gemini_2.0_flash.ipynb ---\n",
    "correlations_gemini_2_0 = {\n",
    "    \"Cabin Luggage\": {\"Extraversion\": 0.28, \"Agreeableness\": 0.28, \"Conscientiousness\": 0.25, \"Neuroticism\": 0.16, \"Openness\": 0.20},\n",
    "    \"Packing Cubes\": {\"Extraversion\": 0.15, \"Agreeableness\": 0.25, \"Conscientiousness\": 0.17, \"Neuroticism\": 0.16, \"Openness\": 0.25},\n",
    "    \"Water Bottle\": {\"Extraversion\": 0.23, \"Agreeableness\": 0.07, \"Conscientiousness\": 0.16, \"Neuroticism\": 0.11, \"Openness\": 0.34}\n",
    "}\n",
    "\n",
    "\n",
    "df_human = pd.DataFrame(correlations_human).T\n",
    "df_gpt4o = pd.DataFrame(correlations_gpt4o).T\n",
    "df_gpt5_latest = pd.DataFrame(correlations_gpt5_latest).T\n",
    "df_gemini_1_5 = pd.DataFrame(correlations_gemini_1_5).T\n",
    "df_gemini_2_0 = pd.DataFrame(correlations_gemini_2_0).T\n",
    "\n",
    "\n",
    "n_human = 373\n",
    "n_synthetic = 373\n",
    "\n",
    "def compute_fishers_z_per_product(df_human, df_model, model_name):\n",
    "    results = []\n",
    "    pvals = []\n",
    "    traits = ['Openness', 'Conscientiousness', 'Extraversion', 'Agreeableness', 'Neuroticism']\n",
    "\n",
    "    for product in df_human.index:\n",
    "        for trait in traits:\n",
    "            r_human = df_human.loc[product, trait]\n",
    "            r_model = df_model.loc[product, trait]\n",
    "            z, p = fishers_z_test(r_human, r_model, n_human, n_synthetic)\n",
    "            \n",
    "            # collect raw p-values for FDR adjustment\n",
    "            pvals.append(p)\n",
    "            \n",
    "            # Round values for presentation\n",
    "            p_rounded = round(p, 4)\n",
    "            z_rounded = round(z, 2)\n",
    "            r_human_rounded = round(r_human, 2)\n",
    "            r_model_rounded = round(r_model, 2)\n",
    "\n",
    "            similarity_threshold = 0.1\n",
    "            alignment = \"Aligned\" if (abs(r_human - r_model) <= similarity_threshold) and (p >= 0.05) else \"Misaligned\"\n",
    "            significance = \"*\" if p < 0.020048 else \"\"\n",
    "\n",
    "            results.append({\n",
    "                \"Product\": product,\n",
    "                \"Trait-Matched Ad\": trait,\n",
    "                \"Human ( r )\": r_human_rounded,\n",
    "                f\"{model_name} ( r )\": r_model_rounded,\n",
    "                \"Δr\": r_human_rounded - r_model_rounded,\n",
    "                \"z-statistics\": z_rounded,\n",
    "                \"p-value\": p_rounded,\n",
    "                \"Significance\": significance,\n",
    "                \"Alignment\": alignment\n",
    "            })\n",
    "\n",
    "    results = pd.DataFrame(results)\n",
    "\n",
    "    return results, pvals\n",
    "\n",
    "\n",
    "df_z_gpt4o, pvals_gpt4o = compute_fishers_z_per_product(df_human, df_gpt4o, \"GPT-4o\")\n",
    "df_z_gpt5_latest, pvals_gpt5_latest = compute_fishers_z_per_product(df_human, df_gpt5_latest, \"GPT-5-latest\")\n",
    "df_z_gemini_1_5, pvals_gemini_1_5 = compute_fishers_z_per_product(df_human, df_gemini_1_5, \"Gemini-1.5-flash\")\n",
    "df_z_gemini_2_0, pvals_gemini_2_0 = compute_fishers_z_per_product(df_human, df_gemini_2_0, \"Gemini-2.0-flash\")\n"
   ]
  },
  {
   "cell_type": "code",
   "execution_count": 329,
   "id": "3d6aacef",
   "metadata": {},
   "outputs": [],
   "source": [
    "import json\n",
    "\n",
    "pvals = {\n",
    "    \"gpt-4o-z-test\": pvals_gpt4o,\n",
    "    \"gpt-5-latest-z-test\": pvals_gpt5_latest,\n",
    "    \"gemini-1.5-flash-z-test\": pvals_gemini_1_5,\n",
    "    \"gemini-2.0-flash-z-test\": pvals_gemini_2_0\n",
    "}\n",
    "\n",
    "# save pvals\n",
    "with open(\"../p_value_correction/z_test_all_pvals.json\", \"w\") as f:\n",
    "    json.dump(pvals, f, indent=4)"
   ]
  },
  {
   "cell_type": "code",
   "execution_count": 330,
   "id": "f1e7e4c1",
   "metadata": {},
   "outputs": [
    {
     "data": {
      "text/html": [
       "<div>\n",
       "<style scoped>\n",
       "    .dataframe tbody tr th:only-of-type {\n",
       "        vertical-align: middle;\n",
       "    }\n",
       "\n",
       "    .dataframe tbody tr th {\n",
       "        vertical-align: top;\n",
       "    }\n",
       "\n",
       "    .dataframe thead th {\n",
       "        text-align: right;\n",
       "    }\n",
       "</style>\n",
       "<table border=\"1\" class=\"dataframe\">\n",
       "  <thead>\n",
       "    <tr style=\"text-align: right;\">\n",
       "      <th></th>\n",
       "      <th>Product</th>\n",
       "      <th>Trait-Matched Ad</th>\n",
       "      <th>Human ( r )</th>\n",
       "      <th>GPT-4o ( r )</th>\n",
       "      <th>Δr</th>\n",
       "      <th>z-statistics</th>\n",
       "      <th>p-value</th>\n",
       "      <th>Significance</th>\n",
       "      <th>Alignment</th>\n",
       "    </tr>\n",
       "  </thead>\n",
       "  <tbody>\n",
       "    <tr>\n",
       "      <th>0</th>\n",
       "      <td>Cabin Luggage</td>\n",
       "      <td>Openness</td>\n",
       "      <td>-0.03</td>\n",
       "      <td>0.55</td>\n",
       "      <td>-0.58</td>\n",
       "      <td>-8.82</td>\n",
       "      <td>0.0000</td>\n",
       "      <td>*</td>\n",
       "      <td>Misaligned</td>\n",
       "    </tr>\n",
       "    <tr>\n",
       "      <th>1</th>\n",
       "      <td>Cabin Luggage</td>\n",
       "      <td>Conscientiousness</td>\n",
       "      <td>0.02</td>\n",
       "      <td>0.26</td>\n",
       "      <td>-0.24</td>\n",
       "      <td>-3.35</td>\n",
       "      <td>0.0008</td>\n",
       "      <td>*</td>\n",
       "      <td>Misaligned</td>\n",
       "    </tr>\n",
       "    <tr>\n",
       "      <th>2</th>\n",
       "      <td>Cabin Luggage</td>\n",
       "      <td>Extraversion</td>\n",
       "      <td>0.10</td>\n",
       "      <td>0.27</td>\n",
       "      <td>-0.17</td>\n",
       "      <td>-2.40</td>\n",
       "      <td>0.0163</td>\n",
       "      <td>*</td>\n",
       "      <td>Misaligned</td>\n",
       "    </tr>\n",
       "    <tr>\n",
       "      <th>3</th>\n",
       "      <td>Cabin Luggage</td>\n",
       "      <td>Agreeableness</td>\n",
       "      <td>0.26</td>\n",
       "      <td>0.21</td>\n",
       "      <td>0.05</td>\n",
       "      <td>0.72</td>\n",
       "      <td>0.4715</td>\n",
       "      <td></td>\n",
       "      <td>Aligned</td>\n",
       "    </tr>\n",
       "    <tr>\n",
       "      <th>4</th>\n",
       "      <td>Cabin Luggage</td>\n",
       "      <td>Neuroticism</td>\n",
       "      <td>0.03</td>\n",
       "      <td>0.00</td>\n",
       "      <td>0.03</td>\n",
       "      <td>0.41</td>\n",
       "      <td>0.6832</td>\n",
       "      <td></td>\n",
       "      <td>Aligned</td>\n",
       "    </tr>\n",
       "    <tr>\n",
       "      <th>5</th>\n",
       "      <td>Packing Cubes</td>\n",
       "      <td>Openness</td>\n",
       "      <td>0.04</td>\n",
       "      <td>0.52</td>\n",
       "      <td>-0.48</td>\n",
       "      <td>-7.29</td>\n",
       "      <td>0.0000</td>\n",
       "      <td>*</td>\n",
       "      <td>Misaligned</td>\n",
       "    </tr>\n",
       "    <tr>\n",
       "      <th>6</th>\n",
       "      <td>Packing Cubes</td>\n",
       "      <td>Conscientiousness</td>\n",
       "      <td>-0.03</td>\n",
       "      <td>0.23</td>\n",
       "      <td>-0.26</td>\n",
       "      <td>-3.59</td>\n",
       "      <td>0.0003</td>\n",
       "      <td>*</td>\n",
       "      <td>Misaligned</td>\n",
       "    </tr>\n",
       "    <tr>\n",
       "      <th>7</th>\n",
       "      <td>Packing Cubes</td>\n",
       "      <td>Extraversion</td>\n",
       "      <td>0.17</td>\n",
       "      <td>0.34</td>\n",
       "      <td>-0.17</td>\n",
       "      <td>-2.48</td>\n",
       "      <td>0.0131</td>\n",
       "      <td>*</td>\n",
       "      <td>Misaligned</td>\n",
       "    </tr>\n",
       "    <tr>\n",
       "      <th>8</th>\n",
       "      <td>Packing Cubes</td>\n",
       "      <td>Agreeableness</td>\n",
       "      <td>0.39</td>\n",
       "      <td>0.23</td>\n",
       "      <td>0.16</td>\n",
       "      <td>2.42</td>\n",
       "      <td>0.0157</td>\n",
       "      <td>*</td>\n",
       "      <td>Misaligned</td>\n",
       "    </tr>\n",
       "    <tr>\n",
       "      <th>9</th>\n",
       "      <td>Packing Cubes</td>\n",
       "      <td>Neuroticism</td>\n",
       "      <td>0.00</td>\n",
       "      <td>0.00</td>\n",
       "      <td>0.00</td>\n",
       "      <td>0.00</td>\n",
       "      <td>1.0000</td>\n",
       "      <td></td>\n",
       "      <td>Aligned</td>\n",
       "    </tr>\n",
       "    <tr>\n",
       "      <th>10</th>\n",
       "      <td>Water Bottle</td>\n",
       "      <td>Openness</td>\n",
       "      <td>-0.03</td>\n",
       "      <td>0.57</td>\n",
       "      <td>-0.60</td>\n",
       "      <td>-9.22</td>\n",
       "      <td>0.0000</td>\n",
       "      <td>*</td>\n",
       "      <td>Misaligned</td>\n",
       "    </tr>\n",
       "    <tr>\n",
       "      <th>11</th>\n",
       "      <td>Water Bottle</td>\n",
       "      <td>Conscientiousness</td>\n",
       "      <td>0.05</td>\n",
       "      <td>0.27</td>\n",
       "      <td>-0.22</td>\n",
       "      <td>-3.09</td>\n",
       "      <td>0.0020</td>\n",
       "      <td>*</td>\n",
       "      <td>Misaligned</td>\n",
       "    </tr>\n",
       "    <tr>\n",
       "      <th>12</th>\n",
       "      <td>Water Bottle</td>\n",
       "      <td>Extraversion</td>\n",
       "      <td>0.19</td>\n",
       "      <td>0.64</td>\n",
       "      <td>-0.45</td>\n",
       "      <td>-7.70</td>\n",
       "      <td>0.0000</td>\n",
       "      <td>*</td>\n",
       "      <td>Misaligned</td>\n",
       "    </tr>\n",
       "    <tr>\n",
       "      <th>13</th>\n",
       "      <td>Water Bottle</td>\n",
       "      <td>Agreeableness</td>\n",
       "      <td>0.26</td>\n",
       "      <td>0.17</td>\n",
       "      <td>0.09</td>\n",
       "      <td>1.28</td>\n",
       "      <td>0.1990</td>\n",
       "      <td></td>\n",
       "      <td>Aligned</td>\n",
       "    </tr>\n",
       "    <tr>\n",
       "      <th>14</th>\n",
       "      <td>Water Bottle</td>\n",
       "      <td>Neuroticism</td>\n",
       "      <td>-0.17</td>\n",
       "      <td>0.08</td>\n",
       "      <td>-0.25</td>\n",
       "      <td>-3.43</td>\n",
       "      <td>0.0006</td>\n",
       "      <td>*</td>\n",
       "      <td>Misaligned</td>\n",
       "    </tr>\n",
       "  </tbody>\n",
       "</table>\n",
       "</div>"
      ],
      "text/plain": [
       "          Product   Trait-Matched Ad  Human ( r )  GPT-4o ( r )    Δr  \\\n",
       "0   Cabin Luggage           Openness        -0.03          0.55 -0.58   \n",
       "1   Cabin Luggage  Conscientiousness         0.02          0.26 -0.24   \n",
       "2   Cabin Luggage       Extraversion         0.10          0.27 -0.17   \n",
       "3   Cabin Luggage      Agreeableness         0.26          0.21  0.05   \n",
       "4   Cabin Luggage        Neuroticism         0.03          0.00  0.03   \n",
       "5   Packing Cubes           Openness         0.04          0.52 -0.48   \n",
       "6   Packing Cubes  Conscientiousness        -0.03          0.23 -0.26   \n",
       "7   Packing Cubes       Extraversion         0.17          0.34 -0.17   \n",
       "8   Packing Cubes      Agreeableness         0.39          0.23  0.16   \n",
       "9   Packing Cubes        Neuroticism         0.00          0.00  0.00   \n",
       "10   Water Bottle           Openness        -0.03          0.57 -0.60   \n",
       "11   Water Bottle  Conscientiousness         0.05          0.27 -0.22   \n",
       "12   Water Bottle       Extraversion         0.19          0.64 -0.45   \n",
       "13   Water Bottle      Agreeableness         0.26          0.17  0.09   \n",
       "14   Water Bottle        Neuroticism        -0.17          0.08 -0.25   \n",
       "\n",
       "    z-statistics  p-value Significance   Alignment  \n",
       "0          -8.82   0.0000            *  Misaligned  \n",
       "1          -3.35   0.0008            *  Misaligned  \n",
       "2          -2.40   0.0163            *  Misaligned  \n",
       "3           0.72   0.4715                  Aligned  \n",
       "4           0.41   0.6832                  Aligned  \n",
       "5          -7.29   0.0000            *  Misaligned  \n",
       "6          -3.59   0.0003            *  Misaligned  \n",
       "7          -2.48   0.0131            *  Misaligned  \n",
       "8           2.42   0.0157            *  Misaligned  \n",
       "9           0.00   1.0000                  Aligned  \n",
       "10         -9.22   0.0000            *  Misaligned  \n",
       "11         -3.09   0.0020            *  Misaligned  \n",
       "12         -7.70   0.0000            *  Misaligned  \n",
       "13          1.28   0.1990                  Aligned  \n",
       "14         -3.43   0.0006            *  Misaligned  "
      ]
     },
     "execution_count": 330,
     "metadata": {},
     "output_type": "execute_result"
    }
   ],
   "source": [
    "df_z_gpt4o"
   ]
  },
  {
   "cell_type": "code",
   "execution_count": 331,
   "id": "9d109813",
   "metadata": {},
   "outputs": [
    {
     "data": {
      "text/html": [
       "<div>\n",
       "<style scoped>\n",
       "    .dataframe tbody tr th:only-of-type {\n",
       "        vertical-align: middle;\n",
       "    }\n",
       "\n",
       "    .dataframe tbody tr th {\n",
       "        vertical-align: top;\n",
       "    }\n",
       "\n",
       "    .dataframe thead th {\n",
       "        text-align: right;\n",
       "    }\n",
       "</style>\n",
       "<table border=\"1\" class=\"dataframe\">\n",
       "  <thead>\n",
       "    <tr style=\"text-align: right;\">\n",
       "      <th></th>\n",
       "      <th>Product</th>\n",
       "      <th>Trait-Matched Ad</th>\n",
       "      <th>Human ( r )</th>\n",
       "      <th>GPT-5-latest ( r )</th>\n",
       "      <th>Δr</th>\n",
       "      <th>z-statistics</th>\n",
       "      <th>p-value</th>\n",
       "      <th>Significance</th>\n",
       "      <th>Alignment</th>\n",
       "    </tr>\n",
       "  </thead>\n",
       "  <tbody>\n",
       "    <tr>\n",
       "      <th>0</th>\n",
       "      <td>Cabin Luggage</td>\n",
       "      <td>Openness</td>\n",
       "      <td>-0.03</td>\n",
       "      <td>0.75</td>\n",
       "      <td>-0.78</td>\n",
       "      <td>-13.64</td>\n",
       "      <td>0.0000</td>\n",
       "      <td>*</td>\n",
       "      <td>Misaligned</td>\n",
       "    </tr>\n",
       "    <tr>\n",
       "      <th>1</th>\n",
       "      <td>Cabin Luggage</td>\n",
       "      <td>Conscientiousness</td>\n",
       "      <td>0.02</td>\n",
       "      <td>0.30</td>\n",
       "      <td>-0.28</td>\n",
       "      <td>-3.94</td>\n",
       "      <td>0.0001</td>\n",
       "      <td>*</td>\n",
       "      <td>Misaligned</td>\n",
       "    </tr>\n",
       "    <tr>\n",
       "      <th>2</th>\n",
       "      <td>Cabin Luggage</td>\n",
       "      <td>Extraversion</td>\n",
       "      <td>0.10</td>\n",
       "      <td>0.41</td>\n",
       "      <td>-0.31</td>\n",
       "      <td>-4.56</td>\n",
       "      <td>0.0000</td>\n",
       "      <td>*</td>\n",
       "      <td>Misaligned</td>\n",
       "    </tr>\n",
       "    <tr>\n",
       "      <th>3</th>\n",
       "      <td>Cabin Luggage</td>\n",
       "      <td>Agreeableness</td>\n",
       "      <td>0.26</td>\n",
       "      <td>0.31</td>\n",
       "      <td>-0.05</td>\n",
       "      <td>-0.74</td>\n",
       "      <td>0.4590</td>\n",
       "      <td></td>\n",
       "      <td>Aligned</td>\n",
       "    </tr>\n",
       "    <tr>\n",
       "      <th>4</th>\n",
       "      <td>Cabin Luggage</td>\n",
       "      <td>Neuroticism</td>\n",
       "      <td>0.03</td>\n",
       "      <td>0.24</td>\n",
       "      <td>-0.21</td>\n",
       "      <td>-2.92</td>\n",
       "      <td>0.0035</td>\n",
       "      <td>*</td>\n",
       "      <td>Misaligned</td>\n",
       "    </tr>\n",
       "    <tr>\n",
       "      <th>5</th>\n",
       "      <td>Packing Cubes</td>\n",
       "      <td>Openness</td>\n",
       "      <td>0.04</td>\n",
       "      <td>0.71</td>\n",
       "      <td>-0.67</td>\n",
       "      <td>-11.52</td>\n",
       "      <td>0.0000</td>\n",
       "      <td>*</td>\n",
       "      <td>Misaligned</td>\n",
       "    </tr>\n",
       "    <tr>\n",
       "      <th>6</th>\n",
       "      <td>Packing Cubes</td>\n",
       "      <td>Conscientiousness</td>\n",
       "      <td>-0.03</td>\n",
       "      <td>0.27</td>\n",
       "      <td>-0.30</td>\n",
       "      <td>-4.17</td>\n",
       "      <td>0.0000</td>\n",
       "      <td>*</td>\n",
       "      <td>Misaligned</td>\n",
       "    </tr>\n",
       "    <tr>\n",
       "      <th>7</th>\n",
       "      <td>Packing Cubes</td>\n",
       "      <td>Extraversion</td>\n",
       "      <td>0.17</td>\n",
       "      <td>0.41</td>\n",
       "      <td>-0.24</td>\n",
       "      <td>-3.59</td>\n",
       "      <td>0.0003</td>\n",
       "      <td>*</td>\n",
       "      <td>Misaligned</td>\n",
       "    </tr>\n",
       "    <tr>\n",
       "      <th>8</th>\n",
       "      <td>Packing Cubes</td>\n",
       "      <td>Agreeableness</td>\n",
       "      <td>0.39</td>\n",
       "      <td>0.30</td>\n",
       "      <td>0.09</td>\n",
       "      <td>1.39</td>\n",
       "      <td>0.1642</td>\n",
       "      <td></td>\n",
       "      <td>Aligned</td>\n",
       "    </tr>\n",
       "    <tr>\n",
       "      <th>9</th>\n",
       "      <td>Packing Cubes</td>\n",
       "      <td>Neuroticism</td>\n",
       "      <td>0.00</td>\n",
       "      <td>0.22</td>\n",
       "      <td>-0.22</td>\n",
       "      <td>-3.04</td>\n",
       "      <td>0.0023</td>\n",
       "      <td>*</td>\n",
       "      <td>Misaligned</td>\n",
       "    </tr>\n",
       "    <tr>\n",
       "      <th>10</th>\n",
       "      <td>Water Bottle</td>\n",
       "      <td>Openness</td>\n",
       "      <td>-0.03</td>\n",
       "      <td>0.61</td>\n",
       "      <td>-0.64</td>\n",
       "      <td>-10.05</td>\n",
       "      <td>0.0000</td>\n",
       "      <td>*</td>\n",
       "      <td>Misaligned</td>\n",
       "    </tr>\n",
       "    <tr>\n",
       "      <th>11</th>\n",
       "      <td>Water Bottle</td>\n",
       "      <td>Conscientiousness</td>\n",
       "      <td>0.05</td>\n",
       "      <td>-0.09</td>\n",
       "      <td>0.14</td>\n",
       "      <td>1.91</td>\n",
       "      <td>0.0564</td>\n",
       "      <td></td>\n",
       "      <td>Misaligned</td>\n",
       "    </tr>\n",
       "    <tr>\n",
       "      <th>12</th>\n",
       "      <td>Water Bottle</td>\n",
       "      <td>Extraversion</td>\n",
       "      <td>0.19</td>\n",
       "      <td>0.72</td>\n",
       "      <td>-0.53</td>\n",
       "      <td>-9.73</td>\n",
       "      <td>0.0000</td>\n",
       "      <td>*</td>\n",
       "      <td>Misaligned</td>\n",
       "    </tr>\n",
       "    <tr>\n",
       "      <th>13</th>\n",
       "      <td>Water Bottle</td>\n",
       "      <td>Agreeableness</td>\n",
       "      <td>0.26</td>\n",
       "      <td>0.22</td>\n",
       "      <td>0.04</td>\n",
       "      <td>0.58</td>\n",
       "      <td>0.5637</td>\n",
       "      <td></td>\n",
       "      <td>Aligned</td>\n",
       "    </tr>\n",
       "    <tr>\n",
       "      <th>14</th>\n",
       "      <td>Water Bottle</td>\n",
       "      <td>Neuroticism</td>\n",
       "      <td>-0.17</td>\n",
       "      <td>0.24</td>\n",
       "      <td>-0.41</td>\n",
       "      <td>-5.66</td>\n",
       "      <td>0.0000</td>\n",
       "      <td>*</td>\n",
       "      <td>Misaligned</td>\n",
       "    </tr>\n",
       "  </tbody>\n",
       "</table>\n",
       "</div>"
      ],
      "text/plain": [
       "          Product   Trait-Matched Ad  Human ( r )  GPT-5-latest ( r )    Δr  \\\n",
       "0   Cabin Luggage           Openness        -0.03                0.75 -0.78   \n",
       "1   Cabin Luggage  Conscientiousness         0.02                0.30 -0.28   \n",
       "2   Cabin Luggage       Extraversion         0.10                0.41 -0.31   \n",
       "3   Cabin Luggage      Agreeableness         0.26                0.31 -0.05   \n",
       "4   Cabin Luggage        Neuroticism         0.03                0.24 -0.21   \n",
       "5   Packing Cubes           Openness         0.04                0.71 -0.67   \n",
       "6   Packing Cubes  Conscientiousness        -0.03                0.27 -0.30   \n",
       "7   Packing Cubes       Extraversion         0.17                0.41 -0.24   \n",
       "8   Packing Cubes      Agreeableness         0.39                0.30  0.09   \n",
       "9   Packing Cubes        Neuroticism         0.00                0.22 -0.22   \n",
       "10   Water Bottle           Openness        -0.03                0.61 -0.64   \n",
       "11   Water Bottle  Conscientiousness         0.05               -0.09  0.14   \n",
       "12   Water Bottle       Extraversion         0.19                0.72 -0.53   \n",
       "13   Water Bottle      Agreeableness         0.26                0.22  0.04   \n",
       "14   Water Bottle        Neuroticism        -0.17                0.24 -0.41   \n",
       "\n",
       "    z-statistics  p-value Significance   Alignment  \n",
       "0         -13.64   0.0000            *  Misaligned  \n",
       "1          -3.94   0.0001            *  Misaligned  \n",
       "2          -4.56   0.0000            *  Misaligned  \n",
       "3          -0.74   0.4590                  Aligned  \n",
       "4          -2.92   0.0035            *  Misaligned  \n",
       "5         -11.52   0.0000            *  Misaligned  \n",
       "6          -4.17   0.0000            *  Misaligned  \n",
       "7          -3.59   0.0003            *  Misaligned  \n",
       "8           1.39   0.1642                  Aligned  \n",
       "9          -3.04   0.0023            *  Misaligned  \n",
       "10        -10.05   0.0000            *  Misaligned  \n",
       "11          1.91   0.0564               Misaligned  \n",
       "12         -9.73   0.0000            *  Misaligned  \n",
       "13          0.58   0.5637                  Aligned  \n",
       "14         -5.66   0.0000            *  Misaligned  "
      ]
     },
     "execution_count": 331,
     "metadata": {},
     "output_type": "execute_result"
    }
   ],
   "source": [
    "df_z_gpt5_latest"
   ]
  },
  {
   "cell_type": "code",
   "execution_count": 332,
   "id": "eb1ce348",
   "metadata": {},
   "outputs": [
    {
     "data": {
      "text/html": [
       "<div>\n",
       "<style scoped>\n",
       "    .dataframe tbody tr th:only-of-type {\n",
       "        vertical-align: middle;\n",
       "    }\n",
       "\n",
       "    .dataframe tbody tr th {\n",
       "        vertical-align: top;\n",
       "    }\n",
       "\n",
       "    .dataframe thead th {\n",
       "        text-align: right;\n",
       "    }\n",
       "</style>\n",
       "<table border=\"1\" class=\"dataframe\">\n",
       "  <thead>\n",
       "    <tr style=\"text-align: right;\">\n",
       "      <th></th>\n",
       "      <th>Product</th>\n",
       "      <th>Trait-Matched Ad</th>\n",
       "      <th>Human ( r )</th>\n",
       "      <th>Gemini-1.5-flash ( r )</th>\n",
       "      <th>Δr</th>\n",
       "      <th>z-statistics</th>\n",
       "      <th>p-value</th>\n",
       "      <th>Significance</th>\n",
       "      <th>Alignment</th>\n",
       "    </tr>\n",
       "  </thead>\n",
       "  <tbody>\n",
       "    <tr>\n",
       "      <th>0</th>\n",
       "      <td>Cabin Luggage</td>\n",
       "      <td>Openness</td>\n",
       "      <td>-0.03</td>\n",
       "      <td>0.29</td>\n",
       "      <td>-0.32</td>\n",
       "      <td>-4.47</td>\n",
       "      <td>0.0000</td>\n",
       "      <td>*</td>\n",
       "      <td>Misaligned</td>\n",
       "    </tr>\n",
       "    <tr>\n",
       "      <th>1</th>\n",
       "      <td>Cabin Luggage</td>\n",
       "      <td>Conscientiousness</td>\n",
       "      <td>0.02</td>\n",
       "      <td>0.28</td>\n",
       "      <td>-0.26</td>\n",
       "      <td>-3.64</td>\n",
       "      <td>0.0003</td>\n",
       "      <td>*</td>\n",
       "      <td>Misaligned</td>\n",
       "    </tr>\n",
       "    <tr>\n",
       "      <th>2</th>\n",
       "      <td>Cabin Luggage</td>\n",
       "      <td>Extraversion</td>\n",
       "      <td>0.10</td>\n",
       "      <td>0.18</td>\n",
       "      <td>-0.08</td>\n",
       "      <td>-1.11</td>\n",
       "      <td>0.2668</td>\n",
       "      <td></td>\n",
       "      <td>Aligned</td>\n",
       "    </tr>\n",
       "    <tr>\n",
       "      <th>3</th>\n",
       "      <td>Cabin Luggage</td>\n",
       "      <td>Agreeableness</td>\n",
       "      <td>0.26</td>\n",
       "      <td>0.24</td>\n",
       "      <td>0.02</td>\n",
       "      <td>0.29</td>\n",
       "      <td>0.7717</td>\n",
       "      <td></td>\n",
       "      <td>Aligned</td>\n",
       "    </tr>\n",
       "    <tr>\n",
       "      <th>4</th>\n",
       "      <td>Cabin Luggage</td>\n",
       "      <td>Neuroticism</td>\n",
       "      <td>0.03</td>\n",
       "      <td>0.08</td>\n",
       "      <td>-0.05</td>\n",
       "      <td>-0.68</td>\n",
       "      <td>0.4951</td>\n",
       "      <td></td>\n",
       "      <td>Aligned</td>\n",
       "    </tr>\n",
       "    <tr>\n",
       "      <th>5</th>\n",
       "      <td>Packing Cubes</td>\n",
       "      <td>Openness</td>\n",
       "      <td>0.04</td>\n",
       "      <td>0.35</td>\n",
       "      <td>-0.31</td>\n",
       "      <td>-4.43</td>\n",
       "      <td>0.0000</td>\n",
       "      <td>*</td>\n",
       "      <td>Misaligned</td>\n",
       "    </tr>\n",
       "    <tr>\n",
       "      <th>6</th>\n",
       "      <td>Packing Cubes</td>\n",
       "      <td>Conscientiousness</td>\n",
       "      <td>-0.03</td>\n",
       "      <td>0.19</td>\n",
       "      <td>-0.22</td>\n",
       "      <td>-3.02</td>\n",
       "      <td>0.0025</td>\n",
       "      <td>*</td>\n",
       "      <td>Misaligned</td>\n",
       "    </tr>\n",
       "    <tr>\n",
       "      <th>7</th>\n",
       "      <td>Packing Cubes</td>\n",
       "      <td>Extraversion</td>\n",
       "      <td>0.17</td>\n",
       "      <td>0.26</td>\n",
       "      <td>-0.09</td>\n",
       "      <td>-1.28</td>\n",
       "      <td>0.1990</td>\n",
       "      <td></td>\n",
       "      <td>Aligned</td>\n",
       "    </tr>\n",
       "    <tr>\n",
       "      <th>8</th>\n",
       "      <td>Packing Cubes</td>\n",
       "      <td>Agreeableness</td>\n",
       "      <td>0.39</td>\n",
       "      <td>0.22</td>\n",
       "      <td>0.17</td>\n",
       "      <td>2.56</td>\n",
       "      <td>0.0105</td>\n",
       "      <td>*</td>\n",
       "      <td>Misaligned</td>\n",
       "    </tr>\n",
       "    <tr>\n",
       "      <th>9</th>\n",
       "      <td>Packing Cubes</td>\n",
       "      <td>Neuroticism</td>\n",
       "      <td>0.00</td>\n",
       "      <td>0.14</td>\n",
       "      <td>-0.14</td>\n",
       "      <td>-1.92</td>\n",
       "      <td>0.0553</td>\n",
       "      <td></td>\n",
       "      <td>Misaligned</td>\n",
       "    </tr>\n",
       "    <tr>\n",
       "      <th>10</th>\n",
       "      <td>Water Bottle</td>\n",
       "      <td>Openness</td>\n",
       "      <td>-0.03</td>\n",
       "      <td>0.42</td>\n",
       "      <td>-0.45</td>\n",
       "      <td>-6.50</td>\n",
       "      <td>0.0000</td>\n",
       "      <td>*</td>\n",
       "      <td>Misaligned</td>\n",
       "    </tr>\n",
       "    <tr>\n",
       "      <th>11</th>\n",
       "      <td>Water Bottle</td>\n",
       "      <td>Conscientiousness</td>\n",
       "      <td>0.05</td>\n",
       "      <td>0.09</td>\n",
       "      <td>-0.04</td>\n",
       "      <td>-0.55</td>\n",
       "      <td>0.5845</td>\n",
       "      <td></td>\n",
       "      <td>Aligned</td>\n",
       "    </tr>\n",
       "    <tr>\n",
       "      <th>12</th>\n",
       "      <td>Water Bottle</td>\n",
       "      <td>Extraversion</td>\n",
       "      <td>0.19</td>\n",
       "      <td>0.37</td>\n",
       "      <td>-0.18</td>\n",
       "      <td>-2.67</td>\n",
       "      <td>0.0077</td>\n",
       "      <td>*</td>\n",
       "      <td>Misaligned</td>\n",
       "    </tr>\n",
       "    <tr>\n",
       "      <th>13</th>\n",
       "      <td>Water Bottle</td>\n",
       "      <td>Agreeableness</td>\n",
       "      <td>0.26</td>\n",
       "      <td>0.18</td>\n",
       "      <td>0.08</td>\n",
       "      <td>1.14</td>\n",
       "      <td>0.2525</td>\n",
       "      <td></td>\n",
       "      <td>Aligned</td>\n",
       "    </tr>\n",
       "    <tr>\n",
       "      <th>14</th>\n",
       "      <td>Water Bottle</td>\n",
       "      <td>Neuroticism</td>\n",
       "      <td>-0.17</td>\n",
       "      <td>-0.21</td>\n",
       "      <td>0.04</td>\n",
       "      <td>0.56</td>\n",
       "      <td>0.5724</td>\n",
       "      <td></td>\n",
       "      <td>Aligned</td>\n",
       "    </tr>\n",
       "  </tbody>\n",
       "</table>\n",
       "</div>"
      ],
      "text/plain": [
       "          Product   Trait-Matched Ad  Human ( r )  Gemini-1.5-flash ( r )  \\\n",
       "0   Cabin Luggage           Openness        -0.03                    0.29   \n",
       "1   Cabin Luggage  Conscientiousness         0.02                    0.28   \n",
       "2   Cabin Luggage       Extraversion         0.10                    0.18   \n",
       "3   Cabin Luggage      Agreeableness         0.26                    0.24   \n",
       "4   Cabin Luggage        Neuroticism         0.03                    0.08   \n",
       "5   Packing Cubes           Openness         0.04                    0.35   \n",
       "6   Packing Cubes  Conscientiousness        -0.03                    0.19   \n",
       "7   Packing Cubes       Extraversion         0.17                    0.26   \n",
       "8   Packing Cubes      Agreeableness         0.39                    0.22   \n",
       "9   Packing Cubes        Neuroticism         0.00                    0.14   \n",
       "10   Water Bottle           Openness        -0.03                    0.42   \n",
       "11   Water Bottle  Conscientiousness         0.05                    0.09   \n",
       "12   Water Bottle       Extraversion         0.19                    0.37   \n",
       "13   Water Bottle      Agreeableness         0.26                    0.18   \n",
       "14   Water Bottle        Neuroticism        -0.17                   -0.21   \n",
       "\n",
       "      Δr  z-statistics  p-value Significance   Alignment  \n",
       "0  -0.32         -4.47   0.0000            *  Misaligned  \n",
       "1  -0.26         -3.64   0.0003            *  Misaligned  \n",
       "2  -0.08         -1.11   0.2668                  Aligned  \n",
       "3   0.02          0.29   0.7717                  Aligned  \n",
       "4  -0.05         -0.68   0.4951                  Aligned  \n",
       "5  -0.31         -4.43   0.0000            *  Misaligned  \n",
       "6  -0.22         -3.02   0.0025            *  Misaligned  \n",
       "7  -0.09         -1.28   0.1990                  Aligned  \n",
       "8   0.17          2.56   0.0105            *  Misaligned  \n",
       "9  -0.14         -1.92   0.0553               Misaligned  \n",
       "10 -0.45         -6.50   0.0000            *  Misaligned  \n",
       "11 -0.04         -0.55   0.5845                  Aligned  \n",
       "12 -0.18         -2.67   0.0077            *  Misaligned  \n",
       "13  0.08          1.14   0.2525                  Aligned  \n",
       "14  0.04          0.56   0.5724                  Aligned  "
      ]
     },
     "execution_count": 332,
     "metadata": {},
     "output_type": "execute_result"
    }
   ],
   "source": [
    "df_z_gemini_1_5"
   ]
  },
  {
   "cell_type": "code",
   "execution_count": 333,
   "id": "b328ed46",
   "metadata": {},
   "outputs": [
    {
     "data": {
      "text/html": [
       "<div>\n",
       "<style scoped>\n",
       "    .dataframe tbody tr th:only-of-type {\n",
       "        vertical-align: middle;\n",
       "    }\n",
       "\n",
       "    .dataframe tbody tr th {\n",
       "        vertical-align: top;\n",
       "    }\n",
       "\n",
       "    .dataframe thead th {\n",
       "        text-align: right;\n",
       "    }\n",
       "</style>\n",
       "<table border=\"1\" class=\"dataframe\">\n",
       "  <thead>\n",
       "    <tr style=\"text-align: right;\">\n",
       "      <th></th>\n",
       "      <th>Product</th>\n",
       "      <th>Trait-Matched Ad</th>\n",
       "      <th>Human ( r )</th>\n",
       "      <th>Gemini-2.0-flash ( r )</th>\n",
       "      <th>Δr</th>\n",
       "      <th>z-statistics</th>\n",
       "      <th>p-value</th>\n",
       "      <th>Significance</th>\n",
       "      <th>Alignment</th>\n",
       "    </tr>\n",
       "  </thead>\n",
       "  <tbody>\n",
       "    <tr>\n",
       "      <th>0</th>\n",
       "      <td>Cabin Luggage</td>\n",
       "      <td>Openness</td>\n",
       "      <td>-0.03</td>\n",
       "      <td>0.20</td>\n",
       "      <td>-0.23</td>\n",
       "      <td>-3.17</td>\n",
       "      <td>0.0015</td>\n",
       "      <td>*</td>\n",
       "      <td>Misaligned</td>\n",
       "    </tr>\n",
       "    <tr>\n",
       "      <th>1</th>\n",
       "      <td>Cabin Luggage</td>\n",
       "      <td>Conscientiousness</td>\n",
       "      <td>0.02</td>\n",
       "      <td>0.25</td>\n",
       "      <td>-0.23</td>\n",
       "      <td>-3.20</td>\n",
       "      <td>0.0014</td>\n",
       "      <td>*</td>\n",
       "      <td>Misaligned</td>\n",
       "    </tr>\n",
       "    <tr>\n",
       "      <th>2</th>\n",
       "      <td>Cabin Luggage</td>\n",
       "      <td>Extraversion</td>\n",
       "      <td>0.10</td>\n",
       "      <td>0.28</td>\n",
       "      <td>-0.18</td>\n",
       "      <td>-2.55</td>\n",
       "      <td>0.0108</td>\n",
       "      <td>*</td>\n",
       "      <td>Misaligned</td>\n",
       "    </tr>\n",
       "    <tr>\n",
       "      <th>3</th>\n",
       "      <td>Cabin Luggage</td>\n",
       "      <td>Agreeableness</td>\n",
       "      <td>0.26</td>\n",
       "      <td>0.28</td>\n",
       "      <td>-0.02</td>\n",
       "      <td>-0.29</td>\n",
       "      <td>0.7692</td>\n",
       "      <td></td>\n",
       "      <td>Aligned</td>\n",
       "    </tr>\n",
       "    <tr>\n",
       "      <th>4</th>\n",
       "      <td>Cabin Luggage</td>\n",
       "      <td>Neuroticism</td>\n",
       "      <td>0.03</td>\n",
       "      <td>0.16</td>\n",
       "      <td>-0.13</td>\n",
       "      <td>-1.79</td>\n",
       "      <td>0.0739</td>\n",
       "      <td></td>\n",
       "      <td>Misaligned</td>\n",
       "    </tr>\n",
       "    <tr>\n",
       "      <th>5</th>\n",
       "      <td>Packing Cubes</td>\n",
       "      <td>Openness</td>\n",
       "      <td>0.04</td>\n",
       "      <td>0.25</td>\n",
       "      <td>-0.21</td>\n",
       "      <td>-2.93</td>\n",
       "      <td>0.0034</td>\n",
       "      <td>*</td>\n",
       "      <td>Misaligned</td>\n",
       "    </tr>\n",
       "    <tr>\n",
       "      <th>6</th>\n",
       "      <td>Packing Cubes</td>\n",
       "      <td>Conscientiousness</td>\n",
       "      <td>-0.03</td>\n",
       "      <td>0.17</td>\n",
       "      <td>-0.20</td>\n",
       "      <td>-2.74</td>\n",
       "      <td>0.0061</td>\n",
       "      <td>*</td>\n",
       "      <td>Misaligned</td>\n",
       "    </tr>\n",
       "    <tr>\n",
       "      <th>7</th>\n",
       "      <td>Packing Cubes</td>\n",
       "      <td>Extraversion</td>\n",
       "      <td>0.17</td>\n",
       "      <td>0.15</td>\n",
       "      <td>0.02</td>\n",
       "      <td>0.28</td>\n",
       "      <td>0.7801</td>\n",
       "      <td></td>\n",
       "      <td>Aligned</td>\n",
       "    </tr>\n",
       "    <tr>\n",
       "      <th>8</th>\n",
       "      <td>Packing Cubes</td>\n",
       "      <td>Agreeableness</td>\n",
       "      <td>0.39</td>\n",
       "      <td>0.25</td>\n",
       "      <td>0.14</td>\n",
       "      <td>2.13</td>\n",
       "      <td>0.0334</td>\n",
       "      <td></td>\n",
       "      <td>Misaligned</td>\n",
       "    </tr>\n",
       "    <tr>\n",
       "      <th>9</th>\n",
       "      <td>Packing Cubes</td>\n",
       "      <td>Neuroticism</td>\n",
       "      <td>0.00</td>\n",
       "      <td>0.16</td>\n",
       "      <td>-0.16</td>\n",
       "      <td>-2.20</td>\n",
       "      <td>0.0282</td>\n",
       "      <td></td>\n",
       "      <td>Misaligned</td>\n",
       "    </tr>\n",
       "    <tr>\n",
       "      <th>10</th>\n",
       "      <td>Water Bottle</td>\n",
       "      <td>Openness</td>\n",
       "      <td>-0.03</td>\n",
       "      <td>0.34</td>\n",
       "      <td>-0.37</td>\n",
       "      <td>-5.22</td>\n",
       "      <td>0.0000</td>\n",
       "      <td>*</td>\n",
       "      <td>Misaligned</td>\n",
       "    </tr>\n",
       "    <tr>\n",
       "      <th>11</th>\n",
       "      <td>Water Bottle</td>\n",
       "      <td>Conscientiousness</td>\n",
       "      <td>0.05</td>\n",
       "      <td>0.16</td>\n",
       "      <td>-0.11</td>\n",
       "      <td>-1.51</td>\n",
       "      <td>0.1299</td>\n",
       "      <td></td>\n",
       "      <td>Misaligned</td>\n",
       "    </tr>\n",
       "    <tr>\n",
       "      <th>12</th>\n",
       "      <td>Water Bottle</td>\n",
       "      <td>Extraversion</td>\n",
       "      <td>0.19</td>\n",
       "      <td>0.23</td>\n",
       "      <td>-0.04</td>\n",
       "      <td>-0.57</td>\n",
       "      <td>0.5692</td>\n",
       "      <td></td>\n",
       "      <td>Aligned</td>\n",
       "    </tr>\n",
       "    <tr>\n",
       "      <th>13</th>\n",
       "      <td>Water Bottle</td>\n",
       "      <td>Agreeableness</td>\n",
       "      <td>0.26</td>\n",
       "      <td>0.07</td>\n",
       "      <td>0.19</td>\n",
       "      <td>2.67</td>\n",
       "      <td>0.0077</td>\n",
       "      <td>*</td>\n",
       "      <td>Misaligned</td>\n",
       "    </tr>\n",
       "    <tr>\n",
       "      <th>14</th>\n",
       "      <td>Water Bottle</td>\n",
       "      <td>Neuroticism</td>\n",
       "      <td>-0.17</td>\n",
       "      <td>0.11</td>\n",
       "      <td>-0.28</td>\n",
       "      <td>-3.84</td>\n",
       "      <td>0.0001</td>\n",
       "      <td>*</td>\n",
       "      <td>Misaligned</td>\n",
       "    </tr>\n",
       "  </tbody>\n",
       "</table>\n",
       "</div>"
      ],
      "text/plain": [
       "          Product   Trait-Matched Ad  Human ( r )  Gemini-2.0-flash ( r )  \\\n",
       "0   Cabin Luggage           Openness        -0.03                    0.20   \n",
       "1   Cabin Luggage  Conscientiousness         0.02                    0.25   \n",
       "2   Cabin Luggage       Extraversion         0.10                    0.28   \n",
       "3   Cabin Luggage      Agreeableness         0.26                    0.28   \n",
       "4   Cabin Luggage        Neuroticism         0.03                    0.16   \n",
       "5   Packing Cubes           Openness         0.04                    0.25   \n",
       "6   Packing Cubes  Conscientiousness        -0.03                    0.17   \n",
       "7   Packing Cubes       Extraversion         0.17                    0.15   \n",
       "8   Packing Cubes      Agreeableness         0.39                    0.25   \n",
       "9   Packing Cubes        Neuroticism         0.00                    0.16   \n",
       "10   Water Bottle           Openness        -0.03                    0.34   \n",
       "11   Water Bottle  Conscientiousness         0.05                    0.16   \n",
       "12   Water Bottle       Extraversion         0.19                    0.23   \n",
       "13   Water Bottle      Agreeableness         0.26                    0.07   \n",
       "14   Water Bottle        Neuroticism        -0.17                    0.11   \n",
       "\n",
       "      Δr  z-statistics  p-value Significance   Alignment  \n",
       "0  -0.23         -3.17   0.0015            *  Misaligned  \n",
       "1  -0.23         -3.20   0.0014            *  Misaligned  \n",
       "2  -0.18         -2.55   0.0108            *  Misaligned  \n",
       "3  -0.02         -0.29   0.7692                  Aligned  \n",
       "4  -0.13         -1.79   0.0739               Misaligned  \n",
       "5  -0.21         -2.93   0.0034            *  Misaligned  \n",
       "6  -0.20         -2.74   0.0061            *  Misaligned  \n",
       "7   0.02          0.28   0.7801                  Aligned  \n",
       "8   0.14          2.13   0.0334               Misaligned  \n",
       "9  -0.16         -2.20   0.0282               Misaligned  \n",
       "10 -0.37         -5.22   0.0000            *  Misaligned  \n",
       "11 -0.11         -1.51   0.1299               Misaligned  \n",
       "12 -0.04         -0.57   0.5692                  Aligned  \n",
       "13  0.19          2.67   0.0077            *  Misaligned  \n",
       "14 -0.28         -3.84   0.0001            *  Misaligned  "
      ]
     },
     "execution_count": 333,
     "metadata": {},
     "output_type": "execute_result"
    }
   ],
   "source": [
    "df_z_gemini_2_0"
   ]
  },
  {
   "cell_type": "code",
   "execution_count": 334,
   "id": "acbc0cbf",
   "metadata": {},
   "outputs": [],
   "source": [
    "import pandas as pd\n",
    "import plotly.graph_objects as go\n",
    "from plotly.subplots import make_subplots\n",
    "\n",
    "def plot_alignment_with_humans(model=\"gpt-4o\", similarity_threshold=0.1):\n",
    "    # --- Baseline (Humans) ---\n",
    "    correlations_human = {\n",
    "        \"Cabin Luggage\": {\"Extraversion\": 0.10, \"Agreeableness\": 0.26, \"Conscientiousness\": 0.02, \"Neuroticism\": 0.03, \"Openness\": -0.03},\n",
    "        \"Packing Cubes\": {\"Extraversion\": 0.17, \"Agreeableness\": 0.39, \"Conscientiousness\": -0.03, \"Neuroticism\": 0.00, \"Openness\": 0.04},\n",
    "        \"Water Bottle\": {\"Extraversion\": 0.19, \"Agreeableness\": 0.26, \"Conscientiousness\": 0.05, \"Neuroticism\": -0.17, \"Openness\": -0.03}\n",
    "    }\n",
    "\n",
    "    # --- Model-specific correlations ---\n",
    "    correlations_gpt4o = {\n",
    "        \"Cabin Luggage\": {\"Extraversion\": 0.27, \"Agreeableness\": 0.21, \"Conscientiousness\": 0.26, \"Neuroticism\": 0.00, \"Openness\": 0.55},\n",
    "        \"Packing Cubes\": {\"Extraversion\": 0.34, \"Agreeableness\": 0.23, \"Conscientiousness\": 0.23, \"Neuroticism\": 0.00, \"Openness\": 0.52},\n",
    "        \"Water Bottle\": {\"Extraversion\": 0.64, \"Agreeableness\": 0.17, \"Conscientiousness\": 0.27, \"Neuroticism\": 0.08, \"Openness\": 0.57}\n",
    "    }\n",
    "\n",
    "    correlations_gpt5_latest = {\n",
    "        \"Cabin Luggage\": {\"Extraversion\": 0.41, \"Agreeableness\": 0.31, \"Conscientiousness\": 0.30, \"Neuroticism\": 0.24, \"Openness\": 0.75},\n",
    "        \"Packing Cubes\": {\"Extraversion\": 0.41, \"Agreeableness\": 0.30, \"Conscientiousness\": 0.27, \"Neuroticism\": 0.22, \"Openness\": 0.71},\n",
    "        \"Water Bottle\": {\"Extraversion\": 0.72, \"Agreeableness\": 0.22, \"Conscientiousness\": -0.09, \"Neuroticism\": 0.24, \"Openness\": 0.61}\n",
    "    }\n",
    "\n",
    "    correlations_gemini_1_5 = {\n",
    "        \"Cabin Luggage\": {\"Extraversion\": 0.18, \"Agreeableness\": 0.24, \"Conscientiousness\": 0.28, \"Neuroticism\": 0.08, \"Openness\": 0.29},\n",
    "        \"Packing Cubes\": {\"Extraversion\": 0.26, \"Agreeableness\": 0.22, \"Conscientiousness\": 0.19, \"Neuroticism\": 0.14, \"Openness\": 0.35},\n",
    "        \"Water Bottle\": {\"Extraversion\": 0.37, \"Agreeableness\": 0.18, \"Conscientiousness\": 0.09, \"Neuroticism\": -0.21, \"Openness\": 0.42}\n",
    "    }\n",
    "\n",
    "    correlations_gemini_2_0 = {\n",
    "        \"Cabin Luggage\": {\"Extraversion\": 0.28, \"Agreeableness\": 0.28, \"Conscientiousness\": 0.25, \"Neuroticism\": 0.16, \"Openness\": 0.20},\n",
    "        \"Packing Cubes\": {\"Extraversion\": 0.15, \"Agreeableness\": 0.25, \"Conscientiousness\": 0.17, \"Neuroticism\": 0.16, \"Openness\": 0.25},\n",
    "        \"Water Bottle\": {\"Extraversion\": 0.23, \"Agreeableness\": 0.07, \"Conscientiousness\": 0.16, \"Neuroticism\": 0.11, \"Openness\": 0.34}\n",
    "    }\n",
    "\n",
    "    MODELS = {\n",
    "        \"gpt-4o\": correlations_gpt4o,\n",
    "        \"gpt-5-latest\": correlations_gpt5_latest,\n",
    "        \"gemini-1.5-flash\": correlations_gemini_1_5,\n",
    "        \"gemini-2.0-flash\": correlations_gemini_2_0,\n",
    "    }\n",
    "\n",
    "    DISPLAY_NAME = {\n",
    "        \"gpt-4o\": \"GPT-4o\",\n",
    "        \"gpt-5-latest\": \"GPT-5-latest\",\n",
    "        \"gemini-1.5-flash\": \"Gemini 1.5 Flash\",\n",
    "        \"gemini-2.0-flash\": \"Gemini 2.0 Flash\"\n",
    "    }\n",
    "\n",
    "    if model not in MODELS:\n",
    "        raise ValueError(f\"Unknown model '{model}'. Valid options are: {list(MODELS.keys())}\")\n",
    "\n",
    "    model_name = DISPLAY_NAME[model]\n",
    "    correlations_model = MODELS[model]\n",
    "\n",
    "    # --- DataFrames ---\n",
    "    df_human = pd.DataFrame(correlations_human).T\n",
    "    df_model = pd.DataFrame(correlations_model).T\n",
    "\n",
    "    # Keep trait order fixed\n",
    "    traits = ['Openness', 'Conscientiousness', 'Extraversion', 'Agreeableness', 'Neuroticism']\n",
    "\n",
    "    # Per-product x-axis ranges using just Human + selected model\n",
    "    x_ranges = {}\n",
    "    for product in df_human.index:\n",
    "        all_vals = pd.concat([df_human.loc[product], df_model.loc[product]])\n",
    "        x_ranges[product] = (float(all_vals.min()) - 0.05, float(all_vals.max()) + 0.05)\n",
    "\n",
    "    # --- Figure ---\n",
    "    fig = make_subplots(\n",
    "        rows=3, cols=1,\n",
    "        shared_xaxes=False,\n",
    "        subplot_titles=list(df_human.index),\n",
    "        vertical_spacing=0.1\n",
    "    )\n",
    "\n",
    "    # Draw per product\n",
    "    for i, product in enumerate(df_human.index, start=1):\n",
    "        for trait in traits:\n",
    "            r_human = round(float(df_human.loc[product, trait]), 2)\n",
    "            r_model = round(float(df_model.loc[product, trait]), 2)\n",
    "            aligned = abs(r_human - r_model) <= similarity_threshold\n",
    "            color = \"green\" if aligned else \"red\"\n",
    "\n",
    "            # Connecting line\n",
    "            fig.add_trace(go.Scatter(\n",
    "                x=[r_human, r_model],\n",
    "                y=[trait, trait],\n",
    "                mode='lines',\n",
    "                line=dict(color=\"black\", width=1),\n",
    "                opacity=0.7,\n",
    "                showlegend=False\n",
    "            ), row=i, col=1)\n",
    "\n",
    "            # Human marker\n",
    "            fig.add_trace(go.Scatter(\n",
    "                x=[r_human],\n",
    "                y=[trait],\n",
    "                mode='markers+text',\n",
    "                marker=dict(size=10, symbol=\"circle\", color=color),\n",
    "                text=[f\"r={r_human}\"],\n",
    "                textposition=\"middle left\" if r_human < r_model else \"middle right\",\n",
    "                showlegend=False\n",
    "            ), row=i, col=1)\n",
    "\n",
    "            # Model marker\n",
    "            fig.add_trace(go.Scatter(\n",
    "                x=[r_model],\n",
    "                y=[trait],\n",
    "                mode='markers+text',\n",
    "                marker=dict(size=10, symbol=\"square\", color=color),\n",
    "                text=[f\"r={r_model}\"],\n",
    "                textposition=\"middle right\" if r_human < r_model else \"middle left\",\n",
    "                showlegend=False\n",
    "            ), row=i, col=1)\n",
    "\n",
    "        # Axis formatting\n",
    "        fig.update_yaxes(\n",
    "            categoryorder='array',\n",
    "            categoryarray=traits[::-1],\n",
    "            row=i, col=1\n",
    "        )\n",
    "        fig.update_xaxes(\n",
    "            title_text=\"Correlation\",\n",
    "            range=x_ranges[product],\n",
    "            row=i, col=1\n",
    "        )\n",
    "\n",
    "    # Legends\n",
    "    fig.add_trace(go.Scatter(\n",
    "        x=[None], y=[None],\n",
    "        mode='markers',\n",
    "        marker=dict(size=10, symbol='circle', color='gray'),\n",
    "        name='Humans'\n",
    "    ))\n",
    "    fig.add_trace(go.Scatter(\n",
    "        x=[None], y=[None],\n",
    "        mode='markers',\n",
    "        marker=dict(size=10, symbol='square', color='gray'),\n",
    "        name='Synthetic Twin'\n",
    "    ))\n",
    "    fig.add_trace(go.Scatter(\n",
    "        x=[None], y=[None],\n",
    "        mode='markers',\n",
    "        marker=dict(size=10, symbol='circle', color='green'),\n",
    "        name='Aligned'\n",
    "    ))\n",
    "    fig.add_trace(go.Scatter(\n",
    "        x=[None], y=[None],\n",
    "        mode='markers',\n",
    "        marker=dict(size=10, symbol='circle', color='red'),\n",
    "        name='Misaligned'\n",
    "    ))\n",
    "\n",
    "    fig.update_layout(\n",
    "        height=1400,\n",
    "        width=1300,\n",
    "        title=f\"Alignment Between Humans and Synthetic Twins ({model_name})\",\n",
    "        margin=dict(t=100, b=80, l=100, r=220),\n",
    "        legend=dict(\n",
    "            x=1.02,\n",
    "            y=1,\n",
    "            traceorder='normal',\n",
    "            font=dict(size=12),\n",
    "            borderwidth=0\n",
    "        )\n",
    "    )\n",
    "\n",
    "    fig.show()\n"
   ]
  },
  {
   "cell_type": "code",
   "execution_count": 335,
   "id": "b94d98ae",
   "metadata": {},
   "outputs": [
    {
     "data": {
      "application/vnd.plotly.v1+json": {
       "config": {
        "plotlyServerURL": "https://plot.ly"
       },
       "data": [
        {
         "line": {
          "color": "black",
          "width": 1
         },
         "mode": "lines",
         "opacity": 0.7,
         "showlegend": false,
         "type": "scatter",
         "x": [
          -0.03,
          0.55
         ],
         "xaxis": "x",
         "y": [
          "Openness",
          "Openness"
         ],
         "yaxis": "y"
        },
        {
         "marker": {
          "color": "red",
          "size": 10,
          "symbol": "circle"
         },
         "mode": "markers+text",
         "showlegend": false,
         "text": [
          "r=-0.03"
         ],
         "textposition": "middle left",
         "type": "scatter",
         "x": [
          -0.03
         ],
         "xaxis": "x",
         "y": [
          "Openness"
         ],
         "yaxis": "y"
        },
        {
         "marker": {
          "color": "red",
          "size": 10,
          "symbol": "square"
         },
         "mode": "markers+text",
         "showlegend": false,
         "text": [
          "r=0.55"
         ],
         "textposition": "middle right",
         "type": "scatter",
         "x": [
          0.55
         ],
         "xaxis": "x",
         "y": [
          "Openness"
         ],
         "yaxis": "y"
        },
        {
         "line": {
          "color": "black",
          "width": 1
         },
         "mode": "lines",
         "opacity": 0.7,
         "showlegend": false,
         "type": "scatter",
         "x": [
          0.02,
          0.26
         ],
         "xaxis": "x",
         "y": [
          "Conscientiousness",
          "Conscientiousness"
         ],
         "yaxis": "y"
        },
        {
         "marker": {
          "color": "red",
          "size": 10,
          "symbol": "circle"
         },
         "mode": "markers+text",
         "showlegend": false,
         "text": [
          "r=0.02"
         ],
         "textposition": "middle left",
         "type": "scatter",
         "x": [
          0.02
         ],
         "xaxis": "x",
         "y": [
          "Conscientiousness"
         ],
         "yaxis": "y"
        },
        {
         "marker": {
          "color": "red",
          "size": 10,
          "symbol": "square"
         },
         "mode": "markers+text",
         "showlegend": false,
         "text": [
          "r=0.26"
         ],
         "textposition": "middle right",
         "type": "scatter",
         "x": [
          0.26
         ],
         "xaxis": "x",
         "y": [
          "Conscientiousness"
         ],
         "yaxis": "y"
        },
        {
         "line": {
          "color": "black",
          "width": 1
         },
         "mode": "lines",
         "opacity": 0.7,
         "showlegend": false,
         "type": "scatter",
         "x": [
          0.1,
          0.27
         ],
         "xaxis": "x",
         "y": [
          "Extraversion",
          "Extraversion"
         ],
         "yaxis": "y"
        },
        {
         "marker": {
          "color": "red",
          "size": 10,
          "symbol": "circle"
         },
         "mode": "markers+text",
         "showlegend": false,
         "text": [
          "r=0.1"
         ],
         "textposition": "middle left",
         "type": "scatter",
         "x": [
          0.1
         ],
         "xaxis": "x",
         "y": [
          "Extraversion"
         ],
         "yaxis": "y"
        },
        {
         "marker": {
          "color": "red",
          "size": 10,
          "symbol": "square"
         },
         "mode": "markers+text",
         "showlegend": false,
         "text": [
          "r=0.27"
         ],
         "textposition": "middle right",
         "type": "scatter",
         "x": [
          0.27
         ],
         "xaxis": "x",
         "y": [
          "Extraversion"
         ],
         "yaxis": "y"
        },
        {
         "line": {
          "color": "black",
          "width": 1
         },
         "mode": "lines",
         "opacity": 0.7,
         "showlegend": false,
         "type": "scatter",
         "x": [
          0.26,
          0.21
         ],
         "xaxis": "x",
         "y": [
          "Agreeableness",
          "Agreeableness"
         ],
         "yaxis": "y"
        },
        {
         "marker": {
          "color": "green",
          "size": 10,
          "symbol": "circle"
         },
         "mode": "markers+text",
         "showlegend": false,
         "text": [
          "r=0.26"
         ],
         "textposition": "middle right",
         "type": "scatter",
         "x": [
          0.26
         ],
         "xaxis": "x",
         "y": [
          "Agreeableness"
         ],
         "yaxis": "y"
        },
        {
         "marker": {
          "color": "green",
          "size": 10,
          "symbol": "square"
         },
         "mode": "markers+text",
         "showlegend": false,
         "text": [
          "r=0.21"
         ],
         "textposition": "middle left",
         "type": "scatter",
         "x": [
          0.21
         ],
         "xaxis": "x",
         "y": [
          "Agreeableness"
         ],
         "yaxis": "y"
        },
        {
         "line": {
          "color": "black",
          "width": 1
         },
         "mode": "lines",
         "opacity": 0.7,
         "showlegend": false,
         "type": "scatter",
         "x": [
          0.03,
          0
         ],
         "xaxis": "x",
         "y": [
          "Neuroticism",
          "Neuroticism"
         ],
         "yaxis": "y"
        },
        {
         "marker": {
          "color": "green",
          "size": 10,
          "symbol": "circle"
         },
         "mode": "markers+text",
         "showlegend": false,
         "text": [
          "r=0.03"
         ],
         "textposition": "middle right",
         "type": "scatter",
         "x": [
          0.03
         ],
         "xaxis": "x",
         "y": [
          "Neuroticism"
         ],
         "yaxis": "y"
        },
        {
         "marker": {
          "color": "green",
          "size": 10,
          "symbol": "square"
         },
         "mode": "markers+text",
         "showlegend": false,
         "text": [
          "r=0.0"
         ],
         "textposition": "middle left",
         "type": "scatter",
         "x": [
          0
         ],
         "xaxis": "x",
         "y": [
          "Neuroticism"
         ],
         "yaxis": "y"
        },
        {
         "line": {
          "color": "black",
          "width": 1
         },
         "mode": "lines",
         "opacity": 0.7,
         "showlegend": false,
         "type": "scatter",
         "x": [
          0.04,
          0.52
         ],
         "xaxis": "x2",
         "y": [
          "Openness",
          "Openness"
         ],
         "yaxis": "y2"
        },
        {
         "marker": {
          "color": "red",
          "size": 10,
          "symbol": "circle"
         },
         "mode": "markers+text",
         "showlegend": false,
         "text": [
          "r=0.04"
         ],
         "textposition": "middle left",
         "type": "scatter",
         "x": [
          0.04
         ],
         "xaxis": "x2",
         "y": [
          "Openness"
         ],
         "yaxis": "y2"
        },
        {
         "marker": {
          "color": "red",
          "size": 10,
          "symbol": "square"
         },
         "mode": "markers+text",
         "showlegend": false,
         "text": [
          "r=0.52"
         ],
         "textposition": "middle right",
         "type": "scatter",
         "x": [
          0.52
         ],
         "xaxis": "x2",
         "y": [
          "Openness"
         ],
         "yaxis": "y2"
        },
        {
         "line": {
          "color": "black",
          "width": 1
         },
         "mode": "lines",
         "opacity": 0.7,
         "showlegend": false,
         "type": "scatter",
         "x": [
          -0.03,
          0.23
         ],
         "xaxis": "x2",
         "y": [
          "Conscientiousness",
          "Conscientiousness"
         ],
         "yaxis": "y2"
        },
        {
         "marker": {
          "color": "red",
          "size": 10,
          "symbol": "circle"
         },
         "mode": "markers+text",
         "showlegend": false,
         "text": [
          "r=-0.03"
         ],
         "textposition": "middle left",
         "type": "scatter",
         "x": [
          -0.03
         ],
         "xaxis": "x2",
         "y": [
          "Conscientiousness"
         ],
         "yaxis": "y2"
        },
        {
         "marker": {
          "color": "red",
          "size": 10,
          "symbol": "square"
         },
         "mode": "markers+text",
         "showlegend": false,
         "text": [
          "r=0.23"
         ],
         "textposition": "middle right",
         "type": "scatter",
         "x": [
          0.23
         ],
         "xaxis": "x2",
         "y": [
          "Conscientiousness"
         ],
         "yaxis": "y2"
        },
        {
         "line": {
          "color": "black",
          "width": 1
         },
         "mode": "lines",
         "opacity": 0.7,
         "showlegend": false,
         "type": "scatter",
         "x": [
          0.17,
          0.34
         ],
         "xaxis": "x2",
         "y": [
          "Extraversion",
          "Extraversion"
         ],
         "yaxis": "y2"
        },
        {
         "marker": {
          "color": "red",
          "size": 10,
          "symbol": "circle"
         },
         "mode": "markers+text",
         "showlegend": false,
         "text": [
          "r=0.17"
         ],
         "textposition": "middle left",
         "type": "scatter",
         "x": [
          0.17
         ],
         "xaxis": "x2",
         "y": [
          "Extraversion"
         ],
         "yaxis": "y2"
        },
        {
         "marker": {
          "color": "red",
          "size": 10,
          "symbol": "square"
         },
         "mode": "markers+text",
         "showlegend": false,
         "text": [
          "r=0.34"
         ],
         "textposition": "middle right",
         "type": "scatter",
         "x": [
          0.34
         ],
         "xaxis": "x2",
         "y": [
          "Extraversion"
         ],
         "yaxis": "y2"
        },
        {
         "line": {
          "color": "black",
          "width": 1
         },
         "mode": "lines",
         "opacity": 0.7,
         "showlegend": false,
         "type": "scatter",
         "x": [
          0.39,
          0.23
         ],
         "xaxis": "x2",
         "y": [
          "Agreeableness",
          "Agreeableness"
         ],
         "yaxis": "y2"
        },
        {
         "marker": {
          "color": "red",
          "size": 10,
          "symbol": "circle"
         },
         "mode": "markers+text",
         "showlegend": false,
         "text": [
          "r=0.39"
         ],
         "textposition": "middle right",
         "type": "scatter",
         "x": [
          0.39
         ],
         "xaxis": "x2",
         "y": [
          "Agreeableness"
         ],
         "yaxis": "y2"
        },
        {
         "marker": {
          "color": "red",
          "size": 10,
          "symbol": "square"
         },
         "mode": "markers+text",
         "showlegend": false,
         "text": [
          "r=0.23"
         ],
         "textposition": "middle left",
         "type": "scatter",
         "x": [
          0.23
         ],
         "xaxis": "x2",
         "y": [
          "Agreeableness"
         ],
         "yaxis": "y2"
        },
        {
         "line": {
          "color": "black",
          "width": 1
         },
         "mode": "lines",
         "opacity": 0.7,
         "showlegend": false,
         "type": "scatter",
         "x": [
          0,
          0
         ],
         "xaxis": "x2",
         "y": [
          "Neuroticism",
          "Neuroticism"
         ],
         "yaxis": "y2"
        },
        {
         "marker": {
          "color": "green",
          "size": 10,
          "symbol": "circle"
         },
         "mode": "markers+text",
         "showlegend": false,
         "text": [
          "r=0.0"
         ],
         "textposition": "middle right",
         "type": "scatter",
         "x": [
          0
         ],
         "xaxis": "x2",
         "y": [
          "Neuroticism"
         ],
         "yaxis": "y2"
        },
        {
         "marker": {
          "color": "green",
          "size": 10,
          "symbol": "square"
         },
         "mode": "markers+text",
         "showlegend": false,
         "text": [
          "r=0.0"
         ],
         "textposition": "middle left",
         "type": "scatter",
         "x": [
          0
         ],
         "xaxis": "x2",
         "y": [
          "Neuroticism"
         ],
         "yaxis": "y2"
        },
        {
         "line": {
          "color": "black",
          "width": 1
         },
         "mode": "lines",
         "opacity": 0.7,
         "showlegend": false,
         "type": "scatter",
         "x": [
          -0.03,
          0.57
         ],
         "xaxis": "x3",
         "y": [
          "Openness",
          "Openness"
         ],
         "yaxis": "y3"
        },
        {
         "marker": {
          "color": "red",
          "size": 10,
          "symbol": "circle"
         },
         "mode": "markers+text",
         "showlegend": false,
         "text": [
          "r=-0.03"
         ],
         "textposition": "middle left",
         "type": "scatter",
         "x": [
          -0.03
         ],
         "xaxis": "x3",
         "y": [
          "Openness"
         ],
         "yaxis": "y3"
        },
        {
         "marker": {
          "color": "red",
          "size": 10,
          "symbol": "square"
         },
         "mode": "markers+text",
         "showlegend": false,
         "text": [
          "r=0.57"
         ],
         "textposition": "middle right",
         "type": "scatter",
         "x": [
          0.57
         ],
         "xaxis": "x3",
         "y": [
          "Openness"
         ],
         "yaxis": "y3"
        },
        {
         "line": {
          "color": "black",
          "width": 1
         },
         "mode": "lines",
         "opacity": 0.7,
         "showlegend": false,
         "type": "scatter",
         "x": [
          0.05,
          0.27
         ],
         "xaxis": "x3",
         "y": [
          "Conscientiousness",
          "Conscientiousness"
         ],
         "yaxis": "y3"
        },
        {
         "marker": {
          "color": "red",
          "size": 10,
          "symbol": "circle"
         },
         "mode": "markers+text",
         "showlegend": false,
         "text": [
          "r=0.05"
         ],
         "textposition": "middle left",
         "type": "scatter",
         "x": [
          0.05
         ],
         "xaxis": "x3",
         "y": [
          "Conscientiousness"
         ],
         "yaxis": "y3"
        },
        {
         "marker": {
          "color": "red",
          "size": 10,
          "symbol": "square"
         },
         "mode": "markers+text",
         "showlegend": false,
         "text": [
          "r=0.27"
         ],
         "textposition": "middle right",
         "type": "scatter",
         "x": [
          0.27
         ],
         "xaxis": "x3",
         "y": [
          "Conscientiousness"
         ],
         "yaxis": "y3"
        },
        {
         "line": {
          "color": "black",
          "width": 1
         },
         "mode": "lines",
         "opacity": 0.7,
         "showlegend": false,
         "type": "scatter",
         "x": [
          0.19,
          0.64
         ],
         "xaxis": "x3",
         "y": [
          "Extraversion",
          "Extraversion"
         ],
         "yaxis": "y3"
        },
        {
         "marker": {
          "color": "red",
          "size": 10,
          "symbol": "circle"
         },
         "mode": "markers+text",
         "showlegend": false,
         "text": [
          "r=0.19"
         ],
         "textposition": "middle left",
         "type": "scatter",
         "x": [
          0.19
         ],
         "xaxis": "x3",
         "y": [
          "Extraversion"
         ],
         "yaxis": "y3"
        },
        {
         "marker": {
          "color": "red",
          "size": 10,
          "symbol": "square"
         },
         "mode": "markers+text",
         "showlegend": false,
         "text": [
          "r=0.64"
         ],
         "textposition": "middle right",
         "type": "scatter",
         "x": [
          0.64
         ],
         "xaxis": "x3",
         "y": [
          "Extraversion"
         ],
         "yaxis": "y3"
        },
        {
         "line": {
          "color": "black",
          "width": 1
         },
         "mode": "lines",
         "opacity": 0.7,
         "showlegend": false,
         "type": "scatter",
         "x": [
          0.26,
          0.17
         ],
         "xaxis": "x3",
         "y": [
          "Agreeableness",
          "Agreeableness"
         ],
         "yaxis": "y3"
        },
        {
         "marker": {
          "color": "green",
          "size": 10,
          "symbol": "circle"
         },
         "mode": "markers+text",
         "showlegend": false,
         "text": [
          "r=0.26"
         ],
         "textposition": "middle right",
         "type": "scatter",
         "x": [
          0.26
         ],
         "xaxis": "x3",
         "y": [
          "Agreeableness"
         ],
         "yaxis": "y3"
        },
        {
         "marker": {
          "color": "green",
          "size": 10,
          "symbol": "square"
         },
         "mode": "markers+text",
         "showlegend": false,
         "text": [
          "r=0.17"
         ],
         "textposition": "middle left",
         "type": "scatter",
         "x": [
          0.17
         ],
         "xaxis": "x3",
         "y": [
          "Agreeableness"
         ],
         "yaxis": "y3"
        },
        {
         "line": {
          "color": "black",
          "width": 1
         },
         "mode": "lines",
         "opacity": 0.7,
         "showlegend": false,
         "type": "scatter",
         "x": [
          -0.17,
          0.08
         ],
         "xaxis": "x3",
         "y": [
          "Neuroticism",
          "Neuroticism"
         ],
         "yaxis": "y3"
        },
        {
         "marker": {
          "color": "red",
          "size": 10,
          "symbol": "circle"
         },
         "mode": "markers+text",
         "showlegend": false,
         "text": [
          "r=-0.17"
         ],
         "textposition": "middle left",
         "type": "scatter",
         "x": [
          -0.17
         ],
         "xaxis": "x3",
         "y": [
          "Neuroticism"
         ],
         "yaxis": "y3"
        },
        {
         "marker": {
          "color": "red",
          "size": 10,
          "symbol": "square"
         },
         "mode": "markers+text",
         "showlegend": false,
         "text": [
          "r=0.08"
         ],
         "textposition": "middle right",
         "type": "scatter",
         "x": [
          0.08
         ],
         "xaxis": "x3",
         "y": [
          "Neuroticism"
         ],
         "yaxis": "y3"
        },
        {
         "marker": {
          "color": "gray",
          "size": 10,
          "symbol": "circle"
         },
         "mode": "markers",
         "name": "Humans",
         "type": "scatter",
         "x": [
          null
         ],
         "y": [
          null
         ]
        },
        {
         "marker": {
          "color": "gray",
          "size": 10,
          "symbol": "square"
         },
         "mode": "markers",
         "name": "Synthetic Twin",
         "type": "scatter",
         "x": [
          null
         ],
         "y": [
          null
         ]
        },
        {
         "marker": {
          "color": "green",
          "size": 10,
          "symbol": "circle"
         },
         "mode": "markers",
         "name": "Aligned",
         "type": "scatter",
         "x": [
          null
         ],
         "y": [
          null
         ]
        },
        {
         "marker": {
          "color": "red",
          "size": 10,
          "symbol": "circle"
         },
         "mode": "markers",
         "name": "Misaligned",
         "type": "scatter",
         "x": [
          null
         ],
         "y": [
          null
         ]
        }
       ],
       "layout": {
        "annotations": [
         {
          "font": {
           "size": 16
          },
          "showarrow": false,
          "text": "Cabin Luggage",
          "x": 0.5,
          "xanchor": "center",
          "xref": "paper",
          "y": 1,
          "yanchor": "bottom",
          "yref": "paper"
         },
         {
          "font": {
           "size": 16
          },
          "showarrow": false,
          "text": "Packing Cubes",
          "x": 0.5,
          "xanchor": "center",
          "xref": "paper",
          "y": 0.6333333333333333,
          "yanchor": "bottom",
          "yref": "paper"
         },
         {
          "font": {
           "size": 16
          },
          "showarrow": false,
          "text": "Water Bottle",
          "x": 0.5,
          "xanchor": "center",
          "xref": "paper",
          "y": 0.26666666666666666,
          "yanchor": "bottom",
          "yref": "paper"
         }
        ],
        "height": 1400,
        "legend": {
         "borderwidth": 0,
         "font": {
          "size": 12
         },
         "traceorder": "normal",
         "x": 1.02,
         "y": 1
        },
        "margin": {
         "b": 80,
         "l": 100,
         "r": 220,
         "t": 100
        },
        "template": {
         "data": {
          "bar": [
           {
            "error_x": {
             "color": "#2a3f5f"
            },
            "error_y": {
             "color": "#2a3f5f"
            },
            "marker": {
             "line": {
              "color": "#E5ECF6",
              "width": 0.5
             },
             "pattern": {
              "fillmode": "overlay",
              "size": 10,
              "solidity": 0.2
             }
            },
            "type": "bar"
           }
          ],
          "barpolar": [
           {
            "marker": {
             "line": {
              "color": "#E5ECF6",
              "width": 0.5
             },
             "pattern": {
              "fillmode": "overlay",
              "size": 10,
              "solidity": 0.2
             }
            },
            "type": "barpolar"
           }
          ],
          "carpet": [
           {
            "aaxis": {
             "endlinecolor": "#2a3f5f",
             "gridcolor": "white",
             "linecolor": "white",
             "minorgridcolor": "white",
             "startlinecolor": "#2a3f5f"
            },
            "baxis": {
             "endlinecolor": "#2a3f5f",
             "gridcolor": "white",
             "linecolor": "white",
             "minorgridcolor": "white",
             "startlinecolor": "#2a3f5f"
            },
            "type": "carpet"
           }
          ],
          "choropleth": [
           {
            "colorbar": {
             "outlinewidth": 0,
             "ticks": ""
            },
            "type": "choropleth"
           }
          ],
          "contour": [
           {
            "colorbar": {
             "outlinewidth": 0,
             "ticks": ""
            },
            "colorscale": [
             [
              0,
              "#0d0887"
             ],
             [
              0.1111111111111111,
              "#46039f"
             ],
             [
              0.2222222222222222,
              "#7201a8"
             ],
             [
              0.3333333333333333,
              "#9c179e"
             ],
             [
              0.4444444444444444,
              "#bd3786"
             ],
             [
              0.5555555555555556,
              "#d8576b"
             ],
             [
              0.6666666666666666,
              "#ed7953"
             ],
             [
              0.7777777777777778,
              "#fb9f3a"
             ],
             [
              0.8888888888888888,
              "#fdca26"
             ],
             [
              1,
              "#f0f921"
             ]
            ],
            "type": "contour"
           }
          ],
          "contourcarpet": [
           {
            "colorbar": {
             "outlinewidth": 0,
             "ticks": ""
            },
            "type": "contourcarpet"
           }
          ],
          "heatmap": [
           {
            "colorbar": {
             "outlinewidth": 0,
             "ticks": ""
            },
            "colorscale": [
             [
              0,
              "#0d0887"
             ],
             [
              0.1111111111111111,
              "#46039f"
             ],
             [
              0.2222222222222222,
              "#7201a8"
             ],
             [
              0.3333333333333333,
              "#9c179e"
             ],
             [
              0.4444444444444444,
              "#bd3786"
             ],
             [
              0.5555555555555556,
              "#d8576b"
             ],
             [
              0.6666666666666666,
              "#ed7953"
             ],
             [
              0.7777777777777778,
              "#fb9f3a"
             ],
             [
              0.8888888888888888,
              "#fdca26"
             ],
             [
              1,
              "#f0f921"
             ]
            ],
            "type": "heatmap"
           }
          ],
          "histogram": [
           {
            "marker": {
             "pattern": {
              "fillmode": "overlay",
              "size": 10,
              "solidity": 0.2
             }
            },
            "type": "histogram"
           }
          ],
          "histogram2d": [
           {
            "colorbar": {
             "outlinewidth": 0,
             "ticks": ""
            },
            "colorscale": [
             [
              0,
              "#0d0887"
             ],
             [
              0.1111111111111111,
              "#46039f"
             ],
             [
              0.2222222222222222,
              "#7201a8"
             ],
             [
              0.3333333333333333,
              "#9c179e"
             ],
             [
              0.4444444444444444,
              "#bd3786"
             ],
             [
              0.5555555555555556,
              "#d8576b"
             ],
             [
              0.6666666666666666,
              "#ed7953"
             ],
             [
              0.7777777777777778,
              "#fb9f3a"
             ],
             [
              0.8888888888888888,
              "#fdca26"
             ],
             [
              1,
              "#f0f921"
             ]
            ],
            "type": "histogram2d"
           }
          ],
          "histogram2dcontour": [
           {
            "colorbar": {
             "outlinewidth": 0,
             "ticks": ""
            },
            "colorscale": [
             [
              0,
              "#0d0887"
             ],
             [
              0.1111111111111111,
              "#46039f"
             ],
             [
              0.2222222222222222,
              "#7201a8"
             ],
             [
              0.3333333333333333,
              "#9c179e"
             ],
             [
              0.4444444444444444,
              "#bd3786"
             ],
             [
              0.5555555555555556,
              "#d8576b"
             ],
             [
              0.6666666666666666,
              "#ed7953"
             ],
             [
              0.7777777777777778,
              "#fb9f3a"
             ],
             [
              0.8888888888888888,
              "#fdca26"
             ],
             [
              1,
              "#f0f921"
             ]
            ],
            "type": "histogram2dcontour"
           }
          ],
          "mesh3d": [
           {
            "colorbar": {
             "outlinewidth": 0,
             "ticks": ""
            },
            "type": "mesh3d"
           }
          ],
          "parcoords": [
           {
            "line": {
             "colorbar": {
              "outlinewidth": 0,
              "ticks": ""
             }
            },
            "type": "parcoords"
           }
          ],
          "pie": [
           {
            "automargin": true,
            "type": "pie"
           }
          ],
          "scatter": [
           {
            "fillpattern": {
             "fillmode": "overlay",
             "size": 10,
             "solidity": 0.2
            },
            "type": "scatter"
           }
          ],
          "scatter3d": [
           {
            "line": {
             "colorbar": {
              "outlinewidth": 0,
              "ticks": ""
             }
            },
            "marker": {
             "colorbar": {
              "outlinewidth": 0,
              "ticks": ""
             }
            },
            "type": "scatter3d"
           }
          ],
          "scattercarpet": [
           {
            "marker": {
             "colorbar": {
              "outlinewidth": 0,
              "ticks": ""
             }
            },
            "type": "scattercarpet"
           }
          ],
          "scattergeo": [
           {
            "marker": {
             "colorbar": {
              "outlinewidth": 0,
              "ticks": ""
             }
            },
            "type": "scattergeo"
           }
          ],
          "scattergl": [
           {
            "marker": {
             "colorbar": {
              "outlinewidth": 0,
              "ticks": ""
             }
            },
            "type": "scattergl"
           }
          ],
          "scattermap": [
           {
            "marker": {
             "colorbar": {
              "outlinewidth": 0,
              "ticks": ""
             }
            },
            "type": "scattermap"
           }
          ],
          "scattermapbox": [
           {
            "marker": {
             "colorbar": {
              "outlinewidth": 0,
              "ticks": ""
             }
            },
            "type": "scattermapbox"
           }
          ],
          "scatterpolar": [
           {
            "marker": {
             "colorbar": {
              "outlinewidth": 0,
              "ticks": ""
             }
            },
            "type": "scatterpolar"
           }
          ],
          "scatterpolargl": [
           {
            "marker": {
             "colorbar": {
              "outlinewidth": 0,
              "ticks": ""
             }
            },
            "type": "scatterpolargl"
           }
          ],
          "scatterternary": [
           {
            "marker": {
             "colorbar": {
              "outlinewidth": 0,
              "ticks": ""
             }
            },
            "type": "scatterternary"
           }
          ],
          "surface": [
           {
            "colorbar": {
             "outlinewidth": 0,
             "ticks": ""
            },
            "colorscale": [
             [
              0,
              "#0d0887"
             ],
             [
              0.1111111111111111,
              "#46039f"
             ],
             [
              0.2222222222222222,
              "#7201a8"
             ],
             [
              0.3333333333333333,
              "#9c179e"
             ],
             [
              0.4444444444444444,
              "#bd3786"
             ],
             [
              0.5555555555555556,
              "#d8576b"
             ],
             [
              0.6666666666666666,
              "#ed7953"
             ],
             [
              0.7777777777777778,
              "#fb9f3a"
             ],
             [
              0.8888888888888888,
              "#fdca26"
             ],
             [
              1,
              "#f0f921"
             ]
            ],
            "type": "surface"
           }
          ],
          "table": [
           {
            "cells": {
             "fill": {
              "color": "#EBF0F8"
             },
             "line": {
              "color": "white"
             }
            },
            "header": {
             "fill": {
              "color": "#C8D4E3"
             },
             "line": {
              "color": "white"
             }
            },
            "type": "table"
           }
          ]
         },
         "layout": {
          "annotationdefaults": {
           "arrowcolor": "#2a3f5f",
           "arrowhead": 0,
           "arrowwidth": 1
          },
          "autotypenumbers": "strict",
          "coloraxis": {
           "colorbar": {
            "outlinewidth": 0,
            "ticks": ""
           }
          },
          "colorscale": {
           "diverging": [
            [
             0,
             "#8e0152"
            ],
            [
             0.1,
             "#c51b7d"
            ],
            [
             0.2,
             "#de77ae"
            ],
            [
             0.3,
             "#f1b6da"
            ],
            [
             0.4,
             "#fde0ef"
            ],
            [
             0.5,
             "#f7f7f7"
            ],
            [
             0.6,
             "#e6f5d0"
            ],
            [
             0.7,
             "#b8e186"
            ],
            [
             0.8,
             "#7fbc41"
            ],
            [
             0.9,
             "#4d9221"
            ],
            [
             1,
             "#276419"
            ]
           ],
           "sequential": [
            [
             0,
             "#0d0887"
            ],
            [
             0.1111111111111111,
             "#46039f"
            ],
            [
             0.2222222222222222,
             "#7201a8"
            ],
            [
             0.3333333333333333,
             "#9c179e"
            ],
            [
             0.4444444444444444,
             "#bd3786"
            ],
            [
             0.5555555555555556,
             "#d8576b"
            ],
            [
             0.6666666666666666,
             "#ed7953"
            ],
            [
             0.7777777777777778,
             "#fb9f3a"
            ],
            [
             0.8888888888888888,
             "#fdca26"
            ],
            [
             1,
             "#f0f921"
            ]
           ],
           "sequentialminus": [
            [
             0,
             "#0d0887"
            ],
            [
             0.1111111111111111,
             "#46039f"
            ],
            [
             0.2222222222222222,
             "#7201a8"
            ],
            [
             0.3333333333333333,
             "#9c179e"
            ],
            [
             0.4444444444444444,
             "#bd3786"
            ],
            [
             0.5555555555555556,
             "#d8576b"
            ],
            [
             0.6666666666666666,
             "#ed7953"
            ],
            [
             0.7777777777777778,
             "#fb9f3a"
            ],
            [
             0.8888888888888888,
             "#fdca26"
            ],
            [
             1,
             "#f0f921"
            ]
           ]
          },
          "colorway": [
           "#636efa",
           "#EF553B",
           "#00cc96",
           "#ab63fa",
           "#FFA15A",
           "#19d3f3",
           "#FF6692",
           "#B6E880",
           "#FF97FF",
           "#FECB52"
          ],
          "font": {
           "color": "#2a3f5f"
          },
          "geo": {
           "bgcolor": "white",
           "lakecolor": "white",
           "landcolor": "#E5ECF6",
           "showlakes": true,
           "showland": true,
           "subunitcolor": "white"
          },
          "hoverlabel": {
           "align": "left"
          },
          "hovermode": "closest",
          "mapbox": {
           "style": "light"
          },
          "paper_bgcolor": "white",
          "plot_bgcolor": "#E5ECF6",
          "polar": {
           "angularaxis": {
            "gridcolor": "white",
            "linecolor": "white",
            "ticks": ""
           },
           "bgcolor": "#E5ECF6",
           "radialaxis": {
            "gridcolor": "white",
            "linecolor": "white",
            "ticks": ""
           }
          },
          "scene": {
           "xaxis": {
            "backgroundcolor": "#E5ECF6",
            "gridcolor": "white",
            "gridwidth": 2,
            "linecolor": "white",
            "showbackground": true,
            "ticks": "",
            "zerolinecolor": "white"
           },
           "yaxis": {
            "backgroundcolor": "#E5ECF6",
            "gridcolor": "white",
            "gridwidth": 2,
            "linecolor": "white",
            "showbackground": true,
            "ticks": "",
            "zerolinecolor": "white"
           },
           "zaxis": {
            "backgroundcolor": "#E5ECF6",
            "gridcolor": "white",
            "gridwidth": 2,
            "linecolor": "white",
            "showbackground": true,
            "ticks": "",
            "zerolinecolor": "white"
           }
          },
          "shapedefaults": {
           "line": {
            "color": "#2a3f5f"
           }
          },
          "ternary": {
           "aaxis": {
            "gridcolor": "white",
            "linecolor": "white",
            "ticks": ""
           },
           "baxis": {
            "gridcolor": "white",
            "linecolor": "white",
            "ticks": ""
           },
           "bgcolor": "#E5ECF6",
           "caxis": {
            "gridcolor": "white",
            "linecolor": "white",
            "ticks": ""
           }
          },
          "title": {
           "x": 0.05
          },
          "xaxis": {
           "automargin": true,
           "gridcolor": "white",
           "linecolor": "white",
           "ticks": "",
           "title": {
            "standoff": 15
           },
           "zerolinecolor": "white",
           "zerolinewidth": 2
          },
          "yaxis": {
           "automargin": true,
           "gridcolor": "white",
           "linecolor": "white",
           "ticks": "",
           "title": {
            "standoff": 15
           },
           "zerolinecolor": "white",
           "zerolinewidth": 2
          }
         }
        },
        "title": {
         "text": "Alignment Between Humans and Synthetic Twins (GPT-4o)"
        },
        "width": 1300,
        "xaxis": {
         "anchor": "y",
         "domain": [
          0,
          1
         ],
         "range": [
          -0.08,
          0.6000000000000001
         ],
         "title": {
          "text": "Correlation"
         }
        },
        "xaxis2": {
         "anchor": "y2",
         "domain": [
          0,
          1
         ],
         "range": [
          -0.08,
          0.5700000000000001
         ],
         "title": {
          "text": "Correlation"
         }
        },
        "xaxis3": {
         "anchor": "y3",
         "domain": [
          0,
          1
         ],
         "range": [
          -0.22000000000000003,
          0.6900000000000001
         ],
         "title": {
          "text": "Correlation"
         }
        },
        "yaxis": {
         "anchor": "x",
         "categoryarray": [
          "Neuroticism",
          "Agreeableness",
          "Extraversion",
          "Conscientiousness",
          "Openness"
         ],
         "categoryorder": "array",
         "domain": [
          0.7333333333333334,
          1
         ]
        },
        "yaxis2": {
         "anchor": "x2",
         "categoryarray": [
          "Neuroticism",
          "Agreeableness",
          "Extraversion",
          "Conscientiousness",
          "Openness"
         ],
         "categoryorder": "array",
         "domain": [
          0.3666666666666667,
          0.6333333333333333
         ]
        },
        "yaxis3": {
         "anchor": "x3",
         "categoryarray": [
          "Neuroticism",
          "Agreeableness",
          "Extraversion",
          "Conscientiousness",
          "Openness"
         ],
         "categoryorder": "array",
         "domain": [
          0,
          0.26666666666666666
         ]
        }
       }
      }
     },
     "metadata": {},
     "output_type": "display_data"
    }
   ],
   "source": [
    "plot_alignment_with_humans(\"gpt-4o\")"
   ]
  },
  {
   "cell_type": "code",
   "execution_count": 336,
   "id": "c4c6444e",
   "metadata": {},
   "outputs": [
    {
     "data": {
      "application/vnd.plotly.v1+json": {
       "config": {
        "plotlyServerURL": "https://plot.ly"
       },
       "data": [
        {
         "line": {
          "color": "black",
          "width": 1
         },
         "mode": "lines",
         "opacity": 0.7,
         "showlegend": false,
         "type": "scatter",
         "x": [
          -0.03,
          0.75
         ],
         "xaxis": "x",
         "y": [
          "Openness",
          "Openness"
         ],
         "yaxis": "y"
        },
        {
         "marker": {
          "color": "red",
          "size": 10,
          "symbol": "circle"
         },
         "mode": "markers+text",
         "showlegend": false,
         "text": [
          "r=-0.03"
         ],
         "textposition": "middle left",
         "type": "scatter",
         "x": [
          -0.03
         ],
         "xaxis": "x",
         "y": [
          "Openness"
         ],
         "yaxis": "y"
        },
        {
         "marker": {
          "color": "red",
          "size": 10,
          "symbol": "square"
         },
         "mode": "markers+text",
         "showlegend": false,
         "text": [
          "r=0.75"
         ],
         "textposition": "middle right",
         "type": "scatter",
         "x": [
          0.75
         ],
         "xaxis": "x",
         "y": [
          "Openness"
         ],
         "yaxis": "y"
        },
        {
         "line": {
          "color": "black",
          "width": 1
         },
         "mode": "lines",
         "opacity": 0.7,
         "showlegend": false,
         "type": "scatter",
         "x": [
          0.02,
          0.3
         ],
         "xaxis": "x",
         "y": [
          "Conscientiousness",
          "Conscientiousness"
         ],
         "yaxis": "y"
        },
        {
         "marker": {
          "color": "red",
          "size": 10,
          "symbol": "circle"
         },
         "mode": "markers+text",
         "showlegend": false,
         "text": [
          "r=0.02"
         ],
         "textposition": "middle left",
         "type": "scatter",
         "x": [
          0.02
         ],
         "xaxis": "x",
         "y": [
          "Conscientiousness"
         ],
         "yaxis": "y"
        },
        {
         "marker": {
          "color": "red",
          "size": 10,
          "symbol": "square"
         },
         "mode": "markers+text",
         "showlegend": false,
         "text": [
          "r=0.3"
         ],
         "textposition": "middle right",
         "type": "scatter",
         "x": [
          0.3
         ],
         "xaxis": "x",
         "y": [
          "Conscientiousness"
         ],
         "yaxis": "y"
        },
        {
         "line": {
          "color": "black",
          "width": 1
         },
         "mode": "lines",
         "opacity": 0.7,
         "showlegend": false,
         "type": "scatter",
         "x": [
          0.1,
          0.41
         ],
         "xaxis": "x",
         "y": [
          "Extraversion",
          "Extraversion"
         ],
         "yaxis": "y"
        },
        {
         "marker": {
          "color": "red",
          "size": 10,
          "symbol": "circle"
         },
         "mode": "markers+text",
         "showlegend": false,
         "text": [
          "r=0.1"
         ],
         "textposition": "middle left",
         "type": "scatter",
         "x": [
          0.1
         ],
         "xaxis": "x",
         "y": [
          "Extraversion"
         ],
         "yaxis": "y"
        },
        {
         "marker": {
          "color": "red",
          "size": 10,
          "symbol": "square"
         },
         "mode": "markers+text",
         "showlegend": false,
         "text": [
          "r=0.41"
         ],
         "textposition": "middle right",
         "type": "scatter",
         "x": [
          0.41
         ],
         "xaxis": "x",
         "y": [
          "Extraversion"
         ],
         "yaxis": "y"
        },
        {
         "line": {
          "color": "black",
          "width": 1
         },
         "mode": "lines",
         "opacity": 0.7,
         "showlegend": false,
         "type": "scatter",
         "x": [
          0.26,
          0.31
         ],
         "xaxis": "x",
         "y": [
          "Agreeableness",
          "Agreeableness"
         ],
         "yaxis": "y"
        },
        {
         "marker": {
          "color": "green",
          "size": 10,
          "symbol": "circle"
         },
         "mode": "markers+text",
         "showlegend": false,
         "text": [
          "r=0.26"
         ],
         "textposition": "middle left",
         "type": "scatter",
         "x": [
          0.26
         ],
         "xaxis": "x",
         "y": [
          "Agreeableness"
         ],
         "yaxis": "y"
        },
        {
         "marker": {
          "color": "green",
          "size": 10,
          "symbol": "square"
         },
         "mode": "markers+text",
         "showlegend": false,
         "text": [
          "r=0.31"
         ],
         "textposition": "middle right",
         "type": "scatter",
         "x": [
          0.31
         ],
         "xaxis": "x",
         "y": [
          "Agreeableness"
         ],
         "yaxis": "y"
        },
        {
         "line": {
          "color": "black",
          "width": 1
         },
         "mode": "lines",
         "opacity": 0.7,
         "showlegend": false,
         "type": "scatter",
         "x": [
          0.03,
          0.24
         ],
         "xaxis": "x",
         "y": [
          "Neuroticism",
          "Neuroticism"
         ],
         "yaxis": "y"
        },
        {
         "marker": {
          "color": "red",
          "size": 10,
          "symbol": "circle"
         },
         "mode": "markers+text",
         "showlegend": false,
         "text": [
          "r=0.03"
         ],
         "textposition": "middle left",
         "type": "scatter",
         "x": [
          0.03
         ],
         "xaxis": "x",
         "y": [
          "Neuroticism"
         ],
         "yaxis": "y"
        },
        {
         "marker": {
          "color": "red",
          "size": 10,
          "symbol": "square"
         },
         "mode": "markers+text",
         "showlegend": false,
         "text": [
          "r=0.24"
         ],
         "textposition": "middle right",
         "type": "scatter",
         "x": [
          0.24
         ],
         "xaxis": "x",
         "y": [
          "Neuroticism"
         ],
         "yaxis": "y"
        },
        {
         "line": {
          "color": "black",
          "width": 1
         },
         "mode": "lines",
         "opacity": 0.7,
         "showlegend": false,
         "type": "scatter",
         "x": [
          0.04,
          0.71
         ],
         "xaxis": "x2",
         "y": [
          "Openness",
          "Openness"
         ],
         "yaxis": "y2"
        },
        {
         "marker": {
          "color": "red",
          "size": 10,
          "symbol": "circle"
         },
         "mode": "markers+text",
         "showlegend": false,
         "text": [
          "r=0.04"
         ],
         "textposition": "middle left",
         "type": "scatter",
         "x": [
          0.04
         ],
         "xaxis": "x2",
         "y": [
          "Openness"
         ],
         "yaxis": "y2"
        },
        {
         "marker": {
          "color": "red",
          "size": 10,
          "symbol": "square"
         },
         "mode": "markers+text",
         "showlegend": false,
         "text": [
          "r=0.71"
         ],
         "textposition": "middle right",
         "type": "scatter",
         "x": [
          0.71
         ],
         "xaxis": "x2",
         "y": [
          "Openness"
         ],
         "yaxis": "y2"
        },
        {
         "line": {
          "color": "black",
          "width": 1
         },
         "mode": "lines",
         "opacity": 0.7,
         "showlegend": false,
         "type": "scatter",
         "x": [
          -0.03,
          0.27
         ],
         "xaxis": "x2",
         "y": [
          "Conscientiousness",
          "Conscientiousness"
         ],
         "yaxis": "y2"
        },
        {
         "marker": {
          "color": "red",
          "size": 10,
          "symbol": "circle"
         },
         "mode": "markers+text",
         "showlegend": false,
         "text": [
          "r=-0.03"
         ],
         "textposition": "middle left",
         "type": "scatter",
         "x": [
          -0.03
         ],
         "xaxis": "x2",
         "y": [
          "Conscientiousness"
         ],
         "yaxis": "y2"
        },
        {
         "marker": {
          "color": "red",
          "size": 10,
          "symbol": "square"
         },
         "mode": "markers+text",
         "showlegend": false,
         "text": [
          "r=0.27"
         ],
         "textposition": "middle right",
         "type": "scatter",
         "x": [
          0.27
         ],
         "xaxis": "x2",
         "y": [
          "Conscientiousness"
         ],
         "yaxis": "y2"
        },
        {
         "line": {
          "color": "black",
          "width": 1
         },
         "mode": "lines",
         "opacity": 0.7,
         "showlegend": false,
         "type": "scatter",
         "x": [
          0.17,
          0.41
         ],
         "xaxis": "x2",
         "y": [
          "Extraversion",
          "Extraversion"
         ],
         "yaxis": "y2"
        },
        {
         "marker": {
          "color": "red",
          "size": 10,
          "symbol": "circle"
         },
         "mode": "markers+text",
         "showlegend": false,
         "text": [
          "r=0.17"
         ],
         "textposition": "middle left",
         "type": "scatter",
         "x": [
          0.17
         ],
         "xaxis": "x2",
         "y": [
          "Extraversion"
         ],
         "yaxis": "y2"
        },
        {
         "marker": {
          "color": "red",
          "size": 10,
          "symbol": "square"
         },
         "mode": "markers+text",
         "showlegend": false,
         "text": [
          "r=0.41"
         ],
         "textposition": "middle right",
         "type": "scatter",
         "x": [
          0.41
         ],
         "xaxis": "x2",
         "y": [
          "Extraversion"
         ],
         "yaxis": "y2"
        },
        {
         "line": {
          "color": "black",
          "width": 1
         },
         "mode": "lines",
         "opacity": 0.7,
         "showlegend": false,
         "type": "scatter",
         "x": [
          0.39,
          0.3
         ],
         "xaxis": "x2",
         "y": [
          "Agreeableness",
          "Agreeableness"
         ],
         "yaxis": "y2"
        },
        {
         "marker": {
          "color": "green",
          "size": 10,
          "symbol": "circle"
         },
         "mode": "markers+text",
         "showlegend": false,
         "text": [
          "r=0.39"
         ],
         "textposition": "middle right",
         "type": "scatter",
         "x": [
          0.39
         ],
         "xaxis": "x2",
         "y": [
          "Agreeableness"
         ],
         "yaxis": "y2"
        },
        {
         "marker": {
          "color": "green",
          "size": 10,
          "symbol": "square"
         },
         "mode": "markers+text",
         "showlegend": false,
         "text": [
          "r=0.3"
         ],
         "textposition": "middle left",
         "type": "scatter",
         "x": [
          0.3
         ],
         "xaxis": "x2",
         "y": [
          "Agreeableness"
         ],
         "yaxis": "y2"
        },
        {
         "line": {
          "color": "black",
          "width": 1
         },
         "mode": "lines",
         "opacity": 0.7,
         "showlegend": false,
         "type": "scatter",
         "x": [
          0,
          0.22
         ],
         "xaxis": "x2",
         "y": [
          "Neuroticism",
          "Neuroticism"
         ],
         "yaxis": "y2"
        },
        {
         "marker": {
          "color": "red",
          "size": 10,
          "symbol": "circle"
         },
         "mode": "markers+text",
         "showlegend": false,
         "text": [
          "r=0.0"
         ],
         "textposition": "middle left",
         "type": "scatter",
         "x": [
          0
         ],
         "xaxis": "x2",
         "y": [
          "Neuroticism"
         ],
         "yaxis": "y2"
        },
        {
         "marker": {
          "color": "red",
          "size": 10,
          "symbol": "square"
         },
         "mode": "markers+text",
         "showlegend": false,
         "text": [
          "r=0.22"
         ],
         "textposition": "middle right",
         "type": "scatter",
         "x": [
          0.22
         ],
         "xaxis": "x2",
         "y": [
          "Neuroticism"
         ],
         "yaxis": "y2"
        },
        {
         "line": {
          "color": "black",
          "width": 1
         },
         "mode": "lines",
         "opacity": 0.7,
         "showlegend": false,
         "type": "scatter",
         "x": [
          -0.03,
          0.61
         ],
         "xaxis": "x3",
         "y": [
          "Openness",
          "Openness"
         ],
         "yaxis": "y3"
        },
        {
         "marker": {
          "color": "red",
          "size": 10,
          "symbol": "circle"
         },
         "mode": "markers+text",
         "showlegend": false,
         "text": [
          "r=-0.03"
         ],
         "textposition": "middle left",
         "type": "scatter",
         "x": [
          -0.03
         ],
         "xaxis": "x3",
         "y": [
          "Openness"
         ],
         "yaxis": "y3"
        },
        {
         "marker": {
          "color": "red",
          "size": 10,
          "symbol": "square"
         },
         "mode": "markers+text",
         "showlegend": false,
         "text": [
          "r=0.61"
         ],
         "textposition": "middle right",
         "type": "scatter",
         "x": [
          0.61
         ],
         "xaxis": "x3",
         "y": [
          "Openness"
         ],
         "yaxis": "y3"
        },
        {
         "line": {
          "color": "black",
          "width": 1
         },
         "mode": "lines",
         "opacity": 0.7,
         "showlegend": false,
         "type": "scatter",
         "x": [
          0.05,
          -0.09
         ],
         "xaxis": "x3",
         "y": [
          "Conscientiousness",
          "Conscientiousness"
         ],
         "yaxis": "y3"
        },
        {
         "marker": {
          "color": "red",
          "size": 10,
          "symbol": "circle"
         },
         "mode": "markers+text",
         "showlegend": false,
         "text": [
          "r=0.05"
         ],
         "textposition": "middle right",
         "type": "scatter",
         "x": [
          0.05
         ],
         "xaxis": "x3",
         "y": [
          "Conscientiousness"
         ],
         "yaxis": "y3"
        },
        {
         "marker": {
          "color": "red",
          "size": 10,
          "symbol": "square"
         },
         "mode": "markers+text",
         "showlegend": false,
         "text": [
          "r=-0.09"
         ],
         "textposition": "middle left",
         "type": "scatter",
         "x": [
          -0.09
         ],
         "xaxis": "x3",
         "y": [
          "Conscientiousness"
         ],
         "yaxis": "y3"
        },
        {
         "line": {
          "color": "black",
          "width": 1
         },
         "mode": "lines",
         "opacity": 0.7,
         "showlegend": false,
         "type": "scatter",
         "x": [
          0.19,
          0.72
         ],
         "xaxis": "x3",
         "y": [
          "Extraversion",
          "Extraversion"
         ],
         "yaxis": "y3"
        },
        {
         "marker": {
          "color": "red",
          "size": 10,
          "symbol": "circle"
         },
         "mode": "markers+text",
         "showlegend": false,
         "text": [
          "r=0.19"
         ],
         "textposition": "middle left",
         "type": "scatter",
         "x": [
          0.19
         ],
         "xaxis": "x3",
         "y": [
          "Extraversion"
         ],
         "yaxis": "y3"
        },
        {
         "marker": {
          "color": "red",
          "size": 10,
          "symbol": "square"
         },
         "mode": "markers+text",
         "showlegend": false,
         "text": [
          "r=0.72"
         ],
         "textposition": "middle right",
         "type": "scatter",
         "x": [
          0.72
         ],
         "xaxis": "x3",
         "y": [
          "Extraversion"
         ],
         "yaxis": "y3"
        },
        {
         "line": {
          "color": "black",
          "width": 1
         },
         "mode": "lines",
         "opacity": 0.7,
         "showlegend": false,
         "type": "scatter",
         "x": [
          0.26,
          0.22
         ],
         "xaxis": "x3",
         "y": [
          "Agreeableness",
          "Agreeableness"
         ],
         "yaxis": "y3"
        },
        {
         "marker": {
          "color": "green",
          "size": 10,
          "symbol": "circle"
         },
         "mode": "markers+text",
         "showlegend": false,
         "text": [
          "r=0.26"
         ],
         "textposition": "middle right",
         "type": "scatter",
         "x": [
          0.26
         ],
         "xaxis": "x3",
         "y": [
          "Agreeableness"
         ],
         "yaxis": "y3"
        },
        {
         "marker": {
          "color": "green",
          "size": 10,
          "symbol": "square"
         },
         "mode": "markers+text",
         "showlegend": false,
         "text": [
          "r=0.22"
         ],
         "textposition": "middle left",
         "type": "scatter",
         "x": [
          0.22
         ],
         "xaxis": "x3",
         "y": [
          "Agreeableness"
         ],
         "yaxis": "y3"
        },
        {
         "line": {
          "color": "black",
          "width": 1
         },
         "mode": "lines",
         "opacity": 0.7,
         "showlegend": false,
         "type": "scatter",
         "x": [
          -0.17,
          0.24
         ],
         "xaxis": "x3",
         "y": [
          "Neuroticism",
          "Neuroticism"
         ],
         "yaxis": "y3"
        },
        {
         "marker": {
          "color": "red",
          "size": 10,
          "symbol": "circle"
         },
         "mode": "markers+text",
         "showlegend": false,
         "text": [
          "r=-0.17"
         ],
         "textposition": "middle left",
         "type": "scatter",
         "x": [
          -0.17
         ],
         "xaxis": "x3",
         "y": [
          "Neuroticism"
         ],
         "yaxis": "y3"
        },
        {
         "marker": {
          "color": "red",
          "size": 10,
          "symbol": "square"
         },
         "mode": "markers+text",
         "showlegend": false,
         "text": [
          "r=0.24"
         ],
         "textposition": "middle right",
         "type": "scatter",
         "x": [
          0.24
         ],
         "xaxis": "x3",
         "y": [
          "Neuroticism"
         ],
         "yaxis": "y3"
        },
        {
         "marker": {
          "color": "gray",
          "size": 10,
          "symbol": "circle"
         },
         "mode": "markers",
         "name": "Humans",
         "type": "scatter",
         "x": [
          null
         ],
         "y": [
          null
         ]
        },
        {
         "marker": {
          "color": "gray",
          "size": 10,
          "symbol": "square"
         },
         "mode": "markers",
         "name": "Synthetic Twin",
         "type": "scatter",
         "x": [
          null
         ],
         "y": [
          null
         ]
        },
        {
         "marker": {
          "color": "green",
          "size": 10,
          "symbol": "circle"
         },
         "mode": "markers",
         "name": "Aligned",
         "type": "scatter",
         "x": [
          null
         ],
         "y": [
          null
         ]
        },
        {
         "marker": {
          "color": "red",
          "size": 10,
          "symbol": "circle"
         },
         "mode": "markers",
         "name": "Misaligned",
         "type": "scatter",
         "x": [
          null
         ],
         "y": [
          null
         ]
        }
       ],
       "layout": {
        "annotations": [
         {
          "font": {
           "size": 16
          },
          "showarrow": false,
          "text": "Cabin Luggage",
          "x": 0.5,
          "xanchor": "center",
          "xref": "paper",
          "y": 1,
          "yanchor": "bottom",
          "yref": "paper"
         },
         {
          "font": {
           "size": 16
          },
          "showarrow": false,
          "text": "Packing Cubes",
          "x": 0.5,
          "xanchor": "center",
          "xref": "paper",
          "y": 0.6333333333333333,
          "yanchor": "bottom",
          "yref": "paper"
         },
         {
          "font": {
           "size": 16
          },
          "showarrow": false,
          "text": "Water Bottle",
          "x": 0.5,
          "xanchor": "center",
          "xref": "paper",
          "y": 0.26666666666666666,
          "yanchor": "bottom",
          "yref": "paper"
         }
        ],
        "height": 1400,
        "legend": {
         "borderwidth": 0,
         "font": {
          "size": 12
         },
         "traceorder": "normal",
         "x": 1.02,
         "y": 1
        },
        "margin": {
         "b": 80,
         "l": 100,
         "r": 220,
         "t": 100
        },
        "template": {
         "data": {
          "bar": [
           {
            "error_x": {
             "color": "#2a3f5f"
            },
            "error_y": {
             "color": "#2a3f5f"
            },
            "marker": {
             "line": {
              "color": "#E5ECF6",
              "width": 0.5
             },
             "pattern": {
              "fillmode": "overlay",
              "size": 10,
              "solidity": 0.2
             }
            },
            "type": "bar"
           }
          ],
          "barpolar": [
           {
            "marker": {
             "line": {
              "color": "#E5ECF6",
              "width": 0.5
             },
             "pattern": {
              "fillmode": "overlay",
              "size": 10,
              "solidity": 0.2
             }
            },
            "type": "barpolar"
           }
          ],
          "carpet": [
           {
            "aaxis": {
             "endlinecolor": "#2a3f5f",
             "gridcolor": "white",
             "linecolor": "white",
             "minorgridcolor": "white",
             "startlinecolor": "#2a3f5f"
            },
            "baxis": {
             "endlinecolor": "#2a3f5f",
             "gridcolor": "white",
             "linecolor": "white",
             "minorgridcolor": "white",
             "startlinecolor": "#2a3f5f"
            },
            "type": "carpet"
           }
          ],
          "choropleth": [
           {
            "colorbar": {
             "outlinewidth": 0,
             "ticks": ""
            },
            "type": "choropleth"
           }
          ],
          "contour": [
           {
            "colorbar": {
             "outlinewidth": 0,
             "ticks": ""
            },
            "colorscale": [
             [
              0,
              "#0d0887"
             ],
             [
              0.1111111111111111,
              "#46039f"
             ],
             [
              0.2222222222222222,
              "#7201a8"
             ],
             [
              0.3333333333333333,
              "#9c179e"
             ],
             [
              0.4444444444444444,
              "#bd3786"
             ],
             [
              0.5555555555555556,
              "#d8576b"
             ],
             [
              0.6666666666666666,
              "#ed7953"
             ],
             [
              0.7777777777777778,
              "#fb9f3a"
             ],
             [
              0.8888888888888888,
              "#fdca26"
             ],
             [
              1,
              "#f0f921"
             ]
            ],
            "type": "contour"
           }
          ],
          "contourcarpet": [
           {
            "colorbar": {
             "outlinewidth": 0,
             "ticks": ""
            },
            "type": "contourcarpet"
           }
          ],
          "heatmap": [
           {
            "colorbar": {
             "outlinewidth": 0,
             "ticks": ""
            },
            "colorscale": [
             [
              0,
              "#0d0887"
             ],
             [
              0.1111111111111111,
              "#46039f"
             ],
             [
              0.2222222222222222,
              "#7201a8"
             ],
             [
              0.3333333333333333,
              "#9c179e"
             ],
             [
              0.4444444444444444,
              "#bd3786"
             ],
             [
              0.5555555555555556,
              "#d8576b"
             ],
             [
              0.6666666666666666,
              "#ed7953"
             ],
             [
              0.7777777777777778,
              "#fb9f3a"
             ],
             [
              0.8888888888888888,
              "#fdca26"
             ],
             [
              1,
              "#f0f921"
             ]
            ],
            "type": "heatmap"
           }
          ],
          "histogram": [
           {
            "marker": {
             "pattern": {
              "fillmode": "overlay",
              "size": 10,
              "solidity": 0.2
             }
            },
            "type": "histogram"
           }
          ],
          "histogram2d": [
           {
            "colorbar": {
             "outlinewidth": 0,
             "ticks": ""
            },
            "colorscale": [
             [
              0,
              "#0d0887"
             ],
             [
              0.1111111111111111,
              "#46039f"
             ],
             [
              0.2222222222222222,
              "#7201a8"
             ],
             [
              0.3333333333333333,
              "#9c179e"
             ],
             [
              0.4444444444444444,
              "#bd3786"
             ],
             [
              0.5555555555555556,
              "#d8576b"
             ],
             [
              0.6666666666666666,
              "#ed7953"
             ],
             [
              0.7777777777777778,
              "#fb9f3a"
             ],
             [
              0.8888888888888888,
              "#fdca26"
             ],
             [
              1,
              "#f0f921"
             ]
            ],
            "type": "histogram2d"
           }
          ],
          "histogram2dcontour": [
           {
            "colorbar": {
             "outlinewidth": 0,
             "ticks": ""
            },
            "colorscale": [
             [
              0,
              "#0d0887"
             ],
             [
              0.1111111111111111,
              "#46039f"
             ],
             [
              0.2222222222222222,
              "#7201a8"
             ],
             [
              0.3333333333333333,
              "#9c179e"
             ],
             [
              0.4444444444444444,
              "#bd3786"
             ],
             [
              0.5555555555555556,
              "#d8576b"
             ],
             [
              0.6666666666666666,
              "#ed7953"
             ],
             [
              0.7777777777777778,
              "#fb9f3a"
             ],
             [
              0.8888888888888888,
              "#fdca26"
             ],
             [
              1,
              "#f0f921"
             ]
            ],
            "type": "histogram2dcontour"
           }
          ],
          "mesh3d": [
           {
            "colorbar": {
             "outlinewidth": 0,
             "ticks": ""
            },
            "type": "mesh3d"
           }
          ],
          "parcoords": [
           {
            "line": {
             "colorbar": {
              "outlinewidth": 0,
              "ticks": ""
             }
            },
            "type": "parcoords"
           }
          ],
          "pie": [
           {
            "automargin": true,
            "type": "pie"
           }
          ],
          "scatter": [
           {
            "fillpattern": {
             "fillmode": "overlay",
             "size": 10,
             "solidity": 0.2
            },
            "type": "scatter"
           }
          ],
          "scatter3d": [
           {
            "line": {
             "colorbar": {
              "outlinewidth": 0,
              "ticks": ""
             }
            },
            "marker": {
             "colorbar": {
              "outlinewidth": 0,
              "ticks": ""
             }
            },
            "type": "scatter3d"
           }
          ],
          "scattercarpet": [
           {
            "marker": {
             "colorbar": {
              "outlinewidth": 0,
              "ticks": ""
             }
            },
            "type": "scattercarpet"
           }
          ],
          "scattergeo": [
           {
            "marker": {
             "colorbar": {
              "outlinewidth": 0,
              "ticks": ""
             }
            },
            "type": "scattergeo"
           }
          ],
          "scattergl": [
           {
            "marker": {
             "colorbar": {
              "outlinewidth": 0,
              "ticks": ""
             }
            },
            "type": "scattergl"
           }
          ],
          "scattermap": [
           {
            "marker": {
             "colorbar": {
              "outlinewidth": 0,
              "ticks": ""
             }
            },
            "type": "scattermap"
           }
          ],
          "scattermapbox": [
           {
            "marker": {
             "colorbar": {
              "outlinewidth": 0,
              "ticks": ""
             }
            },
            "type": "scattermapbox"
           }
          ],
          "scatterpolar": [
           {
            "marker": {
             "colorbar": {
              "outlinewidth": 0,
              "ticks": ""
             }
            },
            "type": "scatterpolar"
           }
          ],
          "scatterpolargl": [
           {
            "marker": {
             "colorbar": {
              "outlinewidth": 0,
              "ticks": ""
             }
            },
            "type": "scatterpolargl"
           }
          ],
          "scatterternary": [
           {
            "marker": {
             "colorbar": {
              "outlinewidth": 0,
              "ticks": ""
             }
            },
            "type": "scatterternary"
           }
          ],
          "surface": [
           {
            "colorbar": {
             "outlinewidth": 0,
             "ticks": ""
            },
            "colorscale": [
             [
              0,
              "#0d0887"
             ],
             [
              0.1111111111111111,
              "#46039f"
             ],
             [
              0.2222222222222222,
              "#7201a8"
             ],
             [
              0.3333333333333333,
              "#9c179e"
             ],
             [
              0.4444444444444444,
              "#bd3786"
             ],
             [
              0.5555555555555556,
              "#d8576b"
             ],
             [
              0.6666666666666666,
              "#ed7953"
             ],
             [
              0.7777777777777778,
              "#fb9f3a"
             ],
             [
              0.8888888888888888,
              "#fdca26"
             ],
             [
              1,
              "#f0f921"
             ]
            ],
            "type": "surface"
           }
          ],
          "table": [
           {
            "cells": {
             "fill": {
              "color": "#EBF0F8"
             },
             "line": {
              "color": "white"
             }
            },
            "header": {
             "fill": {
              "color": "#C8D4E3"
             },
             "line": {
              "color": "white"
             }
            },
            "type": "table"
           }
          ]
         },
         "layout": {
          "annotationdefaults": {
           "arrowcolor": "#2a3f5f",
           "arrowhead": 0,
           "arrowwidth": 1
          },
          "autotypenumbers": "strict",
          "coloraxis": {
           "colorbar": {
            "outlinewidth": 0,
            "ticks": ""
           }
          },
          "colorscale": {
           "diverging": [
            [
             0,
             "#8e0152"
            ],
            [
             0.1,
             "#c51b7d"
            ],
            [
             0.2,
             "#de77ae"
            ],
            [
             0.3,
             "#f1b6da"
            ],
            [
             0.4,
             "#fde0ef"
            ],
            [
             0.5,
             "#f7f7f7"
            ],
            [
             0.6,
             "#e6f5d0"
            ],
            [
             0.7,
             "#b8e186"
            ],
            [
             0.8,
             "#7fbc41"
            ],
            [
             0.9,
             "#4d9221"
            ],
            [
             1,
             "#276419"
            ]
           ],
           "sequential": [
            [
             0,
             "#0d0887"
            ],
            [
             0.1111111111111111,
             "#46039f"
            ],
            [
             0.2222222222222222,
             "#7201a8"
            ],
            [
             0.3333333333333333,
             "#9c179e"
            ],
            [
             0.4444444444444444,
             "#bd3786"
            ],
            [
             0.5555555555555556,
             "#d8576b"
            ],
            [
             0.6666666666666666,
             "#ed7953"
            ],
            [
             0.7777777777777778,
             "#fb9f3a"
            ],
            [
             0.8888888888888888,
             "#fdca26"
            ],
            [
             1,
             "#f0f921"
            ]
           ],
           "sequentialminus": [
            [
             0,
             "#0d0887"
            ],
            [
             0.1111111111111111,
             "#46039f"
            ],
            [
             0.2222222222222222,
             "#7201a8"
            ],
            [
             0.3333333333333333,
             "#9c179e"
            ],
            [
             0.4444444444444444,
             "#bd3786"
            ],
            [
             0.5555555555555556,
             "#d8576b"
            ],
            [
             0.6666666666666666,
             "#ed7953"
            ],
            [
             0.7777777777777778,
             "#fb9f3a"
            ],
            [
             0.8888888888888888,
             "#fdca26"
            ],
            [
             1,
             "#f0f921"
            ]
           ]
          },
          "colorway": [
           "#636efa",
           "#EF553B",
           "#00cc96",
           "#ab63fa",
           "#FFA15A",
           "#19d3f3",
           "#FF6692",
           "#B6E880",
           "#FF97FF",
           "#FECB52"
          ],
          "font": {
           "color": "#2a3f5f"
          },
          "geo": {
           "bgcolor": "white",
           "lakecolor": "white",
           "landcolor": "#E5ECF6",
           "showlakes": true,
           "showland": true,
           "subunitcolor": "white"
          },
          "hoverlabel": {
           "align": "left"
          },
          "hovermode": "closest",
          "mapbox": {
           "style": "light"
          },
          "paper_bgcolor": "white",
          "plot_bgcolor": "#E5ECF6",
          "polar": {
           "angularaxis": {
            "gridcolor": "white",
            "linecolor": "white",
            "ticks": ""
           },
           "bgcolor": "#E5ECF6",
           "radialaxis": {
            "gridcolor": "white",
            "linecolor": "white",
            "ticks": ""
           }
          },
          "scene": {
           "xaxis": {
            "backgroundcolor": "#E5ECF6",
            "gridcolor": "white",
            "gridwidth": 2,
            "linecolor": "white",
            "showbackground": true,
            "ticks": "",
            "zerolinecolor": "white"
           },
           "yaxis": {
            "backgroundcolor": "#E5ECF6",
            "gridcolor": "white",
            "gridwidth": 2,
            "linecolor": "white",
            "showbackground": true,
            "ticks": "",
            "zerolinecolor": "white"
           },
           "zaxis": {
            "backgroundcolor": "#E5ECF6",
            "gridcolor": "white",
            "gridwidth": 2,
            "linecolor": "white",
            "showbackground": true,
            "ticks": "",
            "zerolinecolor": "white"
           }
          },
          "shapedefaults": {
           "line": {
            "color": "#2a3f5f"
           }
          },
          "ternary": {
           "aaxis": {
            "gridcolor": "white",
            "linecolor": "white",
            "ticks": ""
           },
           "baxis": {
            "gridcolor": "white",
            "linecolor": "white",
            "ticks": ""
           },
           "bgcolor": "#E5ECF6",
           "caxis": {
            "gridcolor": "white",
            "linecolor": "white",
            "ticks": ""
           }
          },
          "title": {
           "x": 0.05
          },
          "xaxis": {
           "automargin": true,
           "gridcolor": "white",
           "linecolor": "white",
           "ticks": "",
           "title": {
            "standoff": 15
           },
           "zerolinecolor": "white",
           "zerolinewidth": 2
          },
          "yaxis": {
           "automargin": true,
           "gridcolor": "white",
           "linecolor": "white",
           "ticks": "",
           "title": {
            "standoff": 15
           },
           "zerolinecolor": "white",
           "zerolinewidth": 2
          }
         }
        },
        "title": {
         "text": "Alignment Between Humans and Synthetic Twins (GPT-5-latest)"
        },
        "width": 1300,
        "xaxis": {
         "anchor": "y",
         "domain": [
          0,
          1
         ],
         "range": [
          -0.08,
          0.8
         ],
         "title": {
          "text": "Correlation"
         }
        },
        "xaxis2": {
         "anchor": "y2",
         "domain": [
          0,
          1
         ],
         "range": [
          -0.08,
          0.76
         ],
         "title": {
          "text": "Correlation"
         }
        },
        "xaxis3": {
         "anchor": "y3",
         "domain": [
          0,
          1
         ],
         "range": [
          -0.22000000000000003,
          0.77
         ],
         "title": {
          "text": "Correlation"
         }
        },
        "yaxis": {
         "anchor": "x",
         "categoryarray": [
          "Neuroticism",
          "Agreeableness",
          "Extraversion",
          "Conscientiousness",
          "Openness"
         ],
         "categoryorder": "array",
         "domain": [
          0.7333333333333334,
          1
         ]
        },
        "yaxis2": {
         "anchor": "x2",
         "categoryarray": [
          "Neuroticism",
          "Agreeableness",
          "Extraversion",
          "Conscientiousness",
          "Openness"
         ],
         "categoryorder": "array",
         "domain": [
          0.3666666666666667,
          0.6333333333333333
         ]
        },
        "yaxis3": {
         "anchor": "x3",
         "categoryarray": [
          "Neuroticism",
          "Agreeableness",
          "Extraversion",
          "Conscientiousness",
          "Openness"
         ],
         "categoryorder": "array",
         "domain": [
          0,
          0.26666666666666666
         ]
        }
       }
      }
     },
     "metadata": {},
     "output_type": "display_data"
    }
   ],
   "source": [
    "plot_alignment_with_humans(\"gpt-5-latest\")"
   ]
  },
  {
   "cell_type": "code",
   "execution_count": 337,
   "id": "3ad44b4d",
   "metadata": {},
   "outputs": [
    {
     "data": {
      "application/vnd.plotly.v1+json": {
       "config": {
        "plotlyServerURL": "https://plot.ly"
       },
       "data": [
        {
         "line": {
          "color": "black",
          "width": 1
         },
         "mode": "lines",
         "opacity": 0.7,
         "showlegend": false,
         "type": "scatter",
         "x": [
          -0.03,
          0.29
         ],
         "xaxis": "x",
         "y": [
          "Openness",
          "Openness"
         ],
         "yaxis": "y"
        },
        {
         "marker": {
          "color": "red",
          "size": 10,
          "symbol": "circle"
         },
         "mode": "markers+text",
         "showlegend": false,
         "text": [
          "r=-0.03"
         ],
         "textposition": "middle left",
         "type": "scatter",
         "x": [
          -0.03
         ],
         "xaxis": "x",
         "y": [
          "Openness"
         ],
         "yaxis": "y"
        },
        {
         "marker": {
          "color": "red",
          "size": 10,
          "symbol": "square"
         },
         "mode": "markers+text",
         "showlegend": false,
         "text": [
          "r=0.29"
         ],
         "textposition": "middle right",
         "type": "scatter",
         "x": [
          0.29
         ],
         "xaxis": "x",
         "y": [
          "Openness"
         ],
         "yaxis": "y"
        },
        {
         "line": {
          "color": "black",
          "width": 1
         },
         "mode": "lines",
         "opacity": 0.7,
         "showlegend": false,
         "type": "scatter",
         "x": [
          0.02,
          0.28
         ],
         "xaxis": "x",
         "y": [
          "Conscientiousness",
          "Conscientiousness"
         ],
         "yaxis": "y"
        },
        {
         "marker": {
          "color": "red",
          "size": 10,
          "symbol": "circle"
         },
         "mode": "markers+text",
         "showlegend": false,
         "text": [
          "r=0.02"
         ],
         "textposition": "middle left",
         "type": "scatter",
         "x": [
          0.02
         ],
         "xaxis": "x",
         "y": [
          "Conscientiousness"
         ],
         "yaxis": "y"
        },
        {
         "marker": {
          "color": "red",
          "size": 10,
          "symbol": "square"
         },
         "mode": "markers+text",
         "showlegend": false,
         "text": [
          "r=0.28"
         ],
         "textposition": "middle right",
         "type": "scatter",
         "x": [
          0.28
         ],
         "xaxis": "x",
         "y": [
          "Conscientiousness"
         ],
         "yaxis": "y"
        },
        {
         "line": {
          "color": "black",
          "width": 1
         },
         "mode": "lines",
         "opacity": 0.7,
         "showlegend": false,
         "type": "scatter",
         "x": [
          0.1,
          0.18
         ],
         "xaxis": "x",
         "y": [
          "Extraversion",
          "Extraversion"
         ],
         "yaxis": "y"
        },
        {
         "marker": {
          "color": "green",
          "size": 10,
          "symbol": "circle"
         },
         "mode": "markers+text",
         "showlegend": false,
         "text": [
          "r=0.1"
         ],
         "textposition": "middle left",
         "type": "scatter",
         "x": [
          0.1
         ],
         "xaxis": "x",
         "y": [
          "Extraversion"
         ],
         "yaxis": "y"
        },
        {
         "marker": {
          "color": "green",
          "size": 10,
          "symbol": "square"
         },
         "mode": "markers+text",
         "showlegend": false,
         "text": [
          "r=0.18"
         ],
         "textposition": "middle right",
         "type": "scatter",
         "x": [
          0.18
         ],
         "xaxis": "x",
         "y": [
          "Extraversion"
         ],
         "yaxis": "y"
        },
        {
         "line": {
          "color": "black",
          "width": 1
         },
         "mode": "lines",
         "opacity": 0.7,
         "showlegend": false,
         "type": "scatter",
         "x": [
          0.26,
          0.24
         ],
         "xaxis": "x",
         "y": [
          "Agreeableness",
          "Agreeableness"
         ],
         "yaxis": "y"
        },
        {
         "marker": {
          "color": "green",
          "size": 10,
          "symbol": "circle"
         },
         "mode": "markers+text",
         "showlegend": false,
         "text": [
          "r=0.26"
         ],
         "textposition": "middle right",
         "type": "scatter",
         "x": [
          0.26
         ],
         "xaxis": "x",
         "y": [
          "Agreeableness"
         ],
         "yaxis": "y"
        },
        {
         "marker": {
          "color": "green",
          "size": 10,
          "symbol": "square"
         },
         "mode": "markers+text",
         "showlegend": false,
         "text": [
          "r=0.24"
         ],
         "textposition": "middle left",
         "type": "scatter",
         "x": [
          0.24
         ],
         "xaxis": "x",
         "y": [
          "Agreeableness"
         ],
         "yaxis": "y"
        },
        {
         "line": {
          "color": "black",
          "width": 1
         },
         "mode": "lines",
         "opacity": 0.7,
         "showlegend": false,
         "type": "scatter",
         "x": [
          0.03,
          0.08
         ],
         "xaxis": "x",
         "y": [
          "Neuroticism",
          "Neuroticism"
         ],
         "yaxis": "y"
        },
        {
         "marker": {
          "color": "green",
          "size": 10,
          "symbol": "circle"
         },
         "mode": "markers+text",
         "showlegend": false,
         "text": [
          "r=0.03"
         ],
         "textposition": "middle left",
         "type": "scatter",
         "x": [
          0.03
         ],
         "xaxis": "x",
         "y": [
          "Neuroticism"
         ],
         "yaxis": "y"
        },
        {
         "marker": {
          "color": "green",
          "size": 10,
          "symbol": "square"
         },
         "mode": "markers+text",
         "showlegend": false,
         "text": [
          "r=0.08"
         ],
         "textposition": "middle right",
         "type": "scatter",
         "x": [
          0.08
         ],
         "xaxis": "x",
         "y": [
          "Neuroticism"
         ],
         "yaxis": "y"
        },
        {
         "line": {
          "color": "black",
          "width": 1
         },
         "mode": "lines",
         "opacity": 0.7,
         "showlegend": false,
         "type": "scatter",
         "x": [
          0.04,
          0.35
         ],
         "xaxis": "x2",
         "y": [
          "Openness",
          "Openness"
         ],
         "yaxis": "y2"
        },
        {
         "marker": {
          "color": "red",
          "size": 10,
          "symbol": "circle"
         },
         "mode": "markers+text",
         "showlegend": false,
         "text": [
          "r=0.04"
         ],
         "textposition": "middle left",
         "type": "scatter",
         "x": [
          0.04
         ],
         "xaxis": "x2",
         "y": [
          "Openness"
         ],
         "yaxis": "y2"
        },
        {
         "marker": {
          "color": "red",
          "size": 10,
          "symbol": "square"
         },
         "mode": "markers+text",
         "showlegend": false,
         "text": [
          "r=0.35"
         ],
         "textposition": "middle right",
         "type": "scatter",
         "x": [
          0.35
         ],
         "xaxis": "x2",
         "y": [
          "Openness"
         ],
         "yaxis": "y2"
        },
        {
         "line": {
          "color": "black",
          "width": 1
         },
         "mode": "lines",
         "opacity": 0.7,
         "showlegend": false,
         "type": "scatter",
         "x": [
          -0.03,
          0.19
         ],
         "xaxis": "x2",
         "y": [
          "Conscientiousness",
          "Conscientiousness"
         ],
         "yaxis": "y2"
        },
        {
         "marker": {
          "color": "red",
          "size": 10,
          "symbol": "circle"
         },
         "mode": "markers+text",
         "showlegend": false,
         "text": [
          "r=-0.03"
         ],
         "textposition": "middle left",
         "type": "scatter",
         "x": [
          -0.03
         ],
         "xaxis": "x2",
         "y": [
          "Conscientiousness"
         ],
         "yaxis": "y2"
        },
        {
         "marker": {
          "color": "red",
          "size": 10,
          "symbol": "square"
         },
         "mode": "markers+text",
         "showlegend": false,
         "text": [
          "r=0.19"
         ],
         "textposition": "middle right",
         "type": "scatter",
         "x": [
          0.19
         ],
         "xaxis": "x2",
         "y": [
          "Conscientiousness"
         ],
         "yaxis": "y2"
        },
        {
         "line": {
          "color": "black",
          "width": 1
         },
         "mode": "lines",
         "opacity": 0.7,
         "showlegend": false,
         "type": "scatter",
         "x": [
          0.17,
          0.26
         ],
         "xaxis": "x2",
         "y": [
          "Extraversion",
          "Extraversion"
         ],
         "yaxis": "y2"
        },
        {
         "marker": {
          "color": "green",
          "size": 10,
          "symbol": "circle"
         },
         "mode": "markers+text",
         "showlegend": false,
         "text": [
          "r=0.17"
         ],
         "textposition": "middle left",
         "type": "scatter",
         "x": [
          0.17
         ],
         "xaxis": "x2",
         "y": [
          "Extraversion"
         ],
         "yaxis": "y2"
        },
        {
         "marker": {
          "color": "green",
          "size": 10,
          "symbol": "square"
         },
         "mode": "markers+text",
         "showlegend": false,
         "text": [
          "r=0.26"
         ],
         "textposition": "middle right",
         "type": "scatter",
         "x": [
          0.26
         ],
         "xaxis": "x2",
         "y": [
          "Extraversion"
         ],
         "yaxis": "y2"
        },
        {
         "line": {
          "color": "black",
          "width": 1
         },
         "mode": "lines",
         "opacity": 0.7,
         "showlegend": false,
         "type": "scatter",
         "x": [
          0.39,
          0.22
         ],
         "xaxis": "x2",
         "y": [
          "Agreeableness",
          "Agreeableness"
         ],
         "yaxis": "y2"
        },
        {
         "marker": {
          "color": "red",
          "size": 10,
          "symbol": "circle"
         },
         "mode": "markers+text",
         "showlegend": false,
         "text": [
          "r=0.39"
         ],
         "textposition": "middle right",
         "type": "scatter",
         "x": [
          0.39
         ],
         "xaxis": "x2",
         "y": [
          "Agreeableness"
         ],
         "yaxis": "y2"
        },
        {
         "marker": {
          "color": "red",
          "size": 10,
          "symbol": "square"
         },
         "mode": "markers+text",
         "showlegend": false,
         "text": [
          "r=0.22"
         ],
         "textposition": "middle left",
         "type": "scatter",
         "x": [
          0.22
         ],
         "xaxis": "x2",
         "y": [
          "Agreeableness"
         ],
         "yaxis": "y2"
        },
        {
         "line": {
          "color": "black",
          "width": 1
         },
         "mode": "lines",
         "opacity": 0.7,
         "showlegend": false,
         "type": "scatter",
         "x": [
          0,
          0.14
         ],
         "xaxis": "x2",
         "y": [
          "Neuroticism",
          "Neuroticism"
         ],
         "yaxis": "y2"
        },
        {
         "marker": {
          "color": "red",
          "size": 10,
          "symbol": "circle"
         },
         "mode": "markers+text",
         "showlegend": false,
         "text": [
          "r=0.0"
         ],
         "textposition": "middle left",
         "type": "scatter",
         "x": [
          0
         ],
         "xaxis": "x2",
         "y": [
          "Neuroticism"
         ],
         "yaxis": "y2"
        },
        {
         "marker": {
          "color": "red",
          "size": 10,
          "symbol": "square"
         },
         "mode": "markers+text",
         "showlegend": false,
         "text": [
          "r=0.14"
         ],
         "textposition": "middle right",
         "type": "scatter",
         "x": [
          0.14
         ],
         "xaxis": "x2",
         "y": [
          "Neuroticism"
         ],
         "yaxis": "y2"
        },
        {
         "line": {
          "color": "black",
          "width": 1
         },
         "mode": "lines",
         "opacity": 0.7,
         "showlegend": false,
         "type": "scatter",
         "x": [
          -0.03,
          0.42
         ],
         "xaxis": "x3",
         "y": [
          "Openness",
          "Openness"
         ],
         "yaxis": "y3"
        },
        {
         "marker": {
          "color": "red",
          "size": 10,
          "symbol": "circle"
         },
         "mode": "markers+text",
         "showlegend": false,
         "text": [
          "r=-0.03"
         ],
         "textposition": "middle left",
         "type": "scatter",
         "x": [
          -0.03
         ],
         "xaxis": "x3",
         "y": [
          "Openness"
         ],
         "yaxis": "y3"
        },
        {
         "marker": {
          "color": "red",
          "size": 10,
          "symbol": "square"
         },
         "mode": "markers+text",
         "showlegend": false,
         "text": [
          "r=0.42"
         ],
         "textposition": "middle right",
         "type": "scatter",
         "x": [
          0.42
         ],
         "xaxis": "x3",
         "y": [
          "Openness"
         ],
         "yaxis": "y3"
        },
        {
         "line": {
          "color": "black",
          "width": 1
         },
         "mode": "lines",
         "opacity": 0.7,
         "showlegend": false,
         "type": "scatter",
         "x": [
          0.05,
          0.09
         ],
         "xaxis": "x3",
         "y": [
          "Conscientiousness",
          "Conscientiousness"
         ],
         "yaxis": "y3"
        },
        {
         "marker": {
          "color": "green",
          "size": 10,
          "symbol": "circle"
         },
         "mode": "markers+text",
         "showlegend": false,
         "text": [
          "r=0.05"
         ],
         "textposition": "middle left",
         "type": "scatter",
         "x": [
          0.05
         ],
         "xaxis": "x3",
         "y": [
          "Conscientiousness"
         ],
         "yaxis": "y3"
        },
        {
         "marker": {
          "color": "green",
          "size": 10,
          "symbol": "square"
         },
         "mode": "markers+text",
         "showlegend": false,
         "text": [
          "r=0.09"
         ],
         "textposition": "middle right",
         "type": "scatter",
         "x": [
          0.09
         ],
         "xaxis": "x3",
         "y": [
          "Conscientiousness"
         ],
         "yaxis": "y3"
        },
        {
         "line": {
          "color": "black",
          "width": 1
         },
         "mode": "lines",
         "opacity": 0.7,
         "showlegend": false,
         "type": "scatter",
         "x": [
          0.19,
          0.37
         ],
         "xaxis": "x3",
         "y": [
          "Extraversion",
          "Extraversion"
         ],
         "yaxis": "y3"
        },
        {
         "marker": {
          "color": "red",
          "size": 10,
          "symbol": "circle"
         },
         "mode": "markers+text",
         "showlegend": false,
         "text": [
          "r=0.19"
         ],
         "textposition": "middle left",
         "type": "scatter",
         "x": [
          0.19
         ],
         "xaxis": "x3",
         "y": [
          "Extraversion"
         ],
         "yaxis": "y3"
        },
        {
         "marker": {
          "color": "red",
          "size": 10,
          "symbol": "square"
         },
         "mode": "markers+text",
         "showlegend": false,
         "text": [
          "r=0.37"
         ],
         "textposition": "middle right",
         "type": "scatter",
         "x": [
          0.37
         ],
         "xaxis": "x3",
         "y": [
          "Extraversion"
         ],
         "yaxis": "y3"
        },
        {
         "line": {
          "color": "black",
          "width": 1
         },
         "mode": "lines",
         "opacity": 0.7,
         "showlegend": false,
         "type": "scatter",
         "x": [
          0.26,
          0.18
         ],
         "xaxis": "x3",
         "y": [
          "Agreeableness",
          "Agreeableness"
         ],
         "yaxis": "y3"
        },
        {
         "marker": {
          "color": "green",
          "size": 10,
          "symbol": "circle"
         },
         "mode": "markers+text",
         "showlegend": false,
         "text": [
          "r=0.26"
         ],
         "textposition": "middle right",
         "type": "scatter",
         "x": [
          0.26
         ],
         "xaxis": "x3",
         "y": [
          "Agreeableness"
         ],
         "yaxis": "y3"
        },
        {
         "marker": {
          "color": "green",
          "size": 10,
          "symbol": "square"
         },
         "mode": "markers+text",
         "showlegend": false,
         "text": [
          "r=0.18"
         ],
         "textposition": "middle left",
         "type": "scatter",
         "x": [
          0.18
         ],
         "xaxis": "x3",
         "y": [
          "Agreeableness"
         ],
         "yaxis": "y3"
        },
        {
         "line": {
          "color": "black",
          "width": 1
         },
         "mode": "lines",
         "opacity": 0.7,
         "showlegend": false,
         "type": "scatter",
         "x": [
          -0.17,
          -0.21
         ],
         "xaxis": "x3",
         "y": [
          "Neuroticism",
          "Neuroticism"
         ],
         "yaxis": "y3"
        },
        {
         "marker": {
          "color": "green",
          "size": 10,
          "symbol": "circle"
         },
         "mode": "markers+text",
         "showlegend": false,
         "text": [
          "r=-0.17"
         ],
         "textposition": "middle right",
         "type": "scatter",
         "x": [
          -0.17
         ],
         "xaxis": "x3",
         "y": [
          "Neuroticism"
         ],
         "yaxis": "y3"
        },
        {
         "marker": {
          "color": "green",
          "size": 10,
          "symbol": "square"
         },
         "mode": "markers+text",
         "showlegend": false,
         "text": [
          "r=-0.21"
         ],
         "textposition": "middle left",
         "type": "scatter",
         "x": [
          -0.21
         ],
         "xaxis": "x3",
         "y": [
          "Neuroticism"
         ],
         "yaxis": "y3"
        },
        {
         "marker": {
          "color": "gray",
          "size": 10,
          "symbol": "circle"
         },
         "mode": "markers",
         "name": "Humans",
         "type": "scatter",
         "x": [
          null
         ],
         "y": [
          null
         ]
        },
        {
         "marker": {
          "color": "gray",
          "size": 10,
          "symbol": "square"
         },
         "mode": "markers",
         "name": "Synthetic Twin",
         "type": "scatter",
         "x": [
          null
         ],
         "y": [
          null
         ]
        },
        {
         "marker": {
          "color": "green",
          "size": 10,
          "symbol": "circle"
         },
         "mode": "markers",
         "name": "Aligned",
         "type": "scatter",
         "x": [
          null
         ],
         "y": [
          null
         ]
        },
        {
         "marker": {
          "color": "red",
          "size": 10,
          "symbol": "circle"
         },
         "mode": "markers",
         "name": "Misaligned",
         "type": "scatter",
         "x": [
          null
         ],
         "y": [
          null
         ]
        }
       ],
       "layout": {
        "annotations": [
         {
          "font": {
           "size": 16
          },
          "showarrow": false,
          "text": "Cabin Luggage",
          "x": 0.5,
          "xanchor": "center",
          "xref": "paper",
          "y": 1,
          "yanchor": "bottom",
          "yref": "paper"
         },
         {
          "font": {
           "size": 16
          },
          "showarrow": false,
          "text": "Packing Cubes",
          "x": 0.5,
          "xanchor": "center",
          "xref": "paper",
          "y": 0.6333333333333333,
          "yanchor": "bottom",
          "yref": "paper"
         },
         {
          "font": {
           "size": 16
          },
          "showarrow": false,
          "text": "Water Bottle",
          "x": 0.5,
          "xanchor": "center",
          "xref": "paper",
          "y": 0.26666666666666666,
          "yanchor": "bottom",
          "yref": "paper"
         }
        ],
        "height": 1400,
        "legend": {
         "borderwidth": 0,
         "font": {
          "size": 12
         },
         "traceorder": "normal",
         "x": 1.02,
         "y": 1
        },
        "margin": {
         "b": 80,
         "l": 100,
         "r": 220,
         "t": 100
        },
        "template": {
         "data": {
          "bar": [
           {
            "error_x": {
             "color": "#2a3f5f"
            },
            "error_y": {
             "color": "#2a3f5f"
            },
            "marker": {
             "line": {
              "color": "#E5ECF6",
              "width": 0.5
             },
             "pattern": {
              "fillmode": "overlay",
              "size": 10,
              "solidity": 0.2
             }
            },
            "type": "bar"
           }
          ],
          "barpolar": [
           {
            "marker": {
             "line": {
              "color": "#E5ECF6",
              "width": 0.5
             },
             "pattern": {
              "fillmode": "overlay",
              "size": 10,
              "solidity": 0.2
             }
            },
            "type": "barpolar"
           }
          ],
          "carpet": [
           {
            "aaxis": {
             "endlinecolor": "#2a3f5f",
             "gridcolor": "white",
             "linecolor": "white",
             "minorgridcolor": "white",
             "startlinecolor": "#2a3f5f"
            },
            "baxis": {
             "endlinecolor": "#2a3f5f",
             "gridcolor": "white",
             "linecolor": "white",
             "minorgridcolor": "white",
             "startlinecolor": "#2a3f5f"
            },
            "type": "carpet"
           }
          ],
          "choropleth": [
           {
            "colorbar": {
             "outlinewidth": 0,
             "ticks": ""
            },
            "type": "choropleth"
           }
          ],
          "contour": [
           {
            "colorbar": {
             "outlinewidth": 0,
             "ticks": ""
            },
            "colorscale": [
             [
              0,
              "#0d0887"
             ],
             [
              0.1111111111111111,
              "#46039f"
             ],
             [
              0.2222222222222222,
              "#7201a8"
             ],
             [
              0.3333333333333333,
              "#9c179e"
             ],
             [
              0.4444444444444444,
              "#bd3786"
             ],
             [
              0.5555555555555556,
              "#d8576b"
             ],
             [
              0.6666666666666666,
              "#ed7953"
             ],
             [
              0.7777777777777778,
              "#fb9f3a"
             ],
             [
              0.8888888888888888,
              "#fdca26"
             ],
             [
              1,
              "#f0f921"
             ]
            ],
            "type": "contour"
           }
          ],
          "contourcarpet": [
           {
            "colorbar": {
             "outlinewidth": 0,
             "ticks": ""
            },
            "type": "contourcarpet"
           }
          ],
          "heatmap": [
           {
            "colorbar": {
             "outlinewidth": 0,
             "ticks": ""
            },
            "colorscale": [
             [
              0,
              "#0d0887"
             ],
             [
              0.1111111111111111,
              "#46039f"
             ],
             [
              0.2222222222222222,
              "#7201a8"
             ],
             [
              0.3333333333333333,
              "#9c179e"
             ],
             [
              0.4444444444444444,
              "#bd3786"
             ],
             [
              0.5555555555555556,
              "#d8576b"
             ],
             [
              0.6666666666666666,
              "#ed7953"
             ],
             [
              0.7777777777777778,
              "#fb9f3a"
             ],
             [
              0.8888888888888888,
              "#fdca26"
             ],
             [
              1,
              "#f0f921"
             ]
            ],
            "type": "heatmap"
           }
          ],
          "histogram": [
           {
            "marker": {
             "pattern": {
              "fillmode": "overlay",
              "size": 10,
              "solidity": 0.2
             }
            },
            "type": "histogram"
           }
          ],
          "histogram2d": [
           {
            "colorbar": {
             "outlinewidth": 0,
             "ticks": ""
            },
            "colorscale": [
             [
              0,
              "#0d0887"
             ],
             [
              0.1111111111111111,
              "#46039f"
             ],
             [
              0.2222222222222222,
              "#7201a8"
             ],
             [
              0.3333333333333333,
              "#9c179e"
             ],
             [
              0.4444444444444444,
              "#bd3786"
             ],
             [
              0.5555555555555556,
              "#d8576b"
             ],
             [
              0.6666666666666666,
              "#ed7953"
             ],
             [
              0.7777777777777778,
              "#fb9f3a"
             ],
             [
              0.8888888888888888,
              "#fdca26"
             ],
             [
              1,
              "#f0f921"
             ]
            ],
            "type": "histogram2d"
           }
          ],
          "histogram2dcontour": [
           {
            "colorbar": {
             "outlinewidth": 0,
             "ticks": ""
            },
            "colorscale": [
             [
              0,
              "#0d0887"
             ],
             [
              0.1111111111111111,
              "#46039f"
             ],
             [
              0.2222222222222222,
              "#7201a8"
             ],
             [
              0.3333333333333333,
              "#9c179e"
             ],
             [
              0.4444444444444444,
              "#bd3786"
             ],
             [
              0.5555555555555556,
              "#d8576b"
             ],
             [
              0.6666666666666666,
              "#ed7953"
             ],
             [
              0.7777777777777778,
              "#fb9f3a"
             ],
             [
              0.8888888888888888,
              "#fdca26"
             ],
             [
              1,
              "#f0f921"
             ]
            ],
            "type": "histogram2dcontour"
           }
          ],
          "mesh3d": [
           {
            "colorbar": {
             "outlinewidth": 0,
             "ticks": ""
            },
            "type": "mesh3d"
           }
          ],
          "parcoords": [
           {
            "line": {
             "colorbar": {
              "outlinewidth": 0,
              "ticks": ""
             }
            },
            "type": "parcoords"
           }
          ],
          "pie": [
           {
            "automargin": true,
            "type": "pie"
           }
          ],
          "scatter": [
           {
            "fillpattern": {
             "fillmode": "overlay",
             "size": 10,
             "solidity": 0.2
            },
            "type": "scatter"
           }
          ],
          "scatter3d": [
           {
            "line": {
             "colorbar": {
              "outlinewidth": 0,
              "ticks": ""
             }
            },
            "marker": {
             "colorbar": {
              "outlinewidth": 0,
              "ticks": ""
             }
            },
            "type": "scatter3d"
           }
          ],
          "scattercarpet": [
           {
            "marker": {
             "colorbar": {
              "outlinewidth": 0,
              "ticks": ""
             }
            },
            "type": "scattercarpet"
           }
          ],
          "scattergeo": [
           {
            "marker": {
             "colorbar": {
              "outlinewidth": 0,
              "ticks": ""
             }
            },
            "type": "scattergeo"
           }
          ],
          "scattergl": [
           {
            "marker": {
             "colorbar": {
              "outlinewidth": 0,
              "ticks": ""
             }
            },
            "type": "scattergl"
           }
          ],
          "scattermap": [
           {
            "marker": {
             "colorbar": {
              "outlinewidth": 0,
              "ticks": ""
             }
            },
            "type": "scattermap"
           }
          ],
          "scattermapbox": [
           {
            "marker": {
             "colorbar": {
              "outlinewidth": 0,
              "ticks": ""
             }
            },
            "type": "scattermapbox"
           }
          ],
          "scatterpolar": [
           {
            "marker": {
             "colorbar": {
              "outlinewidth": 0,
              "ticks": ""
             }
            },
            "type": "scatterpolar"
           }
          ],
          "scatterpolargl": [
           {
            "marker": {
             "colorbar": {
              "outlinewidth": 0,
              "ticks": ""
             }
            },
            "type": "scatterpolargl"
           }
          ],
          "scatterternary": [
           {
            "marker": {
             "colorbar": {
              "outlinewidth": 0,
              "ticks": ""
             }
            },
            "type": "scatterternary"
           }
          ],
          "surface": [
           {
            "colorbar": {
             "outlinewidth": 0,
             "ticks": ""
            },
            "colorscale": [
             [
              0,
              "#0d0887"
             ],
             [
              0.1111111111111111,
              "#46039f"
             ],
             [
              0.2222222222222222,
              "#7201a8"
             ],
             [
              0.3333333333333333,
              "#9c179e"
             ],
             [
              0.4444444444444444,
              "#bd3786"
             ],
             [
              0.5555555555555556,
              "#d8576b"
             ],
             [
              0.6666666666666666,
              "#ed7953"
             ],
             [
              0.7777777777777778,
              "#fb9f3a"
             ],
             [
              0.8888888888888888,
              "#fdca26"
             ],
             [
              1,
              "#f0f921"
             ]
            ],
            "type": "surface"
           }
          ],
          "table": [
           {
            "cells": {
             "fill": {
              "color": "#EBF0F8"
             },
             "line": {
              "color": "white"
             }
            },
            "header": {
             "fill": {
              "color": "#C8D4E3"
             },
             "line": {
              "color": "white"
             }
            },
            "type": "table"
           }
          ]
         },
         "layout": {
          "annotationdefaults": {
           "arrowcolor": "#2a3f5f",
           "arrowhead": 0,
           "arrowwidth": 1
          },
          "autotypenumbers": "strict",
          "coloraxis": {
           "colorbar": {
            "outlinewidth": 0,
            "ticks": ""
           }
          },
          "colorscale": {
           "diverging": [
            [
             0,
             "#8e0152"
            ],
            [
             0.1,
             "#c51b7d"
            ],
            [
             0.2,
             "#de77ae"
            ],
            [
             0.3,
             "#f1b6da"
            ],
            [
             0.4,
             "#fde0ef"
            ],
            [
             0.5,
             "#f7f7f7"
            ],
            [
             0.6,
             "#e6f5d0"
            ],
            [
             0.7,
             "#b8e186"
            ],
            [
             0.8,
             "#7fbc41"
            ],
            [
             0.9,
             "#4d9221"
            ],
            [
             1,
             "#276419"
            ]
           ],
           "sequential": [
            [
             0,
             "#0d0887"
            ],
            [
             0.1111111111111111,
             "#46039f"
            ],
            [
             0.2222222222222222,
             "#7201a8"
            ],
            [
             0.3333333333333333,
             "#9c179e"
            ],
            [
             0.4444444444444444,
             "#bd3786"
            ],
            [
             0.5555555555555556,
             "#d8576b"
            ],
            [
             0.6666666666666666,
             "#ed7953"
            ],
            [
             0.7777777777777778,
             "#fb9f3a"
            ],
            [
             0.8888888888888888,
             "#fdca26"
            ],
            [
             1,
             "#f0f921"
            ]
           ],
           "sequentialminus": [
            [
             0,
             "#0d0887"
            ],
            [
             0.1111111111111111,
             "#46039f"
            ],
            [
             0.2222222222222222,
             "#7201a8"
            ],
            [
             0.3333333333333333,
             "#9c179e"
            ],
            [
             0.4444444444444444,
             "#bd3786"
            ],
            [
             0.5555555555555556,
             "#d8576b"
            ],
            [
             0.6666666666666666,
             "#ed7953"
            ],
            [
             0.7777777777777778,
             "#fb9f3a"
            ],
            [
             0.8888888888888888,
             "#fdca26"
            ],
            [
             1,
             "#f0f921"
            ]
           ]
          },
          "colorway": [
           "#636efa",
           "#EF553B",
           "#00cc96",
           "#ab63fa",
           "#FFA15A",
           "#19d3f3",
           "#FF6692",
           "#B6E880",
           "#FF97FF",
           "#FECB52"
          ],
          "font": {
           "color": "#2a3f5f"
          },
          "geo": {
           "bgcolor": "white",
           "lakecolor": "white",
           "landcolor": "#E5ECF6",
           "showlakes": true,
           "showland": true,
           "subunitcolor": "white"
          },
          "hoverlabel": {
           "align": "left"
          },
          "hovermode": "closest",
          "mapbox": {
           "style": "light"
          },
          "paper_bgcolor": "white",
          "plot_bgcolor": "#E5ECF6",
          "polar": {
           "angularaxis": {
            "gridcolor": "white",
            "linecolor": "white",
            "ticks": ""
           },
           "bgcolor": "#E5ECF6",
           "radialaxis": {
            "gridcolor": "white",
            "linecolor": "white",
            "ticks": ""
           }
          },
          "scene": {
           "xaxis": {
            "backgroundcolor": "#E5ECF6",
            "gridcolor": "white",
            "gridwidth": 2,
            "linecolor": "white",
            "showbackground": true,
            "ticks": "",
            "zerolinecolor": "white"
           },
           "yaxis": {
            "backgroundcolor": "#E5ECF6",
            "gridcolor": "white",
            "gridwidth": 2,
            "linecolor": "white",
            "showbackground": true,
            "ticks": "",
            "zerolinecolor": "white"
           },
           "zaxis": {
            "backgroundcolor": "#E5ECF6",
            "gridcolor": "white",
            "gridwidth": 2,
            "linecolor": "white",
            "showbackground": true,
            "ticks": "",
            "zerolinecolor": "white"
           }
          },
          "shapedefaults": {
           "line": {
            "color": "#2a3f5f"
           }
          },
          "ternary": {
           "aaxis": {
            "gridcolor": "white",
            "linecolor": "white",
            "ticks": ""
           },
           "baxis": {
            "gridcolor": "white",
            "linecolor": "white",
            "ticks": ""
           },
           "bgcolor": "#E5ECF6",
           "caxis": {
            "gridcolor": "white",
            "linecolor": "white",
            "ticks": ""
           }
          },
          "title": {
           "x": 0.05
          },
          "xaxis": {
           "automargin": true,
           "gridcolor": "white",
           "linecolor": "white",
           "ticks": "",
           "title": {
            "standoff": 15
           },
           "zerolinecolor": "white",
           "zerolinewidth": 2
          },
          "yaxis": {
           "automargin": true,
           "gridcolor": "white",
           "linecolor": "white",
           "ticks": "",
           "title": {
            "standoff": 15
           },
           "zerolinecolor": "white",
           "zerolinewidth": 2
          }
         }
        },
        "title": {
         "text": "Alignment Between Humans and Synthetic Twins (Gemini 1.5 Flash)"
        },
        "width": 1300,
        "xaxis": {
         "anchor": "y",
         "domain": [
          0,
          1
         ],
         "range": [
          -0.08,
          0.33999999999999997
         ],
         "title": {
          "text": "Correlation"
         }
        },
        "xaxis2": {
         "anchor": "y2",
         "domain": [
          0,
          1
         ],
         "range": [
          -0.08,
          0.44
         ],
         "title": {
          "text": "Correlation"
         }
        },
        "xaxis3": {
         "anchor": "y3",
         "domain": [
          0,
          1
         ],
         "range": [
          -0.26,
          0.47
         ],
         "title": {
          "text": "Correlation"
         }
        },
        "yaxis": {
         "anchor": "x",
         "categoryarray": [
          "Neuroticism",
          "Agreeableness",
          "Extraversion",
          "Conscientiousness",
          "Openness"
         ],
         "categoryorder": "array",
         "domain": [
          0.7333333333333334,
          1
         ]
        },
        "yaxis2": {
         "anchor": "x2",
         "categoryarray": [
          "Neuroticism",
          "Agreeableness",
          "Extraversion",
          "Conscientiousness",
          "Openness"
         ],
         "categoryorder": "array",
         "domain": [
          0.3666666666666667,
          0.6333333333333333
         ]
        },
        "yaxis3": {
         "anchor": "x3",
         "categoryarray": [
          "Neuroticism",
          "Agreeableness",
          "Extraversion",
          "Conscientiousness",
          "Openness"
         ],
         "categoryorder": "array",
         "domain": [
          0,
          0.26666666666666666
         ]
        }
       }
      }
     },
     "metadata": {},
     "output_type": "display_data"
    }
   ],
   "source": [
    "plot_alignment_with_humans(\"gemini-1.5-flash\")"
   ]
  },
  {
   "cell_type": "code",
   "execution_count": 338,
   "id": "dbb6b15e",
   "metadata": {},
   "outputs": [
    {
     "data": {
      "application/vnd.plotly.v1+json": {
       "config": {
        "plotlyServerURL": "https://plot.ly"
       },
       "data": [
        {
         "line": {
          "color": "black",
          "width": 1
         },
         "mode": "lines",
         "opacity": 0.7,
         "showlegend": false,
         "type": "scatter",
         "x": [
          -0.03,
          0.2
         ],
         "xaxis": "x",
         "y": [
          "Openness",
          "Openness"
         ],
         "yaxis": "y"
        },
        {
         "marker": {
          "color": "red",
          "size": 10,
          "symbol": "circle"
         },
         "mode": "markers+text",
         "showlegend": false,
         "text": [
          "r=-0.03"
         ],
         "textposition": "middle left",
         "type": "scatter",
         "x": [
          -0.03
         ],
         "xaxis": "x",
         "y": [
          "Openness"
         ],
         "yaxis": "y"
        },
        {
         "marker": {
          "color": "red",
          "size": 10,
          "symbol": "square"
         },
         "mode": "markers+text",
         "showlegend": false,
         "text": [
          "r=0.2"
         ],
         "textposition": "middle right",
         "type": "scatter",
         "x": [
          0.2
         ],
         "xaxis": "x",
         "y": [
          "Openness"
         ],
         "yaxis": "y"
        },
        {
         "line": {
          "color": "black",
          "width": 1
         },
         "mode": "lines",
         "opacity": 0.7,
         "showlegend": false,
         "type": "scatter",
         "x": [
          0.02,
          0.25
         ],
         "xaxis": "x",
         "y": [
          "Conscientiousness",
          "Conscientiousness"
         ],
         "yaxis": "y"
        },
        {
         "marker": {
          "color": "red",
          "size": 10,
          "symbol": "circle"
         },
         "mode": "markers+text",
         "showlegend": false,
         "text": [
          "r=0.02"
         ],
         "textposition": "middle left",
         "type": "scatter",
         "x": [
          0.02
         ],
         "xaxis": "x",
         "y": [
          "Conscientiousness"
         ],
         "yaxis": "y"
        },
        {
         "marker": {
          "color": "red",
          "size": 10,
          "symbol": "square"
         },
         "mode": "markers+text",
         "showlegend": false,
         "text": [
          "r=0.25"
         ],
         "textposition": "middle right",
         "type": "scatter",
         "x": [
          0.25
         ],
         "xaxis": "x",
         "y": [
          "Conscientiousness"
         ],
         "yaxis": "y"
        },
        {
         "line": {
          "color": "black",
          "width": 1
         },
         "mode": "lines",
         "opacity": 0.7,
         "showlegend": false,
         "type": "scatter",
         "x": [
          0.1,
          0.28
         ],
         "xaxis": "x",
         "y": [
          "Extraversion",
          "Extraversion"
         ],
         "yaxis": "y"
        },
        {
         "marker": {
          "color": "red",
          "size": 10,
          "symbol": "circle"
         },
         "mode": "markers+text",
         "showlegend": false,
         "text": [
          "r=0.1"
         ],
         "textposition": "middle left",
         "type": "scatter",
         "x": [
          0.1
         ],
         "xaxis": "x",
         "y": [
          "Extraversion"
         ],
         "yaxis": "y"
        },
        {
         "marker": {
          "color": "red",
          "size": 10,
          "symbol": "square"
         },
         "mode": "markers+text",
         "showlegend": false,
         "text": [
          "r=0.28"
         ],
         "textposition": "middle right",
         "type": "scatter",
         "x": [
          0.28
         ],
         "xaxis": "x",
         "y": [
          "Extraversion"
         ],
         "yaxis": "y"
        },
        {
         "line": {
          "color": "black",
          "width": 1
         },
         "mode": "lines",
         "opacity": 0.7,
         "showlegend": false,
         "type": "scatter",
         "x": [
          0.26,
          0.28
         ],
         "xaxis": "x",
         "y": [
          "Agreeableness",
          "Agreeableness"
         ],
         "yaxis": "y"
        },
        {
         "marker": {
          "color": "green",
          "size": 10,
          "symbol": "circle"
         },
         "mode": "markers+text",
         "showlegend": false,
         "text": [
          "r=0.26"
         ],
         "textposition": "middle left",
         "type": "scatter",
         "x": [
          0.26
         ],
         "xaxis": "x",
         "y": [
          "Agreeableness"
         ],
         "yaxis": "y"
        },
        {
         "marker": {
          "color": "green",
          "size": 10,
          "symbol": "square"
         },
         "mode": "markers+text",
         "showlegend": false,
         "text": [
          "r=0.28"
         ],
         "textposition": "middle right",
         "type": "scatter",
         "x": [
          0.28
         ],
         "xaxis": "x",
         "y": [
          "Agreeableness"
         ],
         "yaxis": "y"
        },
        {
         "line": {
          "color": "black",
          "width": 1
         },
         "mode": "lines",
         "opacity": 0.7,
         "showlegend": false,
         "type": "scatter",
         "x": [
          0.03,
          0.16
         ],
         "xaxis": "x",
         "y": [
          "Neuroticism",
          "Neuroticism"
         ],
         "yaxis": "y"
        },
        {
         "marker": {
          "color": "red",
          "size": 10,
          "symbol": "circle"
         },
         "mode": "markers+text",
         "showlegend": false,
         "text": [
          "r=0.03"
         ],
         "textposition": "middle left",
         "type": "scatter",
         "x": [
          0.03
         ],
         "xaxis": "x",
         "y": [
          "Neuroticism"
         ],
         "yaxis": "y"
        },
        {
         "marker": {
          "color": "red",
          "size": 10,
          "symbol": "square"
         },
         "mode": "markers+text",
         "showlegend": false,
         "text": [
          "r=0.16"
         ],
         "textposition": "middle right",
         "type": "scatter",
         "x": [
          0.16
         ],
         "xaxis": "x",
         "y": [
          "Neuroticism"
         ],
         "yaxis": "y"
        },
        {
         "line": {
          "color": "black",
          "width": 1
         },
         "mode": "lines",
         "opacity": 0.7,
         "showlegend": false,
         "type": "scatter",
         "x": [
          0.04,
          0.25
         ],
         "xaxis": "x2",
         "y": [
          "Openness",
          "Openness"
         ],
         "yaxis": "y2"
        },
        {
         "marker": {
          "color": "red",
          "size": 10,
          "symbol": "circle"
         },
         "mode": "markers+text",
         "showlegend": false,
         "text": [
          "r=0.04"
         ],
         "textposition": "middle left",
         "type": "scatter",
         "x": [
          0.04
         ],
         "xaxis": "x2",
         "y": [
          "Openness"
         ],
         "yaxis": "y2"
        },
        {
         "marker": {
          "color": "red",
          "size": 10,
          "symbol": "square"
         },
         "mode": "markers+text",
         "showlegend": false,
         "text": [
          "r=0.25"
         ],
         "textposition": "middle right",
         "type": "scatter",
         "x": [
          0.25
         ],
         "xaxis": "x2",
         "y": [
          "Openness"
         ],
         "yaxis": "y2"
        },
        {
         "line": {
          "color": "black",
          "width": 1
         },
         "mode": "lines",
         "opacity": 0.7,
         "showlegend": false,
         "type": "scatter",
         "x": [
          -0.03,
          0.17
         ],
         "xaxis": "x2",
         "y": [
          "Conscientiousness",
          "Conscientiousness"
         ],
         "yaxis": "y2"
        },
        {
         "marker": {
          "color": "red",
          "size": 10,
          "symbol": "circle"
         },
         "mode": "markers+text",
         "showlegend": false,
         "text": [
          "r=-0.03"
         ],
         "textposition": "middle left",
         "type": "scatter",
         "x": [
          -0.03
         ],
         "xaxis": "x2",
         "y": [
          "Conscientiousness"
         ],
         "yaxis": "y2"
        },
        {
         "marker": {
          "color": "red",
          "size": 10,
          "symbol": "square"
         },
         "mode": "markers+text",
         "showlegend": false,
         "text": [
          "r=0.17"
         ],
         "textposition": "middle right",
         "type": "scatter",
         "x": [
          0.17
         ],
         "xaxis": "x2",
         "y": [
          "Conscientiousness"
         ],
         "yaxis": "y2"
        },
        {
         "line": {
          "color": "black",
          "width": 1
         },
         "mode": "lines",
         "opacity": 0.7,
         "showlegend": false,
         "type": "scatter",
         "x": [
          0.17,
          0.15
         ],
         "xaxis": "x2",
         "y": [
          "Extraversion",
          "Extraversion"
         ],
         "yaxis": "y2"
        },
        {
         "marker": {
          "color": "green",
          "size": 10,
          "symbol": "circle"
         },
         "mode": "markers+text",
         "showlegend": false,
         "text": [
          "r=0.17"
         ],
         "textposition": "middle right",
         "type": "scatter",
         "x": [
          0.17
         ],
         "xaxis": "x2",
         "y": [
          "Extraversion"
         ],
         "yaxis": "y2"
        },
        {
         "marker": {
          "color": "green",
          "size": 10,
          "symbol": "square"
         },
         "mode": "markers+text",
         "showlegend": false,
         "text": [
          "r=0.15"
         ],
         "textposition": "middle left",
         "type": "scatter",
         "x": [
          0.15
         ],
         "xaxis": "x2",
         "y": [
          "Extraversion"
         ],
         "yaxis": "y2"
        },
        {
         "line": {
          "color": "black",
          "width": 1
         },
         "mode": "lines",
         "opacity": 0.7,
         "showlegend": false,
         "type": "scatter",
         "x": [
          0.39,
          0.25
         ],
         "xaxis": "x2",
         "y": [
          "Agreeableness",
          "Agreeableness"
         ],
         "yaxis": "y2"
        },
        {
         "marker": {
          "color": "red",
          "size": 10,
          "symbol": "circle"
         },
         "mode": "markers+text",
         "showlegend": false,
         "text": [
          "r=0.39"
         ],
         "textposition": "middle right",
         "type": "scatter",
         "x": [
          0.39
         ],
         "xaxis": "x2",
         "y": [
          "Agreeableness"
         ],
         "yaxis": "y2"
        },
        {
         "marker": {
          "color": "red",
          "size": 10,
          "symbol": "square"
         },
         "mode": "markers+text",
         "showlegend": false,
         "text": [
          "r=0.25"
         ],
         "textposition": "middle left",
         "type": "scatter",
         "x": [
          0.25
         ],
         "xaxis": "x2",
         "y": [
          "Agreeableness"
         ],
         "yaxis": "y2"
        },
        {
         "line": {
          "color": "black",
          "width": 1
         },
         "mode": "lines",
         "opacity": 0.7,
         "showlegend": false,
         "type": "scatter",
         "x": [
          0,
          0.16
         ],
         "xaxis": "x2",
         "y": [
          "Neuroticism",
          "Neuroticism"
         ],
         "yaxis": "y2"
        },
        {
         "marker": {
          "color": "red",
          "size": 10,
          "symbol": "circle"
         },
         "mode": "markers+text",
         "showlegend": false,
         "text": [
          "r=0.0"
         ],
         "textposition": "middle left",
         "type": "scatter",
         "x": [
          0
         ],
         "xaxis": "x2",
         "y": [
          "Neuroticism"
         ],
         "yaxis": "y2"
        },
        {
         "marker": {
          "color": "red",
          "size": 10,
          "symbol": "square"
         },
         "mode": "markers+text",
         "showlegend": false,
         "text": [
          "r=0.16"
         ],
         "textposition": "middle right",
         "type": "scatter",
         "x": [
          0.16
         ],
         "xaxis": "x2",
         "y": [
          "Neuroticism"
         ],
         "yaxis": "y2"
        },
        {
         "line": {
          "color": "black",
          "width": 1
         },
         "mode": "lines",
         "opacity": 0.7,
         "showlegend": false,
         "type": "scatter",
         "x": [
          -0.03,
          0.34
         ],
         "xaxis": "x3",
         "y": [
          "Openness",
          "Openness"
         ],
         "yaxis": "y3"
        },
        {
         "marker": {
          "color": "red",
          "size": 10,
          "symbol": "circle"
         },
         "mode": "markers+text",
         "showlegend": false,
         "text": [
          "r=-0.03"
         ],
         "textposition": "middle left",
         "type": "scatter",
         "x": [
          -0.03
         ],
         "xaxis": "x3",
         "y": [
          "Openness"
         ],
         "yaxis": "y3"
        },
        {
         "marker": {
          "color": "red",
          "size": 10,
          "symbol": "square"
         },
         "mode": "markers+text",
         "showlegend": false,
         "text": [
          "r=0.34"
         ],
         "textposition": "middle right",
         "type": "scatter",
         "x": [
          0.34
         ],
         "xaxis": "x3",
         "y": [
          "Openness"
         ],
         "yaxis": "y3"
        },
        {
         "line": {
          "color": "black",
          "width": 1
         },
         "mode": "lines",
         "opacity": 0.7,
         "showlegend": false,
         "type": "scatter",
         "x": [
          0.05,
          0.16
         ],
         "xaxis": "x3",
         "y": [
          "Conscientiousness",
          "Conscientiousness"
         ],
         "yaxis": "y3"
        },
        {
         "marker": {
          "color": "red",
          "size": 10,
          "symbol": "circle"
         },
         "mode": "markers+text",
         "showlegend": false,
         "text": [
          "r=0.05"
         ],
         "textposition": "middle left",
         "type": "scatter",
         "x": [
          0.05
         ],
         "xaxis": "x3",
         "y": [
          "Conscientiousness"
         ],
         "yaxis": "y3"
        },
        {
         "marker": {
          "color": "red",
          "size": 10,
          "symbol": "square"
         },
         "mode": "markers+text",
         "showlegend": false,
         "text": [
          "r=0.16"
         ],
         "textposition": "middle right",
         "type": "scatter",
         "x": [
          0.16
         ],
         "xaxis": "x3",
         "y": [
          "Conscientiousness"
         ],
         "yaxis": "y3"
        },
        {
         "line": {
          "color": "black",
          "width": 1
         },
         "mode": "lines",
         "opacity": 0.7,
         "showlegend": false,
         "type": "scatter",
         "x": [
          0.19,
          0.23
         ],
         "xaxis": "x3",
         "y": [
          "Extraversion",
          "Extraversion"
         ],
         "yaxis": "y3"
        },
        {
         "marker": {
          "color": "green",
          "size": 10,
          "symbol": "circle"
         },
         "mode": "markers+text",
         "showlegend": false,
         "text": [
          "r=0.19"
         ],
         "textposition": "middle left",
         "type": "scatter",
         "x": [
          0.19
         ],
         "xaxis": "x3",
         "y": [
          "Extraversion"
         ],
         "yaxis": "y3"
        },
        {
         "marker": {
          "color": "green",
          "size": 10,
          "symbol": "square"
         },
         "mode": "markers+text",
         "showlegend": false,
         "text": [
          "r=0.23"
         ],
         "textposition": "middle right",
         "type": "scatter",
         "x": [
          0.23
         ],
         "xaxis": "x3",
         "y": [
          "Extraversion"
         ],
         "yaxis": "y3"
        },
        {
         "line": {
          "color": "black",
          "width": 1
         },
         "mode": "lines",
         "opacity": 0.7,
         "showlegend": false,
         "type": "scatter",
         "x": [
          0.26,
          0.07
         ],
         "xaxis": "x3",
         "y": [
          "Agreeableness",
          "Agreeableness"
         ],
         "yaxis": "y3"
        },
        {
         "marker": {
          "color": "red",
          "size": 10,
          "symbol": "circle"
         },
         "mode": "markers+text",
         "showlegend": false,
         "text": [
          "r=0.26"
         ],
         "textposition": "middle right",
         "type": "scatter",
         "x": [
          0.26
         ],
         "xaxis": "x3",
         "y": [
          "Agreeableness"
         ],
         "yaxis": "y3"
        },
        {
         "marker": {
          "color": "red",
          "size": 10,
          "symbol": "square"
         },
         "mode": "markers+text",
         "showlegend": false,
         "text": [
          "r=0.07"
         ],
         "textposition": "middle left",
         "type": "scatter",
         "x": [
          0.07
         ],
         "xaxis": "x3",
         "y": [
          "Agreeableness"
         ],
         "yaxis": "y3"
        },
        {
         "line": {
          "color": "black",
          "width": 1
         },
         "mode": "lines",
         "opacity": 0.7,
         "showlegend": false,
         "type": "scatter",
         "x": [
          -0.17,
          0.11
         ],
         "xaxis": "x3",
         "y": [
          "Neuroticism",
          "Neuroticism"
         ],
         "yaxis": "y3"
        },
        {
         "marker": {
          "color": "red",
          "size": 10,
          "symbol": "circle"
         },
         "mode": "markers+text",
         "showlegend": false,
         "text": [
          "r=-0.17"
         ],
         "textposition": "middle left",
         "type": "scatter",
         "x": [
          -0.17
         ],
         "xaxis": "x3",
         "y": [
          "Neuroticism"
         ],
         "yaxis": "y3"
        },
        {
         "marker": {
          "color": "red",
          "size": 10,
          "symbol": "square"
         },
         "mode": "markers+text",
         "showlegend": false,
         "text": [
          "r=0.11"
         ],
         "textposition": "middle right",
         "type": "scatter",
         "x": [
          0.11
         ],
         "xaxis": "x3",
         "y": [
          "Neuroticism"
         ],
         "yaxis": "y3"
        },
        {
         "marker": {
          "color": "gray",
          "size": 10,
          "symbol": "circle"
         },
         "mode": "markers",
         "name": "Humans",
         "type": "scatter",
         "x": [
          null
         ],
         "y": [
          null
         ]
        },
        {
         "marker": {
          "color": "gray",
          "size": 10,
          "symbol": "square"
         },
         "mode": "markers",
         "name": "Synthetic Twin",
         "type": "scatter",
         "x": [
          null
         ],
         "y": [
          null
         ]
        },
        {
         "marker": {
          "color": "green",
          "size": 10,
          "symbol": "circle"
         },
         "mode": "markers",
         "name": "Aligned",
         "type": "scatter",
         "x": [
          null
         ],
         "y": [
          null
         ]
        },
        {
         "marker": {
          "color": "red",
          "size": 10,
          "symbol": "circle"
         },
         "mode": "markers",
         "name": "Misaligned",
         "type": "scatter",
         "x": [
          null
         ],
         "y": [
          null
         ]
        }
       ],
       "layout": {
        "annotations": [
         {
          "font": {
           "size": 16
          },
          "showarrow": false,
          "text": "Cabin Luggage",
          "x": 0.5,
          "xanchor": "center",
          "xref": "paper",
          "y": 1,
          "yanchor": "bottom",
          "yref": "paper"
         },
         {
          "font": {
           "size": 16
          },
          "showarrow": false,
          "text": "Packing Cubes",
          "x": 0.5,
          "xanchor": "center",
          "xref": "paper",
          "y": 0.6333333333333333,
          "yanchor": "bottom",
          "yref": "paper"
         },
         {
          "font": {
           "size": 16
          },
          "showarrow": false,
          "text": "Water Bottle",
          "x": 0.5,
          "xanchor": "center",
          "xref": "paper",
          "y": 0.26666666666666666,
          "yanchor": "bottom",
          "yref": "paper"
         }
        ],
        "height": 1400,
        "legend": {
         "borderwidth": 0,
         "font": {
          "size": 12
         },
         "traceorder": "normal",
         "x": 1.02,
         "y": 1
        },
        "margin": {
         "b": 80,
         "l": 100,
         "r": 220,
         "t": 100
        },
        "template": {
         "data": {
          "bar": [
           {
            "error_x": {
             "color": "#2a3f5f"
            },
            "error_y": {
             "color": "#2a3f5f"
            },
            "marker": {
             "line": {
              "color": "#E5ECF6",
              "width": 0.5
             },
             "pattern": {
              "fillmode": "overlay",
              "size": 10,
              "solidity": 0.2
             }
            },
            "type": "bar"
           }
          ],
          "barpolar": [
           {
            "marker": {
             "line": {
              "color": "#E5ECF6",
              "width": 0.5
             },
             "pattern": {
              "fillmode": "overlay",
              "size": 10,
              "solidity": 0.2
             }
            },
            "type": "barpolar"
           }
          ],
          "carpet": [
           {
            "aaxis": {
             "endlinecolor": "#2a3f5f",
             "gridcolor": "white",
             "linecolor": "white",
             "minorgridcolor": "white",
             "startlinecolor": "#2a3f5f"
            },
            "baxis": {
             "endlinecolor": "#2a3f5f",
             "gridcolor": "white",
             "linecolor": "white",
             "minorgridcolor": "white",
             "startlinecolor": "#2a3f5f"
            },
            "type": "carpet"
           }
          ],
          "choropleth": [
           {
            "colorbar": {
             "outlinewidth": 0,
             "ticks": ""
            },
            "type": "choropleth"
           }
          ],
          "contour": [
           {
            "colorbar": {
             "outlinewidth": 0,
             "ticks": ""
            },
            "colorscale": [
             [
              0,
              "#0d0887"
             ],
             [
              0.1111111111111111,
              "#46039f"
             ],
             [
              0.2222222222222222,
              "#7201a8"
             ],
             [
              0.3333333333333333,
              "#9c179e"
             ],
             [
              0.4444444444444444,
              "#bd3786"
             ],
             [
              0.5555555555555556,
              "#d8576b"
             ],
             [
              0.6666666666666666,
              "#ed7953"
             ],
             [
              0.7777777777777778,
              "#fb9f3a"
             ],
             [
              0.8888888888888888,
              "#fdca26"
             ],
             [
              1,
              "#f0f921"
             ]
            ],
            "type": "contour"
           }
          ],
          "contourcarpet": [
           {
            "colorbar": {
             "outlinewidth": 0,
             "ticks": ""
            },
            "type": "contourcarpet"
           }
          ],
          "heatmap": [
           {
            "colorbar": {
             "outlinewidth": 0,
             "ticks": ""
            },
            "colorscale": [
             [
              0,
              "#0d0887"
             ],
             [
              0.1111111111111111,
              "#46039f"
             ],
             [
              0.2222222222222222,
              "#7201a8"
             ],
             [
              0.3333333333333333,
              "#9c179e"
             ],
             [
              0.4444444444444444,
              "#bd3786"
             ],
             [
              0.5555555555555556,
              "#d8576b"
             ],
             [
              0.6666666666666666,
              "#ed7953"
             ],
             [
              0.7777777777777778,
              "#fb9f3a"
             ],
             [
              0.8888888888888888,
              "#fdca26"
             ],
             [
              1,
              "#f0f921"
             ]
            ],
            "type": "heatmap"
           }
          ],
          "histogram": [
           {
            "marker": {
             "pattern": {
              "fillmode": "overlay",
              "size": 10,
              "solidity": 0.2
             }
            },
            "type": "histogram"
           }
          ],
          "histogram2d": [
           {
            "colorbar": {
             "outlinewidth": 0,
             "ticks": ""
            },
            "colorscale": [
             [
              0,
              "#0d0887"
             ],
             [
              0.1111111111111111,
              "#46039f"
             ],
             [
              0.2222222222222222,
              "#7201a8"
             ],
             [
              0.3333333333333333,
              "#9c179e"
             ],
             [
              0.4444444444444444,
              "#bd3786"
             ],
             [
              0.5555555555555556,
              "#d8576b"
             ],
             [
              0.6666666666666666,
              "#ed7953"
             ],
             [
              0.7777777777777778,
              "#fb9f3a"
             ],
             [
              0.8888888888888888,
              "#fdca26"
             ],
             [
              1,
              "#f0f921"
             ]
            ],
            "type": "histogram2d"
           }
          ],
          "histogram2dcontour": [
           {
            "colorbar": {
             "outlinewidth": 0,
             "ticks": ""
            },
            "colorscale": [
             [
              0,
              "#0d0887"
             ],
             [
              0.1111111111111111,
              "#46039f"
             ],
             [
              0.2222222222222222,
              "#7201a8"
             ],
             [
              0.3333333333333333,
              "#9c179e"
             ],
             [
              0.4444444444444444,
              "#bd3786"
             ],
             [
              0.5555555555555556,
              "#d8576b"
             ],
             [
              0.6666666666666666,
              "#ed7953"
             ],
             [
              0.7777777777777778,
              "#fb9f3a"
             ],
             [
              0.8888888888888888,
              "#fdca26"
             ],
             [
              1,
              "#f0f921"
             ]
            ],
            "type": "histogram2dcontour"
           }
          ],
          "mesh3d": [
           {
            "colorbar": {
             "outlinewidth": 0,
             "ticks": ""
            },
            "type": "mesh3d"
           }
          ],
          "parcoords": [
           {
            "line": {
             "colorbar": {
              "outlinewidth": 0,
              "ticks": ""
             }
            },
            "type": "parcoords"
           }
          ],
          "pie": [
           {
            "automargin": true,
            "type": "pie"
           }
          ],
          "scatter": [
           {
            "fillpattern": {
             "fillmode": "overlay",
             "size": 10,
             "solidity": 0.2
            },
            "type": "scatter"
           }
          ],
          "scatter3d": [
           {
            "line": {
             "colorbar": {
              "outlinewidth": 0,
              "ticks": ""
             }
            },
            "marker": {
             "colorbar": {
              "outlinewidth": 0,
              "ticks": ""
             }
            },
            "type": "scatter3d"
           }
          ],
          "scattercarpet": [
           {
            "marker": {
             "colorbar": {
              "outlinewidth": 0,
              "ticks": ""
             }
            },
            "type": "scattercarpet"
           }
          ],
          "scattergeo": [
           {
            "marker": {
             "colorbar": {
              "outlinewidth": 0,
              "ticks": ""
             }
            },
            "type": "scattergeo"
           }
          ],
          "scattergl": [
           {
            "marker": {
             "colorbar": {
              "outlinewidth": 0,
              "ticks": ""
             }
            },
            "type": "scattergl"
           }
          ],
          "scattermap": [
           {
            "marker": {
             "colorbar": {
              "outlinewidth": 0,
              "ticks": ""
             }
            },
            "type": "scattermap"
           }
          ],
          "scattermapbox": [
           {
            "marker": {
             "colorbar": {
              "outlinewidth": 0,
              "ticks": ""
             }
            },
            "type": "scattermapbox"
           }
          ],
          "scatterpolar": [
           {
            "marker": {
             "colorbar": {
              "outlinewidth": 0,
              "ticks": ""
             }
            },
            "type": "scatterpolar"
           }
          ],
          "scatterpolargl": [
           {
            "marker": {
             "colorbar": {
              "outlinewidth": 0,
              "ticks": ""
             }
            },
            "type": "scatterpolargl"
           }
          ],
          "scatterternary": [
           {
            "marker": {
             "colorbar": {
              "outlinewidth": 0,
              "ticks": ""
             }
            },
            "type": "scatterternary"
           }
          ],
          "surface": [
           {
            "colorbar": {
             "outlinewidth": 0,
             "ticks": ""
            },
            "colorscale": [
             [
              0,
              "#0d0887"
             ],
             [
              0.1111111111111111,
              "#46039f"
             ],
             [
              0.2222222222222222,
              "#7201a8"
             ],
             [
              0.3333333333333333,
              "#9c179e"
             ],
             [
              0.4444444444444444,
              "#bd3786"
             ],
             [
              0.5555555555555556,
              "#d8576b"
             ],
             [
              0.6666666666666666,
              "#ed7953"
             ],
             [
              0.7777777777777778,
              "#fb9f3a"
             ],
             [
              0.8888888888888888,
              "#fdca26"
             ],
             [
              1,
              "#f0f921"
             ]
            ],
            "type": "surface"
           }
          ],
          "table": [
           {
            "cells": {
             "fill": {
              "color": "#EBF0F8"
             },
             "line": {
              "color": "white"
             }
            },
            "header": {
             "fill": {
              "color": "#C8D4E3"
             },
             "line": {
              "color": "white"
             }
            },
            "type": "table"
           }
          ]
         },
         "layout": {
          "annotationdefaults": {
           "arrowcolor": "#2a3f5f",
           "arrowhead": 0,
           "arrowwidth": 1
          },
          "autotypenumbers": "strict",
          "coloraxis": {
           "colorbar": {
            "outlinewidth": 0,
            "ticks": ""
           }
          },
          "colorscale": {
           "diverging": [
            [
             0,
             "#8e0152"
            ],
            [
             0.1,
             "#c51b7d"
            ],
            [
             0.2,
             "#de77ae"
            ],
            [
             0.3,
             "#f1b6da"
            ],
            [
             0.4,
             "#fde0ef"
            ],
            [
             0.5,
             "#f7f7f7"
            ],
            [
             0.6,
             "#e6f5d0"
            ],
            [
             0.7,
             "#b8e186"
            ],
            [
             0.8,
             "#7fbc41"
            ],
            [
             0.9,
             "#4d9221"
            ],
            [
             1,
             "#276419"
            ]
           ],
           "sequential": [
            [
             0,
             "#0d0887"
            ],
            [
             0.1111111111111111,
             "#46039f"
            ],
            [
             0.2222222222222222,
             "#7201a8"
            ],
            [
             0.3333333333333333,
             "#9c179e"
            ],
            [
             0.4444444444444444,
             "#bd3786"
            ],
            [
             0.5555555555555556,
             "#d8576b"
            ],
            [
             0.6666666666666666,
             "#ed7953"
            ],
            [
             0.7777777777777778,
             "#fb9f3a"
            ],
            [
             0.8888888888888888,
             "#fdca26"
            ],
            [
             1,
             "#f0f921"
            ]
           ],
           "sequentialminus": [
            [
             0,
             "#0d0887"
            ],
            [
             0.1111111111111111,
             "#46039f"
            ],
            [
             0.2222222222222222,
             "#7201a8"
            ],
            [
             0.3333333333333333,
             "#9c179e"
            ],
            [
             0.4444444444444444,
             "#bd3786"
            ],
            [
             0.5555555555555556,
             "#d8576b"
            ],
            [
             0.6666666666666666,
             "#ed7953"
            ],
            [
             0.7777777777777778,
             "#fb9f3a"
            ],
            [
             0.8888888888888888,
             "#fdca26"
            ],
            [
             1,
             "#f0f921"
            ]
           ]
          },
          "colorway": [
           "#636efa",
           "#EF553B",
           "#00cc96",
           "#ab63fa",
           "#FFA15A",
           "#19d3f3",
           "#FF6692",
           "#B6E880",
           "#FF97FF",
           "#FECB52"
          ],
          "font": {
           "color": "#2a3f5f"
          },
          "geo": {
           "bgcolor": "white",
           "lakecolor": "white",
           "landcolor": "#E5ECF6",
           "showlakes": true,
           "showland": true,
           "subunitcolor": "white"
          },
          "hoverlabel": {
           "align": "left"
          },
          "hovermode": "closest",
          "mapbox": {
           "style": "light"
          },
          "paper_bgcolor": "white",
          "plot_bgcolor": "#E5ECF6",
          "polar": {
           "angularaxis": {
            "gridcolor": "white",
            "linecolor": "white",
            "ticks": ""
           },
           "bgcolor": "#E5ECF6",
           "radialaxis": {
            "gridcolor": "white",
            "linecolor": "white",
            "ticks": ""
           }
          },
          "scene": {
           "xaxis": {
            "backgroundcolor": "#E5ECF6",
            "gridcolor": "white",
            "gridwidth": 2,
            "linecolor": "white",
            "showbackground": true,
            "ticks": "",
            "zerolinecolor": "white"
           },
           "yaxis": {
            "backgroundcolor": "#E5ECF6",
            "gridcolor": "white",
            "gridwidth": 2,
            "linecolor": "white",
            "showbackground": true,
            "ticks": "",
            "zerolinecolor": "white"
           },
           "zaxis": {
            "backgroundcolor": "#E5ECF6",
            "gridcolor": "white",
            "gridwidth": 2,
            "linecolor": "white",
            "showbackground": true,
            "ticks": "",
            "zerolinecolor": "white"
           }
          },
          "shapedefaults": {
           "line": {
            "color": "#2a3f5f"
           }
          },
          "ternary": {
           "aaxis": {
            "gridcolor": "white",
            "linecolor": "white",
            "ticks": ""
           },
           "baxis": {
            "gridcolor": "white",
            "linecolor": "white",
            "ticks": ""
           },
           "bgcolor": "#E5ECF6",
           "caxis": {
            "gridcolor": "white",
            "linecolor": "white",
            "ticks": ""
           }
          },
          "title": {
           "x": 0.05
          },
          "xaxis": {
           "automargin": true,
           "gridcolor": "white",
           "linecolor": "white",
           "ticks": "",
           "title": {
            "standoff": 15
           },
           "zerolinecolor": "white",
           "zerolinewidth": 2
          },
          "yaxis": {
           "automargin": true,
           "gridcolor": "white",
           "linecolor": "white",
           "ticks": "",
           "title": {
            "standoff": 15
           },
           "zerolinecolor": "white",
           "zerolinewidth": 2
          }
         }
        },
        "title": {
         "text": "Alignment Between Humans and Synthetic Twins (Gemini 2.0 Flash)"
        },
        "width": 1300,
        "xaxis": {
         "anchor": "y",
         "domain": [
          0,
          1
         ],
         "range": [
          -0.08,
          0.33
         ],
         "title": {
          "text": "Correlation"
         }
        },
        "xaxis2": {
         "anchor": "y2",
         "domain": [
          0,
          1
         ],
         "range": [
          -0.08,
          0.44
         ],
         "title": {
          "text": "Correlation"
         }
        },
        "xaxis3": {
         "anchor": "y3",
         "domain": [
          0,
          1
         ],
         "range": [
          -0.22000000000000003,
          0.39
         ],
         "title": {
          "text": "Correlation"
         }
        },
        "yaxis": {
         "anchor": "x",
         "categoryarray": [
          "Neuroticism",
          "Agreeableness",
          "Extraversion",
          "Conscientiousness",
          "Openness"
         ],
         "categoryorder": "array",
         "domain": [
          0.7333333333333334,
          1
         ]
        },
        "yaxis2": {
         "anchor": "x2",
         "categoryarray": [
          "Neuroticism",
          "Agreeableness",
          "Extraversion",
          "Conscientiousness",
          "Openness"
         ],
         "categoryorder": "array",
         "domain": [
          0.3666666666666667,
          0.6333333333333333
         ]
        },
        "yaxis3": {
         "anchor": "x3",
         "categoryarray": [
          "Neuroticism",
          "Agreeableness",
          "Extraversion",
          "Conscientiousness",
          "Openness"
         ],
         "categoryorder": "array",
         "domain": [
          0,
          0.26666666666666666
         ]
        }
       }
      }
     },
     "metadata": {},
     "output_type": "display_data"
    }
   ],
   "source": [
    "plot_alignment_with_humans(\"gemini-2.0-flash\")"
   ]
  },
  {
   "cell_type": "code",
   "execution_count": 339,
   "id": "b8b32d40",
   "metadata": {},
   "outputs": [
    {
     "data": {
      "application/vnd.plotly.v1+json": {
       "config": {
        "plotlyServerURL": "https://plot.ly"
       },
       "data": [
        {
         "cliponaxis": false,
         "marker": {
          "color": "#4C72B0",
          "line": {
           "color": "black",
           "width": 1.5
          }
         },
         "name": "GPT-4o",
         "opacity": 0.8,
         "text": [
          "60%",
          "80%",
          "80%"
         ],
         "textfont": {
          "size": 12
         },
         "textposition": "outside",
         "type": "bar",
         "x": [
          "P1 — Cabin Luggage",
          "P2 — Packing Cubes",
          "P3 — Water Bottle"
         ],
         "y": [
          60,
          80,
          80
         ]
        },
        {
         "cliponaxis": false,
         "marker": {
          "color": "#1F77B4",
          "line": {
           "color": "black",
           "width": 1.5
          }
         },
         "name": "GPT-5-latest",
         "opacity": 0.8,
         "text": [
          "60%",
          "80%",
          "80%"
         ],
         "textfont": {
          "size": 12
         },
         "textposition": "outside",
         "type": "bar",
         "x": [
          "P1 — Cabin Luggage",
          "P2 — Packing Cubes",
          "P3 — Water Bottle"
         ],
         "y": [
          60,
          80,
          80
         ]
        },
        {
         "cliponaxis": false,
         "marker": {
          "color": "#D17ACD",
          "line": {
           "color": "black",
           "width": 1.5
          }
         },
         "name": "Gemini-1.5 Flash",
         "opacity": 0.8,
         "text": [
          "80%",
          "80%",
          "60%"
         ],
         "textfont": {
          "size": 12
         },
         "textposition": "outside",
         "type": "bar",
         "x": [
          "P1 — Cabin Luggage",
          "P2 — Packing Cubes",
          "P3 — Water Bottle"
         ],
         "y": [
          80,
          80,
          60
         ]
        },
        {
         "cliponaxis": false,
         "marker": {
          "color": "#A64CA6",
          "line": {
           "color": "black",
           "width": 1.5
          }
         },
         "name": "Gemini-2.0 Flash",
         "opacity": 0.8,
         "text": [
          "60%",
          "80%",
          "80%"
         ],
         "textfont": {
          "size": 12
         },
         "textposition": "outside",
         "type": "bar",
         "x": [
          "P1 — Cabin Luggage",
          "P2 — Packing Cubes",
          "P3 — Water Bottle"
         ],
         "y": [
          60,
          80,
          80
         ]
        }
       ],
       "layout": {
        "annotations": [
         {
          "showarrow": false,
          "text": "Human baseline (perfect agreement) = 100%",
          "x": 0,
          "xanchor": "left",
          "xref": "x domain",
          "y": 100,
          "yanchor": "bottom",
          "yref": "y"
         },
         {
          "align": "left",
          "font": {
           "color": "black",
           "size": 12
          },
          "showarrow": false,
          "text": "Note: Bars show the proportion of identical rating categories between humans and synthetic twins. Categories are derived by mean ratings on a 5-point<br>Likert scale. For example, Human Mean = 3.45 is Category 3 and Synthetic Twins Mean (GPT-4o) = 3.40 is Category 3 (same category, agreement),<br>whereas Human Mean = 3.45 is Category 3 and Synthetic Twins Mean (Gemini-1.5 Flash) = 3.60 is Category 4 (different categories, no agreement).",
          "x": 0.48,
          "xanchor": "center",
          "xref": "paper",
          "y": -0.2,
          "yanchor": "top",
          "yref": "paper"
         }
        ],
        "bargap": 0.35,
        "barmode": "group",
        "height": 550,
        "legend": {
         "orientation": "h",
         "x": 0,
         "xanchor": "left",
         "y": 1.04,
         "yanchor": "bottom"
        },
        "margin": {
         "b": 130,
         "l": 70,
         "r": 40,
         "t": 90
        },
        "paper_bgcolor": "white",
        "plot_bgcolor": "white",
        "shapes": [
         {
          "line": {
           "color": "black",
           "dash": "solid"
          },
          "type": "line",
          "x0": 0,
          "x1": 1,
          "xref": "x domain",
          "y0": 100,
          "y1": 100,
          "yref": "y"
         }
        ],
        "template": {
         "data": {
          "bar": [
           {
            "error_x": {
             "color": "#2a3f5f"
            },
            "error_y": {
             "color": "#2a3f5f"
            },
            "marker": {
             "line": {
              "color": "#E5ECF6",
              "width": 0.5
             },
             "pattern": {
              "fillmode": "overlay",
              "size": 10,
              "solidity": 0.2
             }
            },
            "type": "bar"
           }
          ],
          "barpolar": [
           {
            "marker": {
             "line": {
              "color": "#E5ECF6",
              "width": 0.5
             },
             "pattern": {
              "fillmode": "overlay",
              "size": 10,
              "solidity": 0.2
             }
            },
            "type": "barpolar"
           }
          ],
          "carpet": [
           {
            "aaxis": {
             "endlinecolor": "#2a3f5f",
             "gridcolor": "white",
             "linecolor": "white",
             "minorgridcolor": "white",
             "startlinecolor": "#2a3f5f"
            },
            "baxis": {
             "endlinecolor": "#2a3f5f",
             "gridcolor": "white",
             "linecolor": "white",
             "minorgridcolor": "white",
             "startlinecolor": "#2a3f5f"
            },
            "type": "carpet"
           }
          ],
          "choropleth": [
           {
            "colorbar": {
             "outlinewidth": 0,
             "ticks": ""
            },
            "type": "choropleth"
           }
          ],
          "contour": [
           {
            "colorbar": {
             "outlinewidth": 0,
             "ticks": ""
            },
            "colorscale": [
             [
              0,
              "#0d0887"
             ],
             [
              0.1111111111111111,
              "#46039f"
             ],
             [
              0.2222222222222222,
              "#7201a8"
             ],
             [
              0.3333333333333333,
              "#9c179e"
             ],
             [
              0.4444444444444444,
              "#bd3786"
             ],
             [
              0.5555555555555556,
              "#d8576b"
             ],
             [
              0.6666666666666666,
              "#ed7953"
             ],
             [
              0.7777777777777778,
              "#fb9f3a"
             ],
             [
              0.8888888888888888,
              "#fdca26"
             ],
             [
              1,
              "#f0f921"
             ]
            ],
            "type": "contour"
           }
          ],
          "contourcarpet": [
           {
            "colorbar": {
             "outlinewidth": 0,
             "ticks": ""
            },
            "type": "contourcarpet"
           }
          ],
          "heatmap": [
           {
            "colorbar": {
             "outlinewidth": 0,
             "ticks": ""
            },
            "colorscale": [
             [
              0,
              "#0d0887"
             ],
             [
              0.1111111111111111,
              "#46039f"
             ],
             [
              0.2222222222222222,
              "#7201a8"
             ],
             [
              0.3333333333333333,
              "#9c179e"
             ],
             [
              0.4444444444444444,
              "#bd3786"
             ],
             [
              0.5555555555555556,
              "#d8576b"
             ],
             [
              0.6666666666666666,
              "#ed7953"
             ],
             [
              0.7777777777777778,
              "#fb9f3a"
             ],
             [
              0.8888888888888888,
              "#fdca26"
             ],
             [
              1,
              "#f0f921"
             ]
            ],
            "type": "heatmap"
           }
          ],
          "histogram": [
           {
            "marker": {
             "pattern": {
              "fillmode": "overlay",
              "size": 10,
              "solidity": 0.2
             }
            },
            "type": "histogram"
           }
          ],
          "histogram2d": [
           {
            "colorbar": {
             "outlinewidth": 0,
             "ticks": ""
            },
            "colorscale": [
             [
              0,
              "#0d0887"
             ],
             [
              0.1111111111111111,
              "#46039f"
             ],
             [
              0.2222222222222222,
              "#7201a8"
             ],
             [
              0.3333333333333333,
              "#9c179e"
             ],
             [
              0.4444444444444444,
              "#bd3786"
             ],
             [
              0.5555555555555556,
              "#d8576b"
             ],
             [
              0.6666666666666666,
              "#ed7953"
             ],
             [
              0.7777777777777778,
              "#fb9f3a"
             ],
             [
              0.8888888888888888,
              "#fdca26"
             ],
             [
              1,
              "#f0f921"
             ]
            ],
            "type": "histogram2d"
           }
          ],
          "histogram2dcontour": [
           {
            "colorbar": {
             "outlinewidth": 0,
             "ticks": ""
            },
            "colorscale": [
             [
              0,
              "#0d0887"
             ],
             [
              0.1111111111111111,
              "#46039f"
             ],
             [
              0.2222222222222222,
              "#7201a8"
             ],
             [
              0.3333333333333333,
              "#9c179e"
             ],
             [
              0.4444444444444444,
              "#bd3786"
             ],
             [
              0.5555555555555556,
              "#d8576b"
             ],
             [
              0.6666666666666666,
              "#ed7953"
             ],
             [
              0.7777777777777778,
              "#fb9f3a"
             ],
             [
              0.8888888888888888,
              "#fdca26"
             ],
             [
              1,
              "#f0f921"
             ]
            ],
            "type": "histogram2dcontour"
           }
          ],
          "mesh3d": [
           {
            "colorbar": {
             "outlinewidth": 0,
             "ticks": ""
            },
            "type": "mesh3d"
           }
          ],
          "parcoords": [
           {
            "line": {
             "colorbar": {
              "outlinewidth": 0,
              "ticks": ""
             }
            },
            "type": "parcoords"
           }
          ],
          "pie": [
           {
            "automargin": true,
            "type": "pie"
           }
          ],
          "scatter": [
           {
            "fillpattern": {
             "fillmode": "overlay",
             "size": 10,
             "solidity": 0.2
            },
            "type": "scatter"
           }
          ],
          "scatter3d": [
           {
            "line": {
             "colorbar": {
              "outlinewidth": 0,
              "ticks": ""
             }
            },
            "marker": {
             "colorbar": {
              "outlinewidth": 0,
              "ticks": ""
             }
            },
            "type": "scatter3d"
           }
          ],
          "scattercarpet": [
           {
            "marker": {
             "colorbar": {
              "outlinewidth": 0,
              "ticks": ""
             }
            },
            "type": "scattercarpet"
           }
          ],
          "scattergeo": [
           {
            "marker": {
             "colorbar": {
              "outlinewidth": 0,
              "ticks": ""
             }
            },
            "type": "scattergeo"
           }
          ],
          "scattergl": [
           {
            "marker": {
             "colorbar": {
              "outlinewidth": 0,
              "ticks": ""
             }
            },
            "type": "scattergl"
           }
          ],
          "scattermap": [
           {
            "marker": {
             "colorbar": {
              "outlinewidth": 0,
              "ticks": ""
             }
            },
            "type": "scattermap"
           }
          ],
          "scattermapbox": [
           {
            "marker": {
             "colorbar": {
              "outlinewidth": 0,
              "ticks": ""
             }
            },
            "type": "scattermapbox"
           }
          ],
          "scatterpolar": [
           {
            "marker": {
             "colorbar": {
              "outlinewidth": 0,
              "ticks": ""
             }
            },
            "type": "scatterpolar"
           }
          ],
          "scatterpolargl": [
           {
            "marker": {
             "colorbar": {
              "outlinewidth": 0,
              "ticks": ""
             }
            },
            "type": "scatterpolargl"
           }
          ],
          "scatterternary": [
           {
            "marker": {
             "colorbar": {
              "outlinewidth": 0,
              "ticks": ""
             }
            },
            "type": "scatterternary"
           }
          ],
          "surface": [
           {
            "colorbar": {
             "outlinewidth": 0,
             "ticks": ""
            },
            "colorscale": [
             [
              0,
              "#0d0887"
             ],
             [
              0.1111111111111111,
              "#46039f"
             ],
             [
              0.2222222222222222,
              "#7201a8"
             ],
             [
              0.3333333333333333,
              "#9c179e"
             ],
             [
              0.4444444444444444,
              "#bd3786"
             ],
             [
              0.5555555555555556,
              "#d8576b"
             ],
             [
              0.6666666666666666,
              "#ed7953"
             ],
             [
              0.7777777777777778,
              "#fb9f3a"
             ],
             [
              0.8888888888888888,
              "#fdca26"
             ],
             [
              1,
              "#f0f921"
             ]
            ],
            "type": "surface"
           }
          ],
          "table": [
           {
            "cells": {
             "fill": {
              "color": "#EBF0F8"
             },
             "line": {
              "color": "white"
             }
            },
            "header": {
             "fill": {
              "color": "#C8D4E3"
             },
             "line": {
              "color": "white"
             }
            },
            "type": "table"
           }
          ]
         },
         "layout": {
          "annotationdefaults": {
           "arrowcolor": "#2a3f5f",
           "arrowhead": 0,
           "arrowwidth": 1
          },
          "autotypenumbers": "strict",
          "coloraxis": {
           "colorbar": {
            "outlinewidth": 0,
            "ticks": ""
           }
          },
          "colorscale": {
           "diverging": [
            [
             0,
             "#8e0152"
            ],
            [
             0.1,
             "#c51b7d"
            ],
            [
             0.2,
             "#de77ae"
            ],
            [
             0.3,
             "#f1b6da"
            ],
            [
             0.4,
             "#fde0ef"
            ],
            [
             0.5,
             "#f7f7f7"
            ],
            [
             0.6,
             "#e6f5d0"
            ],
            [
             0.7,
             "#b8e186"
            ],
            [
             0.8,
             "#7fbc41"
            ],
            [
             0.9,
             "#4d9221"
            ],
            [
             1,
             "#276419"
            ]
           ],
           "sequential": [
            [
             0,
             "#0d0887"
            ],
            [
             0.1111111111111111,
             "#46039f"
            ],
            [
             0.2222222222222222,
             "#7201a8"
            ],
            [
             0.3333333333333333,
             "#9c179e"
            ],
            [
             0.4444444444444444,
             "#bd3786"
            ],
            [
             0.5555555555555556,
             "#d8576b"
            ],
            [
             0.6666666666666666,
             "#ed7953"
            ],
            [
             0.7777777777777778,
             "#fb9f3a"
            ],
            [
             0.8888888888888888,
             "#fdca26"
            ],
            [
             1,
             "#f0f921"
            ]
           ],
           "sequentialminus": [
            [
             0,
             "#0d0887"
            ],
            [
             0.1111111111111111,
             "#46039f"
            ],
            [
             0.2222222222222222,
             "#7201a8"
            ],
            [
             0.3333333333333333,
             "#9c179e"
            ],
            [
             0.4444444444444444,
             "#bd3786"
            ],
            [
             0.5555555555555556,
             "#d8576b"
            ],
            [
             0.6666666666666666,
             "#ed7953"
            ],
            [
             0.7777777777777778,
             "#fb9f3a"
            ],
            [
             0.8888888888888888,
             "#fdca26"
            ],
            [
             1,
             "#f0f921"
            ]
           ]
          },
          "colorway": [
           "#636efa",
           "#EF553B",
           "#00cc96",
           "#ab63fa",
           "#FFA15A",
           "#19d3f3",
           "#FF6692",
           "#B6E880",
           "#FF97FF",
           "#FECB52"
          ],
          "font": {
           "color": "#2a3f5f"
          },
          "geo": {
           "bgcolor": "white",
           "lakecolor": "white",
           "landcolor": "#E5ECF6",
           "showlakes": true,
           "showland": true,
           "subunitcolor": "white"
          },
          "hoverlabel": {
           "align": "left"
          },
          "hovermode": "closest",
          "mapbox": {
           "style": "light"
          },
          "paper_bgcolor": "white",
          "plot_bgcolor": "#E5ECF6",
          "polar": {
           "angularaxis": {
            "gridcolor": "white",
            "linecolor": "white",
            "ticks": ""
           },
           "bgcolor": "#E5ECF6",
           "radialaxis": {
            "gridcolor": "white",
            "linecolor": "white",
            "ticks": ""
           }
          },
          "scene": {
           "xaxis": {
            "backgroundcolor": "#E5ECF6",
            "gridcolor": "white",
            "gridwidth": 2,
            "linecolor": "white",
            "showbackground": true,
            "ticks": "",
            "zerolinecolor": "white"
           },
           "yaxis": {
            "backgroundcolor": "#E5ECF6",
            "gridcolor": "white",
            "gridwidth": 2,
            "linecolor": "white",
            "showbackground": true,
            "ticks": "",
            "zerolinecolor": "white"
           },
           "zaxis": {
            "backgroundcolor": "#E5ECF6",
            "gridcolor": "white",
            "gridwidth": 2,
            "linecolor": "white",
            "showbackground": true,
            "ticks": "",
            "zerolinecolor": "white"
           }
          },
          "shapedefaults": {
           "line": {
            "color": "#2a3f5f"
           }
          },
          "ternary": {
           "aaxis": {
            "gridcolor": "white",
            "linecolor": "white",
            "ticks": ""
           },
           "baxis": {
            "gridcolor": "white",
            "linecolor": "white",
            "ticks": ""
           },
           "bgcolor": "#E5ECF6",
           "caxis": {
            "gridcolor": "white",
            "linecolor": "white",
            "ticks": ""
           }
          },
          "title": {
           "x": 0.05
          },
          "xaxis": {
           "automargin": true,
           "gridcolor": "white",
           "linecolor": "white",
           "ticks": "",
           "title": {
            "standoff": 15
           },
           "zerolinecolor": "white",
           "zerolinewidth": 2
          },
          "yaxis": {
           "automargin": true,
           "gridcolor": "white",
           "linecolor": "white",
           "ticks": "",
           "title": {
            "standoff": 15
           },
           "zerolinecolor": "white",
           "zerolinewidth": 2
          }
         }
        },
        "width": 950,
        "xaxis": {
         "linecolor": "black",
         "linewidth": 1,
         "mirror": true,
         "showline": true,
         "title": {
          "text": "Product"
         }
        },
        "yaxis": {
         "gridcolor": "lightgrey",
         "linecolor": "black",
         "linewidth": 1,
         "mirror": true,
         "range": [
          0,
          105
         ],
         "showline": true,
         "title": {
          "text": "% Same Category"
         }
        }
       }
      }
     },
     "metadata": {},
     "output_type": "display_data"
    }
   ],
   "source": [
    "import plotly.graph_objects as go\n",
    "\n",
    "PRODUCTS = [\"P1 — Cabin Luggage\", \"P2 — Packing Cubes\", \"P3 — Water Bottle\"]\n",
    "\n",
    "# GPT\n",
    "gpt4o_same_cat = [60.0, 80.0, 80.0]\n",
    "gpt5_latest_same_cat = [60.0, 80.0, 80.0]\n",
    "\n",
    "# Gemini\n",
    "gemini_1_5_flash_same_cat = [80.0, 80.0, 60.0]\n",
    "gemini_2_0_flash_same_cat = [60.0, 80.0, 80.0]\n",
    "\n",
    "human_baseline_top = 100.0\n",
    "\n",
    "fig = go.Figure()\n",
    "\n",
    "# GPT-4o bars\n",
    "fig.add_trace(go.Bar(\n",
    "    x=PRODUCTS,\n",
    "    y=gpt4o_same_cat,\n",
    "    name=\"GPT-4o\",\n",
    "    text=[f\"{v:.0f}%\" for v in gpt4o_same_cat],\n",
    "    textposition=\"outside\",\n",
    "    marker=dict(line=dict(color=\"black\", width=1.5), color=\"#4C72B0\"),\n",
    "    opacity=0.8,\n",
    "    textfont=dict(size=12)\n",
    "))\n",
    "\n",
    "# GPT-5-latest bars\n",
    "fig.add_trace(go.Bar(\n",
    "    x=PRODUCTS,\n",
    "    y=gpt5_latest_same_cat,\n",
    "    name=\"GPT-5-latest\",\n",
    "    text=[f\"{v:.0f}%\" for v in gpt5_latest_same_cat],\n",
    "    textposition=\"outside\",\n",
    "    marker=dict(line=dict(color=\"black\", width=1.5), color=\"#1F77B4\"),\n",
    "    opacity=0.8,\n",
    "    textfont=dict(size=12)\n",
    "))\n",
    "\n",
    "# Gemini 1.5 Flash bars\n",
    "fig.add_trace(go.Bar(\n",
    "    x=PRODUCTS,\n",
    "    y=gemini_1_5_flash_same_cat,\n",
    "    name=\"Gemini-1.5 Flash\",\n",
    "    text=[f\"{v:.0f}%\" for v in gemini_1_5_flash_same_cat],\n",
    "    textposition=\"outside\",\n",
    "    marker=dict(line=dict(color=\"black\", width=1.5), color=\"#D17ACD\"),\n",
    "    opacity=0.8,\n",
    "    textfont=dict(size=12)\n",
    "))\n",
    "\n",
    "# Gemini 2.0 Flashbars\n",
    "fig.add_trace(go.Bar(\n",
    "    x=PRODUCTS,\n",
    "    y=gemini_2_0_flash_same_cat,\n",
    "    name=\"Gemini-2.0 Flash\",\n",
    "    text=[f\"{v:.0f}%\" for v in gemini_2_0_flash_same_cat],\n",
    "    textposition=\"outside\",\n",
    "    marker=dict(line=dict(color=\"black\", width=1.5), color=\"#A64CA6\"),\n",
    "    opacity=0.8,\n",
    "    textfont=dict(size=12)\n",
    "))\n",
    "\n",
    "# Keep outside texts from being clipped\n",
    "fig.update_traces(cliponaxis=False)\n",
    "\n",
    "# Human baseline (100% perfect agreement)\n",
    "fig.add_hline(\n",
    "    y=human_baseline_top, \n",
    "    line_dash=\"solid\", \n",
    "    line_color=\"black\",\n",
    "    annotation_text=\"Human baseline (perfect agreement) = 100%\",\n",
    "    annotation_position=\"top left\",\n",
    ")\n",
    "\n",
    "# Layout\n",
    "fig.update_layout(\n",
    "    xaxis_title=\"Product\",\n",
    "    yaxis_title=\"% Same Category\",\n",
    "    yaxis_range=[0, 105],\n",
    "    bargap=0.35,\n",
    "    barmode=\"group\",\n",
    "    plot_bgcolor=\"white\",\n",
    "    paper_bgcolor=\"white\",\n",
    "    xaxis=dict(showline=True, linewidth=1, linecolor=\"black\", mirror=True),\n",
    "    yaxis=dict(showline=True, linewidth=1, linecolor=\"black\", mirror=True, gridcolor=\"lightgrey\"),\n",
    "    height=550,\n",
    "    width=950,\n",
    "    # More breathing room for top labels and bottom footnote\n",
    "    margin=dict(l=70, r=40, t=90, b=130),\n",
    "    legend=dict(orientation=\"h\", yanchor=\"bottom\", y=1.04, xanchor=\"left\", x=0)\n",
    ")\n",
    "\n",
    "# Footnote — move slightly up and rely on extra bottom margin\n",
    "fig.add_annotation(\n",
    "    text=(\n",
    "        \"Note: Bars show the proportion of identical rating categories between humans and synthetic twins. Categories are derived by mean ratings on a 5-point<br>\"\n",
    "        \"Likert scale. For example, Human Mean = 3.45 is Category 3 and Synthetic Twins Mean (GPT-4o) = 3.40 is Category 3 (same category, agreement),<br>\"\n",
    "        \"whereas Human Mean = 3.45 is Category 3 and Synthetic Twins Mean (Gemini-1.5 Flash) = 3.60 is Category 4 (different categories, no agreement).\"\n",
    "    ),\n",
    "\n",
    "    xref=\"paper\", yref=\"paper\",\n",
    "    x=0.48, y=-0.20,\n",
    "    showarrow=False,\n",
    "    font=dict(size=12, color=\"black\"),\n",
    "    align=\"left\",\n",
    "    xanchor=\"center\",\n",
    "    yanchor=\"top\"\n",
    ")\n",
    "\n",
    "fig\n"
   ]
  },
  {
   "cell_type": "code",
   "execution_count": 340,
   "id": "95c5a696",
   "metadata": {},
   "outputs": [
    {
     "data": {
      "application/vnd.plotly.v1+json": {
       "config": {
        "plotlyServerURL": "https://plot.ly"
       },
       "data": [
        {
         "cliponaxis": false,
         "marker": {
          "color": "#4C72B0",
          "line": {
           "color": "black",
           "width": 1.5
          }
         },
         "name": "GPT-4o",
         "opacity": 0.8,
         "text": [
          "r=0.87",
          "r=0.88",
          "r=0.83"
         ],
         "textfont": {
          "size": 12
         },
         "textposition": "outside",
         "type": "bar",
         "x": [
          "P1 — Cabin Luggage",
          "P2 — Packing Cubes",
          "P3 — Water Bottle"
         ],
         "y": [
          0.87,
          0.88,
          0.83
         ]
        },
        {
         "cliponaxis": false,
         "marker": {
          "color": "#1F77B4",
          "line": {
           "color": "black",
           "width": 1.5
          }
         },
         "name": "GPT-5-latest",
         "opacity": 0.8,
         "text": [
          "r=0.86",
          "r=0.91",
          "r=0.87"
         ],
         "textfont": {
          "size": 12
         },
         "textposition": "outside",
         "type": "bar",
         "x": [
          "P1 — Cabin Luggage",
          "P2 — Packing Cubes",
          "P3 — Water Bottle"
         ],
         "y": [
          0.86,
          0.91,
          0.87
         ]
        },
        {
         "cliponaxis": false,
         "marker": {
          "color": "#D17ACD",
          "line": {
           "color": "black",
           "width": 1.5
          }
         },
         "name": "Gemini-1.5 Flash",
         "opacity": 0.8,
         "text": [
          "r=0.81",
          "r=0.84",
          "r=0.81"
         ],
         "textfont": {
          "size": 12
         },
         "textposition": "outside",
         "type": "bar",
         "x": [
          "P1 — Cabin Luggage",
          "P2 — Packing Cubes",
          "P3 — Water Bottle"
         ],
         "y": [
          0.81,
          0.84,
          0.81
         ]
        },
        {
         "cliponaxis": false,
         "marker": {
          "color": "#A64CA6",
          "line": {
           "color": "black",
           "width": 1.5
          }
         },
         "name": "Gemini-2.0 Flash",
         "opacity": 0.8,
         "text": [
          "r=0.88",
          "r=0.88",
          "r=0.87"
         ],
         "textfont": {
          "size": 12
         },
         "textposition": "outside",
         "type": "bar",
         "x": [
          "P1 — Cabin Luggage",
          "P2 — Packing Cubes",
          "P3 — Water Bottle"
         ],
         "y": [
          0.88,
          0.88,
          0.87
         ]
        }
       ],
       "layout": {
        "annotations": [
         {
          "showarrow": false,
          "text": "Human baseline (perfect agreement) = 1.00",
          "x": 0,
          "xanchor": "left",
          "xref": "x domain",
          "y": 1,
          "yanchor": "bottom",
          "yref": "y"
         },
         {
          "align": "left",
          "font": {
           "color": "black",
           "size": 12
          },
          "showarrow": false,
          "text": "Note: Bars show Pearson correlations between human and synthetic twins’ mean ratings across the five personality traits <br>for each product. A correlation of r = 1.00 indicates perfect alignment with human ratings (i.e., identical relative patterns across traits),<br>whereas r = 0 indicates no alignment.",
          "x": 0.48,
          "xanchor": "center",
          "xref": "paper",
          "y": -0.2,
          "yanchor": "top",
          "yref": "paper"
         }
        ],
        "bargap": 0.35,
        "barmode": "group",
        "height": 550,
        "legend": {
         "orientation": "h",
         "x": 0,
         "xanchor": "left",
         "y": 1.04,
         "yanchor": "bottom"
        },
        "margin": {
         "b": 130,
         "l": 70,
         "r": 40,
         "t": 90
        },
        "paper_bgcolor": "white",
        "plot_bgcolor": "white",
        "shapes": [
         {
          "line": {
           "color": "black",
           "dash": "solid"
          },
          "type": "line",
          "x0": 0,
          "x1": 1,
          "xref": "x domain",
          "y0": 1,
          "y1": 1,
          "yref": "y"
         }
        ],
        "template": {
         "data": {
          "bar": [
           {
            "error_x": {
             "color": "#2a3f5f"
            },
            "error_y": {
             "color": "#2a3f5f"
            },
            "marker": {
             "line": {
              "color": "#E5ECF6",
              "width": 0.5
             },
             "pattern": {
              "fillmode": "overlay",
              "size": 10,
              "solidity": 0.2
             }
            },
            "type": "bar"
           }
          ],
          "barpolar": [
           {
            "marker": {
             "line": {
              "color": "#E5ECF6",
              "width": 0.5
             },
             "pattern": {
              "fillmode": "overlay",
              "size": 10,
              "solidity": 0.2
             }
            },
            "type": "barpolar"
           }
          ],
          "carpet": [
           {
            "aaxis": {
             "endlinecolor": "#2a3f5f",
             "gridcolor": "white",
             "linecolor": "white",
             "minorgridcolor": "white",
             "startlinecolor": "#2a3f5f"
            },
            "baxis": {
             "endlinecolor": "#2a3f5f",
             "gridcolor": "white",
             "linecolor": "white",
             "minorgridcolor": "white",
             "startlinecolor": "#2a3f5f"
            },
            "type": "carpet"
           }
          ],
          "choropleth": [
           {
            "colorbar": {
             "outlinewidth": 0,
             "ticks": ""
            },
            "type": "choropleth"
           }
          ],
          "contour": [
           {
            "colorbar": {
             "outlinewidth": 0,
             "ticks": ""
            },
            "colorscale": [
             [
              0,
              "#0d0887"
             ],
             [
              0.1111111111111111,
              "#46039f"
             ],
             [
              0.2222222222222222,
              "#7201a8"
             ],
             [
              0.3333333333333333,
              "#9c179e"
             ],
             [
              0.4444444444444444,
              "#bd3786"
             ],
             [
              0.5555555555555556,
              "#d8576b"
             ],
             [
              0.6666666666666666,
              "#ed7953"
             ],
             [
              0.7777777777777778,
              "#fb9f3a"
             ],
             [
              0.8888888888888888,
              "#fdca26"
             ],
             [
              1,
              "#f0f921"
             ]
            ],
            "type": "contour"
           }
          ],
          "contourcarpet": [
           {
            "colorbar": {
             "outlinewidth": 0,
             "ticks": ""
            },
            "type": "contourcarpet"
           }
          ],
          "heatmap": [
           {
            "colorbar": {
             "outlinewidth": 0,
             "ticks": ""
            },
            "colorscale": [
             [
              0,
              "#0d0887"
             ],
             [
              0.1111111111111111,
              "#46039f"
             ],
             [
              0.2222222222222222,
              "#7201a8"
             ],
             [
              0.3333333333333333,
              "#9c179e"
             ],
             [
              0.4444444444444444,
              "#bd3786"
             ],
             [
              0.5555555555555556,
              "#d8576b"
             ],
             [
              0.6666666666666666,
              "#ed7953"
             ],
             [
              0.7777777777777778,
              "#fb9f3a"
             ],
             [
              0.8888888888888888,
              "#fdca26"
             ],
             [
              1,
              "#f0f921"
             ]
            ],
            "type": "heatmap"
           }
          ],
          "histogram": [
           {
            "marker": {
             "pattern": {
              "fillmode": "overlay",
              "size": 10,
              "solidity": 0.2
             }
            },
            "type": "histogram"
           }
          ],
          "histogram2d": [
           {
            "colorbar": {
             "outlinewidth": 0,
             "ticks": ""
            },
            "colorscale": [
             [
              0,
              "#0d0887"
             ],
             [
              0.1111111111111111,
              "#46039f"
             ],
             [
              0.2222222222222222,
              "#7201a8"
             ],
             [
              0.3333333333333333,
              "#9c179e"
             ],
             [
              0.4444444444444444,
              "#bd3786"
             ],
             [
              0.5555555555555556,
              "#d8576b"
             ],
             [
              0.6666666666666666,
              "#ed7953"
             ],
             [
              0.7777777777777778,
              "#fb9f3a"
             ],
             [
              0.8888888888888888,
              "#fdca26"
             ],
             [
              1,
              "#f0f921"
             ]
            ],
            "type": "histogram2d"
           }
          ],
          "histogram2dcontour": [
           {
            "colorbar": {
             "outlinewidth": 0,
             "ticks": ""
            },
            "colorscale": [
             [
              0,
              "#0d0887"
             ],
             [
              0.1111111111111111,
              "#46039f"
             ],
             [
              0.2222222222222222,
              "#7201a8"
             ],
             [
              0.3333333333333333,
              "#9c179e"
             ],
             [
              0.4444444444444444,
              "#bd3786"
             ],
             [
              0.5555555555555556,
              "#d8576b"
             ],
             [
              0.6666666666666666,
              "#ed7953"
             ],
             [
              0.7777777777777778,
              "#fb9f3a"
             ],
             [
              0.8888888888888888,
              "#fdca26"
             ],
             [
              1,
              "#f0f921"
             ]
            ],
            "type": "histogram2dcontour"
           }
          ],
          "mesh3d": [
           {
            "colorbar": {
             "outlinewidth": 0,
             "ticks": ""
            },
            "type": "mesh3d"
           }
          ],
          "parcoords": [
           {
            "line": {
             "colorbar": {
              "outlinewidth": 0,
              "ticks": ""
             }
            },
            "type": "parcoords"
           }
          ],
          "pie": [
           {
            "automargin": true,
            "type": "pie"
           }
          ],
          "scatter": [
           {
            "fillpattern": {
             "fillmode": "overlay",
             "size": 10,
             "solidity": 0.2
            },
            "type": "scatter"
           }
          ],
          "scatter3d": [
           {
            "line": {
             "colorbar": {
              "outlinewidth": 0,
              "ticks": ""
             }
            },
            "marker": {
             "colorbar": {
              "outlinewidth": 0,
              "ticks": ""
             }
            },
            "type": "scatter3d"
           }
          ],
          "scattercarpet": [
           {
            "marker": {
             "colorbar": {
              "outlinewidth": 0,
              "ticks": ""
             }
            },
            "type": "scattercarpet"
           }
          ],
          "scattergeo": [
           {
            "marker": {
             "colorbar": {
              "outlinewidth": 0,
              "ticks": ""
             }
            },
            "type": "scattergeo"
           }
          ],
          "scattergl": [
           {
            "marker": {
             "colorbar": {
              "outlinewidth": 0,
              "ticks": ""
             }
            },
            "type": "scattergl"
           }
          ],
          "scattermap": [
           {
            "marker": {
             "colorbar": {
              "outlinewidth": 0,
              "ticks": ""
             }
            },
            "type": "scattermap"
           }
          ],
          "scattermapbox": [
           {
            "marker": {
             "colorbar": {
              "outlinewidth": 0,
              "ticks": ""
             }
            },
            "type": "scattermapbox"
           }
          ],
          "scatterpolar": [
           {
            "marker": {
             "colorbar": {
              "outlinewidth": 0,
              "ticks": ""
             }
            },
            "type": "scatterpolar"
           }
          ],
          "scatterpolargl": [
           {
            "marker": {
             "colorbar": {
              "outlinewidth": 0,
              "ticks": ""
             }
            },
            "type": "scatterpolargl"
           }
          ],
          "scatterternary": [
           {
            "marker": {
             "colorbar": {
              "outlinewidth": 0,
              "ticks": ""
             }
            },
            "type": "scatterternary"
           }
          ],
          "surface": [
           {
            "colorbar": {
             "outlinewidth": 0,
             "ticks": ""
            },
            "colorscale": [
             [
              0,
              "#0d0887"
             ],
             [
              0.1111111111111111,
              "#46039f"
             ],
             [
              0.2222222222222222,
              "#7201a8"
             ],
             [
              0.3333333333333333,
              "#9c179e"
             ],
             [
              0.4444444444444444,
              "#bd3786"
             ],
             [
              0.5555555555555556,
              "#d8576b"
             ],
             [
              0.6666666666666666,
              "#ed7953"
             ],
             [
              0.7777777777777778,
              "#fb9f3a"
             ],
             [
              0.8888888888888888,
              "#fdca26"
             ],
             [
              1,
              "#f0f921"
             ]
            ],
            "type": "surface"
           }
          ],
          "table": [
           {
            "cells": {
             "fill": {
              "color": "#EBF0F8"
             },
             "line": {
              "color": "white"
             }
            },
            "header": {
             "fill": {
              "color": "#C8D4E3"
             },
             "line": {
              "color": "white"
             }
            },
            "type": "table"
           }
          ]
         },
         "layout": {
          "annotationdefaults": {
           "arrowcolor": "#2a3f5f",
           "arrowhead": 0,
           "arrowwidth": 1
          },
          "autotypenumbers": "strict",
          "coloraxis": {
           "colorbar": {
            "outlinewidth": 0,
            "ticks": ""
           }
          },
          "colorscale": {
           "diverging": [
            [
             0,
             "#8e0152"
            ],
            [
             0.1,
             "#c51b7d"
            ],
            [
             0.2,
             "#de77ae"
            ],
            [
             0.3,
             "#f1b6da"
            ],
            [
             0.4,
             "#fde0ef"
            ],
            [
             0.5,
             "#f7f7f7"
            ],
            [
             0.6,
             "#e6f5d0"
            ],
            [
             0.7,
             "#b8e186"
            ],
            [
             0.8,
             "#7fbc41"
            ],
            [
             0.9,
             "#4d9221"
            ],
            [
             1,
             "#276419"
            ]
           ],
           "sequential": [
            [
             0,
             "#0d0887"
            ],
            [
             0.1111111111111111,
             "#46039f"
            ],
            [
             0.2222222222222222,
             "#7201a8"
            ],
            [
             0.3333333333333333,
             "#9c179e"
            ],
            [
             0.4444444444444444,
             "#bd3786"
            ],
            [
             0.5555555555555556,
             "#d8576b"
            ],
            [
             0.6666666666666666,
             "#ed7953"
            ],
            [
             0.7777777777777778,
             "#fb9f3a"
            ],
            [
             0.8888888888888888,
             "#fdca26"
            ],
            [
             1,
             "#f0f921"
            ]
           ],
           "sequentialminus": [
            [
             0,
             "#0d0887"
            ],
            [
             0.1111111111111111,
             "#46039f"
            ],
            [
             0.2222222222222222,
             "#7201a8"
            ],
            [
             0.3333333333333333,
             "#9c179e"
            ],
            [
             0.4444444444444444,
             "#bd3786"
            ],
            [
             0.5555555555555556,
             "#d8576b"
            ],
            [
             0.6666666666666666,
             "#ed7953"
            ],
            [
             0.7777777777777778,
             "#fb9f3a"
            ],
            [
             0.8888888888888888,
             "#fdca26"
            ],
            [
             1,
             "#f0f921"
            ]
           ]
          },
          "colorway": [
           "#636efa",
           "#EF553B",
           "#00cc96",
           "#ab63fa",
           "#FFA15A",
           "#19d3f3",
           "#FF6692",
           "#B6E880",
           "#FF97FF",
           "#FECB52"
          ],
          "font": {
           "color": "#2a3f5f"
          },
          "geo": {
           "bgcolor": "white",
           "lakecolor": "white",
           "landcolor": "#E5ECF6",
           "showlakes": true,
           "showland": true,
           "subunitcolor": "white"
          },
          "hoverlabel": {
           "align": "left"
          },
          "hovermode": "closest",
          "mapbox": {
           "style": "light"
          },
          "paper_bgcolor": "white",
          "plot_bgcolor": "#E5ECF6",
          "polar": {
           "angularaxis": {
            "gridcolor": "white",
            "linecolor": "white",
            "ticks": ""
           },
           "bgcolor": "#E5ECF6",
           "radialaxis": {
            "gridcolor": "white",
            "linecolor": "white",
            "ticks": ""
           }
          },
          "scene": {
           "xaxis": {
            "backgroundcolor": "#E5ECF6",
            "gridcolor": "white",
            "gridwidth": 2,
            "linecolor": "white",
            "showbackground": true,
            "ticks": "",
            "zerolinecolor": "white"
           },
           "yaxis": {
            "backgroundcolor": "#E5ECF6",
            "gridcolor": "white",
            "gridwidth": 2,
            "linecolor": "white",
            "showbackground": true,
            "ticks": "",
            "zerolinecolor": "white"
           },
           "zaxis": {
            "backgroundcolor": "#E5ECF6",
            "gridcolor": "white",
            "gridwidth": 2,
            "linecolor": "white",
            "showbackground": true,
            "ticks": "",
            "zerolinecolor": "white"
           }
          },
          "shapedefaults": {
           "line": {
            "color": "#2a3f5f"
           }
          },
          "ternary": {
           "aaxis": {
            "gridcolor": "white",
            "linecolor": "white",
            "ticks": ""
           },
           "baxis": {
            "gridcolor": "white",
            "linecolor": "white",
            "ticks": ""
           },
           "bgcolor": "#E5ECF6",
           "caxis": {
            "gridcolor": "white",
            "linecolor": "white",
            "ticks": ""
           }
          },
          "title": {
           "x": 0.05
          },
          "xaxis": {
           "automargin": true,
           "gridcolor": "white",
           "linecolor": "white",
           "ticks": "",
           "title": {
            "standoff": 15
           },
           "zerolinecolor": "white",
           "zerolinewidth": 2
          },
          "yaxis": {
           "automargin": true,
           "gridcolor": "white",
           "linecolor": "white",
           "ticks": "",
           "title": {
            "standoff": 15
           },
           "zerolinecolor": "white",
           "zerolinewidth": 2
          }
         }
        },
        "width": 950,
        "xaxis": {
         "linecolor": "black",
         "linewidth": 1,
         "mirror": true,
         "showline": true,
         "title": {
          "text": "Product"
         }
        },
        "yaxis": {
         "gridcolor": "lightgrey",
         "linecolor": "black",
         "linewidth": 1,
         "mirror": true,
         "range": [
          0,
          1.05
         ],
         "showline": true,
         "title": {
          "text": "Aggregate correlations"
         }
        }
       }
      }
     },
     "metadata": {},
     "output_type": "display_data"
    }
   ],
   "source": [
    "import plotly.graph_objects as go\n",
    "\n",
    "PRODUCTS = [\"P1 — Cabin Luggage\", \"P2 — Packing Cubes\", \"P3 — Water Bottle\"]\n",
    "\n",
    "# GPT\n",
    "gpt4o_r            = [0.87, 0.88, 0.83]\n",
    "gpt5_latest_r      = [0.86, 0.91, 0.87]\n",
    "\n",
    "# Gemini\n",
    "gemini_1_5_flash_r = [0.81, 0.84, 0.81]\n",
    "gemini_2_0_flash_r = [0.88, 0.88, 0.87]\n",
    "\n",
    "human_baseline_top = 1.0  # perfect agreement\n",
    "\n",
    "fig = go.Figure()\n",
    "\n",
    "# GPT-4o bars\n",
    "fig.add_trace(go.Bar(\n",
    "    x=PRODUCTS,\n",
    "    y=gpt4o_r,\n",
    "    name=\"GPT-4o\",\n",
    "    text=[f\"r={v:.2f}\" for v in gpt4o_r],\n",
    "    textposition=\"outside\",\n",
    "    marker=dict(line=dict(color=\"black\", width=1.5), color=\"#4C72B0\"),\n",
    "    opacity=0.8,\n",
    "    textfont=dict(size=12)\n",
    "))\n",
    "\n",
    "# GPT-5-latest bars\n",
    "fig.add_trace(go.Bar(\n",
    "    x=PRODUCTS,\n",
    "    y=gpt5_latest_r,\n",
    "    name=\"GPT-5-latest\",\n",
    "    text=[f\"r={v:.2f}\" for v in gpt5_latest_r],\n",
    "    textposition=\"outside\",\n",
    "    marker=dict(line=dict(color=\"black\", width=1.5), color=\"#1F77B4\"),\n",
    "    opacity=0.8,\n",
    "    textfont=dict(size=12)\n",
    "))\n",
    "\n",
    "# Gemini 1.5 Flash bars\n",
    "fig.add_trace(go.Bar(\n",
    "    x=PRODUCTS,\n",
    "    y=gemini_1_5_flash_r,\n",
    "    name=\"Gemini-1.5 Flash\",\n",
    "    text=[f\"r={v:.2f}\" for v in gemini_1_5_flash_r],\n",
    "    textposition=\"outside\",\n",
    "    marker=dict(line=dict(color=\"black\", width=1.5), color=\"#D17ACD\"),\n",
    "    opacity=0.8,\n",
    "    textfont=dict(size=12)\n",
    "))\n",
    "\n",
    "# Gemini 2.0 Flash bars\n",
    "fig.add_trace(go.Bar(\n",
    "    x=PRODUCTS,\n",
    "    y=gemini_2_0_flash_r,\n",
    "    name=\"Gemini-2.0 Flash\",\n",
    "    text=[f\"r={v:.2f}\" for v in gemini_2_0_flash_r],\n",
    "    textposition=\"outside\",\n",
    "    marker=dict(line=dict(color=\"black\", width=1.5), color=\"#A64CA6\"),\n",
    "    opacity=0.8,\n",
    "    textfont=dict(size=12)\n",
    "))\n",
    "\n",
    "# Keep outside texts from being clipped\n",
    "fig.update_traces(cliponaxis=False)\n",
    "\n",
    "# Human (perfect) baseline\n",
    "fig.add_hline(\n",
    "    y=human_baseline_top,\n",
    "    line_dash=\"solid\",\n",
    "    line_color=\"black\",\n",
    "    annotation_text=\"Human baseline (perfect agreement) = 1.00\",\n",
    "    annotation_position=\"top left\",\n",
    ")\n",
    "\n",
    "# Layout\n",
    "fig.update_layout(\n",
    "    xaxis_title=\"Product\",\n",
    "    yaxis_title=\"Aggregate correlations\",\n",
    "    yaxis_range=[0, 1.05],\n",
    "    bargap=0.35,\n",
    "    barmode=\"group\",\n",
    "    plot_bgcolor=\"white\",\n",
    "    paper_bgcolor=\"white\",\n",
    "    xaxis=dict(showline=True, linewidth=1, linecolor=\"black\", mirror=True),\n",
    "    yaxis=dict(showline=True, linewidth=1, linecolor=\"black\", mirror=True, gridcolor=\"lightgrey\"),\n",
    "    height=550,\n",
    "    width=950,\n",
    "    margin=dict(l=70, r=40, t=90, b=130),\n",
    "    legend=dict(orientation=\"h\", yanchor=\"bottom\", y=1.04, xanchor=\"left\", x=0)\n",
    ")\n",
    "\n",
    "# Footnote — tailored for correlations\n",
    "fig.add_annotation(\n",
    "    text=(\n",
    "        \"Note: Bars show Pearson correlations between human and synthetic twins’ mean ratings across the five personality traits <br>\"\n",
    "        \"for each product. A correlation of r = 1.00 indicates perfect alignment with human ratings (i.e., identical relative patterns across traits),<br>\"\n",
    "        \"whereas r = 0 indicates no alignment.\"\n",
    "    ),\n",
    "    xref=\"paper\", yref=\"paper\",\n",
    "    x=0.48, y=-0.20,\n",
    "    showarrow=False,\n",
    "    font=dict(size=12, color=\"black\"),\n",
    "    align=\"left\",\n",
    "    xanchor=\"center\",\n",
    "    yanchor=\"top\"\n",
    ")\n",
    "\n",
    "fig.show()\n"
   ]
  }
 ],
 "metadata": {
  "kernelspec": {
   "display_name": "synthetic-twin-agents-env",
   "language": "python",
   "name": "python3"
  },
  "language_info": {
   "codemirror_mode": {
    "name": "ipython",
    "version": 3
   },
   "file_extension": ".py",
   "mimetype": "text/x-python",
   "name": "python",
   "nbconvert_exporter": "python",
   "pygments_lexer": "ipython3",
   "version": "3.12.11"
  }
 },
 "nbformat": 4,
 "nbformat_minor": 5
}
